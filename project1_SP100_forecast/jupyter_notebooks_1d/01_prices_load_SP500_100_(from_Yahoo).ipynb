{
 "cells": [
  {
   "cell_type": "markdown",
   "metadata": {},
   "source": [
    "# <center>Загрузка данных (daily) S&P500(100)"
   ]
  },
  {
   "cell_type": "markdown",
   "metadata": {},
   "source": [
    "Загрузка данных осуществляется с сайта https://finance.yahoo.com/"
   ]
  },
  {
   "cell_type": "code",
   "execution_count": 1,
   "metadata": {},
   "outputs": [
    {
     "data": {
      "text/plain": [
       "True"
      ]
     },
     "execution_count": 1,
     "metadata": {},
     "output_type": "execute_result"
    }
   ],
   "source": [
    "import os\n",
    "os.chdir(\"..\")\n",
    "\n",
    "%load_ext autoreload\n",
    "%autoreload 2\n",
    "\n",
    "from dotenv import load_dotenv\n",
    "load_dotenv()"
   ]
  },
  {
   "cell_type": "code",
   "execution_count": 2,
   "metadata": {},
   "outputs": [],
   "source": [
    "import requests\n",
    "import pandas as pd\n",
    "import time\n",
    "import json\n",
    "import shutil"
   ]
  },
  {
   "cell_type": "code",
   "execution_count": 3,
   "metadata": {},
   "outputs": [],
   "source": [
    "import urllib\n",
    "from bs4 import BeautifulSoup"
   ]
  },
  {
   "cell_type": "code",
   "execution_count": 4,
   "metadata": {},
   "outputs": [],
   "source": [
    "path = 'prices'"
   ]
  },
  {
   "cell_type": "markdown",
   "metadata": {},
   "source": [
    "## Функция загрузки данных"
   ]
  },
  {
   "cell_type": "code",
   "execution_count": 6,
   "metadata": {},
   "outputs": [],
   "source": [
    "def load_data(ticker, path='prices'):\n",
    "    filename = f'{ticker}.csv'\n",
    "    path_to_file = os.path.join(path, filename)\n",
    "    url = f'https://query1.finance.yahoo.com/v7/finance/download/{ticker}'\\\n",
    "          f'?period1=947894400&period2=1600128000&interval=1d&events=history'\n",
    "    r = requests.get(url)\n",
    "    content = r.content.decode('UTF-8')\n",
    "    with open(path_to_file, \"w\") as file:\n",
    "        file.write(content)\n",
    "#     print(f'\\tUpdate {ticker} price history:', path_to_file)\n",
    "    return path_to_file"
   ]
  },
  {
   "cell_type": "markdown",
   "metadata": {},
   "source": [
    "#### testing"
   ]
  },
  {
   "cell_type": "code",
   "execution_count": 12,
   "metadata": {},
   "outputs": [],
   "source": [
    "ticker = 'AAPL'\n",
    "path_to_file = load_data(ticker)"
   ]
  },
  {
   "cell_type": "code",
   "execution_count": 13,
   "metadata": {},
   "outputs": [],
   "source": [
    "data = pd.read_csv(path_to_file)"
   ]
  },
  {
   "cell_type": "code",
   "execution_count": 14,
   "metadata": {},
   "outputs": [
    {
     "data": {
      "text/html": [
       "<div>\n",
       "<style scoped>\n",
       "    .dataframe tbody tr th:only-of-type {\n",
       "        vertical-align: middle;\n",
       "    }\n",
       "\n",
       "    .dataframe tbody tr th {\n",
       "        vertical-align: top;\n",
       "    }\n",
       "\n",
       "    .dataframe thead th {\n",
       "        text-align: right;\n",
       "    }\n",
       "</style>\n",
       "<table border=\"1\" class=\"dataframe\">\n",
       "  <thead>\n",
       "    <tr style=\"text-align: right;\">\n",
       "      <th></th>\n",
       "      <th>Date</th>\n",
       "      <th>Open</th>\n",
       "      <th>High</th>\n",
       "      <th>Low</th>\n",
       "      <th>Close</th>\n",
       "      <th>Adj Close</th>\n",
       "      <th>Volume</th>\n",
       "    </tr>\n",
       "  </thead>\n",
       "  <tbody>\n",
       "    <tr>\n",
       "      <th>0</th>\n",
       "      <td>2000-01-18</td>\n",
       "      <td>0.901786</td>\n",
       "      <td>0.946429</td>\n",
       "      <td>0.896763</td>\n",
       "      <td>0.928013</td>\n",
       "      <td>0.801933</td>\n",
       "      <td>459177600</td>\n",
       "    </tr>\n",
       "    <tr>\n",
       "      <th>1</th>\n",
       "      <td>2000-01-19</td>\n",
       "      <td>0.943080</td>\n",
       "      <td>0.970982</td>\n",
       "      <td>0.922991</td>\n",
       "      <td>0.951451</td>\n",
       "      <td>0.822186</td>\n",
       "      <td>597643200</td>\n",
       "    </tr>\n",
       "    <tr>\n",
       "      <th>2</th>\n",
       "      <td>2000-01-20</td>\n",
       "      <td>1.031250</td>\n",
       "      <td>1.084821</td>\n",
       "      <td>1.013393</td>\n",
       "      <td>1.013393</td>\n",
       "      <td>0.875712</td>\n",
       "      <td>1831132800</td>\n",
       "    </tr>\n",
       "    <tr>\n",
       "      <th>3</th>\n",
       "      <td>2000-01-21</td>\n",
       "      <td>1.020089</td>\n",
       "      <td>1.020089</td>\n",
       "      <td>0.983817</td>\n",
       "      <td>0.993862</td>\n",
       "      <td>0.858835</td>\n",
       "      <td>495924800</td>\n",
       "    </tr>\n",
       "    <tr>\n",
       "      <th>4</th>\n",
       "      <td>2000-01-24</td>\n",
       "      <td>0.968192</td>\n",
       "      <td>1.006696</td>\n",
       "      <td>0.938616</td>\n",
       "      <td>0.948661</td>\n",
       "      <td>0.819775</td>\n",
       "      <td>440876800</td>\n",
       "    </tr>\n",
       "  </tbody>\n",
       "</table>\n",
       "</div>"
      ],
      "text/plain": [
       "         Date      Open      High       Low     Close  Adj Close      Volume\n",
       "0  2000-01-18  0.901786  0.946429  0.896763  0.928013   0.801933   459177600\n",
       "1  2000-01-19  0.943080  0.970982  0.922991  0.951451   0.822186   597643200\n",
       "2  2000-01-20  1.031250  1.084821  1.013393  1.013393   0.875712  1831132800\n",
       "3  2000-01-21  1.020089  1.020089  0.983817  0.993862   0.858835   495924800\n",
       "4  2000-01-24  0.968192  1.006696  0.938616  0.948661   0.819775   440876800"
      ]
     },
     "execution_count": 14,
     "metadata": {},
     "output_type": "execute_result"
    }
   ],
   "source": [
    "data.head()"
   ]
  },
  {
   "cell_type": "code",
   "execution_count": 15,
   "metadata": {},
   "outputs": [
    {
     "data": {
      "text/plain": [
       "(5198, 7)"
      ]
     },
     "execution_count": 15,
     "metadata": {},
     "output_type": "execute_result"
    }
   ],
   "source": [
    "data.shape"
   ]
  },
  {
   "cell_type": "markdown",
   "metadata": {},
   "source": [
    "## Формируем список акций индекса S&P500"
   ]
  },
  {
   "cell_type": "markdown",
   "metadata": {},
   "source": [
    "Разбор [страницы Википедии](http://en.wikipedia.org/wiki/List_of_S%26P_500_companies) для получения списка акций, входящих в индекс S&P 500.    \n",
    "Сгруппируем по секторам."
   ]
  },
  {
   "cell_type": "code",
   "execution_count": 16,
   "metadata": {},
   "outputs": [],
   "source": [
    "url = \"http://en.wikipedia.org/wiki/List_of_S%26P_500_companies\"\n",
    "response = urllib.request.urlopen(url)\n",
    "html = response.read()"
   ]
  },
  {
   "cell_type": "code",
   "execution_count": 17,
   "metadata": {},
   "outputs": [],
   "source": [
    "soup = BeautifulSoup(html)\n",
    "\n",
    "# Найдём таблицу:\n",
    "table = soup.find('table', {'class': 'wikitable sortable'})\n",
    "\n",
    "# Словарь для тикеров, сгруппированных по секторам экономики:\n",
    "sp500_tickers_by_sectors = dict()\n",
    "\n",
    "for r in table.findAll('tr'):  # Цикл по строкам таблицы.\n",
    "    col = r.findAll('td')      # Колонки таблицы.\n",
    "    if len(col)>0:\n",
    "        # В 4-й колонке таблицы - название сектора экономики:\n",
    "        sector = str(col[3].string.strip()).lower().replace(' ', '_')\n",
    "\n",
    "        # В 1-й колонке таблицы - тикер акции:\n",
    "        ticker = str(col[0].find('a').string.strip())\n",
    "\n",
    "        # Если пока нет такого сектора, добавляем к словарю новый список для тикеров:\n",
    "        if sector not in sp500_tickers_by_sectors:\n",
    "            sp500_tickers_by_sectors[sector] = list()\n",
    "            \n",
    "        # Добавляем тикер акции в список соответствующего сектора:\n",
    "        sp500_tickers_by_sectors[sector].append(ticker)"
   ]
  },
  {
   "cell_type": "code",
   "execution_count": 18,
   "metadata": {
    "collapsed": true,
    "jupyter": {
     "outputs_hidden": true
    }
   },
   "outputs": [
    {
     "name": "stdout",
     "output_type": "stream",
     "text": [
      "{'communication_services': ['ATVI',\n",
      "                            'GOOGL',\n",
      "                            'GOOG',\n",
      "                            'T',\n",
      "                            'CTL',\n",
      "                            'CHTR',\n",
      "                            'CMCSA',\n",
      "                            'DISCA',\n",
      "                            'DISCK',\n",
      "                            'DISH',\n",
      "                            'EA',\n",
      "                            'FB',\n",
      "                            'FOXA',\n",
      "                            'FOX',\n",
      "                            'IPG',\n",
      "                            'LYV',\n",
      "                            'NFLX',\n",
      "                            'NWSA',\n",
      "                            'NWS',\n",
      "                            'OMC',\n",
      "                            'TMUS',\n",
      "                            'TTWO',\n",
      "                            'TWTR',\n",
      "                            'VZ',\n",
      "                            'VIAC',\n",
      "                            'DIS'],\n",
      " 'consumer_discretionary': ['AAP',\n",
      "                            'AMZN',\n",
      "                            'APTV',\n",
      "                            'AZO',\n",
      "                            'BBY',\n",
      "                            'BKNG',\n",
      "                            'BWA',\n",
      "                            'KMX',\n",
      "                            'CCL',\n",
      "                            'CMG',\n",
      "                            'DHI',\n",
      "                            'DRI',\n",
      "                            'DG',\n",
      "                            'DLTR',\n",
      "                            'DPZ',\n",
      "                            'EBAY',\n",
      "                            'EXPE',\n",
      "                            'F',\n",
      "                            'GPS',\n",
      "                            'GRMN',\n",
      "                            'GM',\n",
      "                            'GPC',\n",
      "                            'HRB',\n",
      "                            'HBI',\n",
      "                            'HAS',\n",
      "                            'HLT',\n",
      "                            'HD',\n",
      "                            'KSS',\n",
      "                            'LB',\n",
      "                            'LVS',\n",
      "                            'LEG',\n",
      "                            'LEN',\n",
      "                            'LKQ',\n",
      "                            'LOW',\n",
      "                            'MAR',\n",
      "                            'MCD',\n",
      "                            'MGM',\n",
      "                            'MHK',\n",
      "                            'NWL',\n",
      "                            'NKE',\n",
      "                            'NCLH',\n",
      "                            'NVR',\n",
      "                            'ORLY',\n",
      "                            'PHM',\n",
      "                            'PVH',\n",
      "                            'RL',\n",
      "                            'ROST',\n",
      "                            'RCL',\n",
      "                            'SBUX',\n",
      "                            'TPR',\n",
      "                            'TGT',\n",
      "                            'TIF',\n",
      "                            'TJX',\n",
      "                            'TSCO',\n",
      "                            'ULTA',\n",
      "                            'UAA',\n",
      "                            'UA',\n",
      "                            'VFC',\n",
      "                            'WHR',\n",
      "                            'WYNN',\n",
      "                            'YUM'],\n",
      " 'consumer_staples': ['MO',\n",
      "                      'ADM',\n",
      "                      'BF.B',\n",
      "                      'CPB',\n",
      "                      'CHD',\n",
      "                      'CLX',\n",
      "                      'KO',\n",
      "                      'CL',\n",
      "                      'CAG',\n",
      "                      'STZ',\n",
      "                      'COST',\n",
      "                      'COTY',\n",
      "                      'EL',\n",
      "                      'GIS',\n",
      "                      'HSY',\n",
      "                      'HRL',\n",
      "                      'SJM',\n",
      "                      'K',\n",
      "                      'KMB',\n",
      "                      'KHC',\n",
      "                      'KR',\n",
      "                      'LW',\n",
      "                      'MKC',\n",
      "                      'TAP',\n",
      "                      'MDLZ',\n",
      "                      'MNST',\n",
      "                      'PEP',\n",
      "                      'PM',\n",
      "                      'PG',\n",
      "                      'SYY',\n",
      "                      'TSN',\n",
      "                      'WMT',\n",
      "                      'WBA'],\n",
      " 'energy': ['APA',\n",
      "            'BKR',\n",
      "            'COG',\n",
      "            'CVX',\n",
      "            'CXO',\n",
      "            'COP',\n",
      "            'DVN',\n",
      "            'FANG',\n",
      "            'EOG',\n",
      "            'XOM',\n",
      "            'HAL',\n",
      "            'HES',\n",
      "            'HFC',\n",
      "            'KMI',\n",
      "            'MRO',\n",
      "            'MPC',\n",
      "            'NOV',\n",
      "            'NBL',\n",
      "            'OXY',\n",
      "            'OKE',\n",
      "            'PSX',\n",
      "            'PXD',\n",
      "            'SLB',\n",
      "            'FTI',\n",
      "            'VLO',\n",
      "            'WMB'],\n",
      " 'financials': ['AFL',\n",
      "                'ALL',\n",
      "                'AXP',\n",
      "                'AIG',\n",
      "                'AMP',\n",
      "                'AON',\n",
      "                'AJG',\n",
      "                'AIZ',\n",
      "                'BAC',\n",
      "                'BK',\n",
      "                'BRK.B',\n",
      "                'BLK',\n",
      "                'COF',\n",
      "                'CBOE',\n",
      "                'SCHW',\n",
      "                'CB',\n",
      "                'CINF',\n",
      "                'C',\n",
      "                'CFG',\n",
      "                'CME',\n",
      "                'CMA',\n",
      "                'DFS',\n",
      "                'ETFC',\n",
      "                'RE',\n",
      "                'FITB',\n",
      "                'FRC',\n",
      "                'BEN',\n",
      "                'GL',\n",
      "                'GS',\n",
      "                'HIG',\n",
      "                'HBAN',\n",
      "                'ICE',\n",
      "                'IVZ',\n",
      "                'JPM',\n",
      "                'KEY',\n",
      "                'LNC',\n",
      "                'L',\n",
      "                'MTB',\n",
      "                'MKTX',\n",
      "                'MMC',\n",
      "                'MET',\n",
      "                'MCO',\n",
      "                'MS',\n",
      "                'MSCI',\n",
      "                'NDAQ',\n",
      "                'NTRS',\n",
      "                'PBCT',\n",
      "                'PNC',\n",
      "                'PFG',\n",
      "                'PGR',\n",
      "                'PRU',\n",
      "                'RJF',\n",
      "                'RF',\n",
      "                'SPGI',\n",
      "                'STT',\n",
      "                'SIVB',\n",
      "                'SYF',\n",
      "                'TROW',\n",
      "                'TRV',\n",
      "                'TFC',\n",
      "                'USB',\n",
      "                'UNM',\n",
      "                'WRB',\n",
      "                'WFC',\n",
      "                'WLTW',\n",
      "                'ZION'],\n",
      " 'health_care': ['ABT',\n",
      "                 'ABBV',\n",
      "                 'ABMD',\n",
      "                 'A',\n",
      "                 'ALXN',\n",
      "                 'ALGN',\n",
      "                 'ABC',\n",
      "                 'AMGN',\n",
      "                 'ANTM',\n",
      "                 'BAX',\n",
      "                 'BDX',\n",
      "                 'BIO',\n",
      "                 'BIIB',\n",
      "                 'BSX',\n",
      "                 'BMY',\n",
      "                 'CAH',\n",
      "                 'CNC',\n",
      "                 'CERN',\n",
      "                 'CI',\n",
      "                 'COO',\n",
      "                 'CVS',\n",
      "                 'DHR',\n",
      "                 'DVA',\n",
      "                 'XRAY',\n",
      "                 'DXCM',\n",
      "                 'EW',\n",
      "                 'GILD',\n",
      "                 'HCA',\n",
      "                 'HSIC',\n",
      "                 'HOLX',\n",
      "                 'HUM',\n",
      "                 'IDXX',\n",
      "                 'ILMN',\n",
      "                 'INCY',\n",
      "                 'ISRG',\n",
      "                 'IQV',\n",
      "                 'JNJ',\n",
      "                 'LH',\n",
      "                 'LLY',\n",
      "                 'MCK',\n",
      "                 'MDT',\n",
      "                 'MRK',\n",
      "                 'MTD',\n",
      "                 'MYL',\n",
      "                 'PKI',\n",
      "                 'PRGO',\n",
      "                 'PFE',\n",
      "                 'DGX',\n",
      "                 'REGN',\n",
      "                 'RMD',\n",
      "                 'STE',\n",
      "                 'SYK',\n",
      "                 'TFX',\n",
      "                 'TMO',\n",
      "                 'UNH',\n",
      "                 'UHS',\n",
      "                 'VAR',\n",
      "                 'VRTX',\n",
      "                 'WAT',\n",
      "                 'WST',\n",
      "                 'ZBH',\n",
      "                 'ZTS'],\n",
      " 'industrials': ['MMM',\n",
      "                 'ALK',\n",
      "                 'ALLE',\n",
      "                 'AAL',\n",
      "                 'AME',\n",
      "                 'AOS',\n",
      "                 'BA',\n",
      "                 'CHRW',\n",
      "                 'CARR',\n",
      "                 'CAT',\n",
      "                 'CTAS',\n",
      "                 'CPRT',\n",
      "                 'CSX',\n",
      "                 'CMI',\n",
      "                 'DE',\n",
      "                 'DAL',\n",
      "                 'DOV',\n",
      "                 'ETN',\n",
      "                 'EMR',\n",
      "                 'EFX',\n",
      "                 'EXPD',\n",
      "                 'FAST',\n",
      "                 'FDX',\n",
      "                 'FLS',\n",
      "                 'FTV',\n",
      "                 'FBHS',\n",
      "                 'GD',\n",
      "                 'GE',\n",
      "                 'GWW',\n",
      "                 'HON',\n",
      "                 'HWM',\n",
      "                 'HII',\n",
      "                 'IEX',\n",
      "                 'INFO',\n",
      "                 'ITW',\n",
      "                 'IR',\n",
      "                 'J',\n",
      "                 'JBHT',\n",
      "                 'JCI',\n",
      "                 'KSU',\n",
      "                 'LHX',\n",
      "                 'LMT',\n",
      "                 'MAS',\n",
      "                 'NLSN',\n",
      "                 'NSC',\n",
      "                 'NOC',\n",
      "                 'ODFL',\n",
      "                 'OTIS',\n",
      "                 'PCAR',\n",
      "                 'PH',\n",
      "                 'PNR',\n",
      "                 'PWR',\n",
      "                 'RTX',\n",
      "                 'RSG',\n",
      "                 'RHI',\n",
      "                 'ROK',\n",
      "                 'ROL',\n",
      "                 'ROP',\n",
      "                 'SNA',\n",
      "                 'LUV',\n",
      "                 'SWK',\n",
      "                 'TDY',\n",
      "                 'TXT',\n",
      "                 'TT',\n",
      "                 'TDG',\n",
      "                 'UNP',\n",
      "                 'UAL',\n",
      "                 'UPS',\n",
      "                 'URI',\n",
      "                 'VRSK',\n",
      "                 'WAB',\n",
      "                 'WM',\n",
      "                 'XYL'],\n",
      " 'information_technology': ['ACN',\n",
      "                            'ADBE',\n",
      "                            'AMD',\n",
      "                            'AKAM',\n",
      "                            'APH',\n",
      "                            'ADI',\n",
      "                            'ANSS',\n",
      "                            'AAPL',\n",
      "                            'AMAT',\n",
      "                            'ANET',\n",
      "                            'ADSK',\n",
      "                            'ADP',\n",
      "                            'AVGO',\n",
      "                            'BR',\n",
      "                            'CDNS',\n",
      "                            'CDW',\n",
      "                            'CSCO',\n",
      "                            'CTXS',\n",
      "                            'CTSH',\n",
      "                            'GLW',\n",
      "                            'DXC',\n",
      "                            'FFIV',\n",
      "                            'FIS',\n",
      "                            'FISV',\n",
      "                            'FLT',\n",
      "                            'FLIR',\n",
      "                            'FTNT',\n",
      "                            'IT',\n",
      "                            'GPN',\n",
      "                            'HPE',\n",
      "                            'HPQ',\n",
      "                            'INTC',\n",
      "                            'IBM',\n",
      "                            'INTU',\n",
      "                            'IPGP',\n",
      "                            'JKHY',\n",
      "                            'JNPR',\n",
      "                            'KEYS',\n",
      "                            'KLAC',\n",
      "                            'LRCX',\n",
      "                            'LDOS',\n",
      "                            'MA',\n",
      "                            'MXIM',\n",
      "                            'MCHP',\n",
      "                            'MU',\n",
      "                            'MSFT',\n",
      "                            'MSI',\n",
      "                            'NTAP',\n",
      "                            'NLOK',\n",
      "                            'NVDA',\n",
      "                            'ORCL',\n",
      "                            'PAYX',\n",
      "                            'PAYC',\n",
      "                            'PYPL',\n",
      "                            'QRVO',\n",
      "                            'QCOM',\n",
      "                            'CRM',\n",
      "                            'STX',\n",
      "                            'NOW',\n",
      "                            'SWKS',\n",
      "                            'SNPS',\n",
      "                            'TEL',\n",
      "                            'TXN',\n",
      "                            'TYL',\n",
      "                            'VRSN',\n",
      "                            'V',\n",
      "                            'WDC',\n",
      "                            'WU',\n",
      "                            'XRX',\n",
      "                            'XLNX',\n",
      "                            'ZBRA'],\n",
      " 'materials': ['APD',\n",
      "               'ALB',\n",
      "               'AMCR',\n",
      "               'AVY',\n",
      "               'BLL',\n",
      "               'CE',\n",
      "               'CF',\n",
      "               'CTVA',\n",
      "               'DOW',\n",
      "               'DD',\n",
      "               'EMN',\n",
      "               'ECL',\n",
      "               'FMC',\n",
      "               'FCX',\n",
      "               'IP',\n",
      "               'IFF',\n",
      "               'LIN',\n",
      "               'LYB',\n",
      "               'MLM',\n",
      "               'MOS',\n",
      "               'NEM',\n",
      "               'NUE',\n",
      "               'PKG',\n",
      "               'PPG',\n",
      "               'SEE',\n",
      "               'SHW',\n",
      "               'VMC',\n",
      "               'WRK'],\n",
      " 'real_estate': ['ARE',\n",
      "                 'AMT',\n",
      "                 'AIV',\n",
      "                 'AVB',\n",
      "                 'BXP',\n",
      "                 'CBRE',\n",
      "                 'CCI',\n",
      "                 'DLR',\n",
      "                 'DRE',\n",
      "                 'EQIX',\n",
      "                 'EQR',\n",
      "                 'ESS',\n",
      "                 'EXR',\n",
      "                 'FRT',\n",
      "                 'PEAK',\n",
      "                 'HST',\n",
      "                 'IRM',\n",
      "                 'KIM',\n",
      "                 'MAA',\n",
      "                 'PLD',\n",
      "                 'PSA',\n",
      "                 'O',\n",
      "                 'REG',\n",
      "                 'SBAC',\n",
      "                 'SPG',\n",
      "                 'SLG',\n",
      "                 'UDR',\n",
      "                 'VTR',\n",
      "                 'VNO',\n",
      "                 'WELL',\n",
      "                 'WY'],\n",
      " 'utilities': ['AES',\n",
      "               'LNT',\n",
      "               'AEE',\n",
      "               'AEP',\n",
      "               'AWK',\n",
      "               'ATO',\n",
      "               'CNP',\n",
      "               'CMS',\n",
      "               'ED',\n",
      "               'D',\n",
      "               'DTE',\n",
      "               'DUK',\n",
      "               'EIX',\n",
      "               'ETR',\n",
      "               'EVRG',\n",
      "               'ES',\n",
      "               'EXC',\n",
      "               'FE',\n",
      "               'NEE',\n",
      "               'NI',\n",
      "               'NRG',\n",
      "               'PNW',\n",
      "               'PPL',\n",
      "               'PEG',\n",
      "               'SRE',\n",
      "               'SO',\n",
      "               'WEC',\n",
      "               'XEL']}\n"
     ]
    }
   ],
   "source": [
    "import pprint\n",
    "pp = pprint.PrettyPrinter(indent=1)\n",
    "pp.pprint(sp500_tickers_by_sectors)"
   ]
  },
  {
   "cell_type": "code",
   "execution_count": 19,
   "metadata": {},
   "outputs": [
    {
     "name": "stdout",
     "output_type": "stream",
     "text": [
      "{'industrials': ['MMM', 'ALK', 'ALLE', 'AAL', 'AME', 'AOS', 'BA', 'CHRW', 'CARR', 'CAT', 'CTAS', 'CPRT', 'CSX', 'CMI', 'DE', 'DAL', 'DOV', 'ETN', 'EMR', 'EFX', 'EXPD', 'FAST', 'FDX', 'FLS', 'FTV', 'FBHS', 'GD', 'GE', 'GWW', 'HON', 'HWM', 'HII', 'IEX', 'INFO', 'ITW', 'IR', 'J', 'JBHT', 'JCI', 'KSU', 'LHX', 'LMT', 'MAS', 'NLSN', 'NSC', 'NOC', 'ODFL', 'OTIS', 'PCAR', 'PH', 'PNR', 'PWR', 'RTX', 'RSG', 'RHI', 'ROK', 'ROL', 'ROP', 'SNA', 'LUV', 'SWK', 'TDY', 'TXT', 'TT', 'TDG', 'UNP', 'UAL', 'UPS', 'URI', 'VRSK', 'WAB', 'WM', 'XYL'], 'health_care': ['ABT', 'ABBV', 'ABMD', 'A', 'ALXN', 'ALGN', 'ABC', 'AMGN', 'ANTM', 'BAX', 'BDX', 'BIO', 'BIIB', 'BSX', 'BMY', 'CAH', 'CNC', 'CERN', 'CI', 'COO', 'CVS', 'DHR', 'DVA', 'XRAY', 'DXCM', 'EW', 'GILD', 'HCA', 'HSIC', 'HOLX', 'HUM', 'IDXX', 'ILMN', 'INCY', 'ISRG', 'IQV', 'JNJ', 'LH', 'LLY', 'MCK', 'MDT', 'MRK', 'MTD', 'MYL', 'PKI', 'PRGO', 'PFE', 'DGX', 'REGN', 'RMD', 'STE', 'SYK', 'TFX', 'TMO', 'UNH', 'UHS', 'VAR', 'VRTX', 'WAT', 'WST', 'ZBH', 'ZTS'], 'information_technology': ['ACN', 'ADBE', 'AMD', 'AKAM', 'APH', 'ADI', 'ANSS', 'AAPL', 'AMAT', 'ANET', 'ADSK', 'ADP', 'AVGO', 'BR', 'CDNS', 'CDW', 'CSCO', 'CTXS', 'CTSH', 'GLW', 'DXC', 'FFIV', 'FIS', 'FISV', 'FLT', 'FLIR', 'FTNT', 'IT', 'GPN', 'HPE', 'HPQ', 'INTC', 'IBM', 'INTU', 'IPGP', 'JKHY', 'JNPR', 'KEYS', 'KLAC', 'LRCX', 'LDOS', 'MA', 'MXIM', 'MCHP', 'MU', 'MSFT', 'MSI', 'NTAP', 'NLOK', 'NVDA', 'ORCL', 'PAYX', 'PAYC', 'PYPL', 'QRVO', 'QCOM', 'CRM', 'STX', 'NOW', 'SWKS', 'SNPS', 'TEL', 'TXN', 'TYL', 'VRSN', 'V', 'WDC', 'WU', 'XRX', 'XLNX', 'ZBRA'], 'communication_services': ['ATVI', 'GOOGL', 'GOOG', 'T', 'CTL', 'CHTR', 'CMCSA', 'DISCA', 'DISCK', 'DISH', 'EA', 'FB', 'FOXA', 'FOX', 'IPG', 'LYV', 'NFLX', 'NWSA', 'NWS', 'OMC', 'TMUS', 'TTWO', 'TWTR', 'VZ', 'VIAC', 'DIS'], 'consumer_discretionary': ['AAP', 'AMZN', 'APTV', 'AZO', 'BBY', 'BKNG', 'BWA', 'KMX', 'CCL', 'CMG', 'DHI', 'DRI', 'DG', 'DLTR', 'DPZ', 'EBAY', 'EXPE', 'F', 'GPS', 'GRMN', 'GM', 'GPC', 'HRB', 'HBI', 'HAS', 'HLT', 'HD', 'KSS', 'LB', 'LVS', 'LEG', 'LEN', 'LKQ', 'LOW', 'MAR', 'MCD', 'MGM', 'MHK', 'NWL', 'NKE', 'NCLH', 'NVR', 'ORLY', 'PHM', 'PVH', 'RL', 'ROST', 'RCL', 'SBUX', 'TPR', 'TGT', 'TIF', 'TJX', 'TSCO', 'ULTA', 'UAA', 'UA', 'VFC', 'WHR', 'WYNN', 'YUM'], 'utilities': ['AES', 'LNT', 'AEE', 'AEP', 'AWK', 'ATO', 'CNP', 'CMS', 'ED', 'D', 'DTE', 'DUK', 'EIX', 'ETR', 'EVRG', 'ES', 'EXC', 'FE', 'NEE', 'NI', 'NRG', 'PNW', 'PPL', 'PEG', 'SRE', 'SO', 'WEC', 'XEL'], 'financials': ['AFL', 'ALL', 'AXP', 'AIG', 'AMP', 'AON', 'AJG', 'AIZ', 'BAC', 'BK', 'BRK.B', 'BLK', 'COF', 'CBOE', 'SCHW', 'CB', 'CINF', 'C', 'CFG', 'CME', 'CMA', 'DFS', 'ETFC', 'RE', 'FITB', 'FRC', 'BEN', 'GL', 'GS', 'HIG', 'HBAN', 'ICE', 'IVZ', 'JPM', 'KEY', 'LNC', 'L', 'MTB', 'MKTX', 'MMC', 'MET', 'MCO', 'MS', 'MSCI', 'NDAQ', 'NTRS', 'PBCT', 'PNC', 'PFG', 'PGR', 'PRU', 'RJF', 'RF', 'SPGI', 'STT', 'SIVB', 'SYF', 'TROW', 'TRV', 'TFC', 'USB', 'UNM', 'WRB', 'WFC', 'WLTW', 'ZION'], 'materials': ['APD', 'ALB', 'AMCR', 'AVY', 'BLL', 'CE', 'CF', 'CTVA', 'DOW', 'DD', 'EMN', 'ECL', 'FMC', 'FCX', 'IP', 'IFF', 'LIN', 'LYB', 'MLM', 'MOS', 'NEM', 'NUE', 'PKG', 'PPG', 'SEE', 'SHW', 'VMC', 'WRK'], 'real_estate': ['ARE', 'AMT', 'AIV', 'AVB', 'BXP', 'CBRE', 'CCI', 'DLR', 'DRE', 'EQIX', 'EQR', 'ESS', 'EXR', 'FRT', 'PEAK', 'HST', 'IRM', 'KIM', 'MAA', 'PLD', 'PSA', 'O', 'REG', 'SBAC', 'SPG', 'SLG', 'UDR', 'VTR', 'VNO', 'WELL', 'WY'], 'consumer_staples': ['MO', 'ADM', 'BF.B', 'CPB', 'CHD', 'CLX', 'KO', 'CL', 'CAG', 'STZ', 'COST', 'COTY', 'EL', 'GIS', 'HSY', 'HRL', 'SJM', 'K', 'KMB', 'KHC', 'KR', 'LW', 'MKC', 'TAP', 'MDLZ', 'MNST', 'PEP', 'PM', 'PG', 'SYY', 'TSN', 'WMT', 'WBA'], 'energy': ['APA', 'BKR', 'COG', 'CVX', 'CXO', 'COP', 'DVN', 'FANG', 'EOG', 'XOM', 'HAL', 'HES', 'HFC', 'KMI', 'MRO', 'MPC', 'NOV', 'NBL', 'OXY', 'OKE', 'PSX', 'PXD', 'SLB', 'FTI', 'VLO', 'WMB']}\n"
     ]
    }
   ],
   "source": [
    "print(sp500_tickers_by_sectors)"
   ]
  },
  {
   "cell_type": "code",
   "execution_count": 20,
   "metadata": {},
   "outputs": [
    {
     "data": {
      "text/plain": [
       "dict_keys(['industrials', 'health_care', 'information_technology', 'communication_services', 'consumer_discretionary', 'utilities', 'financials', 'materials', 'real_estate', 'consumer_staples', 'energy'])"
      ]
     },
     "execution_count": 20,
     "metadata": {},
     "output_type": "execute_result"
    }
   ],
   "source": [
    "sp500_tickers_by_sectors.keys()"
   ]
  },
  {
   "cell_type": "code",
   "execution_count": 21,
   "metadata": {},
   "outputs": [],
   "source": [
    "with open('sp500_tickers_by_sectors.json', 'w') as f:\n",
    "    json.dump(sp500_tickers_by_sectors, f)"
   ]
  },
  {
   "cell_type": "code",
   "execution_count": 23,
   "metadata": {},
   "outputs": [],
   "source": [
    "# with open(\"sp500_tickers_by_sectors.json\", \"r\") as f:\n",
    "#     sp500_tickers_by_sectors_ = json.load(f)\n",
    "# sp500_tickers_by_sectors_"
   ]
  },
  {
   "cell_type": "markdown",
   "metadata": {},
   "source": [
    "Объединим все тикеры для удобства скачивания в один общий список"
   ]
  },
  {
   "cell_type": "code",
   "execution_count": 24,
   "metadata": {},
   "outputs": [],
   "source": [
    "sp500_tickers = []\n",
    "for sector in sp500_tickers_by_sectors.keys():\n",
    "    sp500_tickers.extend(sp500_tickers_by_sectors[sector])"
   ]
  },
  {
   "cell_type": "code",
   "execution_count": 25,
   "metadata": {},
   "outputs": [
    {
     "name": "stdout",
     "output_type": "stream",
     "text": [
      "['A', 'AAL', 'AAP', 'AAPL', 'ABBV', 'ABC', 'ABMD', 'ABT', 'ACN', 'ADBE', 'ADI', 'ADM', 'ADP', 'ADSK', 'AEE', 'AEP', 'AES', 'AFL', 'AIG', 'AIV', 'AIZ', 'AJG', 'AKAM', 'ALB', 'ALGN', 'ALK', 'ALL', 'ALLE', 'ALXN', 'AMAT', 'AMCR', 'AMD', 'AME', 'AMGN', 'AMP', 'AMT', 'AMZN', 'ANET', 'ANSS', 'ANTM', 'AON', 'AOS', 'APA', 'APD', 'APH', 'APTV', 'ARE', 'ATO', 'ATVI', 'AVB', 'AVGO', 'AVY', 'AWK', 'AXP', 'AZO', 'BA', 'BAC', 'BAX', 'BBY', 'BDX', 'BEN', 'BF.B', 'BIIB', 'BIO', 'BK', 'BKNG', 'BKR', 'BLK', 'BLL', 'BMY', 'BR', 'BRK.B', 'BSX', 'BWA', 'BXP', 'C', 'CAG', 'CAH', 'CARR', 'CAT', 'CB', 'CBOE', 'CBRE', 'CCI', 'CCL', 'CDNS', 'CDW', 'CE', 'CERN', 'CF', 'CFG', 'CHD', 'CHRW', 'CHTR', 'CI', 'CINF', 'CL', 'CLX', 'CMA', 'CMCSA', 'CME', 'CMG', 'CMI', 'CMS', 'CNC', 'CNP', 'COF', 'COG', 'COO', 'COP', 'COST', 'COTY', 'CPB', 'CPRT', 'CRM', 'CSCO', 'CSX', 'CTAS', 'CTL', 'CTSH', 'CTVA', 'CTXS', 'CVS', 'CVX', 'CXO', 'D', 'DAL', 'DD', 'DE', 'DFS', 'DG', 'DGX', 'DHI', 'DHR', 'DIS', 'DISCA', 'DISCK', 'DISH', 'DLR', 'DLTR', 'DOV', 'DOW', 'DPZ', 'DRE', 'DRI', 'DTE', 'DUK', 'DVA', 'DVN', 'DXC', 'DXCM', 'EA', 'EBAY', 'ECL', 'ED', 'EFX', 'EIX', 'EL', 'EMN', 'EMR', 'EOG', 'EQIX', 'EQR', 'ES', 'ESS', 'ETFC', 'ETN', 'ETR', 'EVRG', 'EW', 'EXC', 'EXPD', 'EXPE', 'EXR', 'F', 'FANG', 'FAST', 'FB', 'FBHS', 'FCX', 'FDX', 'FE', 'FFIV', 'FIS', 'FISV', 'FITB', 'FLIR', 'FLS', 'FLT', 'FMC', 'FOX', 'FOXA', 'FRC', 'FRT', 'FTI', 'FTNT', 'FTV', 'GD', 'GE', 'GILD', 'GIS', 'GL', 'GLW', 'GM', 'GOOG', 'GOOGL', 'GPC', 'GPN', 'GPS', 'GRMN', 'GS', 'GWW', 'HAL', 'HAS', 'HBAN', 'HBI', 'HCA', 'HD', 'HES', 'HFC', 'HIG', 'HII', 'HLT', 'HOLX', 'HON', 'HPE', 'HPQ', 'HRB', 'HRL', 'HSIC', 'HST', 'HSY', 'HUM', 'HWM', 'IBM', 'ICE', 'IDXX', 'IEX', 'IFF', 'ILMN', 'INCY', 'INFO', 'INTC', 'INTU', 'IP', 'IPG', 'IPGP', 'IQV', 'IR', 'IRM', 'ISRG', 'IT', 'ITW', 'IVZ', 'J', 'JBHT', 'JCI', 'JKHY', 'JNJ', 'JNPR', 'JPM', 'K', 'KEY', 'KEYS', 'KHC', 'KIM', 'KLAC', 'KMB', 'KMI', 'KMX', 'KO', 'KR', 'KSS', 'KSU', 'L', 'LB', 'LDOS', 'LEG', 'LEN', 'LH', 'LHX', 'LIN', 'LKQ', 'LLY', 'LMT', 'LNC', 'LNT', 'LOW', 'LRCX', 'LUV', 'LVS', 'LW', 'LYB', 'LYV', 'MA', 'MAA', 'MAR', 'MAS', 'MCD', 'MCHP', 'MCK', 'MCO', 'MDLZ', 'MDT', 'MET', 'MGM', 'MHK', 'MKC', 'MKTX', 'MLM', 'MMC', 'MMM', 'MNST', 'MO', 'MOS', 'MPC', 'MRK', 'MRO', 'MS', 'MSCI', 'MSFT', 'MSI', 'MTB', 'MTD', 'MU', 'MXIM', 'MYL', 'NBL', 'NCLH', 'NDAQ', 'NEE', 'NEM', 'NFLX', 'NI', 'NKE', 'NLOK', 'NLSN', 'NOC', 'NOV', 'NOW', 'NRG', 'NSC', 'NTAP', 'NTRS', 'NUE', 'NVDA', 'NVR', 'NWL', 'NWS', 'NWSA', 'O', 'ODFL', 'OKE', 'OMC', 'ORCL', 'ORLY', 'OTIS', 'OXY', 'PAYC', 'PAYX', 'PBCT', 'PCAR', 'PEAK', 'PEG', 'PEP', 'PFE', 'PFG', 'PG', 'PGR', 'PH', 'PHM', 'PKG', 'PKI', 'PLD', 'PM', 'PNC', 'PNR', 'PNW', 'PPG', 'PPL', 'PRGO', 'PRU', 'PSA', 'PSX', 'PVH', 'PWR', 'PXD', 'PYPL', 'QCOM', 'QRVO', 'RCL', 'RE', 'REG', 'REGN', 'RF', 'RHI', 'RJF', 'RL', 'RMD', 'ROK', 'ROL', 'ROP', 'ROST', 'RSG', 'RTX', 'SBAC', 'SBUX', 'SCHW', 'SEE', 'SHW', 'SIVB', 'SJM', 'SLB', 'SLG', 'SNA', 'SNPS', 'SO', 'SPG', 'SPGI', 'SRE', 'STE', 'STT', 'STX', 'STZ', 'SWK', 'SWKS', 'SYF', 'SYK', 'SYY', 'T', 'TAP', 'TDG', 'TDY', 'TEL', 'TFC', 'TFX', 'TGT', 'TIF', 'TJX', 'TMO', 'TMUS', 'TPR', 'TROW', 'TRV', 'TSCO', 'TSN', 'TT', 'TTWO', 'TWTR', 'TXN', 'TXT', 'TYL', 'UA', 'UAA', 'UAL', 'UDR', 'UHS', 'ULTA', 'UNH', 'UNM', 'UNP', 'UPS', 'URI', 'USB', 'V', 'VAR', 'VFC', 'VIAC', 'VLO', 'VMC', 'VNO', 'VRSK', 'VRSN', 'VRTX', 'VTR', 'VZ', 'WAB', 'WAT', 'WBA', 'WDC', 'WEC', 'WELL', 'WFC', 'WHR', 'WLTW', 'WM', 'WMB', 'WMT', 'WRB', 'WRK', 'WST', 'WU', 'WY', 'WYNN', 'XEL', 'XLNX', 'XOM', 'XRAY', 'XRX', 'XYL', 'YUM', 'ZBH', 'ZBRA', 'ZION', 'ZTS']\n"
     ]
    }
   ],
   "source": [
    "print(sorted(sp500_tickers))"
   ]
  },
  {
   "cell_type": "code",
   "execution_count": 26,
   "metadata": {},
   "outputs": [
    {
     "data": {
      "text/plain": [
       "505"
      ]
     },
     "execution_count": 26,
     "metadata": {},
     "output_type": "execute_result"
    }
   ],
   "source": [
    "len(sp500_tickers)"
   ]
  },
  {
   "cell_type": "code",
   "execution_count": 27,
   "metadata": {},
   "outputs": [],
   "source": [
    "with open('sp500_tickers.json', 'w') as f:\n",
    "    json.dump(sp500_tickers, f)"
   ]
  },
  {
   "cell_type": "markdown",
   "metadata": {},
   "source": [
    "## Скачиваем котировки акций согласно списку для индекса **S&P500**"
   ]
  },
  {
   "cell_type": "markdown",
   "metadata": {},
   "source": [
    "Из-за некоторых ограничений на скачивание с сайта https://finance.yahoo.com/ данные скачиваем в несколько этапов и с периодической минутной задержкой"
   ]
  },
  {
   "cell_type": "code",
   "execution_count": 30,
   "metadata": {},
   "outputs": [
    {
     "name": "stdout",
     "output_type": "stream",
     "text": [
      "Wall time: 1h 44min 46s\n"
     ]
    }
   ],
   "source": [
    "%%time\n",
    "for num, ticker in enumerate(sp500_tickers):\n",
    "    load_data(ticker)\n",
    "    if num % 5 == 0:\n",
    "        time.sleep(60)"
   ]
  },
  {
   "cell_type": "markdown",
   "metadata": {},
   "source": [
    "докачиваем нестандарт (BRK-B вместо BRK.B и BF-B вместо BF.B и затем переименуем в именах \"-\" на \".\")"
   ]
  },
  {
   "cell_type": "code",
   "execution_count": 37,
   "metadata": {},
   "outputs": [
    {
     "data": {
      "text/plain": [
       "'prices\\\\BRK-B.csv'"
      ]
     },
     "execution_count": 37,
     "metadata": {},
     "output_type": "execute_result"
    }
   ],
   "source": [
    "load_data(\"BRK-B\")"
   ]
  },
  {
   "cell_type": "code",
   "execution_count": 38,
   "metadata": {},
   "outputs": [
    {
     "data": {
      "text/plain": [
       "'prices\\\\BF-B.csv'"
      ]
     },
     "execution_count": 38,
     "metadata": {},
     "output_type": "execute_result"
    }
   ],
   "source": [
    "load_data(\"BF-B\")"
   ]
  },
  {
   "cell_type": "markdown",
   "metadata": {},
   "source": [
    "## Формируем список акций индекса S&P100"
   ]
  },
  {
   "cell_type": "markdown",
   "metadata": {},
   "source": [
    "Разбор [страницы Википедии](https://en.wikipedia.org/wiki/S%26P_100) для получения списка акций, входящих в индекс S&P100.    "
   ]
  },
  {
   "cell_type": "code",
   "execution_count": 31,
   "metadata": {},
   "outputs": [],
   "source": [
    "url = \"https://en.wikipedia.org/wiki/S%26P_100\"\n",
    "response = urllib.request.urlopen(url)\n",
    "html = response.read()"
   ]
  },
  {
   "cell_type": "code",
   "execution_count": 32,
   "metadata": {},
   "outputs": [],
   "source": [
    "soup = BeautifulSoup(html)\n",
    "\n",
    "# Найдём таблицу:\n",
    "table = soup.find('table', {'class': 'wikitable sortable'})\n",
    "\n",
    "# Словарь для тикеров, сгруппированных по секторам экономики:\n",
    "sp100_tickers = list()\n",
    "\n",
    "for r in table.findAll('tr'):  # Цикл по строкам таблицы.\n",
    "    col = r.findAll('td')      # Колонки таблицы.\n",
    "    if len(col)>0:\n",
    "\n",
    "        # В 1-й колонке таблицы - тикер акции:\n",
    "        ticker = str(col[0].string.strip())\n",
    "            \n",
    "        # Добавляем тикер акции в список:\n",
    "        sp100_tickers.append(ticker)"
   ]
  },
  {
   "cell_type": "code",
   "execution_count": 33,
   "metadata": {},
   "outputs": [
    {
     "name": "stdout",
     "output_type": "stream",
     "text": [
      "['AAPL', 'ABBV', 'ABT', 'ACN', 'ADBE', 'AIG', 'ALL', 'AMGN', 'AMT', 'AMZN', 'AXP', 'BA', 'BAC', 'BIIB', 'BK', 'BKNG', 'BLK', 'BMY', 'BRK.B', 'C', 'CAT', 'CHTR', 'CL', 'CMCSA', 'COF', 'COP', 'COST', 'CRM', 'CSCO', 'CVS', 'CVX', 'DD', 'DHR', 'DIS', 'DOW', 'DUK', 'EMR', 'EXC', 'F', 'FB', 'FDX', 'GD', 'GE', 'GILD', 'GM', 'GOOG', 'GOOGL', 'GS', 'HD', 'HON', 'IBM', 'INTC', 'JNJ', 'JPM', 'KHC', 'KMI', 'KO', 'LLY', 'LMT', 'LOW', 'MA', 'MCD', 'MDLZ', 'MDT', 'MET', 'MMM', 'MO', 'MRK', 'MS', 'MSFT', 'NEE', 'NFLX', 'NKE', 'NVDA', 'ORCL', 'OXY', 'PEP', 'PFE', 'PG', 'PM', 'PYPL', 'QCOM', 'RTX', 'SBUX', 'SLB', 'SO', 'SPG', 'T', 'TGT', 'TMO', 'TXN', 'UNH', 'UNP', 'UPS', 'USB', 'V', 'VZ', 'WBA', 'WFC', 'WMT', 'XOM']\n"
     ]
    }
   ],
   "source": [
    "print(sp100_tickers)"
   ]
  },
  {
   "cell_type": "code",
   "execution_count": 34,
   "metadata": {},
   "outputs": [
    {
     "data": {
      "text/plain": [
       "101"
      ]
     },
     "execution_count": 34,
     "metadata": {},
     "output_type": "execute_result"
    }
   ],
   "source": [
    "len(sp100_tickers)"
   ]
  },
  {
   "cell_type": "code",
   "execution_count": 35,
   "metadata": {},
   "outputs": [],
   "source": [
    "with open('sp100_tickers.json', 'w') as f:\n",
    "    json.dump(sp100_tickers, f)"
   ]
  },
  {
   "cell_type": "markdown",
   "metadata": {},
   "source": [
    "скопируем файлы акций **S&P100** в отдельную директорию, чтобы изучить объемы файлов и посмотреть, по каким акциям отсутствуют дальние котировки"
   ]
  },
  {
   "cell_type": "code",
   "execution_count": 36,
   "metadata": {},
   "outputs": [],
   "source": [
    "for ticker in sp100_tickers:\n",
    "    shutil.copy(os.path.join('prices', f'{ticker}.csv'), 'prices_sp100')"
   ]
  },
  {
   "cell_type": "markdown",
   "metadata": {},
   "source": [
    "## Скачаем сами индексы S&P500 (тикер SPX) и S&P100 (тикер OEX)"
   ]
  },
  {
   "cell_type": "markdown",
   "metadata": {},
   "source": [
    "Эти индексы скачаем вручную с сайта https://finance.yahoo.com/\n",
    "- **S&P500** (тикер **SPX**) - со страницы [отсюда](https://finance.yahoo.com/quote/%5EGSPC/history?period1=914889600&period2=1600128000&interval=1d&filter=history&frequency=1d)   \n",
    "- **S&P100** (тикер **OEX**) - со страницы [отсюда](https://finance.yahoo.com/quote/%5EOEX/history?period1=916358400&period2=1600128000&interval=1d&filter=history&frequency=1d)"
   ]
  }
 ],
 "metadata": {
  "kernelspec": {
   "display_name": "Python 3",
   "language": "python",
   "name": "python3"
  },
  "language_info": {
   "codemirror_mode": {
    "name": "ipython",
    "version": 3
   },
   "file_extension": ".py",
   "mimetype": "text/x-python",
   "name": "python",
   "nbconvert_exporter": "python",
   "pygments_lexer": "ipython3",
   "version": "3.7.7"
  }
 },
 "nbformat": 4,
 "nbformat_minor": 4
}
