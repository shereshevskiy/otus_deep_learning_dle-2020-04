{
 "cells": [
  {
   "cell_type": "markdown",
   "metadata": {},
   "source": [
    "# <center>Строим батчи на **pytorch**"
   ]
  },
  {
   "cell_type": "code",
   "execution_count": 1,
   "metadata": {
    "colab": {},
    "colab_type": "code",
    "id": "MkntcF5yES1K"
   },
   "outputs": [
    {
     "data": {
      "text/plain": [
       "True"
      ]
     },
     "execution_count": 1,
     "metadata": {},
     "output_type": "execute_result"
    }
   ],
   "source": [
    "import os\n",
    "os.chdir(\"..\")\n",
    "\n",
    "%load_ext autoreload\n",
    "%autoreload 2\n",
    "\n",
    "from dotenv import load_dotenv\n",
    "load_dotenv()"
   ]
  },
  {
   "cell_type": "code",
   "execution_count": 2,
   "metadata": {
    "colab": {
     "base_uri": "https://localhost:8080/",
     "height": 33
    },
    "colab_type": "code",
    "id": "oY5r9W_fEbuu",
    "outputId": "25b784af-f617-440d-d8a6-741762eb8acc"
   },
   "outputs": [],
   "source": [
    "# from google.colab import drive\n",
    "# drive.mount('/content/drive')"
   ]
  },
  {
   "cell_type": "code",
   "execution_count": 3,
   "metadata": {
    "colab": {},
    "colab_type": "code",
    "id": "tb65YtlZEp8w"
   },
   "outputs": [],
   "source": [
    "# import os\n",
    "# os.chdir('drive/My Drive/Colab Notebooks/neural_OTUS/project1_sp100')"
   ]
  },
  {
   "cell_type": "code",
   "execution_count": 4,
   "metadata": {
    "colab": {},
    "colab_type": "code",
    "id": "fSIhWfOPES1T"
   },
   "outputs": [],
   "source": [
    "import matplotlib as mpl\n",
    "import matplotlib.pyplot as plt\n",
    "import numpy as np\n",
    "import pandas as pd\n",
    "\n",
    "# mpl.rcParams['figure.figsize'] = (8, 6)\n",
    "mpl.rcParams['axes.grid'] = False"
   ]
  },
  {
   "cell_type": "code",
   "execution_count": 28,
   "metadata": {
    "colab": {},
    "colab_type": "code",
    "id": "viC1zvSnES1b"
   },
   "outputs": [],
   "source": [
    "from torch.utils.data import DataLoader, Dataset"
   ]
  },
  {
   "cell_type": "markdown",
   "metadata": {
    "colab_type": "text",
    "id": "5Nhj3VfWES11"
   },
   "source": [
    "#### Данные\n",
    "загрузим ранее подготовленный датасет"
   ]
  },
  {
   "cell_type": "code",
   "execution_count": 6,
   "metadata": {
    "colab": {},
    "colab_type": "code",
    "id": "PXwc0oYCES14"
   },
   "outputs": [],
   "source": [
    "path_to_data = \"data\""
   ]
  },
  {
   "cell_type": "code",
   "execution_count": 7,
   "metadata": {
    "colab": {},
    "colab_type": "code",
    "id": "aJlgho3pES2C"
   },
   "outputs": [],
   "source": [
    "features = pd.read_csv(os.path.join(path_to_data, \"sp100.csv\"), index_col=0)"
   ]
  },
  {
   "cell_type": "code",
   "execution_count": 8,
   "metadata": {
    "colab": {
     "base_uri": "https://localhost:8080/",
     "height": 359
    },
    "colab_type": "code",
    "id": "il-PXA3gES2Q",
    "outputId": "f27aedfe-b0ee-403b-86ab-7d89d0191332"
   },
   "outputs": [
    {
     "data": {
      "text/html": [
       "<div>\n",
       "<style scoped>\n",
       "    .dataframe tbody tr th:only-of-type {\n",
       "        vertical-align: middle;\n",
       "    }\n",
       "\n",
       "    .dataframe tbody tr th {\n",
       "        vertical-align: top;\n",
       "    }\n",
       "\n",
       "    .dataframe thead th {\n",
       "        text-align: right;\n",
       "    }\n",
       "</style>\n",
       "<table border=\"1\" class=\"dataframe\">\n",
       "  <thead>\n",
       "    <tr style=\"text-align: right;\">\n",
       "      <th></th>\n",
       "      <th>AAPL</th>\n",
       "      <th>ABBV</th>\n",
       "      <th>ABT</th>\n",
       "      <th>ACN</th>\n",
       "      <th>ADBE</th>\n",
       "      <th>AIG</th>\n",
       "      <th>ALL</th>\n",
       "      <th>AMGN</th>\n",
       "      <th>AMT</th>\n",
       "      <th>AMZN</th>\n",
       "      <th>...</th>\n",
       "      <th>UNP</th>\n",
       "      <th>UPS</th>\n",
       "      <th>USB</th>\n",
       "      <th>V</th>\n",
       "      <th>VZ</th>\n",
       "      <th>WBA</th>\n",
       "      <th>WFC</th>\n",
       "      <th>WMT</th>\n",
       "      <th>XOM</th>\n",
       "      <th>S&amp;P100</th>\n",
       "    </tr>\n",
       "    <tr>\n",
       "      <th>Date</th>\n",
       "      <th></th>\n",
       "      <th></th>\n",
       "      <th></th>\n",
       "      <th></th>\n",
       "      <th></th>\n",
       "      <th></th>\n",
       "      <th></th>\n",
       "      <th></th>\n",
       "      <th></th>\n",
       "      <th></th>\n",
       "      <th></th>\n",
       "      <th></th>\n",
       "      <th></th>\n",
       "      <th></th>\n",
       "      <th></th>\n",
       "      <th></th>\n",
       "      <th></th>\n",
       "      <th></th>\n",
       "      <th></th>\n",
       "      <th></th>\n",
       "      <th></th>\n",
       "    </tr>\n",
       "  </thead>\n",
       "  <tbody>\n",
       "    <tr>\n",
       "      <th>2000-01-18</th>\n",
       "      <td>0.928013</td>\n",
       "      <td>35.119999</td>\n",
       "      <td>15.150405</td>\n",
       "      <td>15.17</td>\n",
       "      <td>16.000000</td>\n",
       "      <td>1445.000000</td>\n",
       "      <td>24.0625</td>\n",
       "      <td>69.0625</td>\n",
       "      <td>38.4375</td>\n",
       "      <td>64.1250</td>\n",
       "      <td>...</td>\n",
       "      <td>11.093750</td>\n",
       "      <td>68.6875</td>\n",
       "      <td>23.4375</td>\n",
       "      <td>14.125</td>\n",
       "      <td>52.835213</td>\n",
       "      <td>29.2500</td>\n",
       "      <td>19.4375</td>\n",
       "      <td>65.5625</td>\n",
       "      <td>42.37500</td>\n",
       "      <td>795.679993</td>\n",
       "    </tr>\n",
       "    <tr>\n",
       "      <th>2000-01-19</th>\n",
       "      <td>0.951451</td>\n",
       "      <td>35.119999</td>\n",
       "      <td>14.841785</td>\n",
       "      <td>15.17</td>\n",
       "      <td>15.781250</td>\n",
       "      <td>1416.666626</td>\n",
       "      <td>23.5625</td>\n",
       "      <td>72.0000</td>\n",
       "      <td>39.0000</td>\n",
       "      <td>66.8125</td>\n",
       "      <td>...</td>\n",
       "      <td>10.906250</td>\n",
       "      <td>68.2500</td>\n",
       "      <td>23.0000</td>\n",
       "      <td>14.125</td>\n",
       "      <td>51.823475</td>\n",
       "      <td>30.1875</td>\n",
       "      <td>18.3750</td>\n",
       "      <td>64.0625</td>\n",
       "      <td>42.78125</td>\n",
       "      <td>790.309998</td>\n",
       "    </tr>\n",
       "    <tr>\n",
       "      <th>2000-01-20</th>\n",
       "      <td>1.013393</td>\n",
       "      <td>35.119999</td>\n",
       "      <td>14.392884</td>\n",
       "      <td>15.17</td>\n",
       "      <td>15.953125</td>\n",
       "      <td>1404.583374</td>\n",
       "      <td>23.7500</td>\n",
       "      <td>71.8125</td>\n",
       "      <td>40.5000</td>\n",
       "      <td>64.7500</td>\n",
       "      <td>...</td>\n",
       "      <td>10.500000</td>\n",
       "      <td>68.8750</td>\n",
       "      <td>22.1875</td>\n",
       "      <td>14.125</td>\n",
       "      <td>51.992096</td>\n",
       "      <td>30.1875</td>\n",
       "      <td>18.1875</td>\n",
       "      <td>63.3750</td>\n",
       "      <td>41.84375</td>\n",
       "      <td>783.330017</td>\n",
       "    </tr>\n",
       "    <tr>\n",
       "      <th>2000-01-21</th>\n",
       "      <td>0.993862</td>\n",
       "      <td>35.119999</td>\n",
       "      <td>14.000096</td>\n",
       "      <td>15.17</td>\n",
       "      <td>15.718750</td>\n",
       "      <td>1385.833374</td>\n",
       "      <td>23.5000</td>\n",
       "      <td>74.6875</td>\n",
       "      <td>43.1250</td>\n",
       "      <td>62.0625</td>\n",
       "      <td>...</td>\n",
       "      <td>10.937500</td>\n",
       "      <td>67.2500</td>\n",
       "      <td>21.6875</td>\n",
       "      <td>14.125</td>\n",
       "      <td>54.015572</td>\n",
       "      <td>29.9375</td>\n",
       "      <td>18.3125</td>\n",
       "      <td>62.4375</td>\n",
       "      <td>42.50000</td>\n",
       "      <td>779.780029</td>\n",
       "    </tr>\n",
       "    <tr>\n",
       "      <th>2000-01-24</th>\n",
       "      <td>0.948661</td>\n",
       "      <td>35.119999</td>\n",
       "      <td>13.467027</td>\n",
       "      <td>15.17</td>\n",
       "      <td>15.140625</td>\n",
       "      <td>1354.166626</td>\n",
       "      <td>22.8125</td>\n",
       "      <td>69.2500</td>\n",
       "      <td>42.0000</td>\n",
       "      <td>70.1250</td>\n",
       "      <td>...</td>\n",
       "      <td>10.609375</td>\n",
       "      <td>66.0000</td>\n",
       "      <td>21.4375</td>\n",
       "      <td>14.125</td>\n",
       "      <td>54.071781</td>\n",
       "      <td>29.0000</td>\n",
       "      <td>17.9375</td>\n",
       "      <td>59.3750</td>\n",
       "      <td>42.12500</td>\n",
       "      <td>758.739990</td>\n",
       "    </tr>\n",
       "  </tbody>\n",
       "</table>\n",
       "<p>5 rows × 102 columns</p>\n",
       "</div>"
      ],
      "text/plain": [
       "                AAPL       ABBV        ABT    ACN       ADBE          AIG  \\\n",
       "Date                                                                        \n",
       "2000-01-18  0.928013  35.119999  15.150405  15.17  16.000000  1445.000000   \n",
       "2000-01-19  0.951451  35.119999  14.841785  15.17  15.781250  1416.666626   \n",
       "2000-01-20  1.013393  35.119999  14.392884  15.17  15.953125  1404.583374   \n",
       "2000-01-21  0.993862  35.119999  14.000096  15.17  15.718750  1385.833374   \n",
       "2000-01-24  0.948661  35.119999  13.467027  15.17  15.140625  1354.166626   \n",
       "\n",
       "                ALL     AMGN      AMT     AMZN  ...        UNP      UPS  \\\n",
       "Date                                            ...                       \n",
       "2000-01-18  24.0625  69.0625  38.4375  64.1250  ...  11.093750  68.6875   \n",
       "2000-01-19  23.5625  72.0000  39.0000  66.8125  ...  10.906250  68.2500   \n",
       "2000-01-20  23.7500  71.8125  40.5000  64.7500  ...  10.500000  68.8750   \n",
       "2000-01-21  23.5000  74.6875  43.1250  62.0625  ...  10.937500  67.2500   \n",
       "2000-01-24  22.8125  69.2500  42.0000  70.1250  ...  10.609375  66.0000   \n",
       "\n",
       "                USB       V         VZ      WBA      WFC      WMT       XOM  \\\n",
       "Date                                                                          \n",
       "2000-01-18  23.4375  14.125  52.835213  29.2500  19.4375  65.5625  42.37500   \n",
       "2000-01-19  23.0000  14.125  51.823475  30.1875  18.3750  64.0625  42.78125   \n",
       "2000-01-20  22.1875  14.125  51.992096  30.1875  18.1875  63.3750  41.84375   \n",
       "2000-01-21  21.6875  14.125  54.015572  29.9375  18.3125  62.4375  42.50000   \n",
       "2000-01-24  21.4375  14.125  54.071781  29.0000  17.9375  59.3750  42.12500   \n",
       "\n",
       "                S&P100  \n",
       "Date                    \n",
       "2000-01-18  795.679993  \n",
       "2000-01-19  790.309998  \n",
       "2000-01-20  783.330017  \n",
       "2000-01-21  779.780029  \n",
       "2000-01-24  758.739990  \n",
       "\n",
       "[5 rows x 102 columns]"
      ]
     },
     "execution_count": 8,
     "metadata": {},
     "output_type": "execute_result"
    }
   ],
   "source": [
    "features.head()"
   ]
  },
  {
   "cell_type": "code",
   "execution_count": 9,
   "metadata": {
    "colab": {
     "base_uri": "https://localhost:8080/",
     "height": 33
    },
    "colab_type": "code",
    "id": "N6RrzVPtES2f",
    "outputId": "d35daf13-6a4b-4645-bb28-4086c18d627b"
   },
   "outputs": [
    {
     "data": {
      "text/plain": [
       "(5198, 102)"
      ]
     },
     "execution_count": 9,
     "metadata": {},
     "output_type": "execute_result"
    }
   ],
   "source": [
    "features.shape"
   ]
  },
  {
   "cell_type": "markdown",
   "metadata": {
    "colab_type": "text",
    "id": "ViHESECMES2p"
   },
   "source": [
    "Первые **4500** строк выделим под **обучение**, остальное - под **валидацию**"
   ]
  },
  {
   "cell_type": "code",
   "execution_count": 10,
   "metadata": {
    "colab": {},
    "colab_type": "code",
    "id": "zHCQioNsES2u"
   },
   "outputs": [],
   "source": [
    "TRAIN_SPLIT = 4500"
   ]
  },
  {
   "cell_type": "markdown",
   "metadata": {
    "colab_type": "text",
    "id": "lxteQYPqES26"
   },
   "source": [
    "Посмотрим для наглядности на целевую переменную и некоторые курсы акций"
   ]
  },
  {
   "cell_type": "code",
   "execution_count": 11,
   "metadata": {
    "colab": {
     "base_uri": "https://localhost:8080/",
     "height": 579
    },
    "colab_type": "code",
    "id": "ikqVma04ES27",
    "outputId": "6407e6f8-0eb2-4594-884e-5ad1e64e518b"
   },
   "outputs": [
    {
     "data": {
      "image/png": "[encoded data removed]",
      "text/plain": [
       "<Figure size 576x720 with 5 Axes>"
      ]
     },
     "metadata": {
      "needs_background": "light"
     },
     "output_type": "display_data"
    }
   ],
   "source": [
    "mpl.rcParams['figure.figsize'] = (8, 10)\n",
    "\n",
    "tickers = [\"S&P100\", \"AAPL\", \"V\", \"FB\", \"AMZN\"]\n",
    "features[tickers].plot(subplots=True);"
   ]
  },
  {
   "cell_type": "code",
   "execution_count": 12,
   "metadata": {
    "colab": {
     "base_uri": "https://localhost:8080/",
     "height": 33
    },
    "colab_type": "code",
    "id": "gZFXi1fdl0Dg",
    "outputId": "4efcb753-2ba2-4baa-ff0d-599cb9ab1fe8"
   },
   "outputs": [
    {
     "data": {
      "text/plain": [
       "(5198, 102)"
      ]
     },
     "execution_count": 12,
     "metadata": {},
     "output_type": "execute_result"
    }
   ],
   "source": [
    "features.shape"
   ]
  },
  {
   "cell_type": "markdown",
   "metadata": {
    "colab_type": "text",
    "id": "irVZ9_2oES3J"
   },
   "source": [
    "Стандартизируем (нормализуем) набор данных. Для расчета параметров стандартизации используем только **train**"
   ]
  },
  {
   "cell_type": "code",
   "execution_count": 13,
   "metadata": {
    "colab": {},
    "colab_type": "code",
    "id": "U2elrjvZES3Y"
   },
   "outputs": [],
   "source": [
    "dataset = features.values\n",
    "data_mean = dataset[:TRAIN_SPLIT].mean(axis=0)\n",
    "data_std = dataset[:TRAIN_SPLIT].std(axis=0)"
   ]
  },
  {
   "cell_type": "code",
   "execution_count": 14,
   "metadata": {
    "colab": {},
    "colab_type": "code",
    "id": "rAh1p4GfES3k"
   },
   "outputs": [],
   "source": [
    "dataset = (dataset-data_mean)/data_std"
   ]
  },
  {
   "cell_type": "code",
   "execution_count": 15,
   "metadata": {
    "colab": {},
    "colab_type": "code",
    "id": "BuQesD_jES3v"
   },
   "outputs": [],
   "source": [
    "# dataset"
   ]
  },
  {
   "cell_type": "markdown",
   "metadata": {
    "colab_type": "text",
    "id": "lwTMTDRpES39"
   },
   "source": [
    "## Точечное прогнозирование"
   ]
  },
  {
   "cell_type": "code",
   "execution_count": 16,
   "metadata": {
    "colab": {},
    "colab_type": "code",
    "id": "qSzijYFjES4A"
   },
   "outputs": [],
   "source": [
    "def multivariate_data(dataset, target, start_index, end_index, history_size,\n",
    "                      target_size, step, single_step=False):\n",
    "    \"\"\"\n",
    "    Функция организации временных интервалов\n",
    "    \"\"\"\n",
    "    \n",
    "    data = []\n",
    "    labels = []\n",
    "\n",
    "    start_index = start_index + history_size\n",
    "    if end_index is None:\n",
    "        end_index = len(dataset) - target_size\n",
    "\n",
    "    for i in range(start_index, end_index):\n",
    "        indices = range(i-history_size, i, step)\n",
    "        data.append(dataset[indices])\n",
    "\n",
    "        if single_step:\n",
    "            labels.append(target[i+target_size])\n",
    "        else:\n",
    "            labels.append(target[i:i+target_size])\n",
    "\n",
    "    return np.array(data), np.array(labels)"
   ]
  },
  {
   "cell_type": "code",
   "execution_count": 17,
   "metadata": {
    "colab": {},
    "colab_type": "code",
    "id": "rQZWVd0CES4M"
   },
   "outputs": [],
   "source": [
    "past_history = 90  # смотрим историю за 90 дней (рабочих)\n",
    "future_target = 1  # предсказываем следующий день\n",
    "STEP = 1           # данные берем без пропусков"
   ]
  },
  {
   "cell_type": "code",
   "execution_count": 39,
   "metadata": {
    "colab": {},
    "colab_type": "code",
    "id": "041nnz_7ES4Z"
   },
   "outputs": [],
   "source": [
    "x_train_single, y_train_single = multivariate_data(dataset, dataset[:, -1], 0,\n",
    "                                                   TRAIN_SPLIT, past_history,\n",
    "                                                   future_target, STEP,\n",
    "                                                   single_step=True)\n",
    "x_val_single, y_val_single = multivariate_data(dataset, dataset[:, -1],\n",
    "                                               TRAIN_SPLIT, None, past_history,\n",
    "                                               future_target, STEP,\n",
    "                                               single_step=True)"
   ]
  },
  {
   "cell_type": "code",
   "execution_count": 71,
   "metadata": {},
   "outputs": [
    {
     "data": {
      "text/plain": [
       "(4410, 90, 102)"
      ]
     },
     "execution_count": 71,
     "metadata": {},
     "output_type": "execute_result"
    }
   ],
   "source": [
    "x_train_single.shape"
   ]
  },
  {
   "cell_type": "code",
   "execution_count": 72,
   "metadata": {},
   "outputs": [
    {
     "data": {
      "text/plain": [
       "4410"
      ]
     },
     "execution_count": 72,
     "metadata": {},
     "output_type": "execute_result"
    }
   ],
   "source": [
    "len(x_train_single)"
   ]
  },
  {
   "cell_type": "code",
   "execution_count": 73,
   "metadata": {},
   "outputs": [],
   "source": [
    "BATCH_SIZE = 16"
   ]
  },
  {
   "cell_type": "code",
   "execution_count": 106,
   "metadata": {},
   "outputs": [],
   "source": [
    "class SP100Dataset(Dataset):\n",
    "    def __init__(self, x, y):\n",
    "        self.x = x\n",
    "        self.y = y\n",
    "    \n",
    "    def __len__(self):\n",
    "        return len(self.x)\n",
    "    \n",
    "    def __getitem__(self, key):\n",
    "        return self.x[key], self.y[key]"
   ]
  },
  {
   "cell_type": "code",
   "execution_count": 107,
   "metadata": {},
   "outputs": [],
   "source": [
    "dataset_train = SP100Dataset(x_train_single, y_train_single)"
   ]
  },
  {
   "cell_type": "code",
   "execution_count": 108,
   "metadata": {},
   "outputs": [],
   "source": [
    "dataloader_train = DataLoader(dataset_train,\n",
    "                              batch_size=BATCH_SIZE,\n",
    "                              shuffle=True,\n",
    "                              drop_last=True\n",
    "                             )"
   ]
  },
  {
   "cell_type": "code",
   "execution_count": 109,
   "metadata": {},
   "outputs": [
    {
     "name": "stdout",
     "output_type": "stream",
     "text": [
      "0 torch.Size([90, 16, 102]) torch.Size([16])\n",
      "1 torch.Size([90, 16, 102]) torch.Size([16])\n",
      "2 torch.Size([90, 16, 102]) torch.Size([16])\n",
      "3 torch.Size([90, 16, 102]) torch.Size([16])\n",
      "4 torch.Size([90, 16, 102]) torch.Size([16])\n",
      "5 torch.Size([90, 16, 102]) torch.Size([16])\n",
      "6 torch.Size([90, 16, 102]) torch.Size([16])\n",
      "7 torch.Size([90, 16, 102]) torch.Size([16])\n",
      "8 torch.Size([90, 16, 102]) torch.Size([16])\n",
      "9 torch.Size([90, 16, 102]) torch.Size([16])\n",
      "10 torch.Size([90, 16, 102]) torch.Size([16])\n",
      "11 torch.Size([90, 16, 102]) torch.Size([16])\n",
      "12 torch.Size([90, 16, 102]) torch.Size([16])\n",
      "13 torch.Size([90, 16, 102]) torch.Size([16])\n",
      "14 torch.Size([90, 16, 102]) torch.Size([16])\n",
      "15 torch.Size([90, 16, 102]) torch.Size([16])\n",
      "16 torch.Size([90, 16, 102]) torch.Size([16])\n",
      "17 torch.Size([90, 16, 102]) torch.Size([16])\n",
      "18 torch.Size([90, 16, 102]) torch.Size([16])\n",
      "19 torch.Size([90, 16, 102]) torch.Size([16])\n",
      "20 torch.Size([90, 16, 102]) torch.Size([16])\n",
      "21 torch.Size([90, 16, 102]) torch.Size([16])\n",
      "22 torch.Size([90, 16, 102]) torch.Size([16])\n",
      "23 torch.Size([90, 16, 102]) torch.Size([16])\n",
      "24 torch.Size([90, 16, 102]) torch.Size([16])\n",
      "25 torch.Size([90, 16, 102]) torch.Size([16])\n",
      "26 torch.Size([90, 16, 102]) torch.Size([16])\n",
      "27 torch.Size([90, 16, 102]) torch.Size([16])\n",
      "28 torch.Size([90, 16, 102]) torch.Size([16])\n",
      "29 torch.Size([90, 16, 102]) torch.Size([16])\n",
      "30 torch.Size([90, 16, 102]) torch.Size([16])\n",
      "31 torch.Size([90, 16, 102]) torch.Size([16])\n",
      "32 torch.Size([90, 16, 102]) torch.Size([16])\n",
      "33 torch.Size([90, 16, 102]) torch.Size([16])\n",
      "34 torch.Size([90, 16, 102]) torch.Size([16])\n",
      "35 torch.Size([90, 16, 102]) torch.Size([16])\n",
      "36 torch.Size([90, 16, 102]) torch.Size([16])\n",
      "37 torch.Size([90, 16, 102]) torch.Size([16])\n",
      "38 torch.Size([90, 16, 102]) torch.Size([16])\n",
      "39 torch.Size([90, 16, 102]) torch.Size([16])\n",
      "40 torch.Size([90, 16, 102]) torch.Size([16])\n",
      "41 torch.Size([90, 16, 102]) torch.Size([16])\n",
      "42 torch.Size([90, 16, 102]) torch.Size([16])\n",
      "43 torch.Size([90, 16, 102]) torch.Size([16])\n",
      "44 torch.Size([90, 16, 102]) torch.Size([16])\n",
      "45 torch.Size([90, 16, 102]) torch.Size([16])\n",
      "46 torch.Size([90, 16, 102]) torch.Size([16])\n",
      "47 torch.Size([90, 16, 102]) torch.Size([16])\n",
      "48 torch.Size([90, 16, 102]) torch.Size([16])\n",
      "49 torch.Size([90, 16, 102]) torch.Size([16])\n",
      "50 torch.Size([90, 16, 102]) torch.Size([16])\n",
      "51 torch.Size([90, 16, 102]) torch.Size([16])\n",
      "52 torch.Size([90, 16, 102]) torch.Size([16])\n",
      "53 torch.Size([90, 16, 102]) torch.Size([16])\n",
      "54 torch.Size([90, 16, 102]) torch.Size([16])\n",
      "55 torch.Size([90, 16, 102]) torch.Size([16])\n",
      "56 torch.Size([90, 16, 102]) torch.Size([16])\n",
      "57 torch.Size([90, 16, 102]) torch.Size([16])\n",
      "58 torch.Size([90, 16, 102]) torch.Size([16])\n",
      "59 torch.Size([90, 16, 102]) torch.Size([16])\n",
      "60 torch.Size([90, 16, 102]) torch.Size([16])\n",
      "61 torch.Size([90, 16, 102]) torch.Size([16])\n",
      "62 torch.Size([90, 16, 102]) torch.Size([16])\n",
      "63 torch.Size([90, 16, 102]) torch.Size([16])\n",
      "64 torch.Size([90, 16, 102]) torch.Size([16])\n",
      "65 torch.Size([90, 16, 102]) torch.Size([16])\n",
      "66 torch.Size([90, 16, 102]) torch.Size([16])\n",
      "67 torch.Size([90, 16, 102]) torch.Size([16])\n",
      "68 torch.Size([90, 16, 102]) torch.Size([16])\n",
      "69 torch.Size([90, 16, 102]) torch.Size([16])\n",
      "70 torch.Size([90, 16, 102]) torch.Size([16])\n",
      "71 torch.Size([90, 16, 102]) torch.Size([16])\n",
      "72 torch.Size([90, 16, 102]) torch.Size([16])\n",
      "73 torch.Size([90, 16, 102]) torch.Size([16])\n",
      "74 torch.Size([90, 16, 102]) torch.Size([16])\n",
      "75 torch.Size([90, 16, 102]) torch.Size([16])\n",
      "76 torch.Size([90, 16, 102]) torch.Size([16])\n",
      "77 torch.Size([90, 16, 102]) torch.Size([16])\n",
      "78 torch.Size([90, 16, 102]) torch.Size([16])\n",
      "79 torch.Size([90, 16, 102]) torch.Size([16])\n",
      "80 torch.Size([90, 16, 102]) torch.Size([16])\n",
      "81 torch.Size([90, 16, 102]) torch.Size([16])\n",
      "82 torch.Size([90, 16, 102]) torch.Size([16])\n",
      "83 torch.Size([90, 16, 102]) torch.Size([16])\n",
      "84 torch.Size([90, 16, 102]) torch.Size([16])\n",
      "85 torch.Size([90, 16, 102]) torch.Size([16])\n",
      "86 torch.Size([90, 16, 102]) torch.Size([16])\n",
      "87 torch.Size([90, 16, 102]) torch.Size([16])\n",
      "88 torch.Size([90, 16, 102]) torch.Size([16])\n",
      "89 torch.Size([90, 16, 102]) torch.Size([16])\n",
      "90 torch.Size([90, 16, 102]) torch.Size([16])\n",
      "91 torch.Size([90, 16, 102]) torch.Size([16])\n",
      "92 torch.Size([90, 16, 102]) torch.Size([16])\n",
      "93 torch.Size([90, 16, 102]) torch.Size([16])\n",
      "94 torch.Size([90, 16, 102]) torch.Size([16])\n",
      "95 torch.Size([90, 16, 102]) torch.Size([16])\n",
      "96 torch.Size([90, 16, 102]) torch.Size([16])\n",
      "97 torch.Size([90, 16, 102]) torch.Size([16])\n",
      "98 torch.Size([90, 16, 102]) torch.Size([16])\n",
      "99 torch.Size([90, 16, 102]) torch.Size([16])\n",
      "100 torch.Size([90, 16, 102]) torch.Size([16])\n",
      "101 torch.Size([90, 16, 102]) torch.Size([16])\n",
      "102 torch.Size([90, 16, 102]) torch.Size([16])\n",
      "103 torch.Size([90, 16, 102]) torch.Size([16])\n",
      "104 torch.Size([90, 16, 102]) torch.Size([16])\n",
      "105 torch.Size([90, 16, 102]) torch.Size([16])\n",
      "106 torch.Size([90, 16, 102]) torch.Size([16])\n",
      "107 torch.Size([90, 16, 102]) torch.Size([16])\n",
      "108 torch.Size([90, 16, 102]) torch.Size([16])\n",
      "109 torch.Size([90, 16, 102]) torch.Size([16])\n",
      "110 torch.Size([90, 16, 102]) torch.Size([16])\n",
      "111 torch.Size([90, 16, 102]) torch.Size([16])\n",
      "112 torch.Size([90, 16, 102]) torch.Size([16])\n",
      "113 torch.Size([90, 16, 102]) torch.Size([16])\n",
      "114 torch.Size([90, 16, 102]) torch.Size([16])\n",
      "115 torch.Size([90, 16, 102]) torch.Size([16])\n",
      "116 torch.Size([90, 16, 102]) torch.Size([16])\n",
      "117 torch.Size([90, 16, 102]) torch.Size([16])\n",
      "118 torch.Size([90, 16, 102]) torch.Size([16])\n",
      "119 torch.Size([90, 16, 102]) torch.Size([16])\n",
      "120 torch.Size([90, 16, 102]) torch.Size([16])\n",
      "121 torch.Size([90, 16, 102]) torch.Size([16])\n",
      "122 torch.Size([90, 16, 102]) torch.Size([16])\n",
      "123 torch.Size([90, 16, 102]) torch.Size([16])\n",
      "124 torch.Size([90, 16, 102]) torch.Size([16])\n",
      "125 torch.Size([90, 16, 102]) torch.Size([16])\n",
      "126 torch.Size([90, 16, 102]) torch.Size([16])\n",
      "127 torch.Size([90, 16, 102]) torch.Size([16])\n",
      "128 torch.Size([90, 16, 102]) torch.Size([16])\n",
      "129 torch.Size([90, 16, 102]) torch.Size([16])\n",
      "130 torch.Size([90, 16, 102]) torch.Size([16])\n",
      "131 torch.Size([90, 16, 102]) torch.Size([16])\n",
      "132 torch.Size([90, 16, 102]) torch.Size([16])\n",
      "133 torch.Size([90, 16, 102]) torch.Size([16])\n",
      "134 torch.Size([90, 16, 102]) torch.Size([16])\n",
      "135 torch.Size([90, 16, 102]) torch.Size([16])\n",
      "136 torch.Size([90, 16, 102]) torch.Size([16])\n",
      "137 torch.Size([90, 16, 102]) torch.Size([16])\n",
      "138 torch.Size([90, 16, 102]) torch.Size([16])\n",
      "139 torch.Size([90, 16, 102]) torch.Size([16])\n",
      "140 torch.Size([90, 16, 102]) torch.Size([16])\n",
      "141 torch.Size([90, 16, 102]) torch.Size([16])\n",
      "142 torch.Size([90, 16, 102]) torch.Size([16])\n",
      "143 torch.Size([90, 16, 102]) torch.Size([16])\n",
      "144 torch.Size([90, 16, 102]) torch.Size([16])\n",
      "145 torch.Size([90, 16, 102]) torch.Size([16])\n",
      "146 torch.Size([90, 16, 102]) torch.Size([16])\n",
      "147 torch.Size([90, 16, 102]) torch.Size([16])\n",
      "148 torch.Size([90, 16, 102]) torch.Size([16])\n",
      "149 torch.Size([90, 16, 102]) torch.Size([16])\n",
      "150 torch.Size([90, 16, 102]) torch.Size([16])\n",
      "151 torch.Size([90, 16, 102]) torch.Size([16])\n",
      "152 torch.Size([90, 16, 102]) torch.Size([16])\n",
      "153 torch.Size([90, 16, 102]) torch.Size([16])\n",
      "154 torch.Size([90, 16, 102]) torch.Size([16])\n",
      "155 torch.Size([90, 16, 102]) torch.Size([16])\n",
      "156 torch.Size([90, 16, 102]) torch.Size([16])\n",
      "157 torch.Size([90, 16, 102]) torch.Size([16])\n",
      "158 torch.Size([90, 16, 102]) torch.Size([16])\n",
      "159 torch.Size([90, 16, 102]) torch.Size([16])\n",
      "160 torch.Size([90, 16, 102]) torch.Size([16])\n",
      "161 torch.Size([90, 16, 102]) torch.Size([16])\n",
      "162 torch.Size([90, 16, 102]) torch.Size([16])\n",
      "163 torch.Size([90, 16, 102]) torch.Size([16])\n",
      "164 torch.Size([90, 16, 102]) torch.Size([16])\n",
      "165 torch.Size([90, 16, 102]) torch.Size([16])\n",
      "166 torch.Size([90, 16, 102]) torch.Size([16])\n",
      "167 torch.Size([90, 16, 102]) torch.Size([16])\n",
      "168 torch.Size([90, 16, 102]) torch.Size([16])\n",
      "169 torch.Size([90, 16, 102]) torch.Size([16])\n",
      "170 torch.Size([90, 16, 102]) torch.Size([16])\n",
      "171 torch.Size([90, 16, 102]) torch.Size([16])\n",
      "172 torch.Size([90, 16, 102]) torch.Size([16])\n",
      "173 torch.Size([90, 16, 102]) torch.Size([16])\n",
      "174 torch.Size([90, 16, 102]) torch.Size([16])\n",
      "175 torch.Size([90, 16, 102]) torch.Size([16])\n",
      "176 torch.Size([90, 16, 102]) torch.Size([16])\n",
      "177 torch.Size([90, 16, 102]) torch.Size([16])\n",
      "178 torch.Size([90, 16, 102]) torch.Size([16])\n",
      "179 torch.Size([90, 16, 102]) torch.Size([16])\n",
      "180 torch.Size([90, 16, 102]) torch.Size([16])\n",
      "181 torch.Size([90, 16, 102]) torch.Size([16])\n",
      "182 torch.Size([90, 16, 102]) torch.Size([16])\n",
      "183 torch.Size([90, 16, 102]) torch.Size([16])\n",
      "184 torch.Size([90, 16, 102]) torch.Size([16])\n",
      "185 torch.Size([90, 16, 102]) torch.Size([16])\n",
      "186 torch.Size([90, 16, 102]) torch.Size([16])\n",
      "187 torch.Size([90, 16, 102]) torch.Size([16])\n",
      "188 torch.Size([90, 16, 102]) torch.Size([16])\n",
      "189 torch.Size([90, 16, 102]) torch.Size([16])\n",
      "190 torch.Size([90, 16, 102]) torch.Size([16])\n",
      "191 torch.Size([90, 16, 102]) torch.Size([16])\n",
      "192 torch.Size([90, 16, 102]) torch.Size([16])\n",
      "193 torch.Size([90, 16, 102]) torch.Size([16])\n",
      "194 torch.Size([90, 16, 102]) torch.Size([16])\n",
      "195 torch.Size([90, 16, 102]) torch.Size([16])\n",
      "196 torch.Size([90, 16, 102]) torch.Size([16])\n",
      "197 torch.Size([90, 16, 102]) torch.Size([16])\n",
      "198 torch.Size([90, 16, 102]) torch.Size([16])\n",
      "199 torch.Size([90, 16, 102]) torch.Size([16])\n",
      "200 torch.Size([90, 16, 102]) torch.Size([16])\n",
      "201 torch.Size([90, 16, 102]) torch.Size([16])\n",
      "202 torch.Size([90, 16, 102]) torch.Size([16])\n",
      "203 torch.Size([90, 16, 102]) torch.Size([16])\n",
      "204 torch.Size([90, 16, 102]) torch.Size([16])\n",
      "205 torch.Size([90, 16, 102]) torch.Size([16])\n",
      "206 torch.Size([90, 16, 102]) torch.Size([16])\n",
      "207 torch.Size([90, 16, 102]) torch.Size([16])\n",
      "208 torch.Size([90, 16, 102]) torch.Size([16])\n",
      "209 torch.Size([90, 16, 102]) torch.Size([16])\n",
      "210 torch.Size([90, 16, 102]) torch.Size([16])\n",
      "211 torch.Size([90, 16, 102]) torch.Size([16])\n",
      "212 torch.Size([90, 16, 102]) torch.Size([16])\n",
      "213 torch.Size([90, 16, 102]) torch.Size([16])\n",
      "214 torch.Size([90, 16, 102]) torch.Size([16])\n",
      "215 torch.Size([90, 16, 102]) torch.Size([16])\n",
      "216 torch.Size([90, 16, 102]) torch.Size([16])\n",
      "217 torch.Size([90, 16, 102]) torch.Size([16])\n",
      "218 torch.Size([90, 16, 102]) torch.Size([16])\n",
      "219 torch.Size([90, 16, 102]) torch.Size([16])\n",
      "220 torch.Size([90, 16, 102]) torch.Size([16])\n",
      "221 torch.Size([90, 16, 102]) torch.Size([16])\n",
      "222 torch.Size([90, 16, 102]) torch.Size([16])\n",
      "223 torch.Size([90, 16, 102]) torch.Size([16])\n",
      "224 torch.Size([90, 16, 102]) torch.Size([16])\n",
      "225 torch.Size([90, 16, 102]) torch.Size([16])\n",
      "226 torch.Size([90, 16, 102]) torch.Size([16])\n",
      "227 torch.Size([90, 16, 102]) torch.Size([16])\n",
      "228 torch.Size([90, 16, 102]) torch.Size([16])\n",
      "229 torch.Size([90, 16, 102]) torch.Size([16])\n",
      "230 torch.Size([90, 16, 102]) torch.Size([16])\n",
      "231 torch.Size([90, 16, 102]) torch.Size([16])\n",
      "232 torch.Size([90, 16, 102]) torch.Size([16])\n",
      "233 torch.Size([90, 16, 102]) torch.Size([16])\n",
      "234 torch.Size([90, 16, 102]) torch.Size([16])\n",
      "235 torch.Size([90, 16, 102]) torch.Size([16])\n",
      "236 torch.Size([90, 16, 102]) torch.Size([16])\n",
      "237 torch.Size([90, 16, 102]) torch.Size([16])\n",
      "238 torch.Size([90, 16, 102]) torch.Size([16])\n",
      "239 torch.Size([90, 16, 102]) torch.Size([16])\n",
      "240 torch.Size([90, 16, 102]) torch.Size([16])\n",
      "241 torch.Size([90, 16, 102]) torch.Size([16])\n",
      "242 torch.Size([90, 16, 102]) torch.Size([16])\n",
      "243 torch.Size([90, 16, 102]) torch.Size([16])\n",
      "244 torch.Size([90, 16, 102]) torch.Size([16])\n",
      "245 torch.Size([90, 16, 102]) torch.Size([16])\n",
      "246 torch.Size([90, 16, 102]) torch.Size([16])\n",
      "247 torch.Size([90, 16, 102]) torch.Size([16])\n",
      "248 torch.Size([90, 16, 102]) torch.Size([16])\n",
      "249 torch.Size([90, 16, 102]) torch.Size([16])\n",
      "250 torch.Size([90, 16, 102]) torch.Size([16])\n",
      "251 torch.Size([90, 16, 102]) torch.Size([16])\n",
      "252 torch.Size([90, 16, 102]) torch.Size([16])\n",
      "253 torch.Size([90, 16, 102]) torch.Size([16])\n",
      "254 torch.Size([90, 16, 102]) torch.Size([16])\n",
      "255 torch.Size([90, 16, 102]) torch.Size([16])\n",
      "256 torch.Size([90, 16, 102]) torch.Size([16])\n",
      "257 torch.Size([90, 16, 102]) torch.Size([16])\n",
      "258 torch.Size([90, 16, 102]) torch.Size([16])\n",
      "259 torch.Size([90, 16, 102]) torch.Size([16])\n",
      "260 torch.Size([90, 16, 102]) torch.Size([16])\n",
      "261 torch.Size([90, 16, 102]) torch.Size([16])\n",
      "262 torch.Size([90, 16, 102]) torch.Size([16])\n",
      "263 torch.Size([90, 16, 102]) torch.Size([16])\n",
      "264 torch.Size([90, 16, 102]) torch.Size([16])\n",
      "265 torch.Size([90, 16, 102]) torch.Size([16])\n",
      "266 torch.Size([90, 16, 102]) torch.Size([16])\n",
      "267 torch.Size([90, 16, 102]) torch.Size([16])\n",
      "268 torch.Size([90, 16, 102]) torch.Size([16])\n",
      "269 torch.Size([90, 16, 102]) torch.Size([16])\n",
      "270 torch.Size([90, 16, 102]) torch.Size([16])\n",
      "271 torch.Size([90, 16, 102]) torch.Size([16])\n",
      "272 torch.Size([90, 16, 102]) torch.Size([16])\n",
      "273 torch.Size([90, 16, 102]) torch.Size([16])\n",
      "274 torch.Size([90, 16, 102]) torch.Size([16])\n"
     ]
    }
   ],
   "source": [
    "for idx_batch, (x, y) in enumerate(dataloader_train):\n",
    "    print(idx_batch, x.transpose(1, 0).shape, y.shape)"
   ]
  },
  {
   "cell_type": "code",
   "execution_count": null,
   "metadata": {},
   "outputs": [],
   "source": []
  }
 ],
 "metadata": {
  "kernelspec": {
   "display_name": "Python 3",
   "language": "python",
   "name": "python3"
  },
  "language_info": {
   "codemirror_mode": {
    "name": "ipython",
    "version": 3
   },
   "file_extension": ".py",
   "mimetype": "text/x-python",
   "name": "python",
   "nbconvert_exporter": "python",
   "pygments_lexer": "ipython3",
   "version": "3.7.7"
  }
 },
 "nbformat": 4,
 "nbformat_minor": 4
}
