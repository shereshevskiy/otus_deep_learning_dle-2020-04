{
 "cells": [
  {
   "cell_type": "markdown",
   "metadata": {
    "colab_type": "text",
    "id": "BfvM5roCtvfM"
   },
   "source": [
    "# <center>Домашняя работа по лекции 16\n",
    "### Задание:\n",
    "Опираясь на табличное обучение с подкреплением реализовать и обучить нейронную Q-функцию."
   ]
  },
  {
   "cell_type": "code",
   "execution_count": 1,
   "metadata": {
    "colab": {},
    "colab_type": "code",
    "executionInfo": {
     "elapsed": 3812,
     "status": "ok",
     "timestamp": 1594903231273,
     "user": {
      "displayName": "Дмитрий Шерешевский",
      "photoUrl": "https://lh3.googleusercontent.com/a-/AOh14Giembzl_qmFKR42DoX0fGLebX_kyUtm4Zs6FyKw=s64",
      "userId": "15007188307318442356"
     },
     "user_tz": -180
    },
    "id": "SHRQiCSPtvfN"
   },
   "outputs": [],
   "source": [
    "import torch\n",
    "import torch.nn as nn\n",
    "import torch.nn.functional as F\n",
    "import copy\n",
    "import matplotlib.pyplot as plt"
   ]
  },
  {
   "cell_type": "code",
   "execution_count": 2,
   "metadata": {
    "colab": {
     "base_uri": "https://localhost:8080/",
     "height": 34
    },
    "colab_type": "code",
    "executionInfo": {
     "elapsed": 3784,
     "status": "ok",
     "timestamp": 1594903231276,
     "user": {
      "displayName": "Дмитрий Шерешевский",
      "photoUrl": "https://lh3.googleusercontent.com/a-/AOh14Giembzl_qmFKR42DoX0fGLebX_kyUtm4Zs6FyKw=s64",
      "userId": "15007188307318442356"
     },
     "user_tz": -180
    },
    "id": "NhMNuGLqt-mn",
    "outputId": "a9b8d300-2095-4e6b-93e6-f02d9bec2f95"
   },
   "outputs": [
    {
     "data": {
      "text/plain": [
       "device(type='cpu')"
      ]
     },
     "execution_count": 2,
     "metadata": {},
     "output_type": "execute_result"
    }
   ],
   "source": [
    "device = torch.device(\"cuda:0\" if torch.cuda.is_available() else \"cpu\")\n",
    "device"
   ]
  },
  {
   "cell_type": "code",
   "execution_count": 3,
   "metadata": {
    "colab": {},
    "colab_type": "code",
    "executionInfo": {
     "elapsed": 3776,
     "status": "ok",
     "timestamp": 1594903231277,
     "user": {
      "displayName": "Дмитрий Шерешевский",
      "photoUrl": "https://lh3.googleusercontent.com/a-/AOh14Giembzl_qmFKR42DoX0fGLebX_kyUtm4Zs6FyKw=s64",
      "userId": "15007188307318442356"
     },
     "user_tz": -180
    },
    "id": "Hzoz7xfStvfQ"
   },
   "outputs": [],
   "source": [
    "# Copied from https://github.com/neilslater/game_playing_scripts\n",
    "\n",
    "'''\n",
    "   Copyright 2017 Neil Slater\n",
    "\n",
    "   Licensed under the Apache License, Version 2.0 (the \"License\");\n",
    "   you may not use this file except in compliance with the License.\n",
    "   You may obtain a copy of the License at\n",
    "\n",
    "       http://www.apache.org/licenses/LICENSE-2.0\n",
    "\n",
    "   Unless required by applicable law or agreed to in writing, software\n",
    "   distributed under the License is distributed on an \"AS IS\" BASIS,\n",
    "   WITHOUT WARRANTIES OR CONDITIONS OF ANY KIND, either express or implied.\n",
    "   See the License for the specific language governing permissions and\n",
    "   limitations under the License.\n",
    "'''\n",
    "\n",
    "import numpy as np\n",
    "import random\n",
    "\n",
    "class TicTacToeGame():\n",
    "    def __init__(self):\n",
    "        self.state = '         '\n",
    "        self.player = 'X'\n",
    "        self.winner = None\n",
    "\n",
    "    def allowed_moves(self):\n",
    "        states = []\n",
    "        for i in range(len(self.state)):\n",
    "            if self.state[i] == ' ':\n",
    "                states.append(self.state[:i] + self.player + self.state[i+1:])\n",
    "        return states\n",
    "    \n",
    "    def allowed_moves_numbers(self):\n",
    "        numbers = []\n",
    "        for i in range(len(self.state)):\n",
    "            if self.state[i] == ' ':\n",
    "                numbers.append(i)\n",
    "        return numbers\n",
    "\n",
    "    def make_move(self, next_state):  # или ход привел к чьей-то победе, или переход хода\n",
    "        if self.winner:\n",
    "            raise(Exception(\"Game already completed, cannot make another move!\"))\n",
    "        if not self.__valid_move(next_state):\n",
    "            raise(Exception(\"Cannot make move {} to {} for player {}\".format(\n",
    "                    self.state, next_state, self.player)))\n",
    "\n",
    "        self.state = next_state\n",
    "        self.winner = self.predict_winner(self.state)\n",
    "        if self.winner:\n",
    "            self.player = None\n",
    "        elif self.player == 'X':\n",
    "            self.player = 'O'\n",
    "        else:\n",
    "            self.player = 'X'\n",
    "\n",
    "    def playable(self):\n",
    "        return ( (not self.winner) and any(self.allowed_moves()) )  # победителя еще нет и есть доступные ходы\n",
    "\n",
    "    def predict_winner(self, state):\n",
    "        lines = [(0,1,2), (3,4,5), (6,7,8), (0,3,6), (1,4,7), (2,5,8), (0,4,8), (2,4,6)]\n",
    "        winner = None\n",
    "        for line in lines:\n",
    "            line_state = state[line[0]] + state[line[1]] + state[line[2]]\n",
    "            if line_state == 'XXX':\n",
    "                winner = 'X'\n",
    "            elif line_state == 'OOO':\n",
    "                winner = 'O'\n",
    "        return winner\n",
    "\n",
    "    def __valid_move(self, next_state):\n",
    "#         allowed_moves = self.allowed_moves()\n",
    "        allowed_moves = self.allowed_moves()\n",
    "        if any(state == next_state for state in allowed_moves):\n",
    "            return True\n",
    "        return False\n",
    "\n",
    "    def print_board(self):\n",
    "        s = self.state\n",
    "        print('     {} | {} | {} '.format(s[0],s[1],s[2]))\n",
    "        print('    -----------')\n",
    "        print('     {} | {} | {} '.format(s[3],s[4],s[5]))\n",
    "        print('    -----------')\n",
    "        print('     {} | {} | {} '.format(s[6],s[7],s[8]))\n"
   ]
  },
  {
   "cell_type": "code",
   "execution_count": 4,
   "metadata": {},
   "outputs": [],
   "source": [
    "class MyDebugException(Exception):\n",
    "        \"\"\"Пользовательское исключение.\"\"\""
   ]
  },
  {
   "cell_type": "code",
   "execution_count": 30,
   "metadata": {
    "colab": {},
    "colab_type": "code",
    "executionInfo": {
     "elapsed": 960,
     "status": "ok",
     "timestamp": 1594903708178,
     "user": {
      "displayName": "Дмитрий Шерешевский",
      "photoUrl": "https://lh3.googleusercontent.com/a-/AOh14Giembzl_qmFKR42DoX0fGLebX_kyUtm4Zs6FyKw=s64",
      "userId": "15007188307318442356"
     },
     "user_tz": -180
    },
    "id": "bXX62QmYtvfV"
   },
   "outputs": [],
   "source": [
    "class Agent():\n",
    "    def __init__(self, game_class, Model, Criterion, epsilon=0.1, \n",
    "                 lr=0.001, gamma=1.0, q_delta=0.02, player_mark='X', second_player_mark='O', epoch_size=1000, batch_size=100):\n",
    "        model = Model().to(device)\n",
    "#         self.Q = {'X': Model().to(device), 'O': Model().to(device)}\n",
    "        self.Q = {'X': model, 'O': model}\n",
    "        self.NewGame = game_class\n",
    "        self.epsilon = epsilon\n",
    "        self.criterion = {'X': Criterion(), 'O': Criterion()}\n",
    "        self.optimizer = {'X': torch.optim.Adadelta(self.Q['X'].parameters()), 'O': torch.optim.Adadelta(self.Q['O'].parameters())}\n",
    "        self.player_mark = player_mark\n",
    "        self.second_player_mark = second_player_mark\n",
    "        self.gamma = gamma\n",
    "        self.q_delta = q_delta\n",
    "        self.losses = {'X': [], 'O': []}\n",
    "        self.total_episode = 0\n",
    "        self.history = None\n",
    "        self.batches = None\n",
    "        self.epoch_size = epoch_size\n",
    "        self.batch_size = batch_size\n",
    "        self.player = None\n",
    "        \n",
    "        self.history_reset()\n",
    "\n",
    "    \n",
    "    def history_reset(self):\n",
    "        self.history = {'state': [], 'move': [], 'reward': []}\n",
    "    \n",
    "    @staticmethod\n",
    "    def stateact_totensor(state):\n",
    "        sign_to_value = {\"X\": 1.0, \"O\": -1.0, \" \": 0.0}\n",
    "        tensor = torch.FloatTensor([sign_to_value[item] for item in state]).requires_grad_(True).view(1, len(state)).to(device)\n",
    "        return tensor\n",
    "\n",
    "    def Q_func(self, game_state, Q_freezed=None):\n",
    "        Q = Q_freezed or self.Q[self.player]\n",
    "        if game_state is not None:\n",
    "            Q_func = Q(self.stateact_totensor(game_state))\n",
    "        else:\n",
    "            Q_func = torch.FloatTensor([[0.] * 9]).requires_grad_(True).view(1, -1).to(device)\n",
    "        return Q_func[0]\n",
    "\n",
    "    def learn_game(self, num_episodes=1000, reset=False):\n",
    "        if reset:\n",
    "            self.Q = {'X': Model().to(device), 'O': Model().to(device)}\n",
    "            self.total_episode = 0\n",
    "            self.history_reset()\n",
    "        for episode in range(num_episodes):\n",
    "            self.learn_from_episode()\n",
    "            self.total_episode += 1\n",
    "\n",
    "    def learn_from_episode(self):\n",
    "        game = self.NewGame()\n",
    "        _, move = self.learn_select_move(game.state, game)  # выбираем начальный ход (учитываем заданное правило)\n",
    "        while move is not None:\n",
    "            move = self.learn_from_move(game, move)\n",
    "        if self.total_episode % self.epoch_size == 0 and self.total_episode > 0:\n",
    "#             raise(MyDebugException)\n",
    "            self.process_learning()\n",
    "            self.history_reset()\n",
    "    \n",
    "    def _batching(self):\n",
    "        self.batches = {'X': [], 'O': []}\n",
    "        batch = {'X': [], 'O': []}\n",
    "        loc_count = 0\n",
    "        for i in range(len(self.history['move']) - 2):\n",
    "            state = self.history['state'][i]\n",
    "            move = self.history['move'][i]\n",
    "            r = self.history['reward'][i]\n",
    "            next_state = None\n",
    "            if self.history['state'][i + 2].count('X') not in [0, 1] or self.history['state'][i + 2].count('O') == 1:\n",
    "                next_state = self.history['state'][i + 2]\n",
    "            if state == ' ' * 9:\n",
    "                loc_count = 0\n",
    "            if loc_count % 2 == 0:\n",
    "                batch['X'].append([state, move, r, next_state])\n",
    "                loc_count += 1\n",
    "            else:\n",
    "                batch['O'].append([state, move, r, next_state])\n",
    "                loc_count += 1\n",
    "            if (i + 1) % self.batch_size == 0:\n",
    "                self.batches['X'].append(batch['X'])\n",
    "                self.batches['O'].append(batch['O'])\n",
    "                batch = {'X': [], 'O': []}\n",
    "        return self.batches\n",
    "            \n",
    "    def process_learning(self):\n",
    "        \"\"\"update policy table based on latest game\"\"\"\n",
    "        self._batching()\n",
    "#         raise(MyDebugException)\n",
    "        for player in self.batches:\n",
    "            self.player = player\n",
    "            Q_freezed = copy.deepcopy(self.Q[player]).requires_grad_(False)\n",
    "            for batch in self.batches[player]:\n",
    "                loss = 0\n",
    "                for state, move, r, next_state in batch:\n",
    "                    current_Q = self.Q_func(state)\n",
    "#                     with torch.no_grad():\n",
    "                    next_Q = self.Q_func(next_state, Q_freezed)\n",
    "                    r_tensor = torch.zeros_like(next_Q)\n",
    "                    r_tensor[move] = r\n",
    "                    td_target = r_tensor + self.gamma * next_Q\n",
    "    #                 self.debugvalues = [current_Q, next_Q, r]\n",
    "    #                 raise(MyDebugException)\n",
    "                    loss += self.criterion[player](current_Q, td_target)\n",
    "    #                 print(loss)\n",
    "    #                 print(((current_Q - td_target)**2).sum())\n",
    "    #                 raise(MyDebugException)\n",
    "\n",
    "                loss /= len(batch)\n",
    "                # обучаем сеть\n",
    "                self.Q[player].zero_grad()\n",
    "                self.losses[player].append(loss.data.item())\n",
    "                loss.backward()\n",
    "                # делаем шаг в сторону улучшения модели\n",
    "                self.optimizer[player].step()\n",
    "    \n",
    "    @staticmethod\n",
    "    def get_move_str(move, game):\n",
    "        move_str = list(game.state)\n",
    "        move_str[move] = game.player\n",
    "        move_str = ''.join(move_str)\n",
    "        return move_str\n",
    "    \n",
    "    def learn_from_move(self, game, move):\n",
    "        self.history['state'].append(game.state)\n",
    "        self.history['move'].append(move)\n",
    "        \n",
    "        move_str = self.get_move_str(move, game)\n",
    "        game.make_move(move_str)  # проверяет, есть ли победитель в game.winner, и если нет - переход хода\n",
    "        r = self.__reward(game)  # вычисляем вознаграждение за ход move\n",
    "        selected_next_move = None\n",
    "        if game.playable():  # победителя еще нет и есть доступные ходы\n",
    "            best_next_move, selected_next_move = self.learn_select_move(move_str, game)  \n",
    "            \n",
    "#         self.history['states'].append(move)\n",
    "        self.history['reward'].append(r) \n",
    "#         self.history['next_state'].append(game.state)\n",
    "#         self.history['next_move'].append(selected_next_move) \n",
    "\n",
    "        return selected_next_move\n",
    "\n",
    "    def learn_select_move(self, current_state, game):\n",
    "        allowed_move_Q_func = self.__Q_func(current_state, game.allowed_moves_numbers())  # словарь состояние-значение\n",
    "        if game.player == self.player_mark:\n",
    "            self.player = self.player_mark\n",
    "            best_move = self.__argmax_Q(allowed_move_Q_func)\n",
    "        else:\n",
    "            self.player = self.second_player_mark\n",
    "            best_move = self.__argmin_Q(allowed_move_Q_func)\n",
    "\n",
    "        selected_move = best_move\n",
    "        if random.random() < self.epsilon:   # добавляем случайный ход (здесь - в 10%, согласно epsilon)\n",
    "            selected_move = self.__random_Q(allowed_move_Q_func)\n",
    "\n",
    "        return (best_move, selected_move)\n",
    "\n",
    "    def play_select_move(self, move, game):\n",
    "        if game.player == self.player_mark:\n",
    "            self.player = self.player_mark\n",
    "            allowed_state_values = self.__Q_func(game.state, game.allowed_moves_numbers())  # словарь с доступными ходами и их values\n",
    "            return self.__argmax_Q(allowed_state_values)  # выбираем наулучших ход для player_mark\n",
    "        else:\n",
    "            # ходит \"не player_mark\": выбираем наулучших ход для \"не player_mark\" (== наихудший для player_mark)\n",
    "            self.player = self.second_player_mark\n",
    "            allowed_state_values = self.__Q_func(game.state, game.allowed_moves_numbers())  # словарь с доступными ходами и их values\n",
    "            return self.__argmin_Q(allowed_state_values)  \n",
    "    \n",
    "    def demo_game(self, verbose=False):\n",
    "        game = self.NewGame()\n",
    "        t = 0\n",
    "        state = game.state\n",
    "        while game.playable():  # пока нет победителя и есть доступные ходы\n",
    "            if verbose:\n",
    "                print(\" \\nTurn {}\\n\".format(t))\n",
    "                game.print_board()\n",
    "            move = self.play_select_move(state, game)\n",
    "            move_str = self.get_move_str(move, game)\n",
    "            game.make_move(move_str)  # или ход привел к чьей-то победе, или переход хода\n",
    "            t += 1\n",
    "        if verbose:\n",
    "            print(\" \\nTurn {}\\n\".format(t))\n",
    "            game.print_board()\n",
    "        if game.winner:\n",
    "            if verbose:\n",
    "                print(\"\\n{} is the winner!\".format(game.winner))\n",
    "            return game.winner\n",
    "        else:\n",
    "            if verbose:\n",
    "                print(\"\\nIt's a draw!\")\n",
    "            return '-'\n",
    "\n",
    "    def interactive_game(self, agent_player='X', human_player='O'):\n",
    "        game = self.NewGame()\n",
    "        t = 0\n",
    "        move = game.state\n",
    "        while game.playable():\n",
    "            print(\" \\nTurn {}\\n\".format(t))\n",
    "            game.print_board()\n",
    "            if game.player == agent_player:\n",
    "                self.player = agent_player\n",
    "                move = self.play_select_move(move, game)  # делаем ход (выбранное новое состояние)\n",
    "                move_str = self.get_move_str(move, game)\n",
    "                game.make_move(move_str)\n",
    "            else:\n",
    "                self.player = human_player\n",
    "                move = self.__request_human_move(game)\n",
    "                move_str = self.get_move_str(move, game)\n",
    "                game.make_move(move_str)\n",
    "            t += 1\n",
    "\n",
    "        print(\" \\nTurn {}\\n\".format(t))\n",
    "        game.print_board()\n",
    "\n",
    "        if game.winner:\n",
    "            print(\"\\n{} is the winner!\".format(game.winner))\n",
    "            return game.winner\n",
    "        print(\"\\nIt's a draw!\")\n",
    "        return '-'\n",
    "\n",
    "    def __Q_func(self, current_state, game_moves):\n",
    "        Q = self.Q_func(current_state)\n",
    "#         print(\"Q\", Q)\n",
    "#         print(\"game_moves\", game_moves)\n",
    "#         print(game_moves[0], Q[game_moves[0]])\n",
    "#         raise(MyDebugException)\n",
    "        return dict((move, Q[move]) for move in game_moves)\n",
    "\n",
    "    def __argmax_Q(self, allowed_move_Q_func):\n",
    "        max_Q = max(allowed_move_Q_func.values())\n",
    "#         print(\"allowed_move_Q_func.values()\", allowed_move_Q_func.values(), \"max_Q\", max_Q)\n",
    "#         raise(MyDebugException)\n",
    "        chosen_state = random.choice([move for move, q in allowed_move_Q_func.items() if q >= max_Q - self.q_delta])\n",
    "        return chosen_state\n",
    "\n",
    "    def __argmin_Q(self, allowed_move_Q_func):\n",
    "        min_Q = min(allowed_move_Q_func.values())\n",
    "        chosen_state = random.choice([move for move, q in allowed_move_Q_func.items() if q <= min_Q + self.q_delta])\n",
    "        return chosen_state\n",
    "\n",
    "    def __random_Q(self, allowed_move_Q_func):\n",
    "        return random.choice(list(allowed_move_Q_func.keys()))\n",
    "\n",
    "    def __reward(self, game):\n",
    "        if game.winner == self.player_mark:\n",
    "            return 1.0\n",
    "        elif game.winner:\n",
    "            return 0. # -1.0\n",
    "        else:\n",
    "            return -1. # 0.0  # TODO !!!!!!!!!!!!!!!!!!!!!!!!!!!!!!!!!!!!!!!!!!\n",
    "\n",
    "    def __request_human_move(self, game):\n",
    "#         allowed_moves = [i+1 for i in range(9) if game.state[i] == ' ']\n",
    "        allowed_moves = [i+1 for i in range(9) if game.state[i] == ' ']\n",
    "        human_move = None\n",
    "        while human_move is None:\n",
    "            idx = int(input('Choose move for {}, from {} : '.format(game.player, allowed_moves)))\n",
    "            if any([i==idx for i in allowed_moves]):\n",
    "#                 human_move = game.state[:idx-1] + game.player + game.state[idx:]\n",
    "                human_move = idx - 1\n",
    "        return human_move\n",
    "        "
   ]
  },
  {
   "cell_type": "code",
   "execution_count": 31,
   "metadata": {
    "colab": {},
    "colab_type": "code",
    "executionInfo": {
     "elapsed": 701,
     "status": "ok",
     "timestamp": 1594903710778,
     "user": {
      "displayName": "Дмитрий Шерешевский",
      "photoUrl": "https://lh3.googleusercontent.com/a-/AOh14Giembzl_qmFKR42DoX0fGLebX_kyUtm4Zs6FyKw=s64",
      "userId": "15007188307318442356"
     },
     "user_tz": -180
    },
    "id": "GWW2ahh5tvfY"
   },
   "outputs": [],
   "source": [
    "class QModel(nn.Module):\n",
    "    \n",
    "    def __init__(self):\n",
    "        super().__init__()\n",
    "        self.fc1 = nn.Linear(9, 50) \n",
    "        self.fc2 = nn.Linear(50, 50)\n",
    "        self.fc3 = nn.Linear(50, 50)\n",
    "        self.fc4 = nn.Linear(50, 50)\n",
    "        self.fc5 = nn.Linear(50, 9)\n",
    "        \n",
    "    def forward(self, x):\n",
    "        x = F.relu(self.fc1(x))\n",
    "        x = F.relu(self.fc2(x))\n",
    "        x = F.relu(self.fc3(x))\n",
    "        x = F.relu(self.fc4(x))\n",
    "        x = self.fc5(x)\n",
    "        x = torch.tanh(x)\n",
    "        return x"
   ]
  },
  {
   "cell_type": "code",
   "execution_count": 32,
   "metadata": {
    "colab": {},
    "colab_type": "code",
    "executionInfo": {
     "elapsed": 688,
     "status": "ok",
     "timestamp": 1594903713265,
     "user": {
      "displayName": "Дмитрий Шерешевский",
      "photoUrl": "https://lh3.googleusercontent.com/a-/AOh14Giembzl_qmFKR42DoX0fGLebX_kyUtm4Zs6FyKw=s64",
      "userId": "15007188307318442356"
     },
     "user_tz": -180
    },
    "id": "2peOBTLLtvfa"
   },
   "outputs": [],
   "source": [
    "def demo_game_stats(agent):\n",
    "    games_num = 1000\n",
    "    results = [agent.demo_game() for i in range(games_num)]\n",
    "    game_stats = {k: round(results.count(k) / games_num * 100, 1) for k in ['X', 'O', '-']}\n",
    "    print(\"    percentage results: {}\".format(game_stats))"
   ]
  },
  {
   "cell_type": "code",
   "execution_count": 33,
   "metadata": {},
   "outputs": [
    {
     "name": "stdout",
     "output_type": "stream",
     "text": [
      "Before learning:\n",
      "    percentage results: {'X': 70.1, 'O': 29.9, '-': 0.0}\n",
      "After 5000 learning games:\n",
      "    percentage results: {'X': 98.2, 'O': 1.8, '-': 0.0}\n",
      "Wall time: 1min 33s\n"
     ]
    }
   ],
   "source": [
    "%%time\n",
    "\n",
    "agent = Agent(TicTacToeGame, Model=QModel, Criterion=nn.MSELoss, epsilon=0.1, q_delta=0.03, gamma=1.0)\n",
    "total_episodes = 0\n",
    "print(\"Before learning:\")\n",
    "demo_game_stats(agent)\n",
    "\n",
    "num_episodes = 5_000\n",
    "total_episodes += num_episodes\n",
    "agent.learn_game(num_episodes)\n",
    "print(f\"After {total_episodes} learning games:\")\n",
    "demo_game_stats(agent)"
   ]
  },
  {
   "cell_type": "code",
   "execution_count": 38,
   "metadata": {},
   "outputs": [
    {
     "name": "stdout",
     "output_type": "stream",
     "text": [
      "After 10000 learning games:\n",
      "    percentage results: {'X': 100.0, 'O': 0.0, '-': 0.0}\n",
      "Wall time: 1min 27s\n"
     ]
    }
   ],
   "source": [
    "%%time\n",
    "num_episodes = 5_000\n",
    "total_episodes += num_episodes\n",
    "agent.learn_game(num_episodes)\n",
    "print(f\"After {total_episodes} learning games:\")\n",
    "demo_game_stats(agent)"
   ]
  },
  {
   "cell_type": "code",
   "execution_count": 16,
   "metadata": {},
   "outputs": [
    {
     "name": "stdout",
     "output_type": "stream",
     "text": [
      "After 20000 learning games:\n",
      "    percentage results: {'X': 90.6, 'O': 2.5, '-': 6.9}\n",
      "Wall time: 2min 42s\n"
     ]
    }
   ],
   "source": [
    "%%time\n",
    "num_episodes = 10_000\n",
    "total_episodes += num_episodes\n",
    "agent.learn_game(num_episodes)\n",
    "print(f\"After {total_episodes} learning games:\")\n",
    "demo_game_stats(agent)"
   ]
  },
  {
   "cell_type": "code",
   "execution_count": 54,
   "metadata": {},
   "outputs": [
    {
     "name": "stdout",
     "output_type": "stream",
     "text": [
      "After 30000 learning games:\n",
      "    percentage results: {'X': 83.0, 'O': 12.7, '-': 4.3}\n",
      "Wall time: 1min 31s\n"
     ]
    }
   ],
   "source": [
    "%%time\n",
    "num_episodes = 10_000\n",
    "total_episodes += num_episodes\n",
    "agent.learn_game(num_episodes)\n",
    "print(f\"After {total_episodes} learning games:\")\n",
    "demo_game_stats(agent)"
   ]
  },
  {
   "cell_type": "code",
   "execution_count": 63,
   "metadata": {},
   "outputs": [
    {
     "name": "stdout",
     "output_type": "stream",
     "text": [
      "After 40000 learning games:\n",
      "    percentage results: {'X': 79.9, 'O': 17.3, '-': 2.8}\n",
      "Wall time: 1min 32s\n"
     ]
    }
   ],
   "source": [
    "%%time\n",
    "num_episodes = 10_000\n",
    "total_episodes += num_episodes\n",
    "agent.learn_game(num_episodes)\n",
    "print(f\"After {total_episodes} learning games:\")\n",
    "demo_game_stats(agent)"
   ]
  },
  {
   "cell_type": "code",
   "execution_count": 68,
   "metadata": {},
   "outputs": [
    {
     "name": "stdout",
     "output_type": "stream",
     "text": [
      "After 50000 learning games:\n",
      "    percentage results: {'X': 77.4, 'O': 20.6, '-': 2.0}\n",
      "Wall time: 1min 35s\n"
     ]
    }
   ],
   "source": [
    "%%time\n",
    "num_episodes = 10_000\n",
    "total_episodes += num_episodes\n",
    "agent.learn_game(num_episodes)\n",
    "print(f\"After {total_episodes} learning games:\")\n",
    "demo_game_stats(agent)"
   ]
  },
  {
   "cell_type": "code",
   "execution_count": 74,
   "metadata": {},
   "outputs": [
    {
     "name": "stdout",
     "output_type": "stream",
     "text": [
      "After 60000 learning games:\n",
      "    percentage results: {'X': 83.3, 'O': 15.1, '-': 1.6}\n",
      "Wall time: 1min 36s\n"
     ]
    }
   ],
   "source": [
    "%%time\n",
    "num_episodes = 10_000\n",
    "total_episodes += num_episodes\n",
    "agent.learn_game(num_episodes)\n",
    "print(f\"After {total_episodes} learning games:\")\n",
    "demo_game_stats(agent)"
   ]
  },
  {
   "cell_type": "code",
   "execution_count": 81,
   "metadata": {},
   "outputs": [
    {
     "name": "stdout",
     "output_type": "stream",
     "text": [
      "After 70000 learning games:\n",
      "    percentage results: {'X': 82.2, 'O': 15.4, '-': 2.4}\n",
      "Wall time: 1min 34s\n"
     ]
    }
   ],
   "source": [
    "%%time\n",
    "num_episodes = 10_000\n",
    "total_episodes += num_episodes\n",
    "agent.learn_game(num_episodes)\n",
    "print(f\"After {total_episodes} learning games:\")\n",
    "demo_game_stats(agent)"
   ]
  },
  {
   "cell_type": "markdown",
   "metadata": {},
   "source": [
    "## Loss function"
   ]
  },
  {
   "cell_type": "code",
   "execution_count": 39,
   "metadata": {},
   "outputs": [
    {
     "data": {
      "image/png": "[encoded data removed]",
      "text/plain": [
       "<Figure size 432x288 with 1 Axes>"
      ]
     },
     "metadata": {
      "needs_background": "light"
     },
     "output_type": "display_data"
    }
   ],
   "source": [
    "player = 'X'\n",
    "plt.plot(agent.losses[player])\n",
    "plt.title(f\"loss for {player}\");"
   ]
  },
  {
   "cell_type": "code",
   "execution_count": 40,
   "metadata": {},
   "outputs": [
    {
     "data": {
      "image/png": "[encoded data removed]",
      "text/plain": [
       "<Figure size 432x288 with 1 Axes>"
      ]
     },
     "metadata": {
      "needs_background": "light"
     },
     "output_type": "display_data"
    }
   ],
   "source": [
    "player = 'O'\n",
    "plt.plot(agent.losses[player])\n",
    "plt.title(f\"loss for {player}\");"
   ]
  },
  {
   "cell_type": "code",
   "execution_count": 36,
   "metadata": {},
   "outputs": [],
   "source": [
    "# agent.batches['X'][0]"
   ]
  },
  {
   "cell_type": "markdown",
   "metadata": {},
   "source": [
    "## Посмотрим, как обучился первый ход для **X**"
   ]
  },
  {
   "cell_type": "code",
   "execution_count": 37,
   "metadata": {
    "colab": {
     "base_uri": "https://localhost:8080/",
     "height": 34
    },
    "colab_type": "code",
    "id": "OymZoZrZd8TB",
    "outputId": "3a65ee62-b5b0-4b35-f443-65b393e20e56"
   },
   "outputs": [
    {
     "data": {
      "image/png": "[encoded data removed]",
      "text/plain": [
       "<Figure size 432x288 with 1 Axes>"
      ]
     },
     "metadata": {
      "needs_background": "light"
     },
     "output_type": "display_data"
    }
   ],
   "source": [
    "init_state = ' ' * 9\n",
    "with torch.no_grad():\n",
    "    move_values = agent.Q_func(init_state)\n",
    "plt.plot(range(1, len(move_values)+1), move_values.data)\n",
    "plt.grid()"
   ]
  },
  {
   "cell_type": "markdown",
   "metadata": {},
   "source": [
    "**Резюме:** первый ход обучился **правильно** (по центру, см. 5 строку). Плюс у угловых ходов приоритет выше, что оптимальнее."
   ]
  },
  {
   "cell_type": "markdown",
   "metadata": {},
   "source": [
    "## Посмотрим, как обучился первый ход для **О** (при первом ходе Х по центру)"
   ]
  },
  {
   "cell_type": "code",
   "execution_count": 25,
   "metadata": {
    "colab": {
     "base_uri": "https://localhost:8080/",
     "height": 34
    },
    "colab_type": "code",
    "id": "OymZoZrZd8TB",
    "outputId": "3a65ee62-b5b0-4b35-f443-65b393e20e56"
   },
   "outputs": [
    {
     "name": "stdout",
     "output_type": "stream",
     "text": [
      "\"    X    \"\n"
     ]
    },
    {
     "data": {
      "image/png": "[encoded data removed]",
      "text/plain": [
       "<Figure size 432x288 with 1 Axes>"
      ]
     },
     "metadata": {
      "needs_background": "light"
     },
     "output_type": "display_data"
    }
   ],
   "source": [
    "state = ' ' * 4 + 'X' + ' ' * 4\n",
    "with torch.no_grad():\n",
    "    move_values = agent.Q_func(state)\n",
    "plt.plot(range(1, len(move_values)+1), move_values.data)\n",
    "plt.grid()\n",
    "print(f'\"{state}\"')"
   ]
  },
  {
   "cell_type": "markdown",
   "metadata": {},
   "source": [
    "**Резюме:** первый ход для **О** обучился **правильно** (в угол, см. строку 9). кроме того, все угловые ходы имеют более высокий приоритет (с учетом того, что для **О** мы вибираем по минимуму), что как раз оптимальнее."
   ]
  },
  {
   "cell_type": "markdown",
   "metadata": {},
   "source": [
    "## Посмотрим Value для некторых комбинаций и сравним с тем, что должно быть"
   ]
  },
  {
   "cell_type": "markdown",
   "metadata": {},
   "source": [
    "#### посмотрим батч, чтобы взять выигрышные, проигрышные и ничейные комбинации для проверок"
   ]
  },
  {
   "cell_type": "code",
   "execution_count": 72,
   "metadata": {},
   "outputs": [
    {
     "data": {
      "text/plain": [
       "0"
      ]
     },
     "execution_count": 72,
     "metadata": {},
     "output_type": "execute_result"
    }
   ],
   "source": [
    "'     '.count('X')"
   ]
  },
  {
   "cell_type": "code",
   "execution_count": 133,
   "metadata": {},
   "outputs": [
    {
     "data": {
      "text/plain": [
       "[['         ', 8, 0.0],\n",
       " ['      O X', 3, 0.0],\n",
       " ['   X  OOX', 2, 0.0],\n",
       " ['O XX  OOX', 4, 0.0],\n",
       " ['O XXXOOOX', 1, 0.0],\n",
       " ['         ', 8, 0.0],\n",
       " ['       OX', 6, 0.0],\n",
       " ['    O XOX', 2, 0.0],\n",
       " ['         ', 6, 0.0],\n",
       " ['    O X  ', 2, 0.0],\n",
       " ['  X O XO ', 0, 0.0],\n",
       " ['X X OOXO ', 3, 1.0],\n",
       " ['         ', 8, 0.0],\n",
       " ['     O  X', 2, 0.0],\n",
       " [' OX  O  X', 6, 0.0],\n",
       " [' OX OOX X', 0, 0.0],\n",
       " ['         ', 6, 0.0],\n",
       " [' O    X  ', 2, 0.0],\n",
       " [' OX   XO ', 0, 0.0],\n",
       " ['XOX  OXO ', 4, 1.0],\n",
       " ['         ', 3, 0.0],\n",
       " ['   X  O  ', 2, 0.0],\n",
       " ['O XX  O  ', 4, 0.0],\n",
       " ['O XXX OO ', 1, 0.0],\n",
       " ['OXXXXOOO ', 8, 0.0],\n",
       " ['         ', 8, 0.0],\n",
       " ['      O X', 4, 0.0],\n",
       " ['    X OOX', 2, 0.0],\n",
       " ['  XOX OOX', 1, 0.0],\n",
       " [' XXOXOOOX', 0, 1.0],\n",
       " ['         ', 1, 0.0],\n",
       " [' X O     ', 6, 0.0],\n",
       " [' X O  XO ', 2, 0.0],\n",
       " [' XXOO XO ', 5, 0.0],\n",
       " [' XXOOXXOO', 0, 1.0],\n",
       " ['         ', 8, 0.0],\n",
       " ['      O X', 3, 0.0],\n",
       " ['   X  OOX', 2, 0.0],\n",
       " ['  XXO OOX', 0, 0.0],\n",
       " ['X XXOOOOX', 1, 1.0],\n",
       " ['         ', 4, 0.0],\n",
       " ['    X O  ', 2, 0.0],\n",
       " ['  X X OO ', 3, 0.0],\n",
       " [' OXXX OO ', 0, 0.0],\n",
       " ['XOXXXOOO ', 8, 1.0],\n",
       " ['         ', 8, 0.0],\n",
       " ['      O X', 2, 0.0],\n",
       " ['  X   OOX', 0, 0.0],\n",
       " ['X X O OOX', 1, 1.0],\n",
       " ['         ', 8, 0.0],\n",
       " ['      O X', 2, 0.0],\n",
       " ['  X   OOX', 0, 0.0],\n",
       " ['X X  OOOX', 3, 0.0],\n",
       " ['X XXOOOOX', 1, 1.0],\n",
       " ['         ', 8, 0.0]]"
      ]
     },
     "execution_count": 133,
     "metadata": {},
     "output_type": "execute_result"
    }
   ],
   "source": [
    "agent.batches['X'][0]"
   ]
  },
  {
   "cell_type": "code",
   "execution_count": 26,
   "metadata": {},
   "outputs": [
    {
     "ename": "KeyError",
     "evalue": "1",
     "output_type": "error",
     "traceback": [
      "\u001b[1;31m---------------------------------------------------------------------------\u001b[0m",
      "\u001b[1;31mKeyError\u001b[0m                                  Traceback (most recent call last)",
      "\u001b[1;32m<ipython-input-26-a686a6273f34>\u001b[0m in \u001b[0;36m<module>\u001b[1;34m\u001b[0m\n\u001b[1;32m----> 1\u001b[1;33m \u001b[1;32mfor\u001b[0m \u001b[0mitem\u001b[0m \u001b[1;32min\u001b[0m \u001b[0magent\u001b[0m\u001b[1;33m.\u001b[0m\u001b[0mbatches\u001b[0m\u001b[1;33m[\u001b[0m\u001b[1;36m1\u001b[0m\u001b[1;33m]\u001b[0m\u001b[1;33m:\u001b[0m\u001b[1;33m\u001b[0m\u001b[1;33m\u001b[0m\u001b[0m\n\u001b[0m\u001b[0;32m      2\u001b[0m     \u001b[1;32mif\u001b[0m \u001b[0mitem\u001b[0m\u001b[1;33m[\u001b[0m\u001b[1;36m4\u001b[0m\u001b[1;33m]\u001b[0m \u001b[1;32mis\u001b[0m \u001b[1;32mNone\u001b[0m\u001b[1;33m:\u001b[0m\u001b[1;33m\u001b[0m\u001b[1;33m\u001b[0m\u001b[0m\n\u001b[0;32m      3\u001b[0m         \u001b[1;32mwith\u001b[0m \u001b[0mtorch\u001b[0m\u001b[1;33m.\u001b[0m\u001b[0mno_grad\u001b[0m\u001b[1;33m(\u001b[0m\u001b[1;33m)\u001b[0m\u001b[1;33m:\u001b[0m\u001b[1;33m\u001b[0m\u001b[1;33m\u001b[0m\u001b[0m\n\u001b[0;32m      4\u001b[0m             \u001b[0mprint\u001b[0m\u001b[1;33m(\u001b[0m\u001b[1;34m\"reward / calculated reward by Q_func:\\t\"\u001b[0m\u001b[1;33m,\u001b[0m \u001b[0mitem\u001b[0m\u001b[1;33m[\u001b[0m\u001b[1;36m2\u001b[0m\u001b[1;33m]\u001b[0m\u001b[1;33m,\u001b[0m \u001b[1;34m\"/\"\u001b[0m\u001b[1;33m,\u001b[0m \u001b[1;33m(\u001b[0m\u001b[0magent\u001b[0m\u001b[1;33m.\u001b[0m\u001b[0mQ_func\u001b[0m\u001b[1;33m(\u001b[0m\u001b[0mitem\u001b[0m\u001b[1;33m[\u001b[0m\u001b[1;36m0\u001b[0m\u001b[1;33m]\u001b[0m\u001b[1;33m)\u001b[0m\u001b[1;33m,\u001b[0m \u001b[1;36m4\u001b[0m\u001b[1;33m)\u001b[0m\u001b[1;33m)\u001b[0m\u001b[1;33m\u001b[0m\u001b[1;33m\u001b[0m\u001b[0m\n",
      "\u001b[1;31mKeyError\u001b[0m: 1"
     ]
    }
   ],
   "source": [
    "for item in agent.batches[1]:\n",
    "    if item[4] is None:\n",
    "        with torch.no_grad():\n",
    "            print(\"reward / calculated reward by Q_func:\\t\", item[2], \"/\", (agent.Q_func(item[0]), 4))"
   ]
  },
  {
   "cell_type": "markdown",
   "metadata": {},
   "source": [
    "**Резюме:** **все** выигрыши, проигрыши и ничьи определены **верно**."
   ]
  },
  {
   "cell_type": "markdown",
   "metadata": {},
   "source": [
    "## demo game"
   ]
  },
  {
   "cell_type": "code",
   "execution_count": 29,
   "metadata": {
    "colab": {
     "base_uri": "https://localhost:8080/",
     "height": 1000
    },
    "colab_type": "code",
    "executionInfo": {
     "elapsed": 982,
     "status": "ok",
     "timestamp": 1594718212071,
     "user": {
      "displayName": "Дмитрий Шерешевский",
      "photoUrl": "https://lh3.googleusercontent.com/a-/AOh14Giembzl_qmFKR42DoX0fGLebX_kyUtm4Zs6FyKw=s64",
      "userId": "15007188307318442356"
     },
     "user_tz": -180
    },
    "id": "2WL_5opjtvfg",
    "outputId": "53886df4-c36a-4147-89d6-0dd0babda2b9"
   },
   "outputs": [
    {
     "name": "stdout",
     "output_type": "stream",
     "text": [
      " \n",
      "Turn 0\n",
      "\n",
      "       |   |   \n",
      "    -----------\n",
      "       |   |   \n",
      "    -----------\n",
      "       |   |   \n",
      " \n",
      "Turn 1\n",
      "\n",
      "       |   |   \n",
      "    -----------\n",
      "       | X |   \n",
      "    -----------\n",
      "       |   |   \n",
      " \n",
      "Turn 2\n",
      "\n",
      "       |   |   \n",
      "    -----------\n",
      "       | X |   \n",
      "    -----------\n",
      "       |   | O \n",
      " \n",
      "Turn 3\n",
      "\n",
      "       |   | X \n",
      "    -----------\n",
      "       | X |   \n",
      "    -----------\n",
      "       |   | O \n",
      " \n",
      "Turn 4\n",
      "\n",
      "       |   | X \n",
      "    -----------\n",
      "       | X |   \n",
      "    -----------\n",
      "     O |   | O \n",
      " \n",
      "Turn 5\n",
      "\n",
      "       |   | X \n",
      "    -----------\n",
      "       | X |   \n",
      "    -----------\n",
      "     O | X | O \n",
      " \n",
      "Turn 6\n",
      "\n",
      "     O |   | X \n",
      "    -----------\n",
      "       | X |   \n",
      "    -----------\n",
      "     O | X | O \n",
      " \n",
      "Turn 7\n",
      "\n",
      "     O | X | X \n",
      "    -----------\n",
      "       | X |   \n",
      "    -----------\n",
      "     O | X | O \n",
      "\n",
      "X is the winner!\n"
     ]
    },
    {
     "data": {
      "text/plain": [
       "'X'"
      ]
     },
     "execution_count": 29,
     "metadata": {},
     "output_type": "execute_result"
    }
   ],
   "source": [
    "agent.demo_game(True)"
   ]
  },
  {
   "cell_type": "markdown",
   "metadata": {},
   "source": [
    "## Несколько игр с агентом вручную для проверки стандартных комбинаций"
   ]
  },
  {
   "cell_type": "code",
   "execution_count": 14,
   "metadata": {
    "colab": {
     "base_uri": "https://localhost:8080/",
     "height": 1000
    },
    "colab_type": "code",
    "executionInfo": {
     "elapsed": 100822,
     "status": "ok",
     "timestamp": 1594617854061,
     "user": {
      "displayName": "Дмитрий Шерешевский",
      "photoUrl": "https://lh3.googleusercontent.com/a-/AOh14Giembzl_qmFKR42DoX0fGLebX_kyUtm4Zs6FyKw=s64",
      "userId": "15007188307318442356"
     },
     "user_tz": -180
    },
    "id": "-bLJ5Jlwtvfl",
    "outputId": "c112de4a-c732-47ae-bf2e-c1231cf70b33"
   },
   "outputs": [
    {
     "name": "stdout",
     "output_type": "stream",
     "text": [
      " \n",
      "Turn 0\n",
      "\n",
      "       |   |   \n",
      "    -----------\n",
      "       |   |   \n",
      "    -----------\n",
      "       |   |   \n",
      " \n",
      "Turn 1\n",
      "\n",
      "       |   |   \n",
      "    -----------\n",
      "       | X |   \n",
      "    -----------\n",
      "       |   |   \n"
     ]
    },
    {
     "name": "stdin",
     "output_type": "stream",
     "text": [
      "Choose move for O, from [1, 2, 3, 4, 6, 7, 8, 9] :  8\n"
     ]
    },
    {
     "name": "stdout",
     "output_type": "stream",
     "text": [
      " \n",
      "Turn 2\n",
      "\n",
      "       |   |   \n",
      "    -----------\n",
      "       | X |   \n",
      "    -----------\n",
      "       | O |   \n",
      " \n",
      "Turn 3\n",
      "\n",
      "     X |   |   \n",
      "    -----------\n",
      "       | X |   \n",
      "    -----------\n",
      "       | O |   \n"
     ]
    },
    {
     "name": "stdin",
     "output_type": "stream",
     "text": [
      "Choose move for O, from [2, 3, 4, 6, 7, 9] :  7\n"
     ]
    },
    {
     "name": "stdout",
     "output_type": "stream",
     "text": [
      " \n",
      "Turn 4\n",
      "\n",
      "     X |   |   \n",
      "    -----------\n",
      "       | X |   \n",
      "    -----------\n",
      "     O | O |   \n",
      " \n",
      "Turn 5\n",
      "\n",
      "     X |   | X \n",
      "    -----------\n",
      "       | X |   \n",
      "    -----------\n",
      "     O | O |   \n"
     ]
    },
    {
     "name": "stdin",
     "output_type": "stream",
     "text": [
      "Choose move for O, from [2, 4, 6, 9] :  9\n"
     ]
    },
    {
     "name": "stdout",
     "output_type": "stream",
     "text": [
      " \n",
      "Turn 6\n",
      "\n",
      "     X |   | X \n",
      "    -----------\n",
      "       | X |   \n",
      "    -----------\n",
      "     O | O | O \n",
      "\n",
      "O is the winner!\n"
     ]
    },
    {
     "data": {
      "text/plain": [
       "'O'"
      ]
     },
     "execution_count": 14,
     "metadata": {},
     "output_type": "execute_result"
    }
   ],
   "source": [
    "agent.interactive_game()"
   ]
  },
  {
   "cell_type": "code",
   "execution_count": 85,
   "metadata": {
    "colab": {
     "base_uri": "https://localhost:8080/",
     "height": 1000
    },
    "colab_type": "code",
    "executionInfo": {
     "elapsed": 39766,
     "status": "ok",
     "timestamp": 1594617903719,
     "user": {
      "displayName": "Дмитрий Шерешевский",
      "photoUrl": "https://lh3.googleusercontent.com/a-/AOh14Giembzl_qmFKR42DoX0fGLebX_kyUtm4Zs6FyKw=s64",
      "userId": "15007188307318442356"
     },
     "user_tz": -180
    },
    "id": "W7btVgZgtvfp",
    "outputId": "900d3616-268c-4348-d648-f7c502bd7d1d"
   },
   "outputs": [
    {
     "name": "stdout",
     "output_type": "stream",
     "text": [
      " \n",
      "Turn 0\n",
      "\n",
      "       |   |   \n",
      "    -----------\n",
      "       |   |   \n",
      "    -----------\n",
      "       |   |   \n",
      " \n",
      "Turn 1\n",
      "\n",
      "       |   |   \n",
      "    -----------\n",
      "       | X |   \n",
      "    -----------\n",
      "       |   |   \n"
     ]
    },
    {
     "name": "stdin",
     "output_type": "stream",
     "text": [
      "Choose move for O, from [1, 2, 3, 4, 6, 7, 8, 9] :  2\n"
     ]
    },
    {
     "name": "stdout",
     "output_type": "stream",
     "text": [
      " \n",
      "Turn 2\n",
      "\n",
      "       | O |   \n",
      "    -----------\n",
      "       | X |   \n",
      "    -----------\n",
      "       |   |   \n",
      " \n",
      "Turn 3\n",
      "\n",
      "       | O |   \n",
      "    -----------\n",
      "       | X |   \n",
      "    -----------\n",
      "       |   | X \n"
     ]
    },
    {
     "name": "stdin",
     "output_type": "stream",
     "text": [
      "Choose move for O, from [1, 3, 4, 6, 7, 8] :  1\n"
     ]
    },
    {
     "name": "stdout",
     "output_type": "stream",
     "text": [
      " \n",
      "Turn 4\n",
      "\n",
      "     O | O |   \n",
      "    -----------\n",
      "       | X |   \n",
      "    -----------\n",
      "       |   | X \n",
      " \n",
      "Turn 5\n",
      "\n",
      "     O | O | X \n",
      "    -----------\n",
      "       | X |   \n",
      "    -----------\n",
      "       |   | X \n"
     ]
    },
    {
     "name": "stdin",
     "output_type": "stream",
     "text": [
      "Choose move for O, from [4, 6, 7, 8] :  7\n"
     ]
    },
    {
     "name": "stdout",
     "output_type": "stream",
     "text": [
      " \n",
      "Turn 6\n",
      "\n",
      "     O | O | X \n",
      "    -----------\n",
      "       | X |   \n",
      "    -----------\n",
      "     O |   | X \n",
      " \n",
      "Turn 7\n",
      "\n",
      "     O | O | X \n",
      "    -----------\n",
      "       | X | X \n",
      "    -----------\n",
      "     O |   | X \n",
      "\n",
      "X is the winner!\n"
     ]
    },
    {
     "data": {
      "text/plain": [
       "'X'"
      ]
     },
     "execution_count": 85,
     "metadata": {},
     "output_type": "execute_result"
    }
   ],
   "source": [
    "agent.interactive_game()"
   ]
  },
  {
   "cell_type": "code",
   "execution_count": 86,
   "metadata": {
    "colab": {},
    "colab_type": "code",
    "id": "nAlwCyE4tvfr"
   },
   "outputs": [
    {
     "name": "stdout",
     "output_type": "stream",
     "text": [
      " \n",
      "Turn 0\n",
      "\n",
      "       |   |   \n",
      "    -----------\n",
      "       |   |   \n",
      "    -----------\n",
      "       |   |   \n",
      " \n",
      "Turn 1\n",
      "\n",
      "       |   |   \n",
      "    -----------\n",
      "       | X |   \n",
      "    -----------\n",
      "       |   |   \n"
     ]
    },
    {
     "name": "stdin",
     "output_type": "stream",
     "text": [
      "Choose move for O, from [1, 2, 3, 4, 6, 7, 8, 9] :  8\n"
     ]
    },
    {
     "name": "stdout",
     "output_type": "stream",
     "text": [
      " \n",
      "Turn 2\n",
      "\n",
      "       |   |   \n",
      "    -----------\n",
      "       | X |   \n",
      "    -----------\n",
      "       | O |   \n",
      " \n",
      "Turn 3\n",
      "\n",
      "       |   |   \n",
      "    -----------\n",
      "       | X |   \n",
      "    -----------\n",
      "       | O | X \n"
     ]
    },
    {
     "name": "stdin",
     "output_type": "stream",
     "text": [
      "Choose move for O, from [1, 2, 3, 4, 6, 7] :  1\n"
     ]
    },
    {
     "name": "stdout",
     "output_type": "stream",
     "text": [
      " \n",
      "Turn 4\n",
      "\n",
      "     O |   |   \n",
      "    -----------\n",
      "       | X |   \n",
      "    -----------\n",
      "       | O | X \n",
      " \n",
      "Turn 5\n",
      "\n",
      "     O |   | X \n",
      "    -----------\n",
      "       | X |   \n",
      "    -----------\n",
      "       | O | X \n"
     ]
    },
    {
     "name": "stdin",
     "output_type": "stream",
     "text": [
      "Choose move for O, from [2, 4, 6, 7] :  6\n"
     ]
    },
    {
     "name": "stdout",
     "output_type": "stream",
     "text": [
      " \n",
      "Turn 6\n",
      "\n",
      "     O |   | X \n",
      "    -----------\n",
      "       | X | O \n",
      "    -----------\n",
      "       | O | X \n",
      " \n",
      "Turn 7\n",
      "\n",
      "     O |   | X \n",
      "    -----------\n",
      "       | X | O \n",
      "    -----------\n",
      "     X | O | X \n",
      "\n",
      "X is the winner!\n"
     ]
    },
    {
     "data": {
      "text/plain": [
       "'X'"
      ]
     },
     "execution_count": 86,
     "metadata": {},
     "output_type": "execute_result"
    }
   ],
   "source": [
    "agent.interactive_game()"
   ]
  },
  {
   "cell_type": "markdown",
   "metadata": {},
   "source": [
    "**Резюме:** агент играет **оптимально**"
   ]
  },
  {
   "cell_type": "markdown",
   "metadata": {},
   "source": [
    "## Вывод:\n",
    "Агент явно обучился. Об этом говорит следующее:\n",
    "- расчет обученным агентом значения **Q_func** для **первого хода Х** - оптимальный уверенно по центру\n",
    "- **первый ход O** тоже обучился правильно. Более того, **все** оптимальные первые ходы нолика (угловые) тоже более приоритетны по Q_func (с учетом того, что для ноликов мы выбираем по минимуму).\n",
    "- выборочные проверки вычисления значений **Q_func** некоторых **заранее известных** состояний  (выигрышей, проигрышей и ничьих) - все расчитано правильно. \n",
    "- а также несколько сыгранных с агентом игр. Агент играл каждый раз оптимально.   \n",
    "- Лосс уменьшается в процессе обучения   \n",
    "- Результат на демо: итоговый **percentage results: {'X': 0.0, 'O': 0.0, '-': 100.0}**. Динамика обучения по **percentage results** хорошо видна и наглядна.   \n",
    "   \n",
    "**Итого:** агент обучился правильно."
   ]
  }
 ],
 "metadata": {
  "accelerator": "GPU",
  "colab": {
   "name": "hw16_tictactoe_Q-func.ipynb",
   "provenance": []
  },
  "kernelspec": {
   "display_name": "Python 3",
   "language": "python",
   "name": "python3"
  },
  "language_info": {
   "codemirror_mode": {
    "name": "ipython",
    "version": 3
   },
   "file_extension": ".py",
   "mimetype": "text/x-python",
   "name": "python",
   "nbconvert_exporter": "python",
   "pygments_lexer": "ipython3",
   "version": "3.7.7"
  }
 },
 "nbformat": 4,
 "nbformat_minor": 4
}
