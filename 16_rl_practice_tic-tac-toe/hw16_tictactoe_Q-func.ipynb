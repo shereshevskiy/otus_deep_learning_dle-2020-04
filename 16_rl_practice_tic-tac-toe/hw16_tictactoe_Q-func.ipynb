{
 "cells": [
  {
   "cell_type": "markdown",
   "metadata": {
    "colab_type": "text",
    "id": "BfvM5roCtvfM"
   },
   "source": [
    "# <center>Домашняя работа по лекции 16\n",
    "### Задание:\n",
    "Опираясь на табличное обучение с подкреплением реализовать и обучить нейронную Q-функцию."
   ]
  },
  {
   "cell_type": "code",
   "execution_count": 1,
   "metadata": {
    "colab": {},
    "colab_type": "code",
    "executionInfo": {
     "elapsed": 3812,
     "status": "ok",
     "timestamp": 1594903231273,
     "user": {
      "displayName": "Дмитрий Шерешевский",
      "photoUrl": "https://lh3.googleusercontent.com/a-/AOh14Giembzl_qmFKR42DoX0fGLebX_kyUtm4Zs6FyKw=s64",
      "userId": "15007188307318442356"
     },
     "user_tz": -180
    },
    "id": "SHRQiCSPtvfN"
   },
   "outputs": [],
   "source": [
    "import torch\n",
    "import torch.nn as nn\n",
    "import torch.nn.functional as F\n",
    "import copy\n",
    "import matplotlib.pyplot as plt"
   ]
  },
  {
   "cell_type": "code",
   "execution_count": 2,
   "metadata": {
    "colab": {
     "base_uri": "https://localhost:8080/",
     "height": 34
    },
    "colab_type": "code",
    "executionInfo": {
     "elapsed": 3784,
     "status": "ok",
     "timestamp": 1594903231276,
     "user": {
      "displayName": "Дмитрий Шерешевский",
      "photoUrl": "https://lh3.googleusercontent.com/a-/AOh14Giembzl_qmFKR42DoX0fGLebX_kyUtm4Zs6FyKw=s64",
      "userId": "15007188307318442356"
     },
     "user_tz": -180
    },
    "id": "NhMNuGLqt-mn",
    "outputId": "a9b8d300-2095-4e6b-93e6-f02d9bec2f95"
   },
   "outputs": [
    {
     "data": {
      "text/plain": [
       "device(type='cpu')"
      ]
     },
     "execution_count": 2,
     "metadata": {},
     "output_type": "execute_result"
    }
   ],
   "source": [
    "device = torch.device(\"cuda:0\" if torch.cuda.is_available() else \"cpu\")\n",
    "device"
   ]
  },
  {
   "cell_type": "code",
   "execution_count": 3,
   "metadata": {
    "colab": {},
    "colab_type": "code",
    "executionInfo": {
     "elapsed": 3776,
     "status": "ok",
     "timestamp": 1594903231277,
     "user": {
      "displayName": "Дмитрий Шерешевский",
      "photoUrl": "https://lh3.googleusercontent.com/a-/AOh14Giembzl_qmFKR42DoX0fGLebX_kyUtm4Zs6FyKw=s64",
      "userId": "15007188307318442356"
     },
     "user_tz": -180
    },
    "id": "Hzoz7xfStvfQ"
   },
   "outputs": [],
   "source": [
    "# Copied from https://github.com/neilslater/game_playing_scripts\n",
    "\n",
    "'''\n",
    "   Copyright 2017 Neil Slater\n",
    "\n",
    "   Licensed under the Apache License, Version 2.0 (the \"License\");\n",
    "   you may not use this file except in compliance with the License.\n",
    "   You may obtain a copy of the License at\n",
    "\n",
    "       http://www.apache.org/licenses/LICENSE-2.0\n",
    "\n",
    "   Unless required by applicable law or agreed to in writing, software\n",
    "   distributed under the License is distributed on an \"AS IS\" BASIS,\n",
    "   WITHOUT WARRANTIES OR CONDITIONS OF ANY KIND, either express or implied.\n",
    "   See the License for the specific language governing permissions and\n",
    "   limitations under the License.\n",
    "'''\n",
    "\n",
    "import numpy as np\n",
    "import random\n",
    "\n",
    "class TicTacToeGame():\n",
    "    def __init__(self):\n",
    "        self.state = '         '\n",
    "        self.player = 'X'\n",
    "        self.winner = None\n",
    "\n",
    "    def allowed_moves(self):\n",
    "        states = []\n",
    "        for i in range(len(self.state)):\n",
    "            if self.state[i] == ' ':\n",
    "                states.append(self.state[:i] + self.player + self.state[i+1:])\n",
    "        return states\n",
    "\n",
    "    def make_move(self, next_state):  # или ход привел к чьей-то победе, или переход хода\n",
    "        if self.winner:\n",
    "            raise(Exception(\"Game already completed, cannot make another move!\"))\n",
    "        if not self.__valid_move(next_state):\n",
    "            raise(Exception(\"Cannot make move {} to {} for player {}\".format(\n",
    "                    self.state, next_state, self.player)))\n",
    "\n",
    "        self.state = next_state\n",
    "        self.winner = self.predict_winner(self.state)\n",
    "        if self.winner:\n",
    "            self.player = None\n",
    "        elif self.player == 'X':\n",
    "            self.player = 'O'\n",
    "        else:\n",
    "            self.player = 'X'\n",
    "\n",
    "    def playable(self):\n",
    "        return ( (not self.winner) and any(self.allowed_moves()) )  # победителя еще нет и есть доступные ходы\n",
    "\n",
    "    def predict_winner(self, state):\n",
    "        lines = [(0,1,2), (3,4,5), (6,7,8), (0,3,6), (1,4,7), (2,5,8), (0,4,8), (2,4,6)]\n",
    "        winner = None\n",
    "        for line in lines:\n",
    "            line_state = state[line[0]] + state[line[1]] + state[line[2]]\n",
    "            if line_state == 'XXX':\n",
    "                winner = 'X'\n",
    "            elif line_state == 'OOO':\n",
    "                winner = 'O'\n",
    "        return winner\n",
    "\n",
    "    def __valid_move(self, next_state):\n",
    "        allowed_moves = self.allowed_moves()\n",
    "        if any(state == next_state for state in allowed_moves):\n",
    "            return True\n",
    "        return False\n",
    "\n",
    "    def print_board(self):\n",
    "        s = self.state\n",
    "        print('     {} | {} | {} '.format(s[0],s[1],s[2]))\n",
    "        print('    -----------')\n",
    "        print('     {} | {} | {} '.format(s[3],s[4],s[5]))\n",
    "        print('    -----------')\n",
    "        print('     {} | {} | {} '.format(s[6],s[7],s[8]))\n"
   ]
  },
  {
   "cell_type": "code",
   "execution_count": 57,
   "metadata": {
    "colab": {},
    "colab_type": "code",
    "executionInfo": {
     "elapsed": 960,
     "status": "ok",
     "timestamp": 1594903708178,
     "user": {
      "displayName": "Дмитрий Шерешевский",
      "photoUrl": "https://lh3.googleusercontent.com/a-/AOh14Giembzl_qmFKR42DoX0fGLebX_kyUtm4Zs6FyKw=s64",
      "userId": "15007188307318442356"
     },
     "user_tz": -180
    },
    "id": "bXX62QmYtvfV"
   },
   "outputs": [],
   "source": [
    "class Agent():\n",
    "    def __init__(self, game_class, model, criterion, epsilon=0.1, \n",
    "                 lr=0.001, gamma=1.0, q_delta=0.02, player_mark='X', epoch_size=1000, batch_size=100):\n",
    "        self.Q = model.to(device)\n",
    "        self.NewGame = game_class\n",
    "        self.epsilon = epsilon\n",
    "        self.criterion = criterion\n",
    "        self.optimizer = torch.optim.Adadelta(self.Q.parameters())\n",
    "        self.player_mark = player_mark\n",
    "        self.gamma = gamma\n",
    "        self.q_delta = q_delta\n",
    "        self.next_Q_func = torch.FloatTensor([0]).view(1, 1).requires_grad_(True).to(device)\n",
    "        self.losses = []\n",
    "        self.total_episode = 0\n",
    "        self.history = None\n",
    "        self.batches = None\n",
    "        self.epoch_size = epoch_size\n",
    "        self.batch_size = batch_size\n",
    "        \n",
    "        self.history_reset()\n",
    "\n",
    "    def history_reset(self):\n",
    "        self.history = {'state': [], 'move': [], 'reward': [], 'next_state': [], 'next_move': []}\n",
    "    \n",
    "    @staticmethod\n",
    "    def stateact_totensor(state, move):\n",
    "        sign_to_value = {\"X\": 1.0, \"O\": -1.0, \" \": 0.0}\n",
    "        tensor = torch.FloatTensor([sign_to_value[item] for item in state + move]).requires_grad_(True).view(1, len(state + move)).to(device)\n",
    "        return tensor\n",
    "\n",
    "    def Q_func(self, game_state, move, Q_freezed=None):\n",
    "        Q = Q_freezed or self.Q\n",
    "        if move:\n",
    "            Q_func = Q(self.stateact_totensor(game_state, move))\n",
    "        else:\n",
    "            Q_func = torch.FloatTensor([0.]).requires_grad_(True).view(1, 1).to(device)\n",
    "        return Q_func\n",
    "\n",
    "    def learn_game(self, num_episodes=1000, reset=False):\n",
    "        if reset:\n",
    "            self.total_episode = 0\n",
    "            self.history_reset()\n",
    "        for episode in range(num_episodes):\n",
    "            self.learn_from_episode()\n",
    "            self.total_episode += 1\n",
    "\n",
    "    def learn_from_episode(self):\n",
    "        game = self.NewGame()\n",
    "        _, move = self.learn_select_move(game.state, game)  # выбираем начальный ход (учитываем заданное правило)\n",
    "        r = self.__reward(game)\n",
    "        while move:\n",
    "            move = self.learn_from_move(game, move)\n",
    "        if self.total_episode % self.epoch_size == 0 and self.total_episode > 0:\n",
    "#             raise(ValueError)\n",
    "            self.process_learning()\n",
    "            self.history_reset()\n",
    "    \n",
    "    def _batching(self):\n",
    "        self.batches = []\n",
    "        batch = []\n",
    "        for i in range(len(self.history['move'])):\n",
    "            state = self.history['state'][i]\n",
    "            best_move = self.history['move'][i]\n",
    "            r = self.history['reward'][i]\n",
    "            next_state = self.history['next_state'][i]\n",
    "            next_best_move = self.history['next_move'][i]\n",
    "            batch.append([state, best_move, r, next_state, next_best_move])\n",
    "            if (i + 1) % self.batch_size == 0:\n",
    "                self.batches.append(batch)\n",
    "                batch = []\n",
    "        return self.batches\n",
    "            \n",
    "    def process_learning(self):\n",
    "        \"\"\"update policy table based on latest game\"\"\"\n",
    "        self._batching()\n",
    "#         raise(ValueError)\n",
    "\n",
    "        Q_freezed = copy.deepcopy(self.Q).requires_grad_(False)\n",
    "        for batch in self.batches:\n",
    "            loss = 0\n",
    "            for state, best_move, r, next_state, next_best_move in batch:\n",
    "                current_Q = self.Q_func(state, best_move)\n",
    "                next_Q = self.Q_func(next_state, next_best_move, Q_freezed)\n",
    "\n",
    "                td_target = r + self.gamma * next_Q\n",
    "                loss += self.criterion(current_Q, td_target)\n",
    "\n",
    "            loss /= len(batch)\n",
    "            # обучаем сеть\n",
    "            self.Q.zero_grad()\n",
    "            self.losses.append(loss.data.item())\n",
    "            loss.backward()\n",
    "            # делаем шаг в сторону улучшения модели\n",
    "            self.optimizer.step()\n",
    "\n",
    "#     @staticmethod\n",
    "#     def digit_to_target(digit):\n",
    "#         return torch.FloatTensor([digit]).view(1, 1).requires_grad_(True).to(device)\n",
    "    \n",
    "    def learn_from_move(self, game, move):\n",
    "        self.history['state'].append(game.state)\n",
    "        self.history['move'].append(move)\n",
    "        game.make_move(move)  # проверяет, есть ли победитель в game.winner, и если нет - переход хода\n",
    "        r = self.__reward(game)  # вычисляем вознаграждение за ход move\n",
    "        next_Q_func = 0.0\n",
    "        selected_next_move = None\n",
    "        if game.playable():  # победителя еще нет и есть доступные ходы\n",
    "            best_next_move, selected_next_move = self.learn_select_move(move, game)  \n",
    "            \n",
    "#         self.history['states'].append(move)\n",
    "        self.history['reward'].append(r)\n",
    "        self.history['next_state'].append(game.state)\n",
    "        self.history['next_move'].append(selected_next_move) \n",
    "\n",
    "        return selected_next_move\n",
    "\n",
    "    def learn_select_move(self, current_state, game):\n",
    "        allowed_move_Q_func = self.__Q_func(current_state, game.allowed_moves())  # словарь состояние-значение\n",
    "        if game.player == self.player_mark:\n",
    "            best_move = self.__argmax_Q(allowed_move_Q_func)\n",
    "        else:\n",
    "            best_move = self.__argmin_Q(allowed_move_Q_func)\n",
    "\n",
    "        selected_move = best_move\n",
    "        if random.random() < self.epsilon:   # добавляем случайный ход (здесь - в 10%, согласно epsilon)\n",
    "            selected_move = self.__random_Q(allowed_move_Q_func)\n",
    "\n",
    "        return (best_move, selected_move)\n",
    "\n",
    "    def play_select_move(self, move, game):\n",
    "        allowed_state_values = self.__Q_func(move, game.allowed_moves())  # словарь с доступными ходами и их values\n",
    "        if game.player == self.player_mark:\n",
    "            return self.__argmax_Q(allowed_state_values)  # выбираем наулучших ход для player_mark\n",
    "        else:\n",
    "            # ходит \"не player_mark\": выбираем наулучших ход для \"не player_mark\" (== наихудший для player_mark)\n",
    "            return self.__argmin_Q(allowed_state_values)  \n",
    "    \n",
    "    def demo_game(self, verbose=False):\n",
    "        game = self.NewGame()\n",
    "        t = 0\n",
    "        move = game.state\n",
    "        while game.playable():  # пока нет победителя и есть доступные ходы\n",
    "            if verbose:\n",
    "                print(\" \\nTurn {}\\n\".format(t))\n",
    "                game.print_board()\n",
    "            move = self.play_select_move(move, game)\n",
    "            game.make_move(move)  # или ход привел к чьей-то победе, или переход хода\n",
    "            t += 1\n",
    "        if verbose:\n",
    "            print(\" \\nTurn {}\\n\".format(t))\n",
    "            game.print_board()\n",
    "        if game.winner:\n",
    "            if verbose:\n",
    "                print(\"\\n{} is the winner!\".format(game.winner))\n",
    "            return game.winner\n",
    "        else:\n",
    "            if verbose:\n",
    "                print(\"\\nIt's a draw!\")\n",
    "            return '-'\n",
    "\n",
    "    def interactive_game(self, agent_player='X'):\n",
    "        game = self.NewGame()\n",
    "        t = 0\n",
    "        move = game.state\n",
    "        while game.playable():\n",
    "            print(\" \\nTurn {}\\n\".format(t))\n",
    "            game.print_board()\n",
    "            if game.player == agent_player:\n",
    "                move = self.play_select_move(move, game)  # делаем ход (выбранное новое состояние)\n",
    "                game.make_move(move)\n",
    "            else:\n",
    "                move = self.__request_human_move(game)\n",
    "                game.make_move(move)\n",
    "            t += 1\n",
    "\n",
    "        print(\" \\nTurn {}\\n\".format(t))\n",
    "        game.print_board()\n",
    "\n",
    "        if game.winner:\n",
    "            print(\"\\n{} is the winner!\".format(game.winner))\n",
    "            return game.winner\n",
    "        print(\"\\nIt's a draw!\")\n",
    "        return '-'\n",
    "\n",
    "    def __Q_func(self, current_state, game_moves):\n",
    "        return dict((move, self.Q_func(current_state, move)) for move in game_moves)\n",
    "\n",
    "    def __argmax_Q(self, allowed_move_Q_func):\n",
    "        max_Q = max(allowed_move_Q_func.values())\n",
    "        chosen_state = random.choice([move for move, q in allowed_move_Q_func.items() if q >= max_Q - self.q_delta])\n",
    "        return chosen_state\n",
    "\n",
    "    def __argmin_Q(self, allowed_move_Q_func):\n",
    "        min_Q = min(allowed_move_Q_func.values())\n",
    "        chosen_state = random.choice([move for move, q in allowed_move_Q_func.items() if q <= min_Q + self.q_delta])\n",
    "        return chosen_state\n",
    "\n",
    "    def __random_Q(self, allowed_move_Q_func):\n",
    "        return random.choice(list(allowed_move_Q_func.keys()))\n",
    "\n",
    "    def __reward(self, game):\n",
    "        if game.winner == self.player_mark:\n",
    "            return 1.0\n",
    "        elif game.winner:\n",
    "            return -1.0\n",
    "        else:\n",
    "            return 0.0\n",
    "\n",
    "    def __request_human_move(self, game):\n",
    "        allowed_moves = [i+1 for i in range(9) if game.state[i] == ' ']\n",
    "        human_move = None\n",
    "        while not human_move:\n",
    "            idx = int(input('Choose move for {}, from {} : '.format(game.player, allowed_moves)))\n",
    "            if any([i==idx for i in allowed_moves]):\n",
    "                human_move = game.state[:idx-1] + game.player + game.state[idx:]\n",
    "        return human_move"
   ]
  },
  {
   "cell_type": "code",
   "execution_count": 7,
   "metadata": {
    "colab": {},
    "colab_type": "code",
    "executionInfo": {
     "elapsed": 701,
     "status": "ok",
     "timestamp": 1594903710778,
     "user": {
      "displayName": "Дмитрий Шерешевский",
      "photoUrl": "https://lh3.googleusercontent.com/a-/AOh14Giembzl_qmFKR42DoX0fGLebX_kyUtm4Zs6FyKw=s64",
      "userId": "15007188307318442356"
     },
     "user_tz": -180
    },
    "id": "GWW2ahh5tvfY"
   },
   "outputs": [],
   "source": [
    "class QModel(nn.Module):\n",
    "    \n",
    "    def __init__(self):\n",
    "        super().__init__()\n",
    "        self.fc1 = nn.Linear(9*2, 50) \n",
    "        self.fc2 = nn.Linear(50, 50)\n",
    "        self.fc3 = nn.Linear(50, 50)\n",
    "        self.fc4 = nn.Linear(50, 50)\n",
    "        self.fc5 = nn.Linear(50, 1)\n",
    "        \n",
    "    def forward(self, x):\n",
    "        x = F.relu(self.fc1(x))\n",
    "        x = F.relu(self.fc2(x))\n",
    "        x = F.relu(self.fc3(x))\n",
    "        x = F.relu(self.fc4(x))\n",
    "        x = self.fc5(x)\n",
    "        return x"
   ]
  },
  {
   "cell_type": "code",
   "execution_count": 6,
   "metadata": {
    "colab": {},
    "colab_type": "code",
    "executionInfo": {
     "elapsed": 688,
     "status": "ok",
     "timestamp": 1594903713265,
     "user": {
      "displayName": "Дмитрий Шерешевский",
      "photoUrl": "https://lh3.googleusercontent.com/a-/AOh14Giembzl_qmFKR42DoX0fGLebX_kyUtm4Zs6FyKw=s64",
      "userId": "15007188307318442356"
     },
     "user_tz": -180
    },
    "id": "2peOBTLLtvfa"
   },
   "outputs": [],
   "source": [
    "def demo_game_stats(agent):\n",
    "    games_num = 1000\n",
    "    results = [agent.demo_game() for i in range(games_num)]\n",
    "    game_stats = {k: round(results.count(k) / games_num * 100, 1) for k in ['X', 'O', '-']}\n",
    "    print(\"    percentage results: {}\".format(game_stats))"
   ]
  },
  {
   "cell_type": "code",
   "execution_count": 63,
   "metadata": {},
   "outputs": [
    {
     "name": "stdout",
     "output_type": "stream",
     "text": [
      "Before learning:\n",
      "    percentage results: {'X': 57.9, 'O': 30.2, '-': 11.9}\n",
      "After 5000 learning games:\n",
      "    percentage results: {'X': 46.6, 'O': 34.4, '-': 19.0}\n",
      "Wall time: 1min 31s\n"
     ]
    }
   ],
   "source": [
    "%%time\n",
    "\n",
    "agent = Agent(TicTacToeGame, model=QModel(), criterion=nn.MSELoss(), epsilon=0.3, q_delta=0.02, gamma=1.0)\n",
    "total_episodes = 0\n",
    "print(\"Before learning:\")\n",
    "demo_game_stats(agent)\n",
    "\n",
    "num_episodes = 5_000\n",
    "total_episodes += num_episodes\n",
    "agent.learn_game(num_episodes)\n",
    "print(f\"After {total_episodes} learning games:\")\n",
    "demo_game_stats(agent)"
   ]
  },
  {
   "cell_type": "code",
   "execution_count": 69,
   "metadata": {},
   "outputs": [
    {
     "name": "stdout",
     "output_type": "stream",
     "text": [
      "After 10000 learning games:\n",
      "    percentage results: {'X': 49.8, 'O': 0.0, '-': 50.2}\n"
     ]
    }
   ],
   "source": [
    "num_episodes = 5_000\n",
    "total_episodes += num_episodes\n",
    "agent.learn_game(num_episodes)\n",
    "print(f\"After {total_episodes} learning games:\")\n",
    "demo_game_stats(agent)"
   ]
  },
  {
   "cell_type": "code",
   "execution_count": 73,
   "metadata": {},
   "outputs": [
    {
     "name": "stdout",
     "output_type": "stream",
     "text": [
      "After 20000 learning games:\n",
      "    percentage results: {'X': 0.0, 'O': 0.0, '-': 100.0}\n"
     ]
    }
   ],
   "source": [
    "num_episodes = 10_000\n",
    "total_episodes += num_episodes\n",
    "agent.learn_game(num_episodes)\n",
    "print(f\"After {total_episodes} learning games:\")\n",
    "demo_game_stats(agent)"
   ]
  },
  {
   "cell_type": "markdown",
   "metadata": {},
   "source": [
    "## Loss function"
   ]
  },
  {
   "cell_type": "code",
   "execution_count": 74,
   "metadata": {},
   "outputs": [
    {
     "data": {
      "image/png": "[encoded data removed]",
      "text/plain": [
       "<Figure size 432x288 with 1 Axes>"
      ]
     },
     "metadata": {
      "needs_background": "light"
     },
     "output_type": "display_data"
    }
   ],
   "source": [
    "plt.plot(agent.losses)\n",
    "plt.title(\"loss\");"
   ]
  },
  {
   "cell_type": "markdown",
   "metadata": {},
   "source": [
    "## Посмотрим, как обучился первый ход для **X**"
   ]
  },
  {
   "cell_type": "code",
   "execution_count": 75,
   "metadata": {
    "colab": {
     "base_uri": "https://localhost:8080/",
     "height": 34
    },
    "colab_type": "code",
    "id": "OymZoZrZd8TB",
    "outputId": "3a65ee62-b5b0-4b35-f443-65b393e20e56"
   },
   "outputs": [
    {
     "name": "stdout",
     "output_type": "stream",
     "text": [
      "1 X         0.5403\n",
      "2  X        0.4254\n",
      "3   X       0.5358\n",
      "4    X      0.3738\n",
      "5     X     0.6729\n",
      "6      X    0.3373\n",
      "7       X   0.4191\n",
      "8        X  0.3264\n",
      "9         X 0.5054\n"
     ]
    }
   ],
   "source": [
    "for i in range(9):\n",
    "    init_state = ' ' * 9\n",
    "    move = [' '] * 9\n",
    "    move[i] = 'X'\n",
    "    move = ''.join(move)\n",
    "    print(i + 1, move, round(agent.Q_func(init_state, move).item(), 4))"
   ]
  },
  {
   "cell_type": "code",
   "execution_count": 100,
   "metadata": {
    "colab": {
     "base_uri": "https://localhost:8080/",
     "height": 34
    },
    "colab_type": "code",
    "id": "OymZoZrZd8TB",
    "outputId": "3a65ee62-b5b0-4b35-f443-65b393e20e56"
   },
   "outputs": [
    {
     "name": "stdout",
     "output_type": "stream",
     "text": [
      "1 X         0.5403\n",
      "2  X        0.4254\n",
      "3   X       0.5358\n",
      "4    X      0.3738\n",
      "5     X     0.6729\n",
      "6      X    0.3373\n",
      "7       X   0.4191\n",
      "8        X  0.3264\n",
      "9         X 0.5054\n"
     ]
    },
    {
     "data": {
      "image/png": "[encoded data removed]",
      "text/plain": [
       "<Figure size 432x288 with 1 Axes>"
      ]
     },
     "metadata": {
      "needs_background": "light"
     },
     "output_type": "display_data"
    }
   ],
   "source": [
    "move_values = []\n",
    "for i in range(9):\n",
    "    init_state = ' ' * 9\n",
    "    move = [' '] * 9\n",
    "    move[i] = 'X'\n",
    "    move = ''.join(move)\n",
    "    move_value = round(agent.Q_func(init_state, move).item(), 4)\n",
    "    print(i + 1, move, move_value)\n",
    "    move_values.append(move_value)\n",
    "plt.plot(range(1, len(move_values)+1), move_values)\n",
    "plt.grid()"
   ]
  },
  {
   "cell_type": "markdown",
   "metadata": {},
   "source": [
    "**Резюме:** первый ход обучился **правильно** (по центру, см. 5 строку). Плюс у угловых ходов приоритет выше, что оптимальнее."
   ]
  },
  {
   "cell_type": "markdown",
   "metadata": {},
   "source": [
    "## Посмотрим, как обучился первый ход для **О**"
   ]
  },
  {
   "cell_type": "code",
   "execution_count": 102,
   "metadata": {
    "colab": {
     "base_uri": "https://localhost:8080/",
     "height": 34
    },
    "colab_type": "code",
    "id": "OymZoZrZd8TB",
    "outputId": "3a65ee62-b5b0-4b35-f443-65b393e20e56"
   },
   "outputs": [
    {
     "name": "stdout",
     "output_type": "stream",
     "text": [
      "1 O   X     0.6993\n",
      "2  O  X     0.7388\n",
      "3   O X     0.6805\n",
      "4    OX     0.8577\n",
      "5     O     None\n",
      "6     XO    0.9192\n",
      "7     X O   0.7152\n",
      "8     X  O  0.7531\n",
      "9     X   O 0.6299\n"
     ]
    },
    {
     "data": {
      "image/png": "[encoded data removed]",
      "text/plain": [
       "<Figure size 432x288 with 1 Axes>"
      ]
     },
     "metadata": {
      "needs_background": "light"
     },
     "output_type": "display_data"
    }
   ],
   "source": [
    "move_values = []\n",
    "for i in range(9):\n",
    "    state = [' '] * 9\n",
    "    state[4] = 'X'\n",
    "    move = state.copy()\n",
    "    move[i] = 'O'\n",
    "    move = ''.join(move)\n",
    "    state = ''.join(state)\n",
    "    if i + 1 == 5:\n",
    "        move_value = None\n",
    "    else:\n",
    "        move_value = round(agent.Q_func(state, move).item(), 4)\n",
    "    print(i + 1, move, move_value)\n",
    "    move_values.append(move_value)\n",
    "plt.plot(range(1, len(move_values)+1), move_values);\n",
    "plt.grid()"
   ]
  },
  {
   "cell_type": "markdown",
   "metadata": {},
   "source": [
    "**Резюме:** первый ход для **О** обучился **правильно** (в угол, см. строку 9). кроме того, все угловые ходы имеют более высокий приоритет (с учетом того, что для **О** мы вибираем по минимуму), что как раз оптимальнее."
   ]
  },
  {
   "cell_type": "markdown",
   "metadata": {},
   "source": [
    "## Посмотрим Value для некторых комбинаций и сравним с тем, что должно быть"
   ]
  },
  {
   "cell_type": "markdown",
   "metadata": {},
   "source": [
    "#### посмотрим батч, чтобы взять взять выигрышные, проигрышные и ничейные комбинации для проверок"
   ]
  },
  {
   "cell_type": "code",
   "execution_count": 77,
   "metadata": {},
   "outputs": [
    {
     "data": {
      "text/plain": [
       "[['         ', '   X     ', 0.0, '   X     ', '   X   O '],\n",
       " ['   X     ', '   X   O ', 0.0, '   X   O ', '   XX  O '],\n",
       " ['   X   O ', '   XX  O ', 0.0, '   XX  O ', '   XX  OO'],\n",
       " ['   XX  O ', '   XX  OO', 0.0, '   XX  OO', '   XXX OO'],\n",
       " ['   XX  OO', '   XXX OO', 1.0, '   XXX OO', None],\n",
       " ['         ', '    X    ', 0.0, '    X    ', '    X   O'],\n",
       " ['    X    ', '    X   O', 0.0, '    X   O', '    XX  O'],\n",
       " ['    X   O', '    XX  O', 0.0, '    XX  O', '   OXX  O'],\n",
       " ['    XX  O', '   OXX  O', 0.0, '   OXX  O', '   OXXX O'],\n",
       " ['   OXX  O', '   OXXX O', 0.0, '   OXXX O', ' O OXXX O'],\n",
       " ['   OXXX O', ' O OXXX O', 0.0, ' O OXXX O', ' OXOXXX O'],\n",
       " [' O OXXX O', ' OXOXXX O', 1.0, ' OXOXXX O', None],\n",
       " ['         ', '    X    ', 0.0, '    X    ', '    XO   '],\n",
       " ['    X    ', '    XO   ', 0.0, '    XO   ', '    XO  X'],\n",
       " ['    XO   ', '    XO  X', 0.0, '    XO  X', 'O   XO  X'],\n",
       " ['    XO  X', 'O   XO  X', 0.0, 'O   XO  X', 'O   XOX X'],\n",
       " ['O   XO  X', 'O   XOX X', 0.0, 'O   XOX X', 'O O XOX X'],\n",
       " ['O   XOX X', 'O O XOX X', 0.0, 'O O XOX X', 'O O XOXXX'],\n",
       " ['O O XOX X', 'O O XOXXX', 1.0, 'O O XOXXX', None],\n",
       " ['         ', '   X     ', 0.0, '   X     ', '   XO    '],\n",
       " ['   X     ', '   XO    ', 0.0, '   XO    ', 'X  XO    '],\n",
       " ['   XO    ', 'X  XO    ', 0.0, 'X  XO    ', 'X  XO O  '],\n",
       " ['X  XO    ', 'X  XO O  ', 0.0, 'X  XO O  ', 'X XXO O  '],\n",
       " ['X  XO O  ', 'X XXO O  ', 0.0, 'X XXO O  ', 'XOXXO O  '],\n",
       " ['X XXO O  ', 'XOXXO O  ', 0.0, 'XOXXO O  ', 'XOXXO OX '],\n",
       " ['XOXXO O  ', 'XOXXO OX ', 0.0, 'XOXXO OX ', 'XOXXO OXO'],\n",
       " ['XOXXO OX ', 'XOXXO OXO', 0.0, 'XOXXO OXO', 'XOXXOXOXO'],\n",
       " ['XOXXO OXO', 'XOXXOXOXO', 0.0, 'XOXXOXOXO', None],\n",
       " ['         ', '        X', 0.0, '        X', '    O   X'],\n",
       " ['        X', '    O   X', 0.0, '    O   X', '    O  XX'],\n",
       " ['    O   X', '    O  XX', 0.0, '    O  XX', '    O OXX'],\n",
       " ['    O  XX', '    O OXX', 0.0, '    O OXX', '  X O OXX'],\n",
       " ['    O OXX', '  X O OXX', 0.0, '  X O OXX', '  X OOOXX'],\n",
       " ['  X O OXX', '  X OOOXX', 0.0, '  X OOOXX', '  XXOOOXX'],\n",
       " ['  X OOOXX', '  XXOOOXX', 0.0, '  XXOOOXX', 'O XXOOOXX'],\n",
       " ['  XXOOOXX', 'O XXOOOXX', 0.0, 'O XXOOOXX', 'OXXXOOOXX'],\n",
       " ['O XXOOOXX', 'OXXXOOOXX', 0.0, 'OXXXOOOXX', None],\n",
       " ['         ', '    X    ', 0.0, '    X    ', '    X   O'],\n",
       " ['    X    ', '    X   O', 0.0, '    X   O', '    XX  O'],\n",
       " ['    X   O', '    XX  O', 0.0, '    XX  O', '   OXX  O'],\n",
       " ['    XX  O', '   OXX  O', 0.0, '   OXX  O', ' X OXX  O'],\n",
       " ['   OXX  O', ' X OXX  O', 0.0, ' X OXX  O', ' X OXX OO'],\n",
       " [' X OXX  O', ' X OXX OO', 0.0, ' X OXX OO', ' X OXXXOO'],\n",
       " [' X OXX OO', ' X OXXXOO', 0.0, ' X OXXXOO', ' XOOXXXOO'],\n",
       " [' X OXXXOO', ' XOOXXXOO', 0.0, ' XOOXXXOO', 'XXOOXXXOO'],\n",
       " [' XOOXXXOO', 'XXOOXXXOO', 0.0, 'XXOOXXXOO', None],\n",
       " ['         ', '    X    ', 0.0, '    X    ', '    X   O'],\n",
       " ['    X    ', '    X   O', 0.0, '    X   O', '    XX  O'],\n",
       " ['    X   O', '    XX  O', 0.0, '    XX  O', '   OXX  O'],\n",
       " ['    XX  O', '   OXX  O', 0.0, '   OXX  O', '  XOXX  O'],\n",
       " ['   OXX  O', '  XOXX  O', 0.0, '  XOXX  O', '  XOXXO O'],\n",
       " ['  XOXX  O', '  XOXXO O', 0.0, '  XOXXO O', 'X XOXXO O'],\n",
       " ['  XOXXO O', 'X XOXXO O', 0.0, 'X XOXXO O', 'X XOXXOOO'],\n",
       " ['X XOXXO O', 'X XOXXOOO', -1.0, 'X XOXXOOO', None],\n",
       " ['         ', '  X      ', 0.0, '  X      ', ' OX      '],\n",
       " ['  X      ', ' OX      ', 0.0, ' OX      ', ' OX X    '],\n",
       " [' OX      ', ' OX X    ', 0.0, ' OX X    ', ' OX X O  '],\n",
       " [' OX X    ', ' OX X O  ', 0.0, ' OX X O  ', ' OXXX O  '],\n",
       " [' OX X O  ', ' OXXX O  ', 0.0, ' OXXX O  ', ' OXXX OO '],\n",
       " [' OXXX O  ', ' OXXX OO ', 0.0, ' OXXX OO ', ' OXXX OOX'],\n",
       " [' OXXX OO ', ' OXXX OOX', 0.0, ' OXXX OOX', ' OXXXOOOX'],\n",
       " [' OXXX OOX', ' OXXXOOOX', 0.0, ' OXXXOOOX', 'XOXXXOOOX'],\n",
       " [' OXXXOOOX', 'XOXXXOOOX', 1.0, 'XOXXXOOOX', None],\n",
       " ['         ', '    X    ', 0.0, '    X    ', '    X   O'],\n",
       " ['    X    ', '    X   O', 0.0, '    X   O', '    XX  O'],\n",
       " ['    X   O', '    XX  O', 0.0, '    XX  O', '   OXX  O'],\n",
       " ['    XX  O', '   OXX  O', 0.0, '   OXX  O', '   OXXX O'],\n",
       " ['   OXX  O', '   OXXX O', 0.0, '   OXXX O', '  OOXXX O'],\n",
       " ['   OXXX O', '  OOXXX O', 0.0, '  OOXXX O', '  OOXXXXO'],\n",
       " ['  OOXXX O', '  OOXXXXO', 0.0, '  OOXXXXO', ' OOOXXXXO'],\n",
       " ['  OOXXXXO', ' OOOXXXXO', 0.0, ' OOOXXXXO', 'XOOOXXXXO'],\n",
       " [' OOOXXXXO', 'XOOOXXXXO', 0.0, 'XOOOXXXXO', None],\n",
       " ['         ', '    X    ', 0.0, '    X    ', '    X   O'],\n",
       " ['    X    ', '    X   O', 0.0, '    X   O', '    X X O'],\n",
       " ['    X   O', '    X X O', 0.0, '    X X O', '  O X X O'],\n",
       " ['    X X O', '  O X X O', 0.0, '  O X X O', '  O XXX O'],\n",
       " ['  O X X O', '  O XXX O', 0.0, '  O XXX O', '  OOXXX O'],\n",
       " ['  O XXX O', '  OOXXX O', 0.0, '  OOXXX O', '  OOXXXXO'],\n",
       " ['  OOXXX O', '  OOXXXXO', 0.0, '  OOXXXXO', ' OOOXXXXO'],\n",
       " ['  OOXXXXO', ' OOOXXXXO', 0.0, ' OOOXXXXO', 'XOOOXXXXO'],\n",
       " [' OOOXXXXO', 'XOOOXXXXO', 0.0, 'XOOOXXXXO', None],\n",
       " ['         ', '    X    ', 0.0, '    X    ', '    X   O'],\n",
       " ['    X    ', '    X   O', 0.0, '    X   O', '    XX  O'],\n",
       " ['    X   O', '    XX  O', 0.0, '    XX  O', '   OXX  O'],\n",
       " ['    XX  O', '   OXX  O', 0.0, '   OXX  O', '   OXXX O'],\n",
       " ['   OXX  O', '   OXXX O', 0.0, '   OXXX O', '  OOXXX O'],\n",
       " ['   OXXX O', '  OOXXX O', 0.0, '  OOXXX O', ' XOOXXX O'],\n",
       " ['  OOXXX O', ' XOOXXX O', 0.0, ' XOOXXX O', ' XOOXXXOO'],\n",
       " [' XOOXXX O', ' XOOXXXOO', 0.0, ' XOOXXXOO', 'XXOOXXXOO'],\n",
       " [' XOOXXXOO', 'XXOOXXXOO', 0.0, 'XXOOXXXOO', None],\n",
       " ['         ', '    X    ', 0.0, '    X    ', '    X   O'],\n",
       " ['    X    ', '    X   O', 0.0, '    X   O', '    XX  O'],\n",
       " ['    X   O', '    XX  O', 0.0, '    XX  O', '   OXX  O'],\n",
       " ['    XX  O', '   OXX  O', 0.0, '   OXX  O', '   OXXX O'],\n",
       " ['   OXX  O', '   OXXX O', 0.0, '   OXXX O', '  OOXXX O'],\n",
       " ['   OXXX O', '  OOXXX O', 0.0, '  OOXXX O', '  OOXXXXO'],\n",
       " ['  OOXXX O', '  OOXXXXO', 0.0, '  OOXXXXO', 'O OOXXXXO'],\n",
       " ['  OOXXXXO', 'O OOXXXXO', 0.0, 'O OOXXXXO', 'OXOOXXXXO'],\n",
       " ['O OOXXXXO', 'OXOOXXXXO', 1.0, 'OXOOXXXXO', None],\n",
       " ['         ', '    X    ', 0.0, '    X    ', '    XO   ']]"
      ]
     },
     "execution_count": 77,
     "metadata": {},
     "output_type": "execute_result"
    }
   ],
   "source": [
    "agent.batches[0]"
   ]
  },
  {
   "cell_type": "code",
   "execution_count": 87,
   "metadata": {},
   "outputs": [
    {
     "name": "stdout",
     "output_type": "stream",
     "text": [
      "reward / calculated reward by Q_func:\t 1.0 / 0.6051\n",
      "reward / calculated reward by Q_func:\t 1.0 / 0.8974\n",
      "reward / calculated reward by Q_func:\t 1.0 / 0.8817\n",
      "reward / calculated reward by Q_func:\t 0.0 / -0.0954\n",
      "reward / calculated reward by Q_func:\t 0.0 / 0.0234\n",
      "reward / calculated reward by Q_func:\t 0.0 / 0.0593\n",
      "reward / calculated reward by Q_func:\t -1.0 / -0.9823\n",
      "reward / calculated reward by Q_func:\t 1.0 / 0.8589\n",
      "reward / calculated reward by Q_func:\t 0.0 / 0.0168\n",
      "reward / calculated reward by Q_func:\t 0.0 / 0.0168\n",
      "reward / calculated reward by Q_func:\t 0.0 / 0.0593\n",
      "reward / calculated reward by Q_func:\t 1.0 / 0.9273\n"
     ]
    }
   ],
   "source": [
    "for item in agent.batches[0]:\n",
    "    if item[4] is None:\n",
    "        with torch.no_grad():\n",
    "            print(\"reward / calculated reward by Q_func:\\t\", item[2], \"/\", round(agent.Q_func(item[0], item[1]).item(), 4))"
   ]
  },
  {
   "cell_type": "markdown",
   "metadata": {},
   "source": [
    "**Резюме:** **все** выигрыши, проигрыши и ничьи определены **верно**."
   ]
  },
  {
   "cell_type": "markdown",
   "metadata": {},
   "source": [
    "## demo game"
   ]
  },
  {
   "cell_type": "code",
   "execution_count": 83,
   "metadata": {
    "colab": {
     "base_uri": "https://localhost:8080/",
     "height": 1000
    },
    "colab_type": "code",
    "executionInfo": {
     "elapsed": 982,
     "status": "ok",
     "timestamp": 1594718212071,
     "user": {
      "displayName": "Дмитрий Шерешевский",
      "photoUrl": "https://lh3.googleusercontent.com/a-/AOh14Giembzl_qmFKR42DoX0fGLebX_kyUtm4Zs6FyKw=s64",
      "userId": "15007188307318442356"
     },
     "user_tz": -180
    },
    "id": "2WL_5opjtvfg",
    "outputId": "53886df4-c36a-4147-89d6-0dd0babda2b9"
   },
   "outputs": [
    {
     "name": "stdout",
     "output_type": "stream",
     "text": [
      " \n",
      "Turn 0\n",
      "\n",
      "       |   |   \n",
      "    -----------\n",
      "       |   |   \n",
      "    -----------\n",
      "       |   |   \n",
      " \n",
      "Turn 1\n",
      "\n",
      "       |   |   \n",
      "    -----------\n",
      "       | X |   \n",
      "    -----------\n",
      "       |   |   \n",
      " \n",
      "Turn 2\n",
      "\n",
      "       |   |   \n",
      "    -----------\n",
      "       | X |   \n",
      "    -----------\n",
      "       |   | O \n",
      " \n",
      "Turn 3\n",
      "\n",
      "       |   |   \n",
      "    -----------\n",
      "       | X | X \n",
      "    -----------\n",
      "       |   | O \n",
      " \n",
      "Turn 4\n",
      "\n",
      "       |   |   \n",
      "    -----------\n",
      "     O | X | X \n",
      "    -----------\n",
      "       |   | O \n",
      " \n",
      "Turn 5\n",
      "\n",
      "       |   |   \n",
      "    -----------\n",
      "     O | X | X \n",
      "    -----------\n",
      "     X |   | O \n",
      " \n",
      "Turn 6\n",
      "\n",
      "       |   | O \n",
      "    -----------\n",
      "     O | X | X \n",
      "    -----------\n",
      "     X |   | O \n",
      " \n",
      "Turn 7\n",
      "\n",
      "       |   | O \n",
      "    -----------\n",
      "     O | X | X \n",
      "    -----------\n",
      "     X | X | O \n",
      " \n",
      "Turn 8\n",
      "\n",
      "       | O | O \n",
      "    -----------\n",
      "     O | X | X \n",
      "    -----------\n",
      "     X | X | O \n",
      " \n",
      "Turn 9\n",
      "\n",
      "     X | O | O \n",
      "    -----------\n",
      "     O | X | X \n",
      "    -----------\n",
      "     X | X | O \n",
      "\n",
      "It's a draw!\n"
     ]
    },
    {
     "data": {
      "text/plain": [
       "'-'"
      ]
     },
     "execution_count": 83,
     "metadata": {},
     "output_type": "execute_result"
    }
   ],
   "source": [
    "agent.demo_game(True)"
   ]
  },
  {
   "cell_type": "markdown",
   "metadata": {},
   "source": [
    "## Несколько игр с агентом вручную для проверки стандартных комбинаций"
   ]
  },
  {
   "cell_type": "code",
   "execution_count": 84,
   "metadata": {
    "colab": {
     "base_uri": "https://localhost:8080/",
     "height": 1000
    },
    "colab_type": "code",
    "executionInfo": {
     "elapsed": 100822,
     "status": "ok",
     "timestamp": 1594617854061,
     "user": {
      "displayName": "Дмитрий Шерешевский",
      "photoUrl": "https://lh3.googleusercontent.com/a-/AOh14Giembzl_qmFKR42DoX0fGLebX_kyUtm4Zs6FyKw=s64",
      "userId": "15007188307318442356"
     },
     "user_tz": -180
    },
    "id": "-bLJ5Jlwtvfl",
    "outputId": "c112de4a-c732-47ae-bf2e-c1231cf70b33"
   },
   "outputs": [
    {
     "name": "stdout",
     "output_type": "stream",
     "text": [
      " \n",
      "Turn 0\n",
      "\n",
      "       |   |   \n",
      "    -----------\n",
      "       |   |   \n",
      "    -----------\n",
      "       |   |   \n",
      " \n",
      "Turn 1\n",
      "\n",
      "       |   |   \n",
      "    -----------\n",
      "       | X |   \n",
      "    -----------\n",
      "       |   |   \n"
     ]
    },
    {
     "name": "stdin",
     "output_type": "stream",
     "text": [
      "Choose move for O, from [1, 2, 3, 4, 6, 7, 8, 9] :  1\n"
     ]
    },
    {
     "name": "stdout",
     "output_type": "stream",
     "text": [
      " \n",
      "Turn 2\n",
      "\n",
      "     O |   |   \n",
      "    -----------\n",
      "       | X |   \n",
      "    -----------\n",
      "       |   |   \n",
      " \n",
      "Turn 3\n",
      "\n",
      "     O |   |   \n",
      "    -----------\n",
      "     X | X |   \n",
      "    -----------\n",
      "       |   |   \n"
     ]
    },
    {
     "name": "stdin",
     "output_type": "stream",
     "text": [
      "Choose move for O, from [2, 3, 6, 7, 8, 9] :  6\n"
     ]
    },
    {
     "name": "stdout",
     "output_type": "stream",
     "text": [
      " \n",
      "Turn 4\n",
      "\n",
      "     O |   |   \n",
      "    -----------\n",
      "     X | X | O \n",
      "    -----------\n",
      "       |   |   \n",
      " \n",
      "Turn 5\n",
      "\n",
      "     O | X |   \n",
      "    -----------\n",
      "     X | X | O \n",
      "    -----------\n",
      "       |   |   \n"
     ]
    },
    {
     "name": "stdin",
     "output_type": "stream",
     "text": [
      "Choose move for O, from [3, 7, 8, 9] :  8\n"
     ]
    },
    {
     "name": "stdout",
     "output_type": "stream",
     "text": [
      " \n",
      "Turn 6\n",
      "\n",
      "     O | X |   \n",
      "    -----------\n",
      "     X | X | O \n",
      "    -----------\n",
      "       | O |   \n",
      " \n",
      "Turn 7\n",
      "\n",
      "     O | X |   \n",
      "    -----------\n",
      "     X | X | O \n",
      "    -----------\n",
      "     X | O |   \n"
     ]
    },
    {
     "name": "stdin",
     "output_type": "stream",
     "text": [
      "Choose move for O, from [3, 9] :  3\n"
     ]
    },
    {
     "name": "stdout",
     "output_type": "stream",
     "text": [
      " \n",
      "Turn 8\n",
      "\n",
      "     O | X | O \n",
      "    -----------\n",
      "     X | X | O \n",
      "    -----------\n",
      "     X | O |   \n",
      " \n",
      "Turn 9\n",
      "\n",
      "     O | X | O \n",
      "    -----------\n",
      "     X | X | O \n",
      "    -----------\n",
      "     X | O | X \n",
      "\n",
      "It's a draw!\n"
     ]
    },
    {
     "data": {
      "text/plain": [
       "'-'"
      ]
     },
     "execution_count": 84,
     "metadata": {},
     "output_type": "execute_result"
    }
   ],
   "source": [
    "agent.interactive_game()"
   ]
  },
  {
   "cell_type": "code",
   "execution_count": 85,
   "metadata": {
    "colab": {
     "base_uri": "https://localhost:8080/",
     "height": 1000
    },
    "colab_type": "code",
    "executionInfo": {
     "elapsed": 39766,
     "status": "ok",
     "timestamp": 1594617903719,
     "user": {
      "displayName": "Дмитрий Шерешевский",
      "photoUrl": "https://lh3.googleusercontent.com/a-/AOh14Giembzl_qmFKR42DoX0fGLebX_kyUtm4Zs6FyKw=s64",
      "userId": "15007188307318442356"
     },
     "user_tz": -180
    },
    "id": "W7btVgZgtvfp",
    "outputId": "900d3616-268c-4348-d648-f7c502bd7d1d"
   },
   "outputs": [
    {
     "name": "stdout",
     "output_type": "stream",
     "text": [
      " \n",
      "Turn 0\n",
      "\n",
      "       |   |   \n",
      "    -----------\n",
      "       |   |   \n",
      "    -----------\n",
      "       |   |   \n",
      " \n",
      "Turn 1\n",
      "\n",
      "       |   |   \n",
      "    -----------\n",
      "       | X |   \n",
      "    -----------\n",
      "       |   |   \n"
     ]
    },
    {
     "name": "stdin",
     "output_type": "stream",
     "text": [
      "Choose move for O, from [1, 2, 3, 4, 6, 7, 8, 9] :  2\n"
     ]
    },
    {
     "name": "stdout",
     "output_type": "stream",
     "text": [
      " \n",
      "Turn 2\n",
      "\n",
      "       | O |   \n",
      "    -----------\n",
      "       | X |   \n",
      "    -----------\n",
      "       |   |   \n",
      " \n",
      "Turn 3\n",
      "\n",
      "       | O |   \n",
      "    -----------\n",
      "       | X |   \n",
      "    -----------\n",
      "       |   | X \n"
     ]
    },
    {
     "name": "stdin",
     "output_type": "stream",
     "text": [
      "Choose move for O, from [1, 3, 4, 6, 7, 8] :  1\n"
     ]
    },
    {
     "name": "stdout",
     "output_type": "stream",
     "text": [
      " \n",
      "Turn 4\n",
      "\n",
      "     O | O |   \n",
      "    -----------\n",
      "       | X |   \n",
      "    -----------\n",
      "       |   | X \n",
      " \n",
      "Turn 5\n",
      "\n",
      "     O | O | X \n",
      "    -----------\n",
      "       | X |   \n",
      "    -----------\n",
      "       |   | X \n"
     ]
    },
    {
     "name": "stdin",
     "output_type": "stream",
     "text": [
      "Choose move for O, from [4, 6, 7, 8] :  7\n"
     ]
    },
    {
     "name": "stdout",
     "output_type": "stream",
     "text": [
      " \n",
      "Turn 6\n",
      "\n",
      "     O | O | X \n",
      "    -----------\n",
      "       | X |   \n",
      "    -----------\n",
      "     O |   | X \n",
      " \n",
      "Turn 7\n",
      "\n",
      "     O | O | X \n",
      "    -----------\n",
      "       | X | X \n",
      "    -----------\n",
      "     O |   | X \n",
      "\n",
      "X is the winner!\n"
     ]
    },
    {
     "data": {
      "text/plain": [
       "'X'"
      ]
     },
     "execution_count": 85,
     "metadata": {},
     "output_type": "execute_result"
    }
   ],
   "source": [
    "agent.interactive_game()"
   ]
  },
  {
   "cell_type": "code",
   "execution_count": 86,
   "metadata": {
    "colab": {},
    "colab_type": "code",
    "id": "nAlwCyE4tvfr"
   },
   "outputs": [
    {
     "name": "stdout",
     "output_type": "stream",
     "text": [
      " \n",
      "Turn 0\n",
      "\n",
      "       |   |   \n",
      "    -----------\n",
      "       |   |   \n",
      "    -----------\n",
      "       |   |   \n",
      " \n",
      "Turn 1\n",
      "\n",
      "       |   |   \n",
      "    -----------\n",
      "       | X |   \n",
      "    -----------\n",
      "       |   |   \n"
     ]
    },
    {
     "name": "stdin",
     "output_type": "stream",
     "text": [
      "Choose move for O, from [1, 2, 3, 4, 6, 7, 8, 9] :  8\n"
     ]
    },
    {
     "name": "stdout",
     "output_type": "stream",
     "text": [
      " \n",
      "Turn 2\n",
      "\n",
      "       |   |   \n",
      "    -----------\n",
      "       | X |   \n",
      "    -----------\n",
      "       | O |   \n",
      " \n",
      "Turn 3\n",
      "\n",
      "       |   |   \n",
      "    -----------\n",
      "       | X |   \n",
      "    -----------\n",
      "       | O | X \n"
     ]
    },
    {
     "name": "stdin",
     "output_type": "stream",
     "text": [
      "Choose move for O, from [1, 2, 3, 4, 6, 7] :  1\n"
     ]
    },
    {
     "name": "stdout",
     "output_type": "stream",
     "text": [
      " \n",
      "Turn 4\n",
      "\n",
      "     O |   |   \n",
      "    -----------\n",
      "       | X |   \n",
      "    -----------\n",
      "       | O | X \n",
      " \n",
      "Turn 5\n",
      "\n",
      "     O |   | X \n",
      "    -----------\n",
      "       | X |   \n",
      "    -----------\n",
      "       | O | X \n"
     ]
    },
    {
     "name": "stdin",
     "output_type": "stream",
     "text": [
      "Choose move for O, from [2, 4, 6, 7] :  6\n"
     ]
    },
    {
     "name": "stdout",
     "output_type": "stream",
     "text": [
      " \n",
      "Turn 6\n",
      "\n",
      "     O |   | X \n",
      "    -----------\n",
      "       | X | O \n",
      "    -----------\n",
      "       | O | X \n",
      " \n",
      "Turn 7\n",
      "\n",
      "     O |   | X \n",
      "    -----------\n",
      "       | X | O \n",
      "    -----------\n",
      "     X | O | X \n",
      "\n",
      "X is the winner!\n"
     ]
    },
    {
     "data": {
      "text/plain": [
       "'X'"
      ]
     },
     "execution_count": 86,
     "metadata": {},
     "output_type": "execute_result"
    }
   ],
   "source": [
    "agent.interactive_game()"
   ]
  },
  {
   "cell_type": "markdown",
   "metadata": {},
   "source": [
    "**Резюме:** агент играет **оптимально**"
   ]
  },
  {
   "cell_type": "markdown",
   "metadata": {},
   "source": [
    "## Вывод:\n",
    "Агент явно обучился. Об этом говорит следующее:\n",
    "- расчет обученным агентом значения **Q_func** для **первого хода Х** - оптимальный уверенно по центру\n",
    "- **первый ход O** тоже обучился правильно. Более того, **все** оптимальные первые ходы нолика (угловые) тоже более приоритетны по Q_func (с учетом того, что для ноликов мы выбираем по минимуму).\n",
    "- выборочные проверки вычисления значений **Q_func** некоторых **заранее известных** состояний  (выигрышей, проигрышей и ничьих) - все расчитано правильно. \n",
    "- а также несколько сыгранных с агентом игр. Агент играл каждый раз оптимально.   \n",
    "- Лосс уменьшается в процессе обучения   \n",
    "- Результат на демо: итоговый **percentage results: {'X': 0.0, 'O': 0.0, '-': 100.0}**. Динамика обучения по **percentage results** хорошо видна и наглядна.   \n",
    "   \n",
    "**Итого:** агент обучился правильно."
   ]
  }
 ],
 "metadata": {
  "accelerator": "GPU",
  "colab": {
   "name": "hw16_tictactoe_Q-func.ipynb",
   "provenance": []
  },
  "kernelspec": {
   "display_name": "Python 3",
   "language": "python",
   "name": "python3"
  },
  "language_info": {
   "codemirror_mode": {
    "name": "ipython",
    "version": 3
   },
   "file_extension": ".py",
   "mimetype": "text/x-python",
   "name": "python",
   "nbconvert_exporter": "python",
   "pygments_lexer": "ipython3",
   "version": "3.7.7"
  }
 },
 "nbformat": 4,
 "nbformat_minor": 4
}
