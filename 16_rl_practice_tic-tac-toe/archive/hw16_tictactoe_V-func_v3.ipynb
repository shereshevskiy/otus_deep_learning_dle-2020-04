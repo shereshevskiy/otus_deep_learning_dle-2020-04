{
 "cells": [
  {
   "cell_type": "markdown",
   "metadata": {
    "colab_type": "text",
    "id": "BfvM5roCtvfM"
   },
   "source": [
    "# <center>Домашняя работа по лекции 16\n",
    "# <center>Reinforcement learning - обучение с подкреплением\n",
    "# <center>на примеры игы в крестики-нолики\n",
    "### Задание:\n",
    "Опираясь на табличное обучение с подкреплением реализовать и обучить нейронную Q-функцию.\n",
    "\n",
    "#### Решение здесь - через **V**"
   ]
  },
  {
   "cell_type": "code",
   "execution_count": 1,
   "metadata": {
    "colab": {},
    "colab_type": "code",
    "id": "SHRQiCSPtvfN"
   },
   "outputs": [],
   "source": [
    "import torch\n",
    "import torch.nn as nn\n",
    "import torch.nn.functional as F\n",
    "import copy"
   ]
  },
  {
   "cell_type": "code",
   "execution_count": 2,
   "metadata": {
    "colab": {},
    "colab_type": "code",
    "id": "rxmS8WSIWyNH"
   },
   "outputs": [],
   "source": [
    "import matplotlib.pyplot as plt"
   ]
  },
  {
   "cell_type": "code",
   "execution_count": 3,
   "metadata": {
    "colab": {
     "base_uri": "https://localhost:8080/",
     "height": 34
    },
    "colab_type": "code",
    "id": "NhMNuGLqt-mn",
    "outputId": "e27f0c54-2da6-4645-aac0-1677c71a4bc9"
   },
   "outputs": [
    {
     "data": {
      "text/plain": [
       "device(type='cpu')"
      ]
     },
     "execution_count": 3,
     "metadata": {},
     "output_type": "execute_result"
    }
   ],
   "source": [
    "device = torch.device(\"cuda:0\" if torch.cuda.is_available() else \"cpu\")\n",
    "device"
   ]
  },
  {
   "cell_type": "code",
   "execution_count": 4,
   "metadata": {
    "colab": {},
    "colab_type": "code",
    "id": "Hzoz7xfStvfQ"
   },
   "outputs": [],
   "source": [
    "# Copied from https://github.com/neilslater/game_playing_scripts\n",
    "\n",
    "'''\n",
    "   Copyright 2017 Neil Slater\n",
    "\n",
    "   Licensed under the Apache License, Version 2.0 (the \"License\");\n",
    "   you may not use this file except in compliance with the License.\n",
    "   You may obtain a copy of the License at\n",
    "\n",
    "       http://www.apache.org/licenses/LICENSE-2.0\n",
    "\n",
    "   Unless required by applicable law or agreed to in writing, software\n",
    "   distributed under the License is distributed on an \"AS IS\" BASIS,\n",
    "   WITHOUT WARRANTIES OR CONDITIONS OF ANY KIND, either express or implied.\n",
    "   See the License for the specific language governing permissions and\n",
    "   limitations under the License.\n",
    "'''\n",
    "\n",
    "import numpy as np\n",
    "import random\n",
    "\n",
    "class TicTacToeGame():\n",
    "    def __init__(self):\n",
    "        self.state = '         '\n",
    "        self.player = 'X'\n",
    "        self.winner = None\n",
    "\n",
    "    def allowed_moves(self):\n",
    "        states = []\n",
    "        for i in range(len(self.state)):\n",
    "            if self.state[i] == ' ':\n",
    "                states.append(self.state[:i] + self.player + self.state[i+1:])\n",
    "        return states\n",
    "\n",
    "    def make_move(self, next_state):  # или ход привел к чьей-то победе, или переход хода\n",
    "        if self.winner:\n",
    "            raise(Exception(\"Game already completed, cannot make another move!\"))\n",
    "        if not self.__valid_move(next_state):\n",
    "            raise(Exception(\"Cannot make move {} to {} for player {}\".format(\n",
    "                    self.state, next_state, self.player)))\n",
    "\n",
    "        self.state = next_state\n",
    "        self.winner = self.predict_winner(self.state)\n",
    "        if self.winner:\n",
    "            self.player = None\n",
    "        elif self.player == 'X':\n",
    "            self.player = 'O'\n",
    "        else:\n",
    "            self.player = 'X'\n",
    "\n",
    "    def playable(self):\n",
    "        return ( (not self.winner) and any(self.allowed_moves()) )  # победителя еще нет и есть доступные ходы\n",
    "\n",
    "    def predict_winner(self, state):\n",
    "        lines = [(0,1,2), (3,4,5), (6,7,8), (0,3,6), (1,4,7), (2,5,8), (0,4,8), (2,4,6)]\n",
    "        winner = None\n",
    "        for line in lines:\n",
    "            line_state = state[line[0]] + state[line[1]] + state[line[2]]\n",
    "            if line_state == 'XXX':\n",
    "                winner = 'X'\n",
    "            elif line_state == 'OOO':\n",
    "                winner = 'O'\n",
    "        return winner\n",
    "\n",
    "    def __valid_move(self, next_state):\n",
    "        allowed_moves = self.allowed_moves()\n",
    "        if any(state == next_state for state in allowed_moves):\n",
    "            return True\n",
    "        return False\n",
    "\n",
    "    def print_board(self):\n",
    "        s = self.state\n",
    "        print('     {} | {} | {} '.format(s[0],s[1],s[2]))\n",
    "        print('    -----------')\n",
    "        print('     {} | {} | {} '.format(s[3],s[4],s[5]))\n",
    "        print('    -----------')\n",
    "        print('     {} | {} | {} '.format(s[6],s[7],s[8]))\n"
   ]
  },
  {
   "cell_type": "code",
   "execution_count": 5,
   "metadata": {
    "colab": {},
    "colab_type": "code",
    "id": "bXX62QmYtvfV"
   },
   "outputs": [],
   "source": [
    "class Agent():\n",
    "    def __init__(self, game_class, model, criterion, epsilon=0.1, vdelta=0.1, lr=0.001, gamma=1.0, player_mark='X'):\n",
    "        self.V = model.to(device)\n",
    "        self.NewGame = game_class\n",
    "        self.epsilon = epsilon\n",
    "        self.vdelta = vdelta\n",
    "        self.criterion = criterion\n",
    "        self.optimizer = torch.optim.Adadelta(self.V.parameters())\n",
    "        self.player_mark = player_mark\n",
    "        self.gamma = gamma\n",
    "        self.alpha = 0.9\n",
    "        self.losses = []\n",
    "        self.total_episode = 0\n",
    "        self.history = {'positions': [], 'moves': [], 'rewards': []}\n",
    "        self.batches = None\n",
    "\n",
    "    def history_reset(self):\n",
    "        self.history = {'positions': [], 'moves': [], 'rewards': []}\n",
    "    \n",
    "    @staticmethod\n",
    "    def statetotensor(state):\n",
    "        sign_to_value = {\"X\": 1.0, \"O\": -1.0, \" \": 0.0}\n",
    "        tensor = torch.FloatTensor([sign_to_value[item] for item in state]).requires_grad_(True).view(1, len(state)).to(device)\n",
    "        return tensor\n",
    "\n",
    "    def state_value(self, game_state, V_freezed=None):\n",
    "        V = V_freezed or self.V\n",
    "        if game_state:\n",
    "            value = V(self.statetotensor(game_state))\n",
    "        else:\n",
    "            value = torch.FloatTensor([0.]).requires_grad_(True).view(1, 1).to(device)\n",
    "        return value\n",
    "\n",
    "    def learn_game(self, num_episodes=1000, reset=False):\n",
    "        if reset:\n",
    "            self.total_episode = 0\n",
    "            self.history_reset()\n",
    "        for episode in range(num_episodes):\n",
    "            self.learn_from_episode()\n",
    "            self.total_episode += 1\n",
    "    \n",
    "    def learn_from_episode(self): \n",
    "        game = self.NewGame()\n",
    "        _, move = self.learn_select_move(game)  # выбираем начальный ход (учитываем заданное правило)\n",
    "        while move:\n",
    "            move = self.learn_from_move(game, move)\n",
    "        if self.total_episode % 1000 == 0 and self.total_episode > 0:\n",
    "            self.process_learning()\n",
    "            self.history_reset()\n",
    "\n",
    "    def _batching(self):\n",
    "        batch_size = 100\n",
    "        self.batches = []\n",
    "        batch = []\n",
    "        for i in range(len(self.history['moves'])):\n",
    "            state = self.history['positions'][i]\n",
    "            best_next_move = self.history['moves'][i]\n",
    "            r = self.history['rewards'][i]\n",
    "            batch.append([state, best_next_move, r])\n",
    "            if (i + 1) % batch_size == 0:\n",
    "                self.batches.append(batch)\n",
    "                batch = []\n",
    "        return self.batches\n",
    "\n",
    "    def process_learning(self):\n",
    "        \"\"\"update policy table based on latest game\"\"\"\n",
    "        self._batching()\n",
    "        # raise(ValueError)\n",
    "\n",
    "        V_freezed = copy.deepcopy(self.V).requires_grad_(False)\n",
    "        for batch in self.batches:\n",
    "            loss = 0\n",
    "            for state, best_next_move, r in batch:\n",
    "                current_state_value = self.state_value(state)\n",
    "                next_state_value = self.state_value(best_next_move, V_freezed)\n",
    "\n",
    "                td_target = r + self.gamma * next_state_value\n",
    "                loss += self.criterion(current_state_value, td_target)\n",
    "\n",
    "            loss /= len(batch)\n",
    "            # обучаем сеть\n",
    "            self.V.zero_grad()\n",
    "            self.losses.append(loss.data.item())\n",
    "            loss.backward()\n",
    "            # делаем шаг в сторону улучшения модели\n",
    "            self.optimizer.step()\n",
    "                                        \n",
    "    @staticmethod\n",
    "    def digit_to_target(digit):\n",
    "        return torch.FloatTensor([digit]).view(1, 1).requires_grad_(True).to(device)\n",
    "    \n",
    "    def learn_from_move(self, game, move):\n",
    "        \"\"\"\n",
    "        make move and collect learning from it\n",
    "        \"\"\"\n",
    "        game.make_move(move)  # проверяет, есть ли победитель в game.winner, и если нет - переход хода\n",
    "        r = self.__reward(game)  # вычисляем вознаграждение за ход move\n",
    "        next_state_value = 0.0\n",
    "        selected_next_move = None\n",
    "        if game.playable():  # победителя еще нет и есть доступные ходы\n",
    "            with torch.no_grad():\n",
    "                best_next_move, selected_next_move = self.learn_select_move(game)\n",
    "        \n",
    "        \n",
    "        self.history['positions'].append(move)\n",
    "        self.history['rewards'].append(r)\n",
    "        self.history['moves'].append(selected_next_move) \n",
    "\n",
    "        return selected_next_move\n",
    "\n",
    "    def learn_select_move(self, game):\n",
    "        allowed_state_values = self.__state_values(game.allowed_moves())  # словарь состояние-значение\n",
    "        if game.player == self.player_mark:\n",
    "            best_move = self.__argmax_V(allowed_state_values)\n",
    "        else:\n",
    "            best_move = self.__argmin_V(allowed_state_values)\n",
    "\n",
    "        selected_move = best_move\n",
    "        if random.random() < self.epsilon:   # добавляем случайный ход (pздесь - в 10%, согласно epsilon)\n",
    "            selected_move = self.__random_V(allowed_state_values)\n",
    "\n",
    "        return (best_move, selected_move)\n",
    "\n",
    "    def play_select_move(self, game):\n",
    "        allowed_state_values = self.__state_values(game.allowed_moves())  # словарь с доступными ходами и их values\n",
    "        if game.player == self.player_mark:\n",
    "            return self.__argmax_V(allowed_state_values)  # выбираем наулучших ход для player_mark\n",
    "        else:\n",
    "            # ходит \"не player_mark\": выбираем наулучших ход для \"не player_mark\" (== наихудший для player_mark)\n",
    "            return self.__argmin_V(allowed_state_values)  \n",
    "    \n",
    "    def demo_game(self, verbose=False):\n",
    "        game = self.NewGame()\n",
    "        t = 0\n",
    "        while game.playable():  # пока нет победителя и есть доступные ходы\n",
    "            if verbose:\n",
    "                print(\" \\nTurn {}\\n\".format(t))\n",
    "                game.print_board()\n",
    "            move = self.play_select_move(game)\n",
    "            game.make_move(move)  # или ход привел к чьей-то победе, или переход хода\n",
    "            t += 1\n",
    "        if verbose:\n",
    "            print(\" \\nTurn {}\\n\".format(t))\n",
    "            game.print_board()\n",
    "        if game.winner:\n",
    "            if verbose:\n",
    "                print(\"\\n{} is the winner!\".format(game.winner))\n",
    "            return game.winner\n",
    "        else:\n",
    "            if verbose:\n",
    "                print(\"\\nIt's a draw!\")\n",
    "            return '-'\n",
    "\n",
    "    def interactive_game(self, agent_player='X'):\n",
    "        game = self.NewGame()\n",
    "        t = 0\n",
    "        while game.playable():\n",
    "            print(\" \\nTurn {}\\n\".format(t))\n",
    "            game.print_board()\n",
    "            if game.player == agent_player:\n",
    "                move = self.play_select_move(game)  # делаем ход (выбранное новое состояние)\n",
    "                game.make_move(move)\n",
    "            else:\n",
    "                move = self.__request_human_move(game)\n",
    "                game.make_move(move)\n",
    "            t += 1\n",
    "\n",
    "        print(\" \\nTurn {}\\n\".format(t))\n",
    "        game.print_board()\n",
    "\n",
    "        if game.winner:\n",
    "            print(\"\\n{} is the winner!\".format(game.winner))\n",
    "            return game.winner\n",
    "        print(\"\\nIt's a draw!\")\n",
    "        return '-'\n",
    "\n",
    "    def __state_values(self, game_states):\n",
    "        return dict((state, self.state_value(state)) for state in game_states)\n",
    "\n",
    "    def __argmax_V(self, state_values):\n",
    "        max_V = max(state_values.values())\n",
    "        chosen_state = random.choice([state for state, v in state_values.items() if v >= max_V - self.vdelta])\n",
    "        return chosen_state\n",
    "\n",
    "    def __argmin_V(self, state_values):\n",
    "        min_V = min(state_values.values())\n",
    "        chosen_state = random.choice([state for state, v in state_values.items() if v <= min_V + self.vdelta])\n",
    "        return chosen_state\n",
    "\n",
    "    def __random_V(self, state_values):\n",
    "        return random.choice(list(state_values.keys()))\n",
    "\n",
    "    def __reward(self, game):\n",
    "        if game.winner == self.player_mark:\n",
    "            return 1.0\n",
    "        elif game.winner:\n",
    "            return -1.0\n",
    "        else:\n",
    "            return 0.0\n",
    "\n",
    "    def __request_human_move(self, game):\n",
    "        allowed_moves = [i+1 for i in range(9) if game.state[i] == ' ']\n",
    "        human_move = None\n",
    "        while not human_move:\n",
    "            idx = int(input('Choose move for {}, from {} : '.format(game.player, allowed_moves)))\n",
    "            if any([i==idx for i in allowed_moves]):\n",
    "                human_move = game.state[:idx-1] + game.player + game.state[idx:]\n",
    "        return human_move"
   ]
  },
  {
   "cell_type": "code",
   "execution_count": 6,
   "metadata": {
    "colab": {},
    "colab_type": "code",
    "id": "GWW2ahh5tvfY"
   },
   "outputs": [],
   "source": [
    "class VModel(nn.Module):\n",
    "    \n",
    "    def __init__(self):\n",
    "        super().__init__()\n",
    "        self.fc1 = nn.Linear(9, 50) \n",
    "        self.fc2 = nn.Linear(50, 50)\n",
    "        self.fc3 = nn.Linear(50, 50)\n",
    "        self.fc4 = nn.Linear(50, 50)\n",
    "        self.fc5 = nn.Linear(50, 1)\n",
    "        \n",
    "    def forward(self, x):\n",
    "        x = F.relu(self.fc1(x))\n",
    "        x = F.relu(self.fc2(x))\n",
    "        x = F.relu(self.fc3(x))\n",
    "        x = F.relu(self.fc4(x))\n",
    "        x = self.fc5(x)\n",
    "        return x"
   ]
  },
  {
   "cell_type": "code",
   "execution_count": 7,
   "metadata": {
    "colab": {},
    "colab_type": "code",
    "id": "2peOBTLLtvfa"
   },
   "outputs": [],
   "source": [
    "def demo_game_stats(agent, games_num=1000):\n",
    "    results = [agent.demo_game() for i in range(games_num)]\n",
    "    game_stats = {k: round(results.count(k) / games_num * 100, 1) for k in ['X', 'O', '-']}\n",
    "    print(\"    percentage results: {}\".format(game_stats))"
   ]
  },
  {
   "cell_type": "code",
   "execution_count": 20,
   "metadata": {
    "colab": {
     "base_uri": "https://localhost:8080/",
     "height": 118
    },
    "colab_type": "code",
    "id": "yod3ysVGhhkP",
    "outputId": "90b9780f-2493-469d-88e9-1f6e4bcbd96a"
   },
   "outputs": [
    {
     "name": "stdout",
     "output_type": "stream",
     "text": [
      "Before learning:\n",
      "    percentage results: {'X': 59.8, 'O': 26.9, '-': 13.3}\n",
      "After 10000 learning games:\n",
      "    percentage results: {'X': 69.1, 'O': 2.6, '-': 28.3}\n",
      "Wall time: 2min 35s\n"
     ]
    }
   ],
   "source": [
    "%%time\n",
    "\n",
    "agent = Agent(TicTacToeGame, model=VModel(), criterion=nn.MSELoss(), epsilon=0.3, lr=0.1, gamma=1.0)\n",
    "total_episodes = 0\n",
    "print(\"Before learning:\")\n",
    "demo_game_stats(agent)\n",
    "\n",
    "num_episodes = 10_000\n",
    "total_episodes += num_episodes\n",
    "agent.learn_game(num_episodes)\n",
    "print(f\"After {total_episodes} learning games:\")\n",
    "demo_game_stats(agent)"
   ]
  },
  {
   "cell_type": "code",
   "execution_count": 21,
   "metadata": {},
   "outputs": [
    {
     "name": "stdout",
     "output_type": "stream",
     "text": [
      "After 20000 learning games:\n",
      "    percentage results: {'X': 17.9, 'O': 0.0, '-': 82.1}\n"
     ]
    }
   ],
   "source": [
    "%%time\n",
    "\n",
    "num_episodes = 10_000\n",
    "total_episodes += num_episodes\n",
    "agent.learn_game(num_episodes)\n",
    "print(f\"After {total_episodes} learning games:\")\n",
    "demo_game_stats(agent)"
   ]
  },
  {
   "cell_type": "code",
   "execution_count": 22,
   "metadata": {},
   "outputs": [
    {
     "name": "stdout",
     "output_type": "stream",
     "text": [
      "After 30000 learning games:\n",
      "    percentage results: {'X': 0.0, 'O': 0.0, '-': 100.0}\n",
      "Wall time: 2min 37s\n"
     ]
    }
   ],
   "source": [
    "%%time\n",
    "\n",
    "num_episodes = 10_000\n",
    "total_episodes += num_episodes\n",
    "agent.learn_game(num_episodes)\n",
    "print(f\"After {total_episodes} learning games:\")\n",
    "demo_game_stats(agent)"
   ]
  },
  {
   "cell_type": "markdown",
   "metadata": {},
   "source": [
    "#### Посмотрим сэмплы в одном из батчей, чтобы посчитать Value для состояний с известными Value"
   ]
  },
  {
   "cell_type": "code",
   "execution_count": 23,
   "metadata": {
    "colab": {
     "base_uri": "https://localhost:8080/",
     "height": 1000
    },
    "colab_type": "code",
    "id": "mpSoDMeNfKdq",
    "outputId": "90eb9b00-e5f8-4f06-94c8-22e3bbfaa3e4"
   },
   "outputs": [
    {
     "data": {
      "text/plain": [
       "[['    X  O ', '    X XO ', 0.0],\n",
       " ['    X XO ', 'O   X XO ', 0.0],\n",
       " ['O   X XO ', 'O X X XO ', 0.0],\n",
       " ['O X X XO ', None, 1.0],\n",
       " ['      X  ', 'O     X  ', 0.0],\n",
       " ['O     X  ', 'O     X X', 0.0],\n",
       " ['O     X X', 'O     XOX', 0.0],\n",
       " ['O     XOX', 'O   X XOX', 0.0],\n",
       " ['O   X XOX', 'OO  X XOX', 0.0],\n",
       " ['OO  X XOX', 'OOX X XOX', 0.0],\n",
       " ['OOX X XOX', None, 1.0],\n",
       " ['      X  ', ' O    X  ', 0.0],\n",
       " [' O    X  ', ' O    XX ', 0.0],\n",
       " [' O    XX ', ' O    XXO', 0.0],\n",
       " [' O    XXO', 'XO    XXO', 0.0],\n",
       " ['XO    XXO', 'XO   OXXO', 0.0],\n",
       " ['XO   OXXO', 'XOX  OXXO', 0.0],\n",
       " ['XOX  OXXO', 'XOXO OXXO', 0.0],\n",
       " ['XOXO OXXO', 'XOXOXOXXO', 0.0],\n",
       " ['XOXOXOXXO', None, 1.0],\n",
       " ['    X    ', '    X O  ', 0.0],\n",
       " ['    X O  ', 'X   X O  ', 0.0],\n",
       " ['X   X O  ', 'X   X O O', 0.0],\n",
       " ['X   X O O', 'X   X OXO', 0.0],\n",
       " ['X   X OXO', 'XO  X OXO', 0.0],\n",
       " ['XO  X OXO', 'XO  XXOXO', 0.0],\n",
       " ['XO  XXOXO', 'XO OXXOXO', 0.0],\n",
       " ['XO OXXOXO', 'XOXOXXOXO', 0.0],\n",
       " ['XOXOXXOXO', None, 0.0],\n",
       " ['      X  ', '    O X  ', 0.0],\n",
       " ['    O X  ', '    O X X', 0.0],\n",
       " ['    O X X', '   OO X X', 0.0],\n",
       " ['   OO X X', '   OO XXX', 0.0],\n",
       " ['   OO XXX', None, 1.0],\n",
       " ['    X    ', '    X   O', 0.0],\n",
       " ['    X   O', '    XX  O', 0.0],\n",
       " ['    XX  O', '   OXX  O', 0.0],\n",
       " ['   OXX  O', '   OXXX O', 0.0],\n",
       " ['   OXXX O', '  OOXXX O', 0.0],\n",
       " ['  OOXXX O', ' XOOXXX O', 0.0],\n",
       " [' XOOXXX O', ' XOOXXXOO', 0.0],\n",
       " [' XOOXXXOO', 'XXOOXXXOO', 0.0],\n",
       " ['XXOOXXXOO', None, 0.0],\n",
       " ['    X    ', ' O  X    ', 0.0],\n",
       " [' O  X    ', 'XO  X    ', 0.0],\n",
       " ['XO  X    ', 'XO  X   O', 0.0],\n",
       " ['XO  X   O', 'XO  X X O', 0.0],\n",
       " ['XO  X X O', 'XO  XOX O', 0.0],\n",
       " ['XO  XOX O', 'XOX XOX O', 0.0],\n",
       " ['XOX XOX O', None, 1.0],\n",
       " ['    X    ', '    X O  ', 0.0],\n",
       " ['    X O  ', 'X   X O  ', 0.0],\n",
       " ['X   X O  ', 'X   X O O', 0.0],\n",
       " ['X   X O O', 'X   X OXO', 0.0],\n",
       " ['X   X OXO', 'XO  X OXO', 0.0],\n",
       " ['XO  X OXO', 'XOX X OXO', 0.0],\n",
       " ['XOX X OXO', 'XOX XOOXO', 0.0],\n",
       " ['XOX XOOXO', 'XOXXXOOXO', 0.0],\n",
       " ['XOXXXOOXO', None, 0.0],\n",
       " ['    X    ', '    X O  ', 0.0],\n",
       " ['    X O  ', '    X O X', 0.0],\n",
       " ['    X O X', 'O   X O X', 0.0],\n",
       " ['O   X O X', 'O  XX O X', 0.0],\n",
       " ['O  XX O X', 'O  XXOO X', 0.0],\n",
       " ['O  XXOO X', 'OX XXOO X', 0.0],\n",
       " ['OX XXOO X', 'OX XXOOOX', 0.0],\n",
       " ['OX XXOOOX', 'OXXXXOOOX', 0.0],\n",
       " ['OXXXXOOOX', None, 0.0],\n",
       " ['    X    ', '    X   O', 0.0],\n",
       " ['    X   O', '    XX  O', 0.0],\n",
       " ['    XX  O', '   OXX  O', 0.0],\n",
       " ['   OXX  O', '   OXXX O', 0.0],\n",
       " ['   OXXX O', ' O OXXX O', 0.0],\n",
       " [' O OXXX O', ' O OXXXXO', 0.0],\n",
       " [' O OXXXXO', 'OO OXXXXO', 0.0],\n",
       " ['OO OXXXXO', 'OOXOXXXXO', 0.0],\n",
       " ['OOXOXXXXO', None, 1.0],\n",
       " ['      X  ', 'O     X  ', 0.0],\n",
       " ['O     X  ', 'O     XX ', 0.0],\n",
       " ['O     XX ', 'O   O XX ', 0.0],\n",
       " ['O   O XX ', 'O   O XXX', 0.0],\n",
       " ['O   O XXX', None, 1.0],\n",
       " ['      X  ', '      XO ', 0.0],\n",
       " ['      XO ', '    X XO ', 0.0],\n",
       " ['    X XO ', 'O   X XO ', 0.0],\n",
       " ['O   X XO ', 'O X X XO ', 0.0],\n",
       " ['O X X XO ', None, 1.0],\n",
       " ['    X    ', '    X O  ', 0.0],\n",
       " ['    X O  ', ' X  X O  ', 0.0],\n",
       " [' X  X O  ', ' X OX O  ', 0.0],\n",
       " [' X OX O  ', ' X OX OX ', 0.0],\n",
       " [' X OX OX ', None, 1.0],\n",
       " ['    X    ', '    X O  ', 0.0],\n",
       " ['    X O  ', '    X O X', 0.0],\n",
       " ['    X O X', 'O   X O X', 0.0],\n",
       " ['O   X O X', 'O  XX O X', 0.0],\n",
       " ['O  XX O X', 'O  XXOO X', 0.0],\n",
       " ['O  XXOO X', 'OX XXOO X', 0.0],\n",
       " ['OX XXOO X', 'OX XXOOOX', 0.0],\n",
       " ['OX XXOOOX', 'OXXXXOOOX', 0.0]]"
      ]
     },
     "execution_count": 23,
     "metadata": {},
     "output_type": "execute_result"
    }
   ],
   "source": [
    "agent.batches[2]"
   ]
  },
  {
   "cell_type": "markdown",
   "metadata": {},
   "source": [
    "#### Посмотрим Value для некторых комбинаций и сравним с тем, что должно быть"
   ]
  },
  {
   "cell_type": "code",
   "execution_count": 24,
   "metadata": {
    "colab": {
     "base_uri": "https://localhost:8080/",
     "height": 34
    },
    "colab_type": "code",
    "id": "OymZoZrZd8TB",
    "outputId": "3a65ee62-b5b0-4b35-f443-65b393e20e56"
   },
   "outputs": [
    {
     "data": {
      "text/plain": [
       "0.046"
      ]
     },
     "execution_count": 24,
     "metadata": {},
     "output_type": "execute_result"
    }
   ],
   "source": [
    "round(agent.state_value('XOOOXXXXO').item(), 4)  # = 0"
   ]
  },
  {
   "cell_type": "code",
   "execution_count": 25,
   "metadata": {
    "colab": {
     "base_uri": "https://localhost:8080/",
     "height": 34
    },
    "colab_type": "code",
    "id": "OymZoZrZd8TB",
    "outputId": "3a65ee62-b5b0-4b35-f443-65b393e20e56"
   },
   "outputs": [
    {
     "data": {
      "text/plain": [
       "-1.1436"
      ]
     },
     "execution_count": 25,
     "metadata": {},
     "output_type": "execute_result"
    }
   ],
   "source": [
    "round(agent.state_value('O  OXXOX ').item(), 4)  # = -1"
   ]
  },
  {
   "cell_type": "code",
   "execution_count": 26,
   "metadata": {
    "colab": {
     "base_uri": "https://localhost:8080/",
     "height": 34
    },
    "colab_type": "code",
    "id": "OymZoZrZd8TB",
    "outputId": "3a65ee62-b5b0-4b35-f443-65b393e20e56"
   },
   "outputs": [
    {
     "data": {
      "text/plain": [
       "1.0103"
      ]
     },
     "execution_count": 26,
     "metadata": {},
     "output_type": "execute_result"
    }
   ],
   "source": [
    "round(agent.state_value('O  XXXO  ').item(), 4)  # = 1"
   ]
  },
  {
   "cell_type": "code",
   "execution_count": 27,
   "metadata": {
    "colab": {
     "base_uri": "https://localhost:8080/",
     "height": 34
    },
    "colab_type": "code",
    "id": "OymZoZrZd8TB",
    "outputId": "3a65ee62-b5b0-4b35-f443-65b393e20e56"
   },
   "outputs": [
    {
     "data": {
      "text/plain": [
       "1.1742"
      ]
     },
     "execution_count": 27,
     "metadata": {},
     "output_type": "execute_result"
    }
   ],
   "source": [
    "round(agent.state_value('X X XOXOO').item(), 4)  # = 1"
   ]
  },
  {
   "cell_type": "code",
   "execution_count": 28,
   "metadata": {
    "colab": {
     "base_uri": "https://localhost:8080/",
     "height": 34
    },
    "colab_type": "code",
    "id": "OymZoZrZd8TB",
    "outputId": "3a65ee62-b5b0-4b35-f443-65b393e20e56"
   },
   "outputs": [
    {
     "data": {
      "text/plain": [
       "1.0554"
      ]
     },
     "execution_count": 28,
     "metadata": {},
     "output_type": "execute_result"
    }
   ],
   "source": [
    "round(agent.state_value(' X  X OXO').item(), 4)  # = 1"
   ]
  },
  {
   "cell_type": "code",
   "execution_count": 29,
   "metadata": {
    "colab": {
     "base_uri": "https://localhost:8080/",
     "height": 34
    },
    "colab_type": "code",
    "id": "OymZoZrZd8TB",
    "outputId": "3a65ee62-b5b0-4b35-f443-65b393e20e56"
   },
   "outputs": [
    {
     "data": {
      "text/plain": [
       "1.0968"
      ]
     },
     "execution_count": 29,
     "metadata": {},
     "output_type": "execute_result"
    }
   ],
   "source": [
    "round(agent.state_value(' OXOX X  ').item(), 4)  # = 1"
   ]
  },
  {
   "cell_type": "code",
   "execution_count": 30,
   "metadata": {
    "colab": {
     "base_uri": "https://localhost:8080/",
     "height": 34
    },
    "colab_type": "code",
    "id": "OymZoZrZd8TB",
    "outputId": "3a65ee62-b5b0-4b35-f443-65b393e20e56"
   },
   "outputs": [
    {
     "data": {
      "text/plain": [
       "0.0073"
      ]
     },
     "execution_count": 30,
     "metadata": {},
     "output_type": "execute_result"
    }
   ],
   "source": [
    "round(agent.state_value('XOXOXXOXO').item(), 4)  # = 0"
   ]
  },
  {
   "cell_type": "code",
   "execution_count": 31,
   "metadata": {
    "colab": {
     "base_uri": "https://localhost:8080/",
     "height": 34
    },
    "colab_type": "code",
    "id": "OymZoZrZd8TB",
    "outputId": "3a65ee62-b5b0-4b35-f443-65b393e20e56"
   },
   "outputs": [
    {
     "data": {
      "text/plain": [
       "0.0235"
      ]
     },
     "execution_count": 31,
     "metadata": {},
     "output_type": "execute_result"
    }
   ],
   "source": [
    "round(agent.state_value('OXOXXOXOX').item(), 4)  # = 0"
   ]
  },
  {
   "cell_type": "markdown",
   "metadata": {},
   "source": [
    "**Резюме:** **все** выигрыши, проигрыши и ничьи определены **верно** "
   ]
  },
  {
   "cell_type": "markdown",
   "metadata": {},
   "source": [
    "#### Посмотрим, как обучился первый ход X"
   ]
  },
  {
   "cell_type": "code",
   "execution_count": 33,
   "metadata": {
    "colab": {
     "base_uri": "https://localhost:8080/",
     "height": 34
    },
    "colab_type": "code",
    "id": "OymZoZrZd8TB",
    "outputId": "3a65ee62-b5b0-4b35-f443-65b393e20e56"
   },
   "outputs": [
    {
     "name": "stdout",
     "output_type": "stream",
     "text": [
      "1 X         0.2496\n",
      "2  X        0.2283\n",
      "3   X       0.2412\n",
      "4    X      0.2308\n",
      "5     X     0.3697\n",
      "6      X    0.221\n",
      "7       X   0.5112\n",
      "8        X  0.2448\n",
      "9         X 0.3452\n"
     ]
    }
   ],
   "source": [
    "for i in range(9):\n",
    "    state = [' '] * 9\n",
    "    state[i] = 'X'\n",
    "    state = ''.join(state)\n",
    "    print(i + 1, state, round(agent.state_value(state).item(), 4))"
   ]
  },
  {
   "cell_type": "markdown",
   "metadata": {},
   "source": [
    "**Резюме:** первый ход обучился правильно (по центру, см. 5 строку)"
   ]
  },
  {
   "cell_type": "markdown",
   "metadata": {},
   "source": [
    "#### Первый ход для **О**"
   ]
  },
  {
   "cell_type": "code",
   "execution_count": 34,
   "metadata": {
    "colab": {
     "base_uri": "https://localhost:8080/",
     "height": 34
    },
    "colab_type": "code",
    "id": "OymZoZrZd8TB",
    "outputId": "3a65ee62-b5b0-4b35-f443-65b393e20e56"
   },
   "outputs": [
    {
     "name": "stdout",
     "output_type": "stream",
     "text": [
      "1 O   X     0.3041\n",
      "2  O  X     0.7136\n",
      "3   O X     0.4019\n",
      "4    OX     0.6691\n",
      "6     XO    0.7314\n",
      "7     X O   0.2765\n",
      "8     X  O  0.6295\n",
      "9     X   O 0.306\n"
     ]
    }
   ],
   "source": [
    "state = [' '] * 9\n",
    "state[4] = 'X'\n",
    "for i in range(9):\n",
    "    state_ = state.copy()\n",
    "    if i + 1 != 5:\n",
    "        state_[i] = 'O'\n",
    "        state_ = ''.join(state_)\n",
    "        print(i + 1, state_, round(agent.state_value(state_).item(), 4))"
   ]
  },
  {
   "cell_type": "markdown",
   "metadata": {},
   "source": [
    "**Резюме:** первый ход для **О** обучился правильно (в угол, см. 6 строку). кроме того, все угловые ходы имеют более высокий приоритет (с учетом того, что для **О** мы вибираем по минимуму), что как раз оптимальнее."
   ]
  },
  {
   "cell_type": "code",
   "execution_count": 21,
   "metadata": {
    "colab": {
     "base_uri": "https://localhost:8080/",
     "height": 34
    },
    "colab_type": "code",
    "id": "t4825dCuErw9",
    "outputId": "7377f5b7-eeb6-4950-eb0e-c4ceebc6c877"
   },
   "outputs": [],
   "source": [
    "# len(agent.history['moves'])"
   ]
  },
  {
   "cell_type": "code",
   "execution_count": 22,
   "metadata": {
    "colab": {
     "base_uri": "https://localhost:8080/",
     "height": 1000
    },
    "colab_type": "code",
    "id": "MghfeQTOTI7S",
    "outputId": "32415212-0e94-4a8c-c9a1-e38c88fe1d8a"
   },
   "outputs": [],
   "source": [
    "# agent.history['rewards']"
   ]
  },
  {
   "cell_type": "code",
   "execution_count": 23,
   "metadata": {
    "colab": {
     "base_uri": "https://localhost:8080/",
     "height": 1000
    },
    "colab_type": "code",
    "id": "gpTH5A8ILaZO",
    "outputId": "86f13a57-163c-4f77-a164-17617dfecd7f"
   },
   "outputs": [],
   "source": [
    "# agent.history['positions']"
   ]
  },
  {
   "cell_type": "code",
   "execution_count": 24,
   "metadata": {
    "colab": {
     "base_uri": "https://localhost:8080/",
     "height": 1000
    },
    "colab_type": "code",
    "id": "sKsag2EjFsDP",
    "outputId": "a2aae49f-60a9-4b9a-8ffb-76bb1252f95d"
   },
   "outputs": [],
   "source": [
    "# agent.history['rewards']"
   ]
  },
  {
   "cell_type": "code",
   "execution_count": 35,
   "metadata": {
    "colab": {
     "base_uri": "https://localhost:8080/",
     "height": 265
    },
    "colab_type": "code",
    "id": "RlOIn30QWCB0",
    "outputId": "c2a1b7da-e371-4336-c440-7c53ce4ff022"
   },
   "outputs": [
    {
     "data": {
      "image/png": "[encoded data removed]",
      "text/plain": [
       "<Figure size 432x288 with 1 Axes>"
      ]
     },
     "metadata": {
      "needs_background": "light"
     },
     "output_type": "display_data"
    }
   ],
   "source": [
    "plt.plot(agent.losses);"
   ]
  },
  {
   "cell_type": "code",
   "execution_count": 36,
   "metadata": {
    "colab": {
     "base_uri": "https://localhost:8080/",
     "height": 162
    },
    "colab_type": "code",
    "id": "2WL_5opjtvfg",
    "outputId": "6b239de4-3d15-455b-b9f9-83378abb9949"
   },
   "outputs": [
    {
     "name": "stdout",
     "output_type": "stream",
     "text": [
      " \n",
      "Turn 0\n",
      "\n",
      "       |   |   \n",
      "    -----------\n",
      "       |   |   \n",
      "    -----------\n",
      "       |   |   \n",
      " \n",
      "Turn 1\n",
      "\n",
      "       |   |   \n",
      "    -----------\n",
      "       |   |   \n",
      "    -----------\n",
      "     X |   |   \n",
      " \n",
      "Turn 2\n",
      "\n",
      "       |   |   \n",
      "    -----------\n",
      "       | O |   \n",
      "    -----------\n",
      "     X |   |   \n",
      " \n",
      "Turn 3\n",
      "\n",
      "       |   |   \n",
      "    -----------\n",
      "       | O |   \n",
      "    -----------\n",
      "     X | X |   \n",
      " \n",
      "Turn 4\n",
      "\n",
      "       |   |   \n",
      "    -----------\n",
      "       | O |   \n",
      "    -----------\n",
      "     X | X | O \n",
      " \n",
      "Turn 5\n",
      "\n",
      "     X |   |   \n",
      "    -----------\n",
      "       | O |   \n",
      "    -----------\n",
      "     X | X | O \n",
      " \n",
      "Turn 6\n",
      "\n",
      "     X |   |   \n",
      "    -----------\n",
      "     O | O |   \n",
      "    -----------\n",
      "     X | X | O \n",
      " \n",
      "Turn 7\n",
      "\n",
      "     X |   |   \n",
      "    -----------\n",
      "     O | O | X \n",
      "    -----------\n",
      "     X | X | O \n",
      " \n",
      "Turn 8\n",
      "\n",
      "     X |   | O \n",
      "    -----------\n",
      "     O | O | X \n",
      "    -----------\n",
      "     X | X | O \n",
      " \n",
      "Turn 9\n",
      "\n",
      "     X | X | O \n",
      "    -----------\n",
      "     O | O | X \n",
      "    -----------\n",
      "     X | X | O \n",
      "\n",
      "It's a draw!\n"
     ]
    },
    {
     "data": {
      "text/plain": [
       "'-'"
      ]
     },
     "execution_count": 36,
     "metadata": {},
     "output_type": "execute_result"
    }
   ],
   "source": [
    "agent.demo_game(True)"
   ]
  },
  {
   "cell_type": "code",
   "execution_count": 37,
   "metadata": {
    "colab": {
     "base_uri": "https://localhost:8080/",
     "height": 1000
    },
    "colab_type": "code",
    "id": "-bLJ5Jlwtvfl",
    "outputId": "c112de4a-c732-47ae-bf2e-c1231cf70b33"
   },
   "outputs": [
    {
     "name": "stdout",
     "output_type": "stream",
     "text": [
      " \n",
      "Turn 0\n",
      "\n",
      "       |   |   \n",
      "    -----------\n",
      "       |   |   \n",
      "    -----------\n",
      "       |   |   \n",
      " \n",
      "Turn 1\n",
      "\n",
      "       |   |   \n",
      "    -----------\n",
      "       |   |   \n",
      "    -----------\n",
      "     X |   |   \n"
     ]
    },
    {
     "name": "stdin",
     "output_type": "stream",
     "text": [
      "Choose move for O, from [1, 2, 3, 4, 5, 6, 8, 9] :  2\n"
     ]
    },
    {
     "name": "stdout",
     "output_type": "stream",
     "text": [
      " \n",
      "Turn 2\n",
      "\n",
      "       | O |   \n",
      "    -----------\n",
      "       |   |   \n",
      "    -----------\n",
      "     X |   |   \n",
      " \n",
      "Turn 3\n",
      "\n",
      "     X | O |   \n",
      "    -----------\n",
      "       |   |   \n",
      "    -----------\n",
      "     X |   |   \n"
     ]
    },
    {
     "name": "stdin",
     "output_type": "stream",
     "text": [
      "Choose move for O, from [3, 4, 5, 6, 8, 9] :  4\n"
     ]
    },
    {
     "name": "stdout",
     "output_type": "stream",
     "text": [
      " \n",
      "Turn 4\n",
      "\n",
      "     X | O |   \n",
      "    -----------\n",
      "     O |   |   \n",
      "    -----------\n",
      "     X |   |   \n",
      " \n",
      "Turn 5\n",
      "\n",
      "     X | O |   \n",
      "    -----------\n",
      "     O | X |   \n",
      "    -----------\n",
      "     X |   |   \n"
     ]
    },
    {
     "name": "stdin",
     "output_type": "stream",
     "text": [
      "Choose move for O, from [3, 6, 8, 9] :  3\n"
     ]
    },
    {
     "name": "stdout",
     "output_type": "stream",
     "text": [
      " \n",
      "Turn 6\n",
      "\n",
      "     X | O | O \n",
      "    -----------\n",
      "     O | X |   \n",
      "    -----------\n",
      "     X |   |   \n",
      " \n",
      "Turn 7\n",
      "\n",
      "     X | O | O \n",
      "    -----------\n",
      "     O | X |   \n",
      "    -----------\n",
      "     X |   | X \n",
      "\n",
      "X is the winner!\n"
     ]
    },
    {
     "data": {
      "text/plain": [
       "'X'"
      ]
     },
     "execution_count": 37,
     "metadata": {},
     "output_type": "execute_result"
    }
   ],
   "source": [
    "agent.interactive_game()"
   ]
  },
  {
   "cell_type": "code",
   "execution_count": 38,
   "metadata": {
    "colab": {
     "base_uri": "https://localhost:8080/",
     "height": 1000
    },
    "colab_type": "code",
    "id": "W7btVgZgtvfp",
    "outputId": "900d3616-268c-4348-d648-f7c502bd7d1d"
   },
   "outputs": [
    {
     "name": "stdout",
     "output_type": "stream",
     "text": [
      " \n",
      "Turn 0\n",
      "\n",
      "       |   |   \n",
      "    -----------\n",
      "       |   |   \n",
      "    -----------\n",
      "       |   |   \n",
      " \n",
      "Turn 1\n",
      "\n",
      "       |   |   \n",
      "    -----------\n",
      "       |   |   \n",
      "    -----------\n",
      "     X |   |   \n"
     ]
    },
    {
     "name": "stdin",
     "output_type": "stream",
     "text": [
      "Choose move for O, from [1, 2, 3, 4, 5, 6, 8, 9] :  5\n"
     ]
    },
    {
     "name": "stdout",
     "output_type": "stream",
     "text": [
      " \n",
      "Turn 2\n",
      "\n",
      "       |   |   \n",
      "    -----------\n",
      "       | O |   \n",
      "    -----------\n",
      "     X |   |   \n",
      " \n",
      "Turn 3\n",
      "\n",
      "       |   |   \n",
      "    -----------\n",
      "       | O |   \n",
      "    -----------\n",
      "     X | X |   \n"
     ]
    },
    {
     "name": "stdin",
     "output_type": "stream",
     "text": [
      "Choose move for O, from [1, 2, 3, 4, 6, 9] :  9\n"
     ]
    },
    {
     "name": "stdout",
     "output_type": "stream",
     "text": [
      " \n",
      "Turn 4\n",
      "\n",
      "       |   |   \n",
      "    -----------\n",
      "       | O |   \n",
      "    -----------\n",
      "     X | X | O \n",
      " \n",
      "Turn 5\n",
      "\n",
      "     X |   |   \n",
      "    -----------\n",
      "       | O |   \n",
      "    -----------\n",
      "     X | X | O \n"
     ]
    },
    {
     "name": "stdin",
     "output_type": "stream",
     "text": [
      "Choose move for O, from [2, 3, 4, 6] :  4\n"
     ]
    },
    {
     "name": "stdout",
     "output_type": "stream",
     "text": [
      " \n",
      "Turn 6\n",
      "\n",
      "     X |   |   \n",
      "    -----------\n",
      "     O | O |   \n",
      "    -----------\n",
      "     X | X | O \n",
      " \n",
      "Turn 7\n",
      "\n",
      "     X |   |   \n",
      "    -----------\n",
      "     O | O | X \n",
      "    -----------\n",
      "     X | X | O \n"
     ]
    },
    {
     "name": "stdin",
     "output_type": "stream",
     "text": [
      "Choose move for O, from [2, 3] :  3\n"
     ]
    },
    {
     "name": "stdout",
     "output_type": "stream",
     "text": [
      " \n",
      "Turn 8\n",
      "\n",
      "     X |   | O \n",
      "    -----------\n",
      "     O | O | X \n",
      "    -----------\n",
      "     X | X | O \n",
      " \n",
      "Turn 9\n",
      "\n",
      "     X | X | O \n",
      "    -----------\n",
      "     O | O | X \n",
      "    -----------\n",
      "     X | X | O \n",
      "\n",
      "It's a draw!\n"
     ]
    },
    {
     "data": {
      "text/plain": [
       "'-'"
      ]
     },
     "execution_count": 38,
     "metadata": {},
     "output_type": "execute_result"
    }
   ],
   "source": [
    "agent.interactive_game()"
   ]
  },
  {
   "cell_type": "code",
   "execution_count": 29,
   "metadata": {
    "colab": {
     "base_uri": "https://localhost:8080/",
     "height": 1000
    },
    "colab_type": "code",
    "id": "W7btVgZgtvfp",
    "outputId": "900d3616-268c-4348-d648-f7c502bd7d1d"
   },
   "outputs": [
    {
     "name": "stdout",
     "output_type": "stream",
     "text": [
      " \n",
      "Turn 0\n",
      "\n",
      "       |   |   \n",
      "    -----------\n",
      "       |   |   \n",
      "    -----------\n",
      "       |   |   \n",
      " \n",
      "Turn 1\n",
      "\n",
      "       |   |   \n",
      "    -----------\n",
      "       | X |   \n",
      "    -----------\n",
      "       |   |   \n"
     ]
    },
    {
     "name": "stdin",
     "output_type": "stream",
     "text": [
      "Choose move for O, from [1, 2, 3, 4, 6, 7, 8, 9] :  8\n"
     ]
    },
    {
     "name": "stdout",
     "output_type": "stream",
     "text": [
      " \n",
      "Turn 2\n",
      "\n",
      "       |   |   \n",
      "    -----------\n",
      "       | X |   \n",
      "    -----------\n",
      "       | O |   \n",
      " \n",
      "Turn 3\n",
      "\n",
      "       |   |   \n",
      "    -----------\n",
      "       | X |   \n",
      "    -----------\n",
      "     X | O |   \n"
     ]
    },
    {
     "name": "stdin",
     "output_type": "stream",
     "text": [
      "Choose move for O, from [1, 2, 3, 4, 6, 9] :  3\n"
     ]
    },
    {
     "name": "stdout",
     "output_type": "stream",
     "text": [
      " \n",
      "Turn 4\n",
      "\n",
      "       |   | O \n",
      "    -----------\n",
      "       | X |   \n",
      "    -----------\n",
      "     X | O |   \n",
      " \n",
      "Turn 5\n",
      "\n",
      "       |   | O \n",
      "    -----------\n",
      "     X | X |   \n",
      "    -----------\n",
      "     X | O |   \n"
     ]
    },
    {
     "name": "stdin",
     "output_type": "stream",
     "text": [
      "Choose move for O, from [1, 2, 6, 9] :  1\n"
     ]
    },
    {
     "name": "stdout",
     "output_type": "stream",
     "text": [
      " \n",
      "Turn 6\n",
      "\n",
      "     O |   | O \n",
      "    -----------\n",
      "     X | X |   \n",
      "    -----------\n",
      "     X | O |   \n",
      " \n",
      "Turn 7\n",
      "\n",
      "     O |   | O \n",
      "    -----------\n",
      "     X | X | X \n",
      "    -----------\n",
      "     X | O |   \n",
      "\n",
      "X is the winner!\n"
     ]
    },
    {
     "data": {
      "text/plain": [
       "'X'"
      ]
     },
     "execution_count": 29,
     "metadata": {},
     "output_type": "execute_result"
    }
   ],
   "source": [
    "agent.interactive_game()"
   ]
  },
  {
   "cell_type": "code",
   "execution_count": 60,
   "metadata": {
    "colab": {},
    "colab_type": "code",
    "id": "nAlwCyE4tvfr"
   },
   "outputs": [
    {
     "name": "stdout",
     "output_type": "stream",
     "text": [
      " \n",
      "Turn 0\n",
      "\n",
      "       |   |   \n",
      "    -----------\n",
      "       |   |   \n",
      "    -----------\n",
      "       |   |   \n",
      " \n",
      "Turn 1\n",
      "\n",
      "       |   |   \n",
      "    -----------\n",
      "       | X |   \n",
      "    -----------\n",
      "       |   |   \n"
     ]
    },
    {
     "name": "stdin",
     "output_type": "stream",
     "text": [
      "Choose move for O, from [1, 2, 3, 4, 6, 7, 8, 9] :  9\n"
     ]
    },
    {
     "name": "stdout",
     "output_type": "stream",
     "text": [
      " \n",
      "Turn 2\n",
      "\n",
      "       |   |   \n",
      "    -----------\n",
      "       | X |   \n",
      "    -----------\n",
      "       |   | O \n",
      " \n",
      "Turn 3\n",
      "\n",
      "       |   | X \n",
      "    -----------\n",
      "       | X |   \n",
      "    -----------\n",
      "       |   | O \n"
     ]
    },
    {
     "name": "stdin",
     "output_type": "stream",
     "text": [
      "Choose move for O, from [1, 2, 4, 6, 7, 8] :  7\n"
     ]
    },
    {
     "name": "stdout",
     "output_type": "stream",
     "text": [
      " \n",
      "Turn 4\n",
      "\n",
      "       |   | X \n",
      "    -----------\n",
      "       | X |   \n",
      "    -----------\n",
      "     O |   | O \n",
      " \n",
      "Turn 5\n",
      "\n",
      "       |   | X \n",
      "    -----------\n",
      "       | X |   \n",
      "    -----------\n",
      "     O | X | O \n"
     ]
    },
    {
     "name": "stdin",
     "output_type": "stream",
     "text": [
      "Choose move for O, from [1, 2, 4, 6] :  2\n"
     ]
    },
    {
     "name": "stdout",
     "output_type": "stream",
     "text": [
      " \n",
      "Turn 6\n",
      "\n",
      "       | O | X \n",
      "    -----------\n",
      "       | X |   \n",
      "    -----------\n",
      "     O | X | O \n",
      " \n",
      "Turn 7\n",
      "\n",
      "       | O | X \n",
      "    -----------\n",
      "     X | X |   \n",
      "    -----------\n",
      "     O | X | O \n"
     ]
    },
    {
     "name": "stdin",
     "output_type": "stream",
     "text": [
      "Choose move for O, from [1, 6] :  6\n"
     ]
    },
    {
     "name": "stdout",
     "output_type": "stream",
     "text": [
      " \n",
      "Turn 8\n",
      "\n",
      "       | O | X \n",
      "    -----------\n",
      "     X | X | O \n",
      "    -----------\n",
      "     O | X | O \n",
      " \n",
      "Turn 9\n",
      "\n",
      "     X | O | X \n",
      "    -----------\n",
      "     X | X | O \n",
      "    -----------\n",
      "     O | X | O \n",
      "\n",
      "It's a draw!\n"
     ]
    },
    {
     "data": {
      "text/plain": [
       "'-'"
      ]
     },
     "execution_count": 60,
     "metadata": {},
     "output_type": "execute_result"
    }
   ],
   "source": [
    "agent.interactive_game()"
   ]
  },
  {
   "cell_type": "code",
   "execution_count": 61,
   "metadata": {},
   "outputs": [
    {
     "name": "stdout",
     "output_type": "stream",
     "text": [
      " \n",
      "Turn 0\n",
      "\n",
      "       |   |   \n",
      "    -----------\n",
      "       |   |   \n",
      "    -----------\n",
      "       |   |   \n",
      " \n",
      "Turn 1\n",
      "\n",
      "       |   |   \n",
      "    -----------\n",
      "       | X |   \n",
      "    -----------\n",
      "       |   |   \n"
     ]
    },
    {
     "name": "stdin",
     "output_type": "stream",
     "text": [
      "Choose move for O, from [1, 2, 3, 4, 6, 7, 8, 9] :  6\n"
     ]
    },
    {
     "name": "stdout",
     "output_type": "stream",
     "text": [
      " \n",
      "Turn 2\n",
      "\n",
      "       |   |   \n",
      "    -----------\n",
      "       | X | O \n",
      "    -----------\n",
      "       |   |   \n",
      " \n",
      "Turn 3\n",
      "\n",
      "       |   |   \n",
      "    -----------\n",
      "       | X | O \n",
      "    -----------\n",
      "       |   | X \n"
     ]
    },
    {
     "name": "stdin",
     "output_type": "stream",
     "text": [
      "Choose move for O, from [1, 2, 3, 4, 7, 8] :  1\n"
     ]
    },
    {
     "name": "stdout",
     "output_type": "stream",
     "text": [
      " \n",
      "Turn 4\n",
      "\n",
      "     O |   |   \n",
      "    -----------\n",
      "       | X | O \n",
      "    -----------\n",
      "       |   | X \n",
      " \n",
      "Turn 5\n",
      "\n",
      "     O |   |   \n",
      "    -----------\n",
      "       | X | O \n",
      "    -----------\n",
      "     X |   | X \n"
     ]
    },
    {
     "name": "stdin",
     "output_type": "stream",
     "text": [
      "Choose move for O, from [2, 3, 4, 8] :  3\n"
     ]
    },
    {
     "name": "stdout",
     "output_type": "stream",
     "text": [
      " \n",
      "Turn 6\n",
      "\n",
      "     O |   | O \n",
      "    -----------\n",
      "       | X | O \n",
      "    -----------\n",
      "     X |   | X \n",
      " \n",
      "Turn 7\n",
      "\n",
      "     O |   | O \n",
      "    -----------\n",
      "       | X | O \n",
      "    -----------\n",
      "     X | X | X \n",
      "\n",
      "X is the winner!\n"
     ]
    },
    {
     "data": {
      "text/plain": [
       "'X'"
      ]
     },
     "execution_count": 61,
     "metadata": {},
     "output_type": "execute_result"
    }
   ],
   "source": [
    "agent.interactive_game()"
   ]
  },
  {
   "cell_type": "markdown",
   "metadata": {},
   "source": [
    "#### Вывод:\n",
    "Агент явно обучился. Об этом говорит следующее:\n",
    "- расчет обученным агентом **Value** для первого хода **Х** - оптимальный уверенно по центру\n",
    "- **первый ход ноликов** тоже обучился правильно. Более того, **все** оптимальные первые ходы нолика (угловые) тоже более приоритетны по Value (с учетом того, что для ноликов мы выбираем по минимуму).\n",
    "- выборочные проверки вычисления **Value** некоторых **заранее известных** состояний  (выигрышей, проигрышей и ничьих) - все расчитано правильно. \n",
    "- а также несколько сыгранных с агентом игр. Агент играл каждый раз оптимально.   \n",
    "- Лосс также выглядит скорее обученным, чем рандомным.   \n",
    "- Результат на демо - percentage results: {'X': 0.0, 'O': 0.0, '-': 100.0}. Похоже, с учетом проверок value для известных состояний, это оптимальная игра агента за обе стороны.   \n",
    "   \n",
    "Итого: агент, похоже, действительно обучился."
   ]
  }
 ],
 "metadata": {
  "accelerator": "GPU",
  "colab": {
   "name": "hw16_tictactoe_v1.ipynb",
   "provenance": []
  },
  "kernelspec": {
   "display_name": "Python 3",
   "language": "python",
   "name": "python3"
  },
  "language_info": {
   "codemirror_mode": {
    "name": "ipython",
    "version": 3
   },
   "file_extension": ".py",
   "mimetype": "text/x-python",
   "name": "python",
   "nbconvert_exporter": "python",
   "pygments_lexer": "ipython3",
   "version": "3.7.7"
  }
 },
 "nbformat": 4,
 "nbformat_minor": 4
}
