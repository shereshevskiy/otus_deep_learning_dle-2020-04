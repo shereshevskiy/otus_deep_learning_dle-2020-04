{
 "cells": [
  {
   "cell_type": "code",
   "execution_count": 1,
   "metadata": {},
   "outputs": [],
   "source": [
    "import os\n",
    "\n",
    "import itertools\n",
    "import pickle\n",
    "import matplotlib.pyplot as plt\n",
    "\n",
    "import torch\n",
    "import torch.nn as nn\n",
    "import torch.nn.functional as F\n",
    "import torch.optim as optim\n",
    "import math \n",
    "\n",
    "import sys\n",
    "sys.path.append('../')\n",
    "import utils\n",
    "import wiki_utils\n",
    "%matplotlib inline"
   ]
  },
  {
   "cell_type": "code",
   "execution_count": 3,
   "metadata": {},
   "outputs": [
    {
     "name": "stdout",
     "output_type": "stream",
     "text": [
      "Wall time: 1min 31s\n"
     ]
    }
   ],
   "source": [
    "%%time\n",
    "corpus = wiki_utils.Texts('./wikitext/', encoding=\"utf-8\")"
   ]
  },
  {
   "cell_type": "code",
   "execution_count": 4,
   "metadata": {},
   "outputs": [],
   "source": [
    "batch_size = 128\n",
    "sequence_length = 30\n",
    "grad_clip = 0.1\n",
    "lr = 4.\n",
    "best_val_loss = None\n",
    "log_interval = 100"
   ]
  },
  {
   "cell_type": "code",
   "execution_count": 5,
   "metadata": {},
   "outputs": [],
   "source": [
    "eval_batch_size = 128\n",
    "train_loader = wiki_utils.TextLoader(corpus.train, batch_size=batch_size)\n",
    "val_loader = wiki_utils.TextLoader(corpus.valid, batch_size=eval_batch_size)\n",
    "test_loader = wiki_utils.TextLoader(corpus.test, batch_size=eval_batch_size)"
   ]
  },
  {
   "cell_type": "code",
   "execution_count": 114,
   "metadata": {},
   "outputs": [
    {
     "data": {
      "text/plain": [
       "10780437"
      ]
     },
     "execution_count": 114,
     "metadata": {},
     "output_type": "execute_result"
    }
   ],
   "source": [
    "corpus.train.size(0)"
   ]
  },
  {
   "cell_type": "code",
   "execution_count": 18,
   "metadata": {},
   "outputs": [
    {
     "data": {
      "text/plain": [
       "(tensor([[ 0, 15, 40,  ..., 14,  0,  4],\n",
       "         [ 1,  8,  0,  ...,  8, 40,  7],\n",
       "         [ 0,  7, 46,  ...,  9, 12, 15],\n",
       "         ...,\n",
       "         [17,  0,  0,  ..., 15,  0, 40],\n",
       "         [ 0, 66,  4,  ...,  0,  5, 11],\n",
       "         [ 2,  9, 49,  ..., 47,  9, 15]]),\n",
       " tensor([ 1,  8,  0,  ..., 48, 42,  0]))"
      ]
     },
     "execution_count": 18,
     "metadata": {},
     "output_type": "execute_result"
    }
   ],
   "source": [
    "next(train_loader.__iter__())"
   ]
  },
  {
   "cell_type": "code",
   "execution_count": 10,
   "metadata": {},
   "outputs": [],
   "source": [
    "data, targets = list(train_loader)[0]"
   ]
  },
  {
   "cell_type": "code",
   "execution_count": 103,
   "metadata": {},
   "outputs": [
    {
     "data": {
      "text/plain": [
       "(torch.Size([30, 128]), torch.Size([3840]))"
      ]
     },
     "execution_count": 103,
     "metadata": {},
     "output_type": "execute_result"
    }
   ],
   "source": [
    "data.shape, targets.shape"
   ]
  },
  {
   "cell_type": "code",
   "execution_count": 107,
   "metadata": {},
   "outputs": [
    {
     "data": {
      "text/plain": [
       "30"
      ]
     },
     "execution_count": 107,
     "metadata": {},
     "output_type": "execute_result"
    }
   ],
   "source": [
    "data.data.size(0)"
   ]
  },
  {
   "cell_type": "code",
   "execution_count": 33,
   "metadata": {},
   "outputs": [
    {
     "data": {
      "text/plain": [
       "tensor([ 0,  1,  0,  2,  0,  3,  4,  5,  6,  7,  8,  9,  4,  0, 10, 11,  8, 12,\n",
       "        13,  9, 14,  5, 15, 16,  0, 17, 17, 17,  0,  2])"
      ]
     },
     "execution_count": 33,
     "metadata": {},
     "output_type": "execute_result"
    }
   ],
   "source": [
    "data[:, 0]"
   ]
  },
  {
   "cell_type": "code",
   "execution_count": 34,
   "metadata": {},
   "outputs": [
    {
     "data": {
      "text/plain": [
       "tensor([ 1,  0,  2,  0,  3,  4,  5,  6,  7,  8,  9,  4,  0, 10, 11,  8, 12, 13,\n",
       "         9, 14,  5, 15, 16,  0, 17, 17, 17,  0,  2,  0])"
      ]
     },
     "execution_count": 34,
     "metadata": {},
     "output_type": "execute_result"
    }
   ],
   "source": [
    "targets.view_as(data)[:, 0]"
   ]
  },
  {
   "cell_type": "code",
   "execution_count": null,
   "metadata": {},
   "outputs": [],
   "source": [
    "ntokens = len(corpus.dictionary)\n",
    "model = RNNModel('LSTM', ntokens, 128, 128, 2, 0.3)"
   ]
  },
  {
   "cell_type": "code",
   "execution_count": 82,
   "metadata": {},
   "outputs": [],
   "source": [
    "ntoken = len(corpus.dictionary)  # 283\n",
    "ninp = 2\n",
    "encoder = nn.Embedding(ntoken, ninp)"
   ]
  },
  {
   "cell_type": "code",
   "execution_count": 83,
   "metadata": {},
   "outputs": [
    {
     "data": {
      "text/plain": [
       "torch.Size([30, 128])"
      ]
     },
     "execution_count": 83,
     "metadata": {},
     "output_type": "execute_result"
    }
   ],
   "source": [
    "data.shape"
   ]
  },
  {
   "cell_type": "code",
   "execution_count": 84,
   "metadata": {},
   "outputs": [
    {
     "data": {
      "text/plain": [
       "torch.Size([30, 128, 2])"
      ]
     },
     "execution_count": 84,
     "metadata": {},
     "output_type": "execute_result"
    }
   ],
   "source": [
    "encoder(data).shape"
   ]
  },
  {
   "cell_type": "code",
   "execution_count": 85,
   "metadata": {},
   "outputs": [
    {
     "data": {
      "text/plain": [
       "tensor([ 0, 15, 40, 67,  0, 13, 28,  4,  9,  0,  0,  4,  6,  4, 44, 15,  8, 41,\n",
       "        15, 44, 50,  0, 13,  0, 16, 16, 74,  7,  8,  0, 58, 15,  9, 46, 15,  0,\n",
       "         0, 24,  9,  0, 16, 88, 11, 51, 11,  0, 24, 15, 14,  8, 12, 40, 26,  0,\n",
       "         0, 40, 23, 24, 24,  0, 40,  9, 14, 13, 11, 39, 15, 16, 46,  2, 13,  4,\n",
       "        15,  0,  4,  0,  0, 13,  5, 55,  4,  0, 14, 24, 17,  9, 50, 40, 40, 16,\n",
       "        11, 46, 15, 15, 15, 13,  9,  9,  0, 40, 15,  9,  6, 13,  7, 16, 69, 40,\n",
       "        13,  6, 42, 40,  0, 44,  0, 15, 40,  5, 14, 46,  4,  0,  0, 17, 24, 14,\n",
       "         0,  4])"
      ]
     },
     "execution_count": 85,
     "metadata": {},
     "output_type": "execute_result"
    }
   ],
   "source": [
    "data[0]"
   ]
  },
  {
   "cell_type": "code",
   "execution_count": 86,
   "metadata": {},
   "outputs": [
    {
     "data": {
      "text/plain": [
       "tensor([-0.7409, -0.6691,  0.1517,  0.1278, -0.7409,  0.4727, -0.1492, -1.1188,\n",
       "         0.5614, -0.7409, -0.7409, -1.1188,  1.6671, -1.1188, -0.4822, -0.6691,\n",
       "        -0.1623,  0.2756, -0.6691, -0.4822,  0.3690, -0.7409,  0.4727, -0.7409,\n",
       "         0.0937,  0.0937, -0.1116, -0.2775, -0.1623, -0.7409, -0.1507, -0.6691,\n",
       "         0.5614, -0.0741, -0.6691, -0.7409, -0.7409, -1.0287,  0.5614, -0.7409,\n",
       "         0.0937,  0.9223,  0.0087, -0.0120,  0.0087, -0.7409, -1.0287, -0.6691,\n",
       "        -0.0352, -0.1623,  0.5011,  0.1517, -0.5876, -0.7409, -0.7409,  0.1517,\n",
       "        -0.4444, -1.0287, -1.0287, -0.7409,  0.1517,  0.5614, -0.0352,  0.4727,\n",
       "         0.0087, -0.7643, -0.6691,  0.0937, -0.0741,  0.1867,  0.4727, -1.1188,\n",
       "        -0.6691, -0.7409, -1.1188, -0.7409, -0.7409,  0.4727, -0.4104,  1.8603,\n",
       "        -1.1188, -0.7409, -0.0352, -1.0287,  0.2516,  0.5614,  0.3690,  0.1517,\n",
       "         0.1517,  0.0937,  0.0087, -0.0741, -0.6691, -0.6691, -0.6691,  0.4727,\n",
       "         0.5614,  0.5614, -0.7409,  0.1517, -0.6691,  0.5614,  1.6671,  0.4727,\n",
       "        -0.2775,  0.0937,  0.3411,  0.1517,  0.4727,  1.6671, -0.2325,  0.1517,\n",
       "        -0.7409, -0.4822, -0.7409, -0.6691,  0.1517, -0.4104, -0.0352, -0.0741,\n",
       "        -1.1188, -0.7409, -0.7409,  0.2516, -1.0287, -0.0352, -0.7409, -1.1188],\n",
       "       grad_fn=<MeanBackward1>)"
      ]
     },
     "execution_count": 86,
     "metadata": {},
     "output_type": "execute_result"
    }
   ],
   "source": [
    "encoder(data[0]).mean(1)"
   ]
  },
  {
   "cell_type": "code",
   "execution_count": 21,
   "metadata": {},
   "outputs": [],
   "source": [
    "class RNNModel(nn.Module):\n",
    "\n",
    "    def __init__(self, rnn_type, ntoken, ninp, nhid, nlayers, dropout=0.5):\n",
    "        super(RNNModel, self).__init__()\n",
    "        self.drop = nn.Dropout(dropout)\n",
    "        self.encoder = nn.Embedding(ntoken, ninp)\n",
    "        if rnn_type == 'LSTM':\n",
    "            self.rnn = nn.LSTM(ninp, nhid, nlayers, dropout=dropout)\n",
    "        elif rnn_type == 'GRU':\n",
    "            self.rnn = nn.GRU(ninp, nhid, nlayers, dropout=dropout)\n",
    "        self.decoder = nn.Linear(nhid, ntoken)\n",
    "\n",
    "        self.init_weights()\n",
    "\n",
    "        self.rnn_type = rnn_type\n",
    "        self.nhid = nhid\n",
    "        self.nlayers = nlayers\n",
    "\n",
    "    def init_weights(self):\n",
    "        initrange = 0.1\n",
    "        self.encoder.weight.data.uniform_(-initrange, initrange)\n",
    "        self.decoder.bias.data.fill_(0)\n",
    "        self.decoder.weight.data.uniform_(-initrange, initrange)\n",
    "\n",
    "    def forward(self, x, hidden=None):\n",
    "        emb = self.drop(self.encoder(x))  # 30x128x128(ninp - размерность единицы на входе)\n",
    "        output, hidden = self.rnn(emb, hidden)  # 30x128x128(nhid - размерность единицы на выходе (внутр. слоя))\n",
    "        output = self.drop(output)\n",
    "        decoded = self.decoder(output.view(output.size(0)*output.size(1), output.size(2)))\n",
    "        return decoded.view(output.size(0), output.size(1), decoded.size(1)), hidden\n",
    "\n",
    "    def init_hidden(self, bsz):\n",
    "        weight = next(self.parameters()).data\n",
    "        if self.rnn_type == 'LSTM':\n",
    "            return (weight.new(self.nlayers, bsz, self.nhid).zero_(),\n",
    "                    weight.new(self.nlayers, bsz, self.nhid).zero_())\n",
    "        else:\n",
    "            return weight.new(self.nlayers, bsz, self.nhid).zero_()"
   ]
  },
  {
   "cell_type": "code",
   "execution_count": 23,
   "metadata": {},
   "outputs": [],
   "source": [
    "def evaluate(data_loader):\n",
    "    model.eval()\n",
    "    total_loss = 0\n",
    "    ntokens = len(corpus.dictionary)\n",
    "    hidden = model.init_hidden(eval_batch_size)\n",
    "    for i, (data, targets) in enumerate(data_loader):\n",
    "        output, hidden = model(data)\n",
    "        output_flat = output.view(-1, ntokens)\n",
    "        total_loss += len(data) * criterion(output_flat, targets).item()\n",
    "    return total_loss / len(data_loader)"
   ]
  },
  {
   "cell_type": "code",
   "execution_count": null,
   "metadata": {},
   "outputs": [],
   "source": []
  },
  {
   "cell_type": "code",
   "execution_count": 24,
   "metadata": {},
   "outputs": [],
   "source": [
    "def train():\n",
    "    model.train()\n",
    "    total_loss = 0\n",
    "    ntokens = len(corpus.dictionary)\n",
    "    for batch, (data, targets) in enumerate(train_loader):\n",
    "        model.zero_grad()\n",
    "        output, hidden = model(data)\n",
    "        loss = criterion(output.view(-1, ntokens), targets)\n",
    "        loss.backward()\n",
    "\n",
    "        # `clip_grad_norm` helps prevent the exploding gradient problem in RNNs / LSTMs.\n",
    "        torch.nn.utils.clip_grad_norm_(model.parameters(), grad_clip)\n",
    "        for p in model.parameters():\n",
    "            p.data.add_(-lr, p.grad.data)\n",
    "\n",
    "        total_loss += loss.item()\n",
    "\n",
    "        if batch % log_interval == 0 and batch > 0:\n",
    "            cur_loss = total_loss / log_interval\n",
    "            print('| epoch {:3d} | {:5d}/{:5d} batches | lr {:02.2f} | loss {:5.2f} | ppl {:8.2f}'.format(\n",
    "                epoch, batch, len(train_loader) // sequence_length, lr, cur_loss, math.exp(cur_loss)))\n",
    "            total_loss = 0"
   ]
  },
  {
   "cell_type": "code",
   "execution_count": 25,
   "metadata": {},
   "outputs": [],
   "source": [
    "ntokens = len(corpus.dictionary)\n",
    "model = RNNModel('LSTM', ntokens, 128, 128, 2, 0.3)\n",
    "criterion = nn.CrossEntropyLoss()"
   ]
  },
  {
   "cell_type": "code",
   "execution_count": 26,
   "metadata": {},
   "outputs": [],
   "source": [
    "def generate(n=50, temp=1.):\n",
    "    model.eval()\n",
    "    x = torch.rand(1, 1).mul(ntokens).long()\n",
    "    hidden = None\n",
    "    out = []\n",
    "    for i in range(n):\n",
    "        output, hidden = model(x, hidden)\n",
    "        s_weights = output.squeeze().data.div(temp).exp()\n",
    "        s_idx = torch.multinomial(s_weights, 1)[0]\n",
    "        x.data.fill_(s_idx)\n",
    "        s = corpus.dictionary.idx2symbol[s_idx]\n",
    "        out.append(s)\n",
    "    return ''.join(out)"
   ]
  },
  {
   "cell_type": "code",
   "execution_count": null,
   "metadata": {},
   "outputs": [],
   "source": []
  },
  {
   "cell_type": "code",
   "execution_count": 27,
   "metadata": {},
   "outputs": [
    {
     "name": "stdout",
     "output_type": "stream",
     "text": [
      "sample:\n",
      " ṃ,@śí0?µา½m火8E f.\\HÅwx9W〈ზêჯ9īო[‘ト±าłşه*ửmณ`−αح−dE \n",
      "\n"
     ]
    },
    {
     "name": "stderr",
     "output_type": "stream",
     "text": [
      "..\\torch\\csrc\\utils\\python_arg_parser.cpp:756: UserWarning: This overload of add_ is deprecated:\n",
      "\tadd_(Number alpha, Tensor other)\n",
      "Consider using one of the following signatures instead:\n",
      "\tadd_(Tensor other, *, Number alpha)\n"
     ]
    },
    {
     "name": "stdout",
     "output_type": "stream",
     "text": [
      "| epoch   1 |   100/ 2807 batches | lr 4.00 | loss  3.60 | ppl    36.65\n",
      "| epoch   1 |   200/ 2807 batches | lr 4.00 | loss  3.28 | ppl    26.70\n",
      "| epoch   1 |   300/ 2807 batches | lr 4.00 | loss  3.25 | ppl    25.80\n",
      "| epoch   1 |   400/ 2807 batches | lr 4.00 | loss  3.22 | ppl    25.15\n",
      "| epoch   1 |   500/ 2807 batches | lr 4.00 | loss  3.22 | ppl    25.01\n",
      "| epoch   1 |   600/ 2807 batches | lr 4.00 | loss  3.11 | ppl    22.44\n",
      "| epoch   1 |   700/ 2807 batches | lr 4.00 | loss  2.99 | ppl    19.98\n",
      "| epoch   1 |   800/ 2807 batches | lr 4.00 | loss  2.90 | ppl    18.24\n",
      "| epoch   1 |   900/ 2807 batches | lr 4.00 | loss  2.81 | ppl    16.64\n",
      "| epoch   1 |  1000/ 2807 batches | lr 4.00 | loss  2.72 | ppl    15.16\n",
      "| epoch   1 |  1100/ 2807 batches | lr 4.00 | loss  2.61 | ppl    13.64\n",
      "| epoch   1 |  1200/ 2807 batches | lr 4.00 | loss  2.55 | ppl    12.78\n",
      "| epoch   1 |  1300/ 2807 batches | lr 4.00 | loss  2.50 | ppl    12.15\n",
      "| epoch   1 |  1400/ 2807 batches | lr 4.00 | loss  2.45 | ppl    11.54\n",
      "| epoch   1 |  1500/ 2807 batches | lr 4.00 | loss  2.41 | ppl    11.15\n",
      "| epoch   1 |  1600/ 2807 batches | lr 4.00 | loss  2.38 | ppl    10.77\n",
      "| epoch   1 |  1700/ 2807 batches | lr 4.00 | loss  2.34 | ppl    10.42\n",
      "| epoch   1 |  1800/ 2807 batches | lr 4.00 | loss  2.31 | ppl    10.12\n",
      "| epoch   1 |  1900/ 2807 batches | lr 4.00 | loss  2.29 | ppl     9.90\n",
      "| epoch   1 |  2000/ 2807 batches | lr 4.00 | loss  2.26 | ppl     9.60\n",
      "| epoch   1 |  2100/ 2807 batches | lr 4.00 | loss  2.24 | ppl     9.44\n",
      "| epoch   1 |  2200/ 2807 batches | lr 4.00 | loss  2.22 | ppl     9.20\n",
      "| epoch   1 |  2300/ 2807 batches | lr 4.00 | loss  2.21 | ppl     9.14\n",
      "| epoch   1 |  2400/ 2807 batches | lr 4.00 | loss  2.18 | ppl     8.88\n",
      "| epoch   1 |  2500/ 2807 batches | lr 4.00 | loss  2.17 | ppl     8.77\n",
      "| epoch   1 |  2600/ 2807 batches | lr 4.00 | loss  2.15 | ppl     8.62\n",
      "| epoch   1 |  2700/ 2807 batches | lr 4.00 | loss  2.14 | ppl     8.49\n",
      "| epoch   1 |  2800/ 2807 batches | lr 4.00 | loss  2.11 | ppl     8.27\n",
      "-----------------------------------------------------------------------------------------\n",
      "| end of epoch   1 | valid loss  1.94 | valid ppl     6.94\n",
      "-----------------------------------------------------------------------------------------\n",
      "sample:\n",
      " ter mirisian  ut a meatory round as the caal , the \n",
      "\n",
      "| epoch   2 |   100/ 2807 batches | lr 4.00 | loss  2.12 | ppl     8.36\n",
      "| epoch   2 |   200/ 2807 batches | lr 4.00 | loss  2.08 | ppl     8.03\n",
      "| epoch   2 |   300/ 2807 batches | lr 4.00 | loss  2.07 | ppl     7.93\n",
      "| epoch   2 |   400/ 2807 batches | lr 4.00 | loss  2.06 | ppl     7.87\n",
      "| epoch   2 |   500/ 2807 batches | lr 4.00 | loss  2.05 | ppl     7.75\n",
      "| epoch   2 |   600/ 2807 batches | lr 4.00 | loss  2.04 | ppl     7.67\n",
      "| epoch   2 |   700/ 2807 batches | lr 4.00 | loss  2.03 | ppl     7.60\n",
      "| epoch   2 |   800/ 2807 batches | lr 4.00 | loss  2.02 | ppl     7.50\n",
      "| epoch   2 |   900/ 2807 batches | lr 4.00 | loss  2.01 | ppl     7.47\n",
      "| epoch   2 |  1000/ 2807 batches | lr 4.00 | loss  2.00 | ppl     7.42\n",
      "| epoch   2 |  1100/ 2807 batches | lr 4.00 | loss  1.99 | ppl     7.28\n",
      "| epoch   2 |  1200/ 2807 batches | lr 4.00 | loss  1.98 | ppl     7.25\n",
      "| epoch   2 |  1300/ 2807 batches | lr 4.00 | loss  1.97 | ppl     7.19\n",
      "| epoch   2 |  1400/ 2807 batches | lr 4.00 | loss  1.96 | ppl     7.07\n",
      "| epoch   2 |  1500/ 2807 batches | lr 4.00 | loss  1.96 | ppl     7.07\n",
      "| epoch   2 |  1600/ 2807 batches | lr 4.00 | loss  1.95 | ppl     7.03\n",
      "| epoch   2 |  1700/ 2807 batches | lr 4.00 | loss  1.94 | ppl     6.96\n",
      "| epoch   2 |  1800/ 2807 batches | lr 4.00 | loss  1.93 | ppl     6.91\n",
      "| epoch   2 |  1900/ 2807 batches | lr 4.00 | loss  1.94 | ppl     6.94\n",
      "| epoch   2 |  2000/ 2807 batches | lr 4.00 | loss  1.92 | ppl     6.83\n",
      "| epoch   2 |  2100/ 2807 batches | lr 4.00 | loss  1.92 | ppl     6.83\n",
      "| epoch   2 |  2200/ 2807 batches | lr 4.00 | loss  1.91 | ppl     6.78\n",
      "| epoch   2 |  2300/ 2807 batches | lr 4.00 | loss  1.92 | ppl     6.79\n",
      "| epoch   2 |  2400/ 2807 batches | lr 4.00 | loss  1.90 | ppl     6.68\n",
      "| epoch   2 |  2500/ 2807 batches | lr 4.00 | loss  1.89 | ppl     6.64\n",
      "| epoch   2 |  2600/ 2807 batches | lr 4.00 | loss  1.90 | ppl     6.67\n",
      "| epoch   2 |  2700/ 2807 batches | lr 4.00 | loss  1.89 | ppl     6.63\n",
      "| epoch   2 |  2800/ 2807 batches | lr 4.00 | loss  1.87 | ppl     6.50\n",
      "-----------------------------------------------------------------------------------------\n",
      "| end of epoch   2 | valid loss  1.67 | valid ppl     5.33\n",
      "-----------------------------------------------------------------------------------------\n",
      "sample:\n",
      " t . \n",
      " \n",
      " = = = = One was . Alkorgh \" , Jeran , prob \n",
      "\n",
      "| epoch   3 |   100/ 2807 batches | lr 4.00 | loss  1.89 | ppl     6.63\n",
      "| epoch   3 |   200/ 2807 batches | lr 4.00 | loss  1.86 | ppl     6.45\n",
      "| epoch   3 |   300/ 2807 batches | lr 4.00 | loss  1.86 | ppl     6.45\n",
      "| epoch   3 |   400/ 2807 batches | lr 4.00 | loss  1.86 | ppl     6.42\n",
      "| epoch   3 |   500/ 2807 batches | lr 4.00 | loss  1.85 | ppl     6.39\n",
      "| epoch   3 |   600/ 2807 batches | lr 4.00 | loss  1.85 | ppl     6.36\n",
      "| epoch   3 |   700/ 2807 batches | lr 4.00 | loss  1.85 | ppl     6.36\n",
      "| epoch   3 |   800/ 2807 batches | lr 4.00 | loss  1.84 | ppl     6.32\n",
      "| epoch   3 |   900/ 2807 batches | lr 4.00 | loss  1.84 | ppl     6.31\n",
      "| epoch   3 |  1000/ 2807 batches | lr 4.00 | loss  1.84 | ppl     6.32\n",
      "| epoch   3 |  1100/ 2807 batches | lr 4.00 | loss  1.83 | ppl     6.24\n",
      "| epoch   3 |  1200/ 2807 batches | lr 4.00 | loss  1.83 | ppl     6.26\n",
      "| epoch   3 |  1300/ 2807 batches | lr 4.00 | loss  1.83 | ppl     6.22\n",
      "| epoch   3 |  1400/ 2807 batches | lr 4.00 | loss  1.81 | ppl     6.14\n",
      "| epoch   3 |  1500/ 2807 batches | lr 4.00 | loss  1.82 | ppl     6.16\n",
      "| epoch   3 |  1600/ 2807 batches | lr 4.00 | loss  1.82 | ppl     6.17\n",
      "| epoch   3 |  1700/ 2807 batches | lr 4.00 | loss  1.81 | ppl     6.11\n",
      "| epoch   3 |  1800/ 2807 batches | lr 4.00 | loss  1.81 | ppl     6.10\n",
      "| epoch   3 |  1900/ 2807 batches | lr 4.00 | loss  1.82 | ppl     6.16\n",
      "| epoch   3 |  2000/ 2807 batches | lr 4.00 | loss  1.81 | ppl     6.08\n",
      "| epoch   3 |  2100/ 2807 batches | lr 4.00 | loss  1.81 | ppl     6.12\n",
      "| epoch   3 |  2200/ 2807 batches | lr 4.00 | loss  1.81 | ppl     6.09\n",
      "| epoch   3 |  2300/ 2807 batches | lr 4.00 | loss  1.81 | ppl     6.10\n",
      "| epoch   3 |  2400/ 2807 batches | lr 4.00 | loss  1.80 | ppl     6.02\n",
      "| epoch   3 |  2500/ 2807 batches | lr 4.00 | loss  1.79 | ppl     6.00\n",
      "| epoch   3 |  2600/ 2807 batches | lr 4.00 | loss  1.80 | ppl     6.05\n",
      "| epoch   3 |  2700/ 2807 batches | lr 4.00 | loss  1.80 | ppl     6.04\n",
      "| epoch   3 |  2800/ 2807 batches | lr 4.00 | loss  1.78 | ppl     5.94\n",
      "-----------------------------------------------------------------------------------------\n",
      "| end of epoch   3 | valid loss  1.57 | valid ppl     4.82\n",
      "-----------------------------------------------------------------------------------------\n",
      "sample:\n",
      " rad of an throughin a regold bognofies of the and  \n",
      "\n",
      "| epoch   4 |   100/ 2807 batches | lr 4.00 | loss  1.80 | ppl     6.07\n",
      "| epoch   4 |   200/ 2807 batches | lr 4.00 | loss  1.78 | ppl     5.92\n",
      "| epoch   4 |   300/ 2807 batches | lr 4.00 | loss  1.78 | ppl     5.94\n",
      "| epoch   4 |   400/ 2807 batches | lr 4.00 | loss  1.78 | ppl     5.93\n",
      "| epoch   4 |   500/ 2807 batches | lr 4.00 | loss  1.78 | ppl     5.91\n",
      "| epoch   4 |   600/ 2807 batches | lr 4.00 | loss  1.77 | ppl     5.88\n",
      "| epoch   4 |   700/ 2807 batches | lr 4.00 | loss  1.77 | ppl     5.89\n",
      "| epoch   4 |   800/ 2807 batches | lr 4.00 | loss  1.77 | ppl     5.87\n",
      "| epoch   4 |   900/ 2807 batches | lr 4.00 | loss  1.77 | ppl     5.86\n",
      "| epoch   4 |  1000/ 2807 batches | lr 4.00 | loss  1.77 | ppl     5.88\n",
      "| epoch   4 |  1100/ 2807 batches | lr 4.00 | loss  1.76 | ppl     5.83\n",
      "| epoch   4 |  1200/ 2807 batches | lr 4.00 | loss  1.77 | ppl     5.85\n",
      "| epoch   4 |  1300/ 2807 batches | lr 4.00 | loss  1.76 | ppl     5.82\n",
      "| epoch   4 |  1400/ 2807 batches | lr 4.00 | loss  1.75 | ppl     5.73\n",
      "| epoch   4 |  1500/ 2807 batches | lr 4.00 | loss  1.75 | ppl     5.78\n",
      "| epoch   4 |  1600/ 2807 batches | lr 4.00 | loss  1.76 | ppl     5.78\n",
      "| epoch   4 |  1700/ 2807 batches | lr 4.00 | loss  1.75 | ppl     5.75\n",
      "| epoch   4 |  1800/ 2807 batches | lr 4.00 | loss  1.75 | ppl     5.75\n",
      "| epoch   4 |  1900/ 2807 batches | lr 4.00 | loss  1.76 | ppl     5.81\n",
      "| epoch   4 |  2000/ 2807 batches | lr 4.00 | loss  1.75 | ppl     5.74\n",
      "| epoch   4 |  2100/ 2807 batches | lr 4.00 | loss  1.76 | ppl     5.79\n",
      "| epoch   4 |  2200/ 2807 batches | lr 4.00 | loss  1.75 | ppl     5.76\n",
      "| epoch   4 |  2300/ 2807 batches | lr 4.00 | loss  1.75 | ppl     5.78\n",
      "| epoch   4 |  2400/ 2807 batches | lr 4.00 | loss  1.74 | ppl     5.71\n",
      "| epoch   4 |  2500/ 2807 batches | lr 4.00 | loss  1.74 | ppl     5.69\n",
      "| epoch   4 |  2600/ 2807 batches | lr 4.00 | loss  1.75 | ppl     5.75\n",
      "| epoch   4 |  2700/ 2807 batches | lr 4.00 | loss  1.75 | ppl     5.73\n",
      "| epoch   4 |  2800/ 2807 batches | lr 4.00 | loss  1.73 | ppl     5.66\n",
      "-----------------------------------------------------------------------------------------\n",
      "| end of epoch   4 | valid loss  1.52 | valid ppl     4.58\n",
      "-----------------------------------------------------------------------------------------\n",
      "sample:\n",
      " erenota over through became his few pretetherly En \n",
      "\n",
      "| epoch   5 |   100/ 2807 batches | lr 4.00 | loss  1.75 | ppl     5.78\n",
      "| epoch   5 |   200/ 2807 batches | lr 4.00 | loss  1.73 | ppl     5.63\n",
      "| epoch   5 |   300/ 2807 batches | lr 4.00 | loss  1.73 | ppl     5.66\n",
      "| epoch   5 |   400/ 2807 batches | lr 4.00 | loss  1.73 | ppl     5.66\n",
      "| epoch   5 |   500/ 2807 batches | lr 4.00 | loss  1.73 | ppl     5.66\n",
      "| epoch   5 |   600/ 2807 batches | lr 4.00 | loss  1.73 | ppl     5.62\n",
      "| epoch   5 |   700/ 2807 batches | lr 4.00 | loss  1.73 | ppl     5.64\n",
      "| epoch   5 |   800/ 2807 batches | lr 4.00 | loss  1.72 | ppl     5.61\n",
      "| epoch   5 |   900/ 2807 batches | lr 4.00 | loss  1.72 | ppl     5.61\n",
      "| epoch   5 |  1000/ 2807 batches | lr 4.00 | loss  1.73 | ppl     5.63\n",
      "| epoch   5 |  1100/ 2807 batches | lr 4.00 | loss  1.72 | ppl     5.58\n",
      "| epoch   5 |  1200/ 2807 batches | lr 4.00 | loss  1.73 | ppl     5.62\n",
      "| epoch   5 |  1300/ 2807 batches | lr 4.00 | loss  1.72 | ppl     5.59\n",
      "| epoch   5 |  1400/ 2807 batches | lr 4.00 | loss  1.71 | ppl     5.52\n",
      "| epoch   5 |  1500/ 2807 batches | lr 4.00 | loss  1.71 | ppl     5.55\n",
      "| epoch   5 |  1600/ 2807 batches | lr 4.00 | loss  1.72 | ppl     5.57\n",
      "| epoch   5 |  1700/ 2807 batches | lr 4.00 | loss  1.71 | ppl     5.54\n",
      "| epoch   5 |  1800/ 2807 batches | lr 4.00 | loss  1.71 | ppl     5.54\n",
      "| epoch   5 |  1900/ 2807 batches | lr 4.00 | loss  1.72 | ppl     5.60\n",
      "| epoch   5 |  2000/ 2807 batches | lr 4.00 | loss  1.71 | ppl     5.54\n",
      "| epoch   5 |  2100/ 2807 batches | lr 4.00 | loss  1.72 | ppl     5.59\n",
      "| epoch   5 |  2200/ 2807 batches | lr 4.00 | loss  1.72 | ppl     5.56\n",
      "| epoch   5 |  2300/ 2807 batches | lr 4.00 | loss  1.72 | ppl     5.57\n",
      "| epoch   5 |  2400/ 2807 batches | lr 4.00 | loss  1.70 | ppl     5.50\n",
      "| epoch   5 |  2500/ 2807 batches | lr 4.00 | loss  1.71 | ppl     5.51\n",
      "| epoch   5 |  2600/ 2807 batches | lr 4.00 | loss  1.71 | ppl     5.56\n",
      "| epoch   5 |  2700/ 2807 batches | lr 4.00 | loss  1.71 | ppl     5.54\n",
      "| epoch   5 |  2800/ 2807 batches | lr 4.00 | loss  1.70 | ppl     5.48\n",
      "-----------------------------------------------------------------------------------------\n",
      "| end of epoch   5 | valid loss  1.49 | valid ppl     4.43\n",
      "-----------------------------------------------------------------------------------------\n",
      "sample:\n",
      "  from a by estument ) to light and <unk> new forme \n",
      "\n"
     ]
    }
   ],
   "source": [
    "with torch.no_grad():\n",
    "    print('sample:\\n', generate(50), '\\n')\n",
    "\n",
    "for epoch in range(1, 6):\n",
    "    train()\n",
    "    val_loss = evaluate(val_loader)\n",
    "    print('-' * 89)\n",
    "    print('| end of epoch {:3d} | valid loss {:5.2f} | valid ppl {:8.2f}'.format(\n",
    "        epoch, val_loss, math.exp(val_loss)))\n",
    "    print('-' * 89)\n",
    "    if not best_val_loss or val_loss < best_val_loss:\n",
    "        best_val_loss = val_loss\n",
    "    else:\n",
    "        # Anneal the learning rate if no improvement has been seen in the validation dataset.\n",
    "        lr /= 4.0\n",
    "    with torch.no_grad():\n",
    "        print('sample:\\n', generate(50), '\\n')\n"
   ]
  },
  {
   "cell_type": "code",
   "execution_count": 29,
   "metadata": {},
   "outputs": [],
   "source": [
    "t1 = generate(10000, 1.)\n",
    "t15 = generate(10000, 1.5)\n",
    "t075 = generate(10000, 0.75)\n",
    "with open('./generated075.txt', 'w', encoding=\"utf-8\") as outf:\n",
    "    outf.write(t075)\n",
    "with open('./generated1.txt', 'w', encoding=\"utf-8\") as outf:\n",
    "    outf.write(t1)\n",
    "with open('./generated15.txt', 'w', encoding=\"utf-8\") as outf:\n",
    "    outf.write(t15)"
   ]
  },
  {
   "cell_type": "markdown",
   "metadata": {},
   "source": [
    "### <center>Мои исследования сети"
   ]
  },
  {
   "cell_type": "markdown",
   "metadata": {},
   "source": [
    "1"
   ]
  },
  {
   "cell_type": "code",
   "execution_count": 87,
   "metadata": {},
   "outputs": [],
   "source": [
    "rnn = nn.LSTM(10, 20, 2)\n",
    "input_ = torch.randn(5, 3, 10)\n",
    "h0 = torch.randn(2, 3, 20)\n",
    "c0 = torch.randn(2, 3, 20)\n",
    "output, (hn, cn) = rnn(input_, (h0, c0))"
   ]
  },
  {
   "cell_type": "code",
   "execution_count": 88,
   "metadata": {},
   "outputs": [
    {
     "data": {
      "text/plain": [
       "torch.Size([5, 3, 10])"
      ]
     },
     "execution_count": 88,
     "metadata": {},
     "output_type": "execute_result"
    }
   ],
   "source": [
    "input_.shape"
   ]
  },
  {
   "cell_type": "code",
   "execution_count": 89,
   "metadata": {},
   "outputs": [
    {
     "data": {
      "text/plain": [
       "torch.Size([5, 3, 20])"
      ]
     },
     "execution_count": 89,
     "metadata": {},
     "output_type": "execute_result"
    }
   ],
   "source": [
    "output.shape"
   ]
  },
  {
   "cell_type": "markdown",
   "metadata": {},
   "source": [
    "2"
   ]
  },
  {
   "cell_type": "code",
   "execution_count": 99,
   "metadata": {},
   "outputs": [],
   "source": [
    "rnn = nn.LSTM(40, 30, 2)\n",
    "input_ = torch.randn(5, 6, 40)\n",
    "# h0 = torch.randn(2, 3, 20)\n",
    "# c0 = torch.randn(2, 3, 20)\n",
    "output, (hn, cn) = rnn(input_)"
   ]
  },
  {
   "cell_type": "code",
   "execution_count": 100,
   "metadata": {},
   "outputs": [
    {
     "data": {
      "text/plain": [
       "torch.Size([5, 6, 40])"
      ]
     },
     "execution_count": 100,
     "metadata": {},
     "output_type": "execute_result"
    }
   ],
   "source": [
    "input_.shape"
   ]
  },
  {
   "cell_type": "code",
   "execution_count": 101,
   "metadata": {},
   "outputs": [
    {
     "data": {
      "text/plain": [
       "torch.Size([5, 6, 30])"
      ]
     },
     "execution_count": 101,
     "metadata": {},
     "output_type": "execute_result"
    }
   ],
   "source": [
    "output.shape"
   ]
  },
  {
   "cell_type": "code",
   "execution_count": 102,
   "metadata": {},
   "outputs": [
    {
     "data": {
      "text/plain": [
       "torch.Size([2, 6, 30])"
      ]
     },
     "execution_count": 102,
     "metadata": {},
     "output_type": "execute_result"
    }
   ],
   "source": [
    "hn.shape"
   ]
  },
  {
   "cell_type": "code",
   "execution_count": null,
   "metadata": {},
   "outputs": [],
   "source": []
  }
 ],
 "metadata": {
  "kernelspec": {
   "display_name": "Python 3",
   "language": "python",
   "name": "python3"
  },
  "language_info": {
   "codemirror_mode": {
    "name": "ipython",
    "version": 3
   },
   "file_extension": ".py",
   "mimetype": "text/x-python",
   "name": "python",
   "nbconvert_exporter": "python",
   "pygments_lexer": "ipython3",
   "version": "3.7.7"
  }
 },
 "nbformat": 4,
 "nbformat_minor": 4
}
