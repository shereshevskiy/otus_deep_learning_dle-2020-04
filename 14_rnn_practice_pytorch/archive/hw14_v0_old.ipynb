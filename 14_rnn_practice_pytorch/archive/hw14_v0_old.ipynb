{
 "cells": [
  {
   "cell_type": "markdown",
   "metadata": {},
   "source": [
    "# <center>Домашнее задание\n",
    "# <center>Создаем Википедию\n",
    "1. Используя подход аналогичный torchvision, сделать свой класс датасета.   \n",
    "Необязательное д/з:   \n",
    "1. Поэкспериментировать с разными архитектурами рекурренток: тип ячеек, слои, нормализация, методы оптимизации"
   ]
  },
  {
   "cell_type": "code",
   "execution_count": 20,
   "metadata": {},
   "outputs": [],
   "source": [
    "import torch\n",
    "import wiki_utils"
   ]
  },
  {
   "cell_type": "markdown",
   "metadata": {},
   "source": [
    "## 1"
   ]
  },
  {
   "cell_type": "code",
   "execution_count": 24,
   "metadata": {},
   "outputs": [],
   "source": [
    "class WikiText:\n",
    "\n",
    "    def __init__(self, path=\"./wiki_data/\", mode=\"train\", encoding=\"utf-8\", \n",
    "                 batch_size=128, sequence_length=30, path_to_text='./wikitext/'):\n",
    "        '''\n",
    "        mode: str - train, test or valid. Default is train\n",
    "        '''\n",
    "        self.mode = mode\n",
    "        self.path_to_text = path_to_text\n",
    "        self.encoding = encoding\n",
    "        self.batch_size = batch_size\n",
    "        self.sequence_length = sequence_length\n",
    "        self.loader_list = self.get_loader_list()\n",
    "    \n",
    "    def __getitem__(self, key):\n",
    "        if isinstance(key, int):\n",
    "            try:\n",
    "                return self.loader_list[key]\n",
    "            except IndexError:\n",
    "                raise ValueError(f'No value for the key {key}')\n",
    "        else:\n",
    "            raise TypeError(f\"{key} has a wrong type. It must be int only\")\n",
    "    \n",
    "    def __len__(self):\n",
    "        return len(self.loader_list)\n",
    "    \n",
    "    def get_corpus(self):\n",
    "        corpus = wiki_utils.Texts(self.path_to_text, encoding=self.encoding)\n",
    "        return corpus\n",
    "    \n",
    "    def save_train_loader(self):\n",
    "        train_loader = get_train_loader()\n",
    "        for ind in range(len(train_loader))\n",
    "    \n",
    "    \n",
    "    \n",
    "    def get_train_loader(self):\n",
    "        self.corpus = self.get_corpus()\n",
    "        train_loader = wiki_utils.TextLoader(self.corpus.train, batch_size=self.batch_size, \n",
    "                                             sequence_length=self.sequence_length)\n",
    "        return train_loader\n",
    "    \n",
    "    def get_test_loader(self):\n",
    "        self.corpus = self.get_corpus()\n",
    "        test_loader = wiki_utils.TextLoader(self.corpus.train, batch_size=self.batch_size, \n",
    "                                             sequence_length=self.sequence_length)\n",
    "        return test_loader\n",
    "    \n",
    "    def get_valid_loader(self):\n",
    "        self.corpus = self.get_corpus()\n",
    "        valid_loader = wiki_utils.TextLoader(self.corpus.train, batch_size=self.batch_size, \n",
    "                                             sequence_length=self.sequence_length)\n",
    "        return valid_loader\n",
    "    \n",
    "    def get_loader_list(self):\n",
    "        if self.mode == \"train\":\n",
    "            return list(self.get_train_loader())\n",
    "        elif self.mode == \"test\":\n",
    "            return list(self.get_test_loader())\n",
    "        elif self.mode == \"valid\":\n",
    "            return list(self.get_valid_loader())\n",
    "        else:\n",
    "            raise ValueError(f\"The value mode as {mode} is wrong. Use train, test or valid only\")"
   ]
  },
  {
   "cell_type": "markdown",
   "metadata": {},
   "source": [
    "### тестируем"
   ]
  },
  {
   "cell_type": "code",
   "execution_count": 26,
   "metadata": {},
   "outputs": [],
   "source": [
    "train_dataset = WikiTextDataset(mode=\"train\")"
   ]
  },
  {
   "cell_type": "code",
   "execution_count": 27,
   "metadata": {},
   "outputs": [],
   "source": [
    "train_data_loader = torch.utils.data.DataLoader(train_dataset)"
   ]
  },
  {
   "cell_type": "code",
   "execution_count": 32,
   "metadata": {},
   "outputs": [
    {
     "data": {
      "text/plain": [
       "2808"
      ]
     },
     "execution_count": 32,
     "metadata": {},
     "output_type": "execute_result"
    }
   ],
   "source": [
    "len(list(train_data_loader))"
   ]
  },
  {
   "cell_type": "code",
   "execution_count": 28,
   "metadata": {},
   "outputs": [
    {
     "data": {
      "text/plain": [
       "[tensor([[[ 0, 15, 40,  ..., 14,  0,  4],\n",
       "          [ 1,  8,  0,  ...,  8, 40,  7],\n",
       "          [ 0,  7, 46,  ...,  9, 12, 15],\n",
       "          ...,\n",
       "          [17,  0,  0,  ..., 15,  0, 40],\n",
       "          [ 0, 66,  4,  ...,  0,  5, 11],\n",
       "          [ 2,  9, 49,  ..., 47,  9, 15]]]),\n",
       " tensor([[ 1,  8,  0,  ..., 48, 42,  0]])]"
      ]
     },
     "execution_count": 28,
     "metadata": {},
     "output_type": "execute_result"
    }
   ],
   "source": [
    "list(train_data_loader)[0]"
   ]
  },
  {
   "cell_type": "code",
   "execution_count": 30,
   "metadata": {},
   "outputs": [
    {
     "data": {
      "text/plain": [
       "torch.Size([1, 30, 128])"
      ]
     },
     "execution_count": 30,
     "metadata": {},
     "output_type": "execute_result"
    }
   ],
   "source": [
    "list(train_data_loader)[0][0].shape"
   ]
  },
  {
   "cell_type": "code",
   "execution_count": 31,
   "metadata": {},
   "outputs": [
    {
     "data": {
      "text/plain": [
       "torch.Size([1, 3840])"
      ]
     },
     "execution_count": 31,
     "metadata": {},
     "output_type": "execute_result"
    }
   ],
   "source": [
    "list(train_data_loader)[0][1].shape"
   ]
  }
 ],
 "metadata": {
  "kernelspec": {
   "display_name": "Python 3",
   "language": "python",
   "name": "python3"
  },
  "language_info": {
   "codemirror_mode": {
    "name": "ipython",
    "version": 3
   },
   "file_extension": ".py",
   "mimetype": "text/x-python",
   "name": "python",
   "nbconvert_exporter": "python",
   "pygments_lexer": "ipython3",
   "version": "3.7.7"
  }
 },
 "nbformat": 4,
 "nbformat_minor": 4
}
