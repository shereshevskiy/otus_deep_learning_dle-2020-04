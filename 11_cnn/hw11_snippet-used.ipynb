{
 "cells": [
  {
   "cell_type": "markdown",
   "metadata": {},
   "source": [
    "# <center>Домашнее задание\n",
    "## Сверточные сети\n",
    "Необязательное домашнее задание\n",
    "1. Реализовать сверточный автокодировщик\n",
    "2. Сделать оптимизацию изображения под активацию сверточных нейронов классификатора\n",
    "3. Сделать оптимизацию изображения под активацию сверточных нейронов автокодировщика"
   ]
  },
  {
   "cell_type": "code",
   "execution_count": 10,
   "metadata": {},
   "outputs": [],
   "source": [
    "import torch\n",
    "import torch.nn as nn\n",
    "import torch.optim as optim\n",
    "from tqdm import tqdm\n",
    "\n",
    "import numpy as np\n",
    "import torchvision\n",
    "# from torchvision import models, transforms\n",
    "from torchvision import transforms\n",
    "import torch.nn.functional as F\n",
    "from torch.optim import lr_scheduler\n",
    "import matplotlib.pyplot as plt\n",
    "import time\n",
    "import os\n",
    "import copy\n",
    "\n",
    "from utils import mnist, plot_graphs, plot_mnist, mnist_transform"
   ]
  },
  {
   "cell_type": "code",
   "execution_count": 2,
   "metadata": {},
   "outputs": [
    {
     "data": {
      "text/plain": [
       "device(type='cpu')"
      ]
     },
     "execution_count": 2,
     "metadata": {},
     "output_type": "execute_result"
    }
   ],
   "source": [
    "device = torch.device(\"cuda:0\" if torch.cuda.is_available() else \"cpu\")\n",
    "device"
   ]
  },
  {
   "cell_type": "markdown",
   "metadata": {},
   "source": [
    "### Задача\n",
    "\n",
    "1. Обучите свою маленькую сверточную сеть с нуля на MNIST или FashionMNIST\n",
    "2. Поставьте модель в eval()\n",
    "3. Создайте тензор картинки, которую нужно будет оптимизировать.\n",
    "4. Задайте функцию потерь.\n",
    "5. Допишите функцию, которая оптимизирует картинку под вашу функцию потерь и выдаёт её.\n",
    "\n",
    "**ПРИМЕР** ниже."
   ]
  },
  {
   "cell_type": "code",
   "execution_count": 3,
   "metadata": {},
   "outputs": [],
   "source": [
    "# Вот так можно создать обучаемый тензор со случайными числами и с размерностью картинки 1*28*28\n",
    "image = torch.randn((1,28,28))*0.001\n",
    "image = image.to(device)\n",
    "image.requires_grad = True"
   ]
  },
  {
   "cell_type": "markdown",
   "metadata": {},
   "source": [
    "На этом этапе у вас уже есть обученная модель с фиксированными параметрами (вы не хотите их больше обучать).\n",
    "\n",
    "В данном примере в качестве \"модели\" я возьму пару линейных слоёв."
   ]
  },
  {
   "cell_type": "code",
   "execution_count": 4,
   "metadata": {},
   "outputs": [],
   "source": [
    "model = torch.nn.Sequential(\n",
    "torch.nn.Linear(in_features=1*28*28, out_features=50),\n",
    "torch.nn.Tanh(),\n",
    "torch.nn.Linear(in_features=50, out_features=3),\n",
    "torch.nn.Softmax(dim=1)\n",
    ")"
   ]
  },
  {
   "cell_type": "code",
   "execution_count": 5,
   "metadata": {},
   "outputs": [
    {
     "data": {
      "text/plain": [
       "Sequential(\n",
       "  (0): Linear(in_features=784, out_features=50, bias=True)\n",
       "  (1): Tanh()\n",
       "  (2): Linear(in_features=50, out_features=3, bias=True)\n",
       "  (3): Softmax(dim=1)\n",
       ")"
      ]
     },
     "execution_count": 5,
     "metadata": {},
     "output_type": "execute_result"
    }
   ],
   "source": [
    "# так мы переводим модель в режим inference [вывод предсказаний],\n",
    "# это особенно важно, если в вашей моделе есть такие слои как Dropout/Batchnorm\n",
    "# потому что в процессе оптимизации картинки вы не хотите чтобы параметры сети менялись\n",
    "model.eval()"
   ]
  },
  {
   "cell_type": "code",
   "execution_count": 6,
   "metadata": {},
   "outputs": [
    {
     "data": {
      "text/plain": [
       "tensor([[0.3677, 0.2964, 0.3358]], grad_fn=<SoftmaxBackward>)"
      ]
     },
     "execution_count": 6,
     "metadata": {},
     "output_type": "execute_result"
    }
   ],
   "source": [
    "# быстрая проверка что сейчас выдаёт модель на картинку\n",
    "model.to(device)\n",
    "image.to(device)\n",
    "\n",
    "# вам не нужно будет делать flatten в случае сверточной модели\n",
    "output = model(image.flatten().unsqueeze(0))\n",
    "output"
   ]
  },
  {
   "cell_type": "code",
   "execution_count": 7,
   "metadata": {},
   "outputs": [
    {
     "data": {
      "text/plain": [
       "tensor(0, grad_fn=<NotImplemented>)"
      ]
     },
     "execution_count": 7,
     "metadata": {},
     "output_type": "execute_result"
    }
   ],
   "source": [
    "torch.argmax(output)"
   ]
  },
  {
   "cell_type": "markdown",
   "metadata": {},
   "source": [
    "Теперь необходимо дописать вот эту функцию, которая принимает на вход номер класса (**class_number**) (в моем примере классов всего 3 на выходе), и производит оптимизацию над картинкой так чтобы было верным условие:\n",
    "\n",
    "``torch.argmax(model(image)) == class_number``\n",
    "\n",
    "Для этого нужно задать условие на функцию потерь. Это уже часть вашего задания понять как это сделать.\n",
    "\n",
    "В своем примере я покажу как оптимизировать картинку, чтобы генерируемая картинка классифицировалась как заданный класс"
   ]
  },
  {
   "cell_type": "code",
   "execution_count": 8,
   "metadata": {},
   "outputs": [],
   "source": [
    "def optimize_image_by_class(class_number, num_steps=50000):\n",
    "    # создаем тензор, который будем оптимизировать\n",
    "    image = torch.randn((1,28,28))*0.001\n",
    "    image = image.to(device)\n",
    "    image.requires_grad = True\n",
    "    \n",
    "    # задайте оптимизатор\n",
    "    # вы можете выбрать какой вам больше нравится\n",
    "    optim = torch.optim.Adam([image], lr=1e-4)\n",
    "    \n",
    "    # задайте лосс функцию соответствующую заданию\n",
    "    # лосс должен зависесть от class_number\n",
    "    loss = ...\n",
    "    grads = []\n",
    "    losses = []\n",
    "    for i in tqdm(range(num_steps)):\n",
    "        # здесь в цикле оптимизируется картинка\n",
    "        # в оптимизатор передается ваш лосс и выход из модели\n",
    "        # не забывайте обнулять градиенты с optim.zero_grad()\n",
    "        # также полезно сохранять значения лосс функции и нормы градиента на каждом шаге\n",
    "        # чтобы было видно как меняются эти значения в процессе \"обучения\" картинки.\n",
    "        ...\n",
    "    \n",
    "    # возвращаете картинку, grads, losses"
   ]
  },
  {
   "cell_type": "markdown",
   "metadata": {},
   "source": [
    "Все те же шаги было бы интересно повторить уже не со свёрточным классификатором на MNIST, а со свёрточным автоэнкодером."
   ]
  },
  {
   "cell_type": "markdown",
   "metadata": {},
   "source": [
    "### данные MNIST"
   ]
  },
  {
   "cell_type": "code",
   "execution_count": 11,
   "metadata": {},
   "outputs": [],
   "source": [
    "mnist_transform = transforms.Compose([\n",
    "                transforms.ToTensor(),\n",
    "                transforms.Normalize((0.5,), (0.5,)),\n",
    "           ])\n",
    "\n",
    "train_loader, test_loader = mnist(batch_size=200, valid=0, transform=mnist_transform, \n",
    "                                  path='./../MNIST_data')"
   ]
  },
  {
   "cell_type": "markdown",
   "metadata": {},
   "source": [
    "## <center>Классификатор"
   ]
  },
  {
   "cell_type": "markdown",
   "metadata": {},
   "source": [
    "### 1. Делаем сверточный классификатор и обучаем"
   ]
  },
  {
   "cell_type": "code",
   "execution_count": 12,
   "metadata": {},
   "outputs": [],
   "source": [
    "class Net(nn.Module):\n",
    "    def __init__(self, lr=1e-3):\n",
    "        super(Net, self).__init__()\n",
    "        self.conv1 = nn.Conv2d(1, 6, 5)\n",
    "        self.pool = nn.MaxPool2d(2, 2)\n",
    "        self.conv2 = nn.Conv2d(6, 16, 5)  # --> \n",
    "        self.fc1 = nn.Linear(16 * 4 * 4, 120)\n",
    "        self.fc2 = nn.Linear(120, 84)\n",
    "        self.fc3 = nn.Linear(84, 10)\n",
    "        \n",
    "        self.loss_fn = nn.CrossEntropyLoss()\n",
    "        self._loss = None\n",
    "        self.optim = optim.Adam(self.parameters(), lr=lr)\n",
    "\n",
    "    def forward(self, x):\n",
    "        x = self.pool(F.relu(self.conv1(x)))  # 28 24 12\n",
    "        x = self.pool(F.relu(self.conv2(x)))  # 12 8 4\n",
    "        x = x.view(-1, 16 * 4 * 4)\n",
    "        x = F.relu(self.fc1(x))\n",
    "        x = F.relu(self.fc2(x))\n",
    "        x = self.fc3(x)\n",
    "        return x\n",
    "    \n",
    "    def loss(self, output, target, **kwargs):\n",
    "        self._loss = F.cross_entropy(output, target, **kwargs)\n",
    "        self._correct = output.data.argmax(1, keepdim=True)\n",
    "        self._correct = self._correct.eq(target.data.view_as(self._correct)).to(torch.float).cpu().mean()\n",
    "        return self._loss"
   ]
  },
  {
   "cell_type": "code",
   "execution_count": 13,
   "metadata": {},
   "outputs": [],
   "source": [
    "def train(epoch, models, loader, log=None, verbose_num=1):\n",
    "    train_size = len(loader.sampler)\n",
    "    for batch_idx, (data, target) in enumerate(loader):\n",
    "        data = data.to(device)\n",
    "        \n",
    "        for model in models.values():\n",
    "            model.optim.zero_grad()\n",
    "            output = model(data)\n",
    "            loss = model.loss(output, target)\n",
    "            loss.backward()\n",
    "            model.optim.step()\n",
    "            \n",
    "    if log is not None:\n",
    "        for k in models:\n",
    "            log[k].append(models[k]._loss)   \n",
    "            \n",
    "    if epoch == 1 or epoch % verbose_num == 0:\n",
    "        line = 'Epoch: {} [{}]\\n'.format(epoch, train_size)\n",
    "        losses = '\\t' + 'Train set: ' + \\\n",
    "                 ' '.join(['{}: loss: {:.6f}'.format(k, m._loss.item()) for k, m in models.items()])\n",
    "        report = line + losses\n",
    "        print(report)"
   ]
  },
  {
   "cell_type": "code",
   "execution_count": 14,
   "metadata": {},
   "outputs": [],
   "source": [
    "def test(epoch, model, loader, log=None, verbose_num=1):\n",
    "    test_size = len(loader.sampler)\n",
    "    avg_lambda = lambda l: 'Loss: {:.4f}'.format(l)\n",
    "    acc_lambda = lambda c, p: 'Accuracy: {}/{} ({:.0f}%)'.format(c, test_size, p)\n",
    "    line = lambda i, l, c, p: '{}: '.format(i) + avg_lambda(l) + '\\t' + acc_lambda(c, p)\n",
    "\n",
    "    test_loss = {k: 0. for k in models}\n",
    "    correct = {k: 0. for k in models}\n",
    "    with torch.no_grad():\n",
    "        for data, target in loader:\n",
    "            output = {k: m(data) for k, m in models.items()}\n",
    "            for k, m in models.items():\n",
    "                test_loss[k] += m.loss(output[k], target, reduction='sum').item() # sum up batch loss\n",
    "                pred = output[k].data.argmax(1, keepdim=True) # get the index of the max log-probability\n",
    "                correct[k] += pred.eq(target.data.view_as(pred)).cpu().sum().item()\n",
    "    \n",
    "    for k in models:\n",
    "        test_loss[k] /= test_size\n",
    "    correct_pct = {k: c / test_size for k, c in correct.items()}\n",
    "    \n",
    "    \n",
    "    if log is not None:\n",
    "        for k in models:\n",
    "            log[k].append((test_loss[k], correct_pct[k]))\n",
    "    \n",
    "    if epoch == 1 or epoch % verbose_num == 0:\n",
    "        lines = '\\n'.join([line(k, test_loss[k], correct[k], 100*correct_pct[k]) for k in models]) + '\\n'\n",
    "        report = '\\tTest set: ' + lines\n",
    "        print(report)"
   ]
  },
  {
   "cell_type": "code",
   "execution_count": 15,
   "metadata": {},
   "outputs": [
    {
     "name": "stdout",
     "output_type": "stream",
     "text": [
      "Epoch: 1 [10000]\n",
      "\tTrain set: first_model: loss: 0.803193\n",
      "\tTest set: first_model: Loss: 0.5971\tAccuracy: 8193.0/10000 (82%)\n",
      "\n",
      "Epoch: 2 [10000]\n",
      "\tTrain set: first_model: loss: 0.448648\n",
      "\tTest set: first_model: Loss: 0.2545\tAccuracy: 9232.0/10000 (92%)\n",
      "\n",
      "Epoch: 3 [10000]\n",
      "\tTrain set: first_model: loss: 0.278372\n",
      "\tTest set: first_model: Loss: 0.1717\tAccuracy: 9485.0/10000 (95%)\n",
      "\n",
      "Epoch: 4 [10000]\n",
      "\tTrain set: first_model: loss: 0.208636\n",
      "\tTest set: first_model: Loss: 0.1343\tAccuracy: 9588.0/10000 (96%)\n",
      "\n",
      "Epoch: 5 [10000]\n",
      "\tTrain set: first_model: loss: 0.163320\n",
      "\tTest set: first_model: Loss: 0.1042\tAccuracy: 9686.0/10000 (97%)\n",
      "\n",
      "Epoch: 6 [10000]\n",
      "\tTrain set: first_model: loss: 0.153722\n",
      "\tTest set: first_model: Loss: 0.0846\tAccuracy: 9736.0/10000 (97%)\n",
      "\n",
      "Epoch: 7 [10000]\n",
      "\tTrain set: first_model: loss: 0.131259\n",
      "\tTest set: first_model: Loss: 0.0723\tAccuracy: 9769.0/10000 (98%)\n",
      "\n",
      "Epoch: 8 [10000]\n",
      "\tTrain set: first_model: loss: 0.095738\n",
      "\tTest set: first_model: Loss: 0.0623\tAccuracy: 9798.0/10000 (98%)\n",
      "\n",
      "Epoch: 9 [10000]\n",
      "\tTrain set: first_model: loss: 0.073305\n",
      "\tTest set: first_model: Loss: 0.0535\tAccuracy: 9823.0/10000 (98%)\n",
      "\n",
      "Epoch: 10 [10000]\n",
      "\tTrain set: first_model: loss: 0.055654\n",
      "\tTest set: first_model: Loss: 0.0461\tAccuracy: 9849.0/10000 (98%)\n",
      "\n",
      "Epoch: 11 [10000]\n",
      "\tTrain set: first_model: loss: 0.044907\n",
      "\tTest set: first_model: Loss: 0.0402\tAccuracy: 9871.0/10000 (99%)\n",
      "\n",
      "Epoch: 12 [10000]\n",
      "\tTrain set: first_model: loss: 0.038769\n",
      "\tTest set: first_model: Loss: 0.0353\tAccuracy: 9886.0/10000 (99%)\n",
      "\n",
      "Epoch: 13 [10000]\n",
      "\tTrain set: first_model: loss: 0.037761\n",
      "\tTest set: first_model: Loss: 0.0328\tAccuracy: 9887.0/10000 (99%)\n",
      "\n",
      "Epoch: 14 [10000]\n",
      "\tTrain set: first_model: loss: 0.043431\n",
      "\tTest set: first_model: Loss: 0.0330\tAccuracy: 9881.0/10000 (99%)\n",
      "\n",
      "Epoch: 15 [10000]\n",
      "\tTrain set: first_model: loss: 0.030448\n",
      "\tTest set: first_model: Loss: 0.0282\tAccuracy: 9905.0/10000 (99%)\n",
      "\n",
      "Epoch: 16 [10000]\n",
      "\tTrain set: first_model: loss: 0.022626\n",
      "\tTest set: first_model: Loss: 0.0221\tAccuracy: 9923.0/10000 (99%)\n",
      "\n",
      "Epoch: 17 [10000]\n",
      "\tTrain set: first_model: loss: 0.021340\n",
      "\tTest set: first_model: Loss: 0.0194\tAccuracy: 9935.0/10000 (99%)\n",
      "\n",
      "Epoch: 18 [10000]\n",
      "\tTrain set: first_model: loss: 0.018221\n",
      "\tTest set: first_model: Loss: 0.0177\tAccuracy: 9940.0/10000 (99%)\n",
      "\n",
      "Epoch: 19 [10000]\n",
      "\tTrain set: first_model: loss: 0.014523\n",
      "\tTest set: first_model: Loss: 0.0149\tAccuracy: 9957.0/10000 (100%)\n",
      "\n",
      "Epoch: 20 [10000]\n",
      "\tTrain set: first_model: loss: 0.013425\n",
      "\tTest set: first_model: Loss: 0.0127\tAccuracy: 9964.0/10000 (100%)\n",
      "\n",
      "Wall time: 3min 26s\n"
     ]
    }
   ],
   "source": [
    "%%time\n",
    "\n",
    "models = {'first_model': Net()}\n",
    "train_log = {k: [] for k in models}\n",
    "test_log = {k: [] for k in models}\n",
    "\n",
    "for epoch in range(1, 21):\n",
    "    for model in models.values():\n",
    "        model.train()\n",
    "    train(epoch, models, test_loader, train_log)\n",
    "    for model in models.values():\n",
    "        model.eval()\n",
    "    test(epoch, models, test_loader, test_log)"
   ]
  },
  {
   "cell_type": "markdown",
   "metadata": {},
   "source": [
    "### посмотрим кривые обучения"
   ]
  },
  {
   "cell_type": "code",
   "execution_count": 16,
   "metadata": {},
   "outputs": [
    {
     "data": {
      "image/png": "[encoded data removed]",
      "text/plain": [
       "<Figure size 432x288 with 1 Axes>"
      ]
     },
     "metadata": {
      "needs_background": "light"
     },
     "output_type": "display_data"
    }
   ],
   "source": [
    "plt.plot(train_log[\"first_model\"], label=\"train_loss\")\n",
    "plt.plot(list(map(lambda x: x[0], test_log[\"first_model\"])), label=\"test_loss\")\n",
    "plt.plot(list(map(lambda x: x[1], test_log[\"first_model\"])), label=\"test_accuracy\")\n",
    "plt.legend();"
   ]
  },
  {
   "cell_type": "markdown",
   "metadata": {},
   "source": [
    "### 2. Генерируем и оптимизируем изображение под заданный класс"
   ]
  },
  {
   "cell_type": "markdown",
   "metadata": {},
   "source": [
    "#### функция для оптимизации изображения под заданный класс"
   ]
  },
  {
   "cell_type": "code",
   "execution_count": 36,
   "metadata": {},
   "outputs": [],
   "source": [
    "def optimize_image_by_class(class_number, model, num_steps=50000):\n",
    "    model.eval()\n",
    "    \n",
    "    # создаем тензор, который будем оптимизировать\n",
    "    image = torch.randn((1, 28, 28))*0.001\n",
    "    image = image.to(device)\n",
    "    image.requires_grad = True\n",
    "    \n",
    "    # задайте оптимизатор\n",
    "    # вы можете выбрать какой вам больше нравится\n",
    "    optim = torch.optim.Adam([image], lr=1e-4)\n",
    "    \n",
    "    # задайте лосс функцию соответствующую заданию\n",
    "    # лосс должен зависесть от class_number\n",
    "    grads = []\n",
    "    losses = []\n",
    "    for i in tqdm(range(num_steps)):\n",
    "        # здесь в цикле оптимизируется картинка\n",
    "        # в оптимизатор передается ваш лосс и выход из модели\n",
    "        # не забывайте обнулять градиенты с optim.zero_grad()\n",
    "        # также полезно сохранять значения лосс функции и нормы градиента на каждом шаге\n",
    "        # чтобы было видно как меняются эти значения в процессе \"обучения\" картинки.\n",
    "        optim.zero_grad()\n",
    "        output = model(image.unsqueeze(0))\n",
    "        loss = F.cross_entropy(output, torch.tensor([class_number]))\n",
    "        loss.backward()\n",
    "        optim.step()\n",
    "        \n",
    "        losses.append(loss)\n",
    "        grads.append(image.grad.norm())\n",
    "    \n",
    "    # возвращаете картинку, grads, losses\n",
    "    return image, grads, losses"
   ]
  },
  {
   "cell_type": "code",
   "execution_count": 37,
   "metadata": {},
   "outputs": [
    {
     "name": "stderr",
     "output_type": "stream",
     "text": [
      "100%|████████████████████████████████████████████████| 5000/5000 [00:27<00:00, 181.39it/s]\n"
     ]
    }
   ],
   "source": [
    "model = models[\"first_model\"]\n",
    "class_number = 8\n",
    "\n",
    "image, grads, losses = optimize_image_by_class(class_number, model, num_steps=5000)"
   ]
  },
  {
   "cell_type": "markdown",
   "metadata": {},
   "source": [
    "#### проверим соответствие классу"
   ]
  },
  {
   "cell_type": "code",
   "execution_count": 38,
   "metadata": {},
   "outputs": [
    {
     "data": {
      "text/plain": [
       "True"
      ]
     },
     "execution_count": 38,
     "metadata": {},
     "output_type": "execute_result"
    }
   ],
   "source": [
    "(torch.argmax(model(image.unsqueeze(0))) == class_number).item()"
   ]
  },
  {
   "cell_type": "markdown",
   "metadata": {},
   "source": [
    "#### сгенерированное и оптимизированное изображение под класс"
   ]
  },
  {
   "cell_type": "code",
   "execution_count": 44,
   "metadata": {},
   "outputs": [
    {
     "data": {
      "image/png": "[encoded data removed]",
      "text/plain": [
       "<Figure size 80x80 with 1 Axes>"
      ]
     },
     "metadata": {},
     "output_type": "display_data"
    },
    {
     "name": "stdout",
     "output_type": "stream",
     "text": [
      "8\n"
     ]
    }
   ],
   "source": [
    "to_plot = image.unsqueeze(0).data.cpu().numpy()\n",
    "\n",
    "plot_mnist(to_plot, (1, 1))\n",
    "print(class_number)"
   ]
  },
  {
   "cell_type": "code",
   "execution_count": 40,
   "metadata": {},
   "outputs": [
    {
     "data": {
      "image/png": "[encoded data removed]",
      "text/plain": [
       "<Figure size 432x288 with 1 Axes>"
      ]
     },
     "metadata": {
      "needs_background": "light"
     },
     "output_type": "display_data"
    }
   ],
   "source": [
    "plt.plot(losses);"
   ]
  },
  {
   "cell_type": "code",
   "execution_count": 41,
   "metadata": {},
   "outputs": [
    {
     "data": {
      "image/png": "[encoded data removed]",
      "text/plain": [
       "<Figure size 432x288 with 1 Axes>"
      ]
     },
     "metadata": {
      "needs_background": "light"
     },
     "output_type": "display_data"
    }
   ],
   "source": [
    "plt.plot(grads);"
   ]
  },
  {
   "cell_type": "markdown",
   "metadata": {},
   "source": [
    "## <center>Автокодировщик"
   ]
  },
  {
   "cell_type": "markdown",
   "metadata": {},
   "source": [
    "### 1. Реализуем и обучим сверточный автокодировщик"
   ]
  },
  {
   "cell_type": "code",
   "execution_count": 45,
   "metadata": {
    "colab": {},
    "colab_type": "code",
    "id": "sTnJBZff_sD8"
   },
   "outputs": [],
   "source": [
    "class Encoder(nn.Module):\n",
    "    def __init__(self, channels=16, latent_size=10):\n",
    "        super(Encoder, self).__init__()\n",
    "        self.conv1 = nn.Conv2d(in_channels=1, out_channels=channels, kernel_size=5, stride=1, padding=2)\n",
    "        self.fc1 = nn.Linear(28*28*channels, latent_size)\n",
    "        self.channels = channels\n",
    "    \n",
    "    def forward(self, x):\n",
    "        x = self.conv1(x)\n",
    "        x = x.view(-1, 28*28*self.channels)\n",
    "        x = self.fc1(x)\n",
    "        x = torch.sigmoid(x)\n",
    "        return x\n",
    "    \n",
    "class Decoder(nn.Module):\n",
    "    def __init__(self, channels=16, latent_size=10):\n",
    "        super(Decoder, self).__init__()\n",
    "        self.fc1 = nn.Linear(latent_size, 28*28*channels)\n",
    "        self.convtrans1 = nn.ConvTranspose2d(in_channels=channels, out_channels=1, kernel_size=5, stride=1, padding=2)\n",
    "        self.channels = channels\n",
    "    \n",
    "    def forward(self, x):\n",
    "        x = self.fc1(x)\n",
    "        x = x.view(-1, self.channels, 28, 28)\n",
    "        x = self.convtrans1(x)\n",
    "        x = torch.tanh(x)\n",
    "        return x"
   ]
  },
  {
   "cell_type": "code",
   "execution_count": 46,
   "metadata": {
    "colab": {},
    "colab_type": "code",
    "id": "Xa9JH-v-_sEC"
   },
   "outputs": [],
   "source": [
    "class Net(nn.Module):\n",
    "    def __init__(self, latent_size=10, loss_fn=F.mse_loss, lr=1e-4, l2=0.):\n",
    "        super(Net, self).__init__()\n",
    "        self.latent_size = latent_size\n",
    "        self.E = Encoder(latent_size).to(device)\n",
    "        self.D = Decoder(latent_size).to(device)\n",
    "        self.loss_fn = loss_fn\n",
    "        self._loss = None\n",
    "        self.optim = optim.Adam(self.parameters(), lr=lr, weight_decay=l2)\n",
    "        \n",
    "    def forward(self, x):\n",
    "        h = self.E(x)\n",
    "        out = self.D(h)\n",
    "        return out\n",
    "    \n",
    "    def encode(self, x):\n",
    "        with torch.no_grad():\n",
    "            return self.E(x)\n",
    "    \n",
    "    def decode(self, h):\n",
    "        with torch.no_grad():\n",
    "            return self.D(h)\n",
    "    \n",
    "    def loss(self, x, target, **kwargs):\n",
    "        self._loss = self.loss_fn(x, target, **kwargs)\n",
    "        return self._loss"
   ]
  },
  {
   "cell_type": "code",
   "execution_count": 50,
   "metadata": {
    "colab": {},
    "colab_type": "code",
    "id": "LSWOuoLQ_sEI"
   },
   "outputs": [],
   "source": [
    "def train(epoch, models, loader, log=None, verbose_num=1):\n",
    "    train_size = len(loader.sampler)\n",
    "    for batch_idx, (data, _) in enumerate(loader):\n",
    "        data = data.to(device)\n",
    "        \n",
    "        for model in models.values():\n",
    "            model = model.to(device)\n",
    "            model.optim.zero_grad()\n",
    "            output = model(data)\n",
    "            loss = model.loss(output, data)\n",
    "            loss.backward()\n",
    "            model.optim.step()\n",
    "            \n",
    "    if log is not None:\n",
    "        for k in models:\n",
    "            log[k].append(models[k]._loss)   \n",
    "            \n",
    "    if epoch == 1 or epoch % verbose_num == 0:\n",
    "        line = 'Epoch: {} [{}]\\n'.format(epoch, train_size)\n",
    "        losses = '\\t' + 'Train set: ' + \\\n",
    "                 ' '.join(['{}: loss: {:.6f}'.format(k, m._loss.item()) for k, m in models.items()])\n",
    "        report = line + losses\n",
    "        print(report)"
   ]
  },
  {
   "cell_type": "code",
   "execution_count": 51,
   "metadata": {
    "colab": {},
    "colab_type": "code",
    "id": "OjKZP8Vu_sEP"
   },
   "outputs": [],
   "source": [
    "def test(epoch, models, loader, log=None, verbose_num=1):\n",
    "    test_size = len(loader.sampler)\n",
    "\n",
    "    test_loss = {mod_label: 0. for mod_label in models}\n",
    "    with torch.no_grad():\n",
    "        for data, _ in loader:\n",
    "            data = data.to(device)\n",
    "            if noise:\n",
    "                noised = add_noise(data, mode, elementwise)\n",
    "            else:\n",
    "                noised = data\n",
    "            \n",
    "            output = {mod_label: model(noised) for mod_label, model in models.items()}\n",
    "            for mod_label, model in models.items():\n",
    "                test_loss[mod_label] += model.loss(output[mod_label], noised, reduction='sum').item() # sum up batch loss\n",
    "    \n",
    "    for k in models:\n",
    "        test_loss[k] /= (test_size * 784)\n",
    "        if log is not None:\n",
    "            log[k].append(test_loss[k])\n",
    "    \n",
    "    if epoch == 1 or epoch % verbose_num == 0:\n",
    "        avg_lambda = lambda l: 'loss: {:.4f}'.format(l)\n",
    "        line = lambda i, l: '{}: '.format(i) + avg_lambda(l)\n",
    "        \n",
    "        losses = ' '.join([line(k, test_loss[k]) for k in models])\n",
    "        report = '\\t' + 'Test set: ' + losses   \n",
    "        print(report)"
   ]
  },
  {
   "cell_type": "markdown",
   "metadata": {
    "colab_type": "text",
    "id": "liPKy3KU_sET"
   },
   "source": [
    "#### Тренируем автокодировщики с 32-мерным латентным слоем"
   ]
  },
  {
   "cell_type": "code",
   "execution_count": 52,
   "metadata": {},
   "outputs": [],
   "source": [
    "def train_test_models(epoch, models, train_log=None, test_log=None):\n",
    "    for epoch in np.arange(epoch) + 1:\n",
    "        for model in models.values():\n",
    "            model.train()\n",
    "        train(epoch, models, train_loader, train_log)\n",
    "        for model in models.values():\n",
    "            model.eval()\n",
    "        test(epoch, models, test_loader, test_log)"
   ]
  },
  {
   "cell_type": "code",
   "execution_count": 69,
   "metadata": {
    "colab": {
     "base_uri": "https://localhost:8080/",
     "height": 1000
    },
    "colab_type": "code",
    "executionInfo": {
     "elapsed": 1515500,
     "status": "ok",
     "timestamp": 1591709385887,
     "user": {
      "displayName": "Дмитрий Шерешевский",
      "photoUrl": "https://lh3.googleusercontent.com/a-/AOh14Giembzl_qmFKR42DoX0fGLebX_kyUtm4Zs6FyKw=s64",
      "userId": "15007188307318442356"
     },
     "user_tz": -180
    },
    "id": "We8u1izI_sEa",
    "outputId": "d6204815-3401-42cc-e7cc-22c5ee09b2d2"
   },
   "outputs": [
    {
     "name": "stdout",
     "output_type": "stream",
     "text": [
      "Epoch: 1 [60000]\n",
      "\tTrain set: 32: loss: 0.301779\n",
      "\tTest set: 32: loss: 0.3012\n",
      "Epoch: 2 [60000]\n",
      "\tTrain set: 32: loss: 0.249621\n",
      "\tTest set: 32: loss: 0.2510\n",
      "Epoch: 3 [60000]\n",
      "\tTrain set: 32: loss: 0.203139\n",
      "\tTest set: 32: loss: 0.2017\n",
      "Epoch: 4 [60000]\n",
      "\tTrain set: 32: loss: 0.177346\n",
      "\tTest set: 32: loss: 0.1732\n",
      "Epoch: 5 [60000]\n",
      "\tTrain set: 32: loss: 0.145378\n",
      "\tTest set: 32: loss: 0.1443\n",
      "Epoch: 6 [60000]\n",
      "\tTrain set: 32: loss: 0.141361\n",
      "\tTest set: 32: loss: 0.1346\n",
      "Epoch: 7 [60000]\n",
      "\tTrain set: 32: loss: 0.132482\n",
      "\tTest set: 32: loss: 0.1305\n",
      "Epoch: 8 [60000]\n",
      "\tTrain set: 32: loss: 0.130169\n",
      "\tTest set: 32: loss: 0.1277\n",
      "Epoch: 9 [60000]\n",
      "\tTrain set: 32: loss: 0.126810\n",
      "\tTest set: 32: loss: 0.1257\n",
      "Epoch: 10 [60000]\n",
      "\tTrain set: 32: loss: 0.122253\n",
      "\tTest set: 32: loss: 0.1241\n",
      "Epoch: 11 [60000]\n",
      "\tTrain set: 32: loss: 0.128327\n",
      "\tTest set: 32: loss: 0.1231\n",
      "Epoch: 12 [60000]\n",
      "\tTrain set: 32: loss: 0.124329\n",
      "\tTest set: 32: loss: 0.1221\n",
      "Epoch: 13 [60000]\n",
      "\tTrain set: 32: loss: 0.126667\n",
      "\tTest set: 32: loss: 0.1213\n",
      "Epoch: 14 [60000]\n",
      "\tTrain set: 32: loss: 0.116767\n",
      "\tTest set: 32: loss: 0.1207\n",
      "Epoch: 15 [60000]\n",
      "\tTrain set: 32: loss: 0.120311\n",
      "\tTest set: 32: loss: 0.1203\n",
      "Epoch: 16 [60000]\n",
      "\tTrain set: 32: loss: 0.121297\n",
      "\tTest set: 32: loss: 0.1200\n",
      "Epoch: 17 [60000]\n",
      "\tTrain set: 32: loss: 0.120322\n",
      "\tTest set: 32: loss: 0.1197\n",
      "Epoch: 18 [60000]\n",
      "\tTrain set: 32: loss: 0.120139\n",
      "\tTest set: 32: loss: 0.1193\n",
      "Epoch: 19 [60000]\n",
      "\tTrain set: 32: loss: 0.113541\n",
      "\tTest set: 32: loss: 0.1193\n",
      "Epoch: 20 [60000]\n",
      "\tTrain set: 32: loss: 0.120319\n",
      "\tTest set: 32: loss: 0.1192\n",
      "Wall time: 35min 8s\n"
     ]
    }
   ],
   "source": [
    "%%time\n",
    "\n",
    "ae_models = {'32': Net(32)}\n",
    "train_log = {k: [] for k in ae_models}\n",
    "test_log = {k: [] for k in ae_models}\n",
    "\n",
    "train_test_models(20, ae_models)"
   ]
  },
  {
   "cell_type": "markdown",
   "metadata": {
    "colab_type": "text",
    "id": "arESPcjx_sEi"
   },
   "source": [
    "#### посмотрим на кривые обучения"
   ]
  },
  {
   "cell_type": "code",
   "execution_count": 70,
   "metadata": {
    "colab": {
     "base_uri": "https://localhost:8080/",
     "height": 573
    },
    "colab_type": "code",
    "executionInfo": {
     "elapsed": 1515495,
     "status": "ok",
     "timestamp": 1591709385893,
     "user": {
      "displayName": "Дмитрий Шерешевский",
      "photoUrl": "https://lh3.googleusercontent.com/a-/AOh14Giembzl_qmFKR42DoX0fGLebX_kyUtm4Zs6FyKw=s64",
      "userId": "15007188307318442356"
     },
     "user_tz": -180
    },
    "id": "_9UpjtSJ_sEj",
    "outputId": "a174ce0d-bf55-4cac-d5f3-68ae24a2577f"
   },
   "outputs": [
    {
     "data": {
      "image/png": "[encoded data removed]",
      "text/plain": [
       "<Figure size 432x288 with 1 Axes>"
      ]
     },
     "metadata": {
      "needs_background": "light"
     },
     "output_type": "display_data"
    }
   ],
   "source": [
    "for model in ae_models:\n",
    "    plt.plot(train_log[model], label=\"train\")\n",
    "    plt.plot(test_log[model], label=\"test\")\n",
    "    plt.title(f\"loss, model: {model}\")\n",
    "    plt.xlabel(\"Epochs\")\n",
    "    plt.legend()\n",
    "    plt.grid()"
   ]
  },
  {
   "cell_type": "markdown",
   "metadata": {},
   "source": [
    "#### функция для оптимизации изображения под активацию сверточных нейронов автокодировщика"
   ]
  },
  {
   "cell_type": "code",
   "execution_count": 81,
   "metadata": {},
   "outputs": [],
   "source": [
    "def optimize_image_by_convactivation(model, num_steps=50000):\n",
    "    model.eval()\n",
    "    \n",
    "    # создаем тензор, который будем оптимизировать\n",
    "    image = torch.randn((1, 28, 28))*0.001\n",
    "    image = image.to(device)\n",
    "    image.requires_grad = True\n",
    "    \n",
    "    # задайте оптимизатор\n",
    "    # вы можете выбрать какой вам больше нравится\n",
    "    optim = torch.optim.Adam([image], lr=1e-4)\n",
    "    \n",
    "    # задайте лосс функцию соответствующую заданию\n",
    "    # лосс должен зависесть от class_number\n",
    "    grads = []\n",
    "    losses = []\n",
    "    for i in tqdm(range(num_steps)):\n",
    "        # здесь в цикле оптимизируется картинка\n",
    "        # в оптимизатор передается ваш лосс и выход из модели\n",
    "        # не забывайте обнулять градиенты с optim.zero_grad()\n",
    "        # также полезно сохранять значения лосс функции и нормы градиента на каждом шаге\n",
    "        # чтобы было видно как меняются эти значения в процессе \"обучения\" картинки.\n",
    "        optim.zero_grad()\n",
    "        output = model.E.conv1(image.unsqueeze(0))\n",
    "#         loss = F.cross_entropy(output, torch.tensor([class_number]))\n",
    "        loss = -output.abs().mean()\n",
    "        loss.backward()\n",
    "        optim.step()\n",
    "        \n",
    "        losses.append(loss)\n",
    "        grads.append(image.grad.norm())\n",
    "    \n",
    "    # возвращаете картинку, grads, losses\n",
    "    return image, grads, losses"
   ]
  },
  {
   "cell_type": "code",
   "execution_count": 82,
   "metadata": {},
   "outputs": [
    {
     "name": "stderr",
     "output_type": "stream",
     "text": [
      "100%|████████████████████████████████████████████████| 5000/5000 [00:22<00:00, 220.82it/s]\n"
     ]
    }
   ],
   "source": [
    "image, grads, losses = optimize_image_by_convactivation(ae_models[\"32\"], num_steps=5000)"
   ]
  },
  {
   "cell_type": "markdown",
   "metadata": {},
   "source": [
    "#### сгенерированное и оптимизированное изображение"
   ]
  },
  {
   "cell_type": "code",
   "execution_count": 83,
   "metadata": {},
   "outputs": [
    {
     "data": {
      "image/png": "[encoded data removed]",
      "text/plain": [
       "<Figure size 80x80 with 1 Axes>"
      ]
     },
     "metadata": {},
     "output_type": "display_data"
    }
   ],
   "source": [
    "to_plot = image.unsqueeze(0).data.cpu().numpy()\n",
    "\n",
    "plot_mnist(to_plot, (1, 1))"
   ]
  },
  {
   "cell_type": "code",
   "execution_count": 84,
   "metadata": {},
   "outputs": [
    {
     "data": {
      "image/png": "[encoded data removed]",
      "text/plain": [
       "<Figure size 432x288 with 1 Axes>"
      ]
     },
     "metadata": {
      "needs_background": "light"
     },
     "output_type": "display_data"
    }
   ],
   "source": [
    "plt.plot(losses);"
   ]
  },
  {
   "cell_type": "code",
   "execution_count": 85,
   "metadata": {},
   "outputs": [
    {
     "data": {
      "image/png": "[encoded data removed]",
      "text/plain": [
       "<Figure size 432x288 with 1 Axes>"
      ]
     },
     "metadata": {
      "needs_background": "light"
     },
     "output_type": "display_data"
    }
   ],
   "source": [
    "plt.plot(grads);"
   ]
  },
  {
   "cell_type": "code",
   "execution_count": null,
   "metadata": {},
   "outputs": [],
   "source": []
  }
 ],
 "metadata": {
  "kernelspec": {
   "display_name": "Python 3",
   "language": "python",
   "name": "python3"
  },
  "language_info": {
   "codemirror_mode": {
    "name": "ipython",
    "version": 3
   },
   "file_extension": ".py",
   "mimetype": "text/x-python",
   "name": "python",
   "nbconvert_exporter": "python",
   "pygments_lexer": "ipython3",
   "version": "3.7.7"
  }
 },
 "nbformat": 4,
 "nbformat_minor": 4
}
