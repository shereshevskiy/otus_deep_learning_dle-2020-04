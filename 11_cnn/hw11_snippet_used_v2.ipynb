{
  "nbformat": 4,
  "nbformat_minor": 0,
  "metadata": {
    "kernelspec": {
      "display_name": "Python 3",
      "language": "python",
      "name": "python3"
    },
    "language_info": {
      "codemirror_mode": {
        "name": "ipython",
        "version": 3
      },
      "file_extension": ".py",
      "mimetype": "text/x-python",
      "name": "python",
      "nbconvert_exporter": "python",
      "pygments_lexer": "ipython3",
      "version": "3.7.7"
    },
    "colab": {
      "name": "hw11_snippet-used_v2.ipynb",
      "provenance": [],
      "toc_visible": true
    },
    "accelerator": "GPU"
  },
  "cells": [
    {
      "cell_type": "markdown",
      "metadata": {
        "id": "mnX82VqN6fmc",
        "colab_type": "text"
      },
      "source": [
        "# <center>Домашнее задание\n",
        "## Сверточные сети\n",
        "Необязательное домашнее задание\n",
        "1. Реализовать сверточный автокодировщик\n",
        "2. Сделать оптимизацию изображения под активацию сверточных нейронов классификатора\n",
        "3. Сделать оптимизацию изображения под активацию сверточных нейронов автокодировщика"
      ]
    },
    {
      "cell_type": "code",
      "metadata": {
        "id": "FYvljv0J-apg",
        "colab_type": "code",
        "colab": {
          "base_uri": "https://localhost:8080/",
          "height": 34
        },
        "outputId": "84a07a2d-aeac-4927-8a49-d07449a97454"
      },
      "source": [
        "from google.colab import drive\n",
        "drive.mount('/content/drive')"
      ],
      "execution_count": 1,
      "outputs": [
        {
          "output_type": "stream",
          "text": [
            "Drive already mounted at /content/drive; to attempt to forcibly remount, call drive.mount(\"/content/drive\", force_remount=True).\n"
          ],
          "name": "stdout"
        }
      ]
    },
    {
      "cell_type": "code",
      "metadata": {
        "id": "hxq4blQW-wl8",
        "colab_type": "code",
        "colab": {}
      },
      "source": [
        "import os\n",
        "os.chdir('drive/My Drive/Colab Notebooks/neural_OTUS')"
      ],
      "execution_count": 2,
      "outputs": []
    },
    {
      "cell_type": "code",
      "metadata": {
        "id": "ddWQMZfp6fmg",
        "colab_type": "code",
        "colab": {}
      },
      "source": [
        "import torch\n",
        "import torch.nn as nn\n",
        "import torch.optim as optim\n",
        "from tqdm import tqdm\n",
        "\n",
        "import numpy as np\n",
        "import torchvision\n",
        "# from torchvision import models, transforms\n",
        "from torchvision import transforms\n",
        "import torch.nn.functional as F\n",
        "from torch.optim import lr_scheduler\n",
        "import matplotlib.pyplot as plt\n",
        "import matplotlib\n",
        "import time\n",
        "import os\n",
        "import copy\n",
        "\n",
        "from utils import mnist, plot_graphs, plot_mnist, mnist_transform"
      ],
      "execution_count": 3,
      "outputs": []
    },
    {
      "cell_type": "code",
      "metadata": {
        "id": "7w2iafFz6fms",
        "colab_type": "code",
        "colab": {
          "base_uri": "https://localhost:8080/",
          "height": 34
        },
        "outputId": "90049b51-321e-4406-e51f-8f83006d1e7a"
      },
      "source": [
        "device = torch.device(\"cuda:0\" if torch.cuda.is_available() else \"cpu\")\n",
        "device"
      ],
      "execution_count": 4,
      "outputs": [
        {
          "output_type": "execute_result",
          "data": {
            "text/plain": [
              "device(type='cuda', index=0)"
            ]
          },
          "metadata": {
            "tags": []
          },
          "execution_count": 4
        }
      ]
    },
    {
      "cell_type": "markdown",
      "metadata": {
        "id": "sIClGNOC6fm2",
        "colab_type": "text"
      },
      "source": [
        "### Задача\n",
        "\n",
        "1. Обучите свою маленькую сверточную сеть с нуля на MNIST или FashionMNIST\n",
        "2. Поставьте модель в eval()\n",
        "3. Создайте тензор картинки, которую нужно будет оптимизировать.\n",
        "4. Задайте функцию потерь.\n",
        "5. Допишите функцию, которая оптимизирует картинку под вашу функцию потерь и выдаёт её."
      ]
    },
    {
      "cell_type": "markdown",
      "metadata": {
        "id": "wqN3OqeCwvN4",
        "colab_type": "text"
      },
      "source": [
        "## <center>**Пояснения к задаче и примеры**"
      ]
    },
    {
      "cell_type": "code",
      "metadata": {
        "id": "qrjKYOAP6fm4",
        "colab_type": "code",
        "colab": {}
      },
      "source": [
        "# Вот так можно создать обучаемый тензор со случайными числами и с размерностью картинки 1*28*28\n",
        "image = torch.randn((1,28,28))*0.001\n",
        "image = image.to(device)\n",
        "image.requires_grad = True"
      ],
      "execution_count": 5,
      "outputs": []
    },
    {
      "cell_type": "markdown",
      "metadata": {
        "id": "qeDtpWc36fnD",
        "colab_type": "text"
      },
      "source": [
        "На этом этапе у вас уже есть обученная модель с фиксированными параметрами (вы не хотите их больше обучать).\n",
        "\n",
        "В данном примере в качестве \"модели\" я возьму пару линейных слоёв."
      ]
    },
    {
      "cell_type": "code",
      "metadata": {
        "id": "ZoQztB4e6fnE",
        "colab_type": "code",
        "colab": {}
      },
      "source": [
        "model = torch.nn.Sequential(\n",
        "torch.nn.Linear(in_features=1*28*28, out_features=50),\n",
        "torch.nn.Tanh(),\n",
        "torch.nn.Linear(in_features=50, out_features=3),\n",
        "torch.nn.Softmax(dim=1)\n",
        ")"
      ],
      "execution_count": 6,
      "outputs": []
    },
    {
      "cell_type": "code",
      "metadata": {
        "id": "pQnzMA5e6fnO",
        "colab_type": "code",
        "colab": {
          "base_uri": "https://localhost:8080/",
          "height": 118
        },
        "outputId": "946c72e5-a3fa-454b-aae5-2326e0e6dc84"
      },
      "source": [
        "# так мы переводим модель в режим inference [вывод предсказаний],\n",
        "# это особенно важно, если в вашей моделе есть такие слои как Dropout/Batchnorm\n",
        "# потому что в процессе оптимизации картинки вы не хотите чтобы параметры сети менялись\n",
        "model.eval()"
      ],
      "execution_count": 7,
      "outputs": [
        {
          "output_type": "execute_result",
          "data": {
            "text/plain": [
              "Sequential(\n",
              "  (0): Linear(in_features=784, out_features=50, bias=True)\n",
              "  (1): Tanh()\n",
              "  (2): Linear(in_features=50, out_features=3, bias=True)\n",
              "  (3): Softmax(dim=1)\n",
              ")"
            ]
          },
          "metadata": {
            "tags": []
          },
          "execution_count": 7
        }
      ]
    },
    {
      "cell_type": "code",
      "metadata": {
        "id": "49b2bWsO6fnX",
        "colab_type": "code",
        "colab": {
          "base_uri": "https://localhost:8080/",
          "height": 34
        },
        "outputId": "8109b10e-4ae4-42c6-8640-1388039c5365"
      },
      "source": [
        "# быстрая проверка что сейчас выдаёт модель на картинку\n",
        "model.to(device)\n",
        "image.to(device)\n",
        "\n",
        "# вам не нужно будет делать flatten в случае сверточной модели\n",
        "output = model(image.flatten().unsqueeze(0))\n",
        "output"
      ],
      "execution_count": 8,
      "outputs": [
        {
          "output_type": "execute_result",
          "data": {
            "text/plain": [
              "tensor([[0.3684, 0.3222, 0.3094]], device='cuda:0', grad_fn=<SoftmaxBackward>)"
            ]
          },
          "metadata": {
            "tags": []
          },
          "execution_count": 8
        }
      ]
    },
    {
      "cell_type": "code",
      "metadata": {
        "id": "5nNE-Smw6fng",
        "colab_type": "code",
        "colab": {
          "base_uri": "https://localhost:8080/",
          "height": 34
        },
        "outputId": "1e85eb69-3c1f-4d14-d33f-ca10800db48f"
      },
      "source": [
        "torch.argmax(output)"
      ],
      "execution_count": 9,
      "outputs": [
        {
          "output_type": "execute_result",
          "data": {
            "text/plain": [
              "tensor(0, device='cuda:0')"
            ]
          },
          "metadata": {
            "tags": []
          },
          "execution_count": 9
        }
      ]
    },
    {
      "cell_type": "markdown",
      "metadata": {
        "id": "tkPyl7Jr6fnr",
        "colab_type": "text"
      },
      "source": [
        "Теперь необходимо дописать вот эту функцию, которая принимает на вход номер класса (**class_number**) (в моем примере классов всего 3 на выходе), и производит оптимизацию над картинкой так чтобы было верным условие:\n",
        "\n",
        "``torch.argmax(model(image)) == class_number``\n",
        "\n",
        "Для этого нужно задать условие на функцию потерь. Это уже часть вашего задания понять как это сделать.\n",
        "\n",
        "В своем примере я покажу как оптимизировать картинку, чтобы генерируемая картинка классифицировалась как заданный класс"
      ]
    },
    {
      "cell_type": "code",
      "metadata": {
        "id": "bXGxsuRH6fnt",
        "colab_type": "code",
        "colab": {}
      },
      "source": [
        "def optimize_image_by_class(class_number, num_steps=50000):\n",
        "    # создаем тензор, который будем оптимизировать\n",
        "    image = torch.randn((1,28,28))*0.001\n",
        "    image = image.to(device)\n",
        "    image.requires_grad = True\n",
        "    \n",
        "    # задайте оптимизатор\n",
        "    # вы можете выбрать какой вам больше нравится\n",
        "    optim = torch.optim.Adam([image], lr=1e-4)\n",
        "    \n",
        "    # задайте лосс функцию соответствующую заданию\n",
        "    # лосс должен зависесть от class_number\n",
        "    loss = ...\n",
        "    grads = []\n",
        "    losses = []\n",
        "    for i in tqdm(range(num_steps)):\n",
        "        # здесь в цикле оптимизируется картинка\n",
        "        # в оптимизатор передается ваш лосс и выход из модели\n",
        "        # не забывайте обнулять градиенты с optim.zero_grad()\n",
        "        # также полезно сохранять значения лосс функции и нормы градиента на каждом шаге\n",
        "        # чтобы было видно как меняются эти значения в процессе \"обучения\" картинки.\n",
        "        ...\n",
        "    \n",
        "    # возвращаете картинку, grads, losses"
      ],
      "execution_count": 10,
      "outputs": []
    },
    {
      "cell_type": "markdown",
      "metadata": {
        "id": "D7gdhR5M6fn0",
        "colab_type": "text"
      },
      "source": [
        "Все те же шаги было бы интересно повторить уже не со свёрточным классификатором на MNIST, а со свёрточным автоэнкодером."
      ]
    },
    {
      "cell_type": "markdown",
      "metadata": {
        "id": "R8N8YEeP6fn1",
        "colab_type": "text"
      },
      "source": [
        "### **данные MNIST**"
      ]
    },
    {
      "cell_type": "code",
      "metadata": {
        "id": "xUj6tNQE6fn3",
        "colab_type": "code",
        "colab": {}
      },
      "source": [
        "mnist_transform = transforms.Compose([\n",
        "                transforms.ToTensor(),\n",
        "                transforms.Normalize((0.5,), (0.5,)),\n",
        "           ])\n",
        "\n",
        "train_loader, test_loader = mnist(batch_size=200, valid=0, transform=mnist_transform, \n",
        "                                  path='./../MNIST_data')"
      ],
      "execution_count": 11,
      "outputs": []
    },
    {
      "cell_type": "markdown",
      "metadata": {
        "id": "qZa8WF5X6fn-",
        "colab_type": "text"
      },
      "source": [
        "## <center>**Классификатор**"
      ]
    },
    {
      "cell_type": "markdown",
      "metadata": {
        "id": "1uSnxWL96foA",
        "colab_type": "text"
      },
      "source": [
        "### 1. Делаем сверточный классификатор и обучаем"
      ]
    },
    {
      "cell_type": "code",
      "metadata": {
        "id": "kVtZ0r6b6foB",
        "colab_type": "code",
        "colab": {}
      },
      "source": [
        "class Net(nn.Module):\n",
        "    def __init__(self, lr=1e-3):\n",
        "        super(Net, self).__init__()\n",
        "        self.conv1 = nn.Conv2d(1, 6, 5)\n",
        "        self.pool = nn.MaxPool2d(2, 2)\n",
        "        self.conv2 = nn.Conv2d(6, 16, 5)  # --> \n",
        "        self.fc1 = nn.Linear(16 * 4 * 4, 120)\n",
        "        self.fc2 = nn.Linear(120, 84)\n",
        "        self.fc3 = nn.Linear(84, 10)\n",
        "        \n",
        "        self.loss_fn = nn.CrossEntropyLoss()\n",
        "        self._loss = None\n",
        "        self.optim = optim.Adam(self.parameters(), lr=lr)\n",
        "\n",
        "    def forward(self, x):\n",
        "        x = self.pool(F.relu(self.conv1(x)))  # 28 24 12\n",
        "        x = self.pool(F.relu(self.conv2(x)))  # 12 8 4\n",
        "        x = x.view(-1, 16 * 4 * 4)\n",
        "        x = F.relu(self.fc1(x))\n",
        "        x = F.relu(self.fc2(x))\n",
        "        x = self.fc3(x)\n",
        "        return x\n",
        "    \n",
        "    def loss(self, output, target, **kwargs):\n",
        "        self._loss = F.cross_entropy(output, target, **kwargs)\n",
        "        self._correct = output.data.argmax(1, keepdim=True)\n",
        "        self._correct = self._correct.eq(target.data.view_as(self._correct)).to(torch.float).cpu().mean()\n",
        "        return self._loss"
      ],
      "execution_count": 12,
      "outputs": []
    },
    {
      "cell_type": "code",
      "metadata": {
        "id": "e_TKkE256foK",
        "colab_type": "code",
        "colab": {}
      },
      "source": [
        "def train(epoch, models, loader, log=None, verbose_num=1):\n",
        "    train_size = len(loader.sampler)\n",
        "    for batch_idx, (data, target) in enumerate(loader):\n",
        "        data = data.to(device)\n",
        "        target = target.to(device)\n",
        "        for model in models.values():\n",
        "            model = model.to(device)\n",
        "            model.optim.zero_grad()\n",
        "            output = model(data)\n",
        "            loss = model.loss(output, target)\n",
        "            loss.backward()\n",
        "            model.optim.step()\n",
        "            \n",
        "    if log is not None:\n",
        "        for k in models:\n",
        "            log[k].append(models[k]._loss)   \n",
        "            \n",
        "    if epoch == 1 or epoch % verbose_num == 0:\n",
        "        line = 'Epoch: {} [{}]\\n'.format(epoch, train_size)\n",
        "        losses = '\\t' + 'Train set: ' + \\\n",
        "                 ' '.join(['{}: loss: {:.6f}'.format(k, m._loss.item()) for k, m in models.items()])\n",
        "        report = line + losses\n",
        "        print(report)"
      ],
      "execution_count": 13,
      "outputs": []
    },
    {
      "cell_type": "code",
      "metadata": {
        "id": "juTwBuI46foc",
        "colab_type": "code",
        "colab": {}
      },
      "source": [
        "def test(epoch, model, loader, log=None, verbose_num=1):\n",
        "    test_size = len(loader.sampler)\n",
        "    avg_lambda = lambda l: 'Loss: {:.4f}'.format(l)\n",
        "    acc_lambda = lambda c, p: 'Accuracy: {}/{} ({:.0f}%)'.format(c, test_size, p)\n",
        "    line = lambda i, l, c, p: '{}: '.format(i) + avg_lambda(l) + '\\t' + acc_lambda(c, p)\n",
        "\n",
        "    test_loss = {k: 0. for k in models}\n",
        "    correct = {k: 0. for k in models}\n",
        "    with torch.no_grad():\n",
        "        for data, target in loader:\n",
        "            data = data.to(device)\n",
        "            target = target.to(device)\n",
        "            output = {k: m(data) for k, m in models.items()}\n",
        "            for k, m in models.items():\n",
        "                test_loss[k] += m.loss(output[k], target, reduction='sum').item() # sum up batch loss\n",
        "                pred = output[k].data.argmax(1, keepdim=True) # get the index of the max log-probability\n",
        "                correct[k] += pred.eq(target.data.view_as(pred)).cpu().sum().item()\n",
        "    \n",
        "    for k in models:\n",
        "        test_loss[k] /= test_size\n",
        "    correct_pct = {k: c / test_size for k, c in correct.items()}\n",
        "    \n",
        "    \n",
        "    if log is not None:\n",
        "        for k in models:\n",
        "            log[k].append((test_loss[k], correct_pct[k]))\n",
        "    \n",
        "    if epoch == 1 or epoch % verbose_num == 0:\n",
        "        lines = '\\n'.join([line(k, test_loss[k], correct[k], 100*correct_pct[k]) for k in models])\n",
        "        report = '\\tTest set: ' + lines\n",
        "        print(report)"
      ],
      "execution_count": 14,
      "outputs": []
    },
    {
      "cell_type": "code",
      "metadata": {
        "id": "wnYBTECH6foj",
        "colab_type": "code",
        "colab": {
          "base_uri": "https://localhost:8080/",
          "height": 1000
        },
        "outputId": "0eeee9d0-5808-4025-a472-34e5ebc24e96"
      },
      "source": [
        "%%time\n",
        "\n",
        "models = {'first_model': Net()}\n",
        "train_log = {k: [] for k in models}\n",
        "test_log = {k: [] for k in models}\n",
        "\n",
        "for epoch in range(1, 21):\n",
        "    for model in models.values():\n",
        "        model.train()\n",
        "    train(epoch, models, test_loader, train_log)\n",
        "    for model in models.values():\n",
        "        model.eval()\n",
        "    test(epoch, models, test_loader, test_log)"
      ],
      "execution_count": 15,
      "outputs": [
        {
          "output_type": "stream",
          "text": [
            "Epoch: 1 [10000]\n",
            "\tTrain set: first_model: loss: 0.886879\n",
            "\tTest set: first_model: Loss: 0.6780\tAccuracy: 7896.0/10000 (79%)\n",
            "Epoch: 2 [10000]\n",
            "\tTrain set: first_model: loss: 0.661999\n",
            "\tTest set: first_model: Loss: 0.3787\tAccuracy: 8816.0/10000 (88%)\n",
            "Epoch: 3 [10000]\n",
            "\tTrain set: first_model: loss: 0.505244\n",
            "\tTest set: first_model: Loss: 0.2764\tAccuracy: 9141.0/10000 (91%)\n",
            "Epoch: 4 [10000]\n",
            "\tTrain set: first_model: loss: 0.416312\n",
            "\tTest set: first_model: Loss: 0.2186\tAccuracy: 9321.0/10000 (93%)\n",
            "Epoch: 5 [10000]\n",
            "\tTrain set: first_model: loss: 0.337740\n",
            "\tTest set: first_model: Loss: 0.1766\tAccuracy: 9448.0/10000 (94%)\n",
            "Epoch: 6 [10000]\n",
            "\tTrain set: first_model: loss: 0.249392\n",
            "\tTest set: first_model: Loss: 0.1407\tAccuracy: 9547.0/10000 (95%)\n",
            "Epoch: 7 [10000]\n",
            "\tTrain set: first_model: loss: 0.193931\n",
            "\tTest set: first_model: Loss: 0.1208\tAccuracy: 9627.0/10000 (96%)\n",
            "Epoch: 8 [10000]\n",
            "\tTrain set: first_model: loss: 0.149711\n",
            "\tTest set: first_model: Loss: 0.0979\tAccuracy: 9691.0/10000 (97%)\n",
            "Epoch: 9 [10000]\n",
            "\tTrain set: first_model: loss: 0.131642\n",
            "\tTest set: first_model: Loss: 0.0830\tAccuracy: 9737.0/10000 (97%)\n",
            "Epoch: 10 [10000]\n",
            "\tTrain set: first_model: loss: 0.126179\n",
            "\tTest set: first_model: Loss: 0.0685\tAccuracy: 9793.0/10000 (98%)\n",
            "Epoch: 11 [10000]\n",
            "\tTrain set: first_model: loss: 0.108652\n",
            "\tTest set: first_model: Loss: 0.0575\tAccuracy: 9813.0/10000 (98%)\n",
            "Epoch: 12 [10000]\n",
            "\tTrain set: first_model: loss: 0.089940\n",
            "\tTest set: first_model: Loss: 0.0508\tAccuracy: 9829.0/10000 (98%)\n",
            "Epoch: 13 [10000]\n",
            "\tTrain set: first_model: loss: 0.071313\n",
            "\tTest set: first_model: Loss: 0.0435\tAccuracy: 9857.0/10000 (99%)\n",
            "Epoch: 14 [10000]\n",
            "\tTrain set: first_model: loss: 0.056482\n",
            "\tTest set: first_model: Loss: 0.0381\tAccuracy: 9884.0/10000 (99%)\n",
            "Epoch: 15 [10000]\n",
            "\tTrain set: first_model: loss: 0.042459\n",
            "\tTest set: first_model: Loss: 0.0330\tAccuracy: 9901.0/10000 (99%)\n",
            "Epoch: 16 [10000]\n",
            "\tTrain set: first_model: loss: 0.033086\n",
            "\tTest set: first_model: Loss: 0.0291\tAccuracy: 9905.0/10000 (99%)\n",
            "Epoch: 17 [10000]\n",
            "\tTrain set: first_model: loss: 0.026783\n",
            "\tTest set: first_model: Loss: 0.0261\tAccuracy: 9913.0/10000 (99%)\n",
            "Epoch: 18 [10000]\n",
            "\tTrain set: first_model: loss: 0.021403\n",
            "\tTest set: first_model: Loss: 0.0227\tAccuracy: 9924.0/10000 (99%)\n",
            "Epoch: 19 [10000]\n",
            "\tTrain set: first_model: loss: 0.019925\n",
            "\tTest set: first_model: Loss: 0.0205\tAccuracy: 9930.0/10000 (99%)\n",
            "Epoch: 20 [10000]\n",
            "\tTrain set: first_model: loss: 0.017073\n",
            "\tTest set: first_model: Loss: 0.0181\tAccuracy: 9946.0/10000 (99%)\n",
            "CPU times: user 1min 1s, sys: 178 ms, total: 1min 1s\n",
            "Wall time: 1min 1s\n"
          ],
          "name": "stdout"
        }
      ]
    },
    {
      "cell_type": "markdown",
      "metadata": {
        "id": "HkLOjrav6for",
        "colab_type": "text"
      },
      "source": [
        "### посмотрим кривые обучения"
      ]
    },
    {
      "cell_type": "code",
      "metadata": {
        "id": "0_umJBJN6fot",
        "colab_type": "code",
        "colab": {
          "base_uri": "https://localhost:8080/",
          "height": 265
        },
        "outputId": "19a6bb93-1173-4198-89c1-b03fecb55ca2"
      },
      "source": [
        "plt.plot(train_log[\"first_model\"], label=\"train_loss\")\n",
        "plt.plot(list(map(lambda x: x[0], test_log[\"first_model\"])), label=\"test_loss\")\n",
        "plt.plot(list(map(lambda x: x[1], test_log[\"first_model\"])), label=\"test_accuracy\")\n",
        "plt.legend();"
      ],
      "execution_count": 16,
      "outputs": [
        {
          "output_type": "display_data",
          "data": {
            "image/png": "[encoded data removed]",
            "text/plain": [
              "<Figure size 432x288 with 1 Axes>"
            ]
          },
          "metadata": {
            "tags": [],
            "needs_background": "light"
          }
        }
      ]
    },
    {
      "cell_type": "markdown",
      "metadata": {
        "id": "mCRIp6M36fo2",
        "colab_type": "text"
      },
      "source": [
        "### 2. Генерируем и оптимизируем изображение под заданный класс"
      ]
    },
    {
      "cell_type": "markdown",
      "metadata": {
        "id": "sb0CZLAX6fo4",
        "colab_type": "text"
      },
      "source": [
        "#### функция для оптимизации изображения под заданный класс"
      ]
    },
    {
      "cell_type": "code",
      "metadata": {
        "id": "zV-zPzFl6fo5",
        "colab_type": "code",
        "colab": {}
      },
      "source": [
        "def optimize_image_by_class(class_number, model, image, num_steps=50000):\n",
        "    normalize = transforms.Normalize((0.5,), (0.5,))\n",
        "    model.eval()\n",
        "    \n",
        "    # создаем тензор, который будем оптимизировать\n",
        "    # image = torch.randn((1, 28, 28))*0.001\n",
        "    image = image.to(device)\n",
        "    image.requires_grad = True\n",
        "    \n",
        "    # задайте оптимизатор\n",
        "    # вы можете выбрать какой вам больше нравится\n",
        "    optim = torch.optim.Adam([image], lr=1e-4)\n",
        "    \n",
        "    # задайте лосс функцию соответствующую заданию\n",
        "    # лосс должен зависесть от class_number\n",
        "    grads = []\n",
        "    losses = []\n",
        "    for i in tqdm(range(num_steps)):\n",
        "        # здесь в цикле оптимизируется картинка\n",
        "        # в оптимизатор передается ваш лосс и выход из модели\n",
        "        # не забывайте обнулять градиенты с optim.zero_grad()\n",
        "        # также полезно сохранять значения лосс функции и нормы градиента на каждом шаге\n",
        "        # чтобы было видно как меняются эти значения в процессе \"обучения\" картинки.\n",
        "        optim.zero_grad()\n",
        "        output = model(normalize(torch.sigmoid(image)).unsqueeze(0))\n",
        "        loss = F.cross_entropy(output, torch.tensor([class_number]).to(device))\n",
        "        loss.backward()\n",
        "        optim.step()\n",
        "        \n",
        "        losses.append(loss)\n",
        "        grads.append(image.grad.norm())\n",
        "    \n",
        "    # возвращаете картинку, grads, losses\n",
        "    return torch.sigmoid(image).data, grads, losses"
      ],
      "execution_count": 17,
      "outputs": []
    },
    {
      "cell_type": "markdown",
      "metadata": {
        "id": "71Bx5B3SREEd",
        "colab_type": "text"
      },
      "source": [
        "### A) Исходное задание, со со случайной картинкой"
      ]
    },
    {
      "cell_type": "code",
      "metadata": {
        "id": "Gy4Ko64q6fpA",
        "colab_type": "code",
        "colab": {
          "base_uri": "https://localhost:8080/",
          "height": 218
        },
        "outputId": "df6e7153-ed7c-4d21-a147-53e646f4375d"
      },
      "source": [
        "%%time\n",
        "\n",
        "optimized_images = {}\n",
        "image = torch.randn((1, 28, 28))*0.001\n",
        "for class_number in range(10):\n",
        "    image_ = image.clone()\n",
        "    model = models[\"first_model\"]\n",
        "    image_, grads, losses = optimize_image_by_class(class_number, model, image_, num_steps=50000)\n",
        "    optimized_images[class_number] = {\n",
        "        \"image\": image_, \n",
        "        \"grads\": grads, \n",
        "        \"losses\": losses\n",
        "        }"
      ],
      "execution_count": 18,
      "outputs": [
        {
          "output_type": "stream",
          "text": [
            "100%|██████████| 50000/50000 [01:42<00:00, 486.75it/s]\n",
            "100%|██████████| 50000/50000 [01:43<00:00, 483.37it/s]\n",
            "100%|██████████| 50000/50000 [01:47<00:00, 463.63it/s]\n",
            "100%|██████████| 50000/50000 [01:50<00:00, 454.08it/s]\n",
            "100%|██████████| 50000/50000 [01:49<00:00, 456.58it/s]\n",
            "100%|██████████| 50000/50000 [01:49<00:00, 458.05it/s]\n",
            "100%|██████████| 50000/50000 [01:50<00:00, 452.82it/s]\n",
            "100%|██████████| 50000/50000 [01:50<00:00, 452.13it/s]\n",
            "100%|██████████| 50000/50000 [01:42<00:00, 486.42it/s]\n",
            "100%|██████████| 50000/50000 [01:45<00:00, 475.75it/s]"
          ],
          "name": "stderr"
        },
        {
          "output_type": "stream",
          "text": [
            "CPU times: user 16min 45s, sys: 38.8 s, total: 17min 24s\n",
            "Wall time: 17min 51s\n"
          ],
          "name": "stdout"
        },
        {
          "output_type": "stream",
          "text": [
            "\n"
          ],
          "name": "stderr"
        }
      ]
    },
    {
      "cell_type": "markdown",
      "metadata": {
        "id": "OjkF24flR6YS",
        "colab_type": "text"
      },
      "source": [
        "#### посмотрим выборочно на **grads** и **losses**"
      ]
    },
    {
      "cell_type": "code",
      "metadata": {
        "id": "LwHGmlGMSKU4",
        "colab_type": "code",
        "colab": {
          "base_uri": "https://localhost:8080/",
          "height": 281
        },
        "outputId": "5e4e3cb3-20e4-4ea4-fb56-0648f600f887"
      },
      "source": [
        "class_number = 7\n",
        "item = \"grads\"\n",
        "plt.plot(optimized_images[class_number][item])\n",
        "plt.title(f\"{item} for class_number = {class_number}\");"
      ],
      "execution_count": 20,
      "outputs": [
        {
          "output_type": "display_data",
          "data": {
            "image/png": "[encoded data removed]",
            "text/plain": [
              "<Figure size 432x288 with 1 Axes>"
            ]
          },
          "metadata": {
            "tags": [],
            "needs_background": "light"
          }
        }
      ]
    },
    {
      "cell_type": "code",
      "metadata": {
        "id": "PnI6v8RfSc1H",
        "colab_type": "code",
        "colab": {
          "base_uri": "https://localhost:8080/",
          "height": 281
        },
        "outputId": "1a802c8e-3783-494d-c830-dc7a1f127884"
      },
      "source": [
        "class_number = 7\n",
        "item = \"losses\"\n",
        "plt.plot(optimized_images[class_number][item])\n",
        "plt.title(f\"{item} for class_number = {class_number}\");"
      ],
      "execution_count": 21,
      "outputs": [
        {
          "output_type": "display_data",
          "data": {
            "image/png": "[encoded data removed]",
            "text/plain": [
              "<Figure size 432x288 with 1 Axes>"
            ]
          },
          "metadata": {
            "tags": [],
            "needs_background": "light"
          }
        }
      ]
    },
    {
      "cell_type": "markdown",
      "metadata": {
        "id": "aWMaJ5fu6fpK",
        "colab_type": "text"
      },
      "source": [
        "#### проверим соответствие классам"
      ]
    },
    {
      "cell_type": "code",
      "metadata": {
        "id": "zW740Uy86fpL",
        "colab_type": "code",
        "colab": {
          "base_uri": "https://localhost:8080/",
          "height": 185
        },
        "outputId": "b6826364-829c-47de-fecf-1d9cde755bf9"
      },
      "source": [
        "{class_number: (torch.argmax(model(optimized_images[class_number][\"image\"].unsqueeze(0))) == class_number).item() \n",
        "    for class_number in optimized_images}"
      ],
      "execution_count": 22,
      "outputs": [
        {
          "output_type": "execute_result",
          "data": {
            "text/plain": [
              "{0: True,\n",
              " 1: True,\n",
              " 2: True,\n",
              " 3: True,\n",
              " 4: True,\n",
              " 5: True,\n",
              " 6: True,\n",
              " 7: True,\n",
              " 8: True,\n",
              " 9: True}"
            ]
          },
          "metadata": {
            "tags": []
          },
          "execution_count": 22
        }
      ]
    },
    {
      "cell_type": "markdown",
      "metadata": {
        "id": "yeuKuNxV6fpT",
        "colab_type": "text"
      },
      "source": [
        "#### визуализируем оптимизированные под класс изображения"
      ]
    },
    {
      "cell_type": "code",
      "metadata": {
        "id": "-wIRP6L9YOM3",
        "colab_type": "code",
        "colab": {}
      },
      "source": [
        "def plot_optimized_images(optimized_images, shape):\n",
        "    fig = plt.figure(figsize=shape[::-1], dpi=120)\n",
        "\n",
        "    for class_number in range(len(optimized_images)):\n",
        "        ax = fig.add_subplot(shape[0], shape[1], class_number+1)\n",
        "        ax.imshow(optimized_images[class_number][\"image\"].squeeze(0).data.cpu().numpy(), cmap = matplotlib.cm.binary)\n",
        "        plt.title(class_number)\n",
        "        plt.xticks(np.array([]))\n",
        "        plt.yticks(np.array([]))\n",
        "    fig.tight_layout()\n",
        "    plt.show()"
      ],
      "execution_count": 27,
      "outputs": []
    },
    {
      "cell_type": "code",
      "metadata": {
        "id": "h4oSgMdIY-ck",
        "colab_type": "code",
        "colab": {
          "base_uri": "https://localhost:8080/",
          "height": 247
        },
        "outputId": "73eadcfb-904c-49a5-cc08-9b135f0f3753"
      },
      "source": [
        "plot_optimized_images(optimized_images, (2, 5))"
      ],
      "execution_count": 28,
      "outputs": [
        {
          "output_type": "display_data",
          "data": {
            "image/png": "[encoded data removed]",
            "text/plain": [
              "<Figure size 600x240 with 10 Axes>"
            ]
          },
          "metadata": {
            "tags": []
          }
        }
      ]
    },
    {
      "cell_type": "markdown",
      "metadata": {
        "id": "4ZQImHZapIME",
        "colab_type": "text"
      },
      "source": [
        "**Комментарий:**   \n",
        "Я бы даже и сказал, что соответствующие цифры, если приглядеться, угадываются )"
      ]
    },
    {
      "cell_type": "markdown",
      "metadata": {
        "colab_type": "text",
        "id": "LLYLvxQZUP7F"
      },
      "source": [
        "### Б) Модифицированное задание, с заданной картинкой"
      ]
    },
    {
      "cell_type": "code",
      "metadata": {
        "id": "Xppk4_1IVGAT",
        "colab_type": "code",
        "colab": {
          "base_uri": "https://localhost:8080/",
          "height": 275
        },
        "outputId": "4d02b3f5-6bf9-41eb-a6a6-fd29f0c52dd1"
      },
      "source": [
        "image = next(train_loader.__iter__())[0][1]\n",
        "plt.matshow(image.squeeze(0));"
      ],
      "execution_count": 35,
      "outputs": [
        {
          "output_type": "display_data",
          "data": {
            "image/png": "[encoded data removed]",
            "text/plain": [
              "<Figure size 288x288 with 1 Axes>"
            ]
          },
          "metadata": {
            "tags": [],
            "needs_background": "light"
          }
        }
      ]
    },
    {
      "cell_type": "code",
      "metadata": {
        "colab_type": "code",
        "id": "SUcIecjjUP7H",
        "colab": {
          "base_uri": "https://localhost:8080/",
          "height": 218
        },
        "outputId": "dd64ec41-db0e-478c-9417-cdd747d3179e"
      },
      "source": [
        "%%time\n",
        "\n",
        "optimized_images = {}\n",
        "# image = torch.randn((1, 28, 28))*0.001\n",
        "for class_number in range(10):\n",
        "    image_ = image.clone()\n",
        "    model = models[\"first_model\"]\n",
        "    image_, grads, losses = optimize_image_by_class(class_number, model, image_, num_steps=50000)\n",
        "    optimized_images[class_number] = {\n",
        "        \"image\": image_, \n",
        "        \"grads\": grads, \n",
        "        \"losses\": losses\n",
        "        }"
      ],
      "execution_count": 24,
      "outputs": [
        {
          "output_type": "stream",
          "text": [
            "100%|██████████| 50000/50000 [01:44<00:00, 480.02it/s]\n",
            "100%|██████████| 50000/50000 [01:43<00:00, 483.52it/s]\n",
            "100%|██████████| 50000/50000 [01:42<00:00, 488.26it/s]\n",
            "100%|██████████| 50000/50000 [01:43<00:00, 483.30it/s]\n",
            "100%|██████████| 50000/50000 [01:42<00:00, 487.50it/s]\n",
            "100%|██████████| 50000/50000 [01:42<00:00, 487.39it/s]\n",
            "100%|██████████| 50000/50000 [01:43<00:00, 481.14it/s]\n",
            "100%|██████████| 50000/50000 [01:43<00:00, 484.53it/s]\n",
            "100%|██████████| 50000/50000 [01:43<00:00, 482.99it/s]\n",
            "100%|██████████| 50000/50000 [01:43<00:00, 483.29it/s]"
          ],
          "name": "stderr"
        },
        {
          "output_type": "stream",
          "text": [
            "CPU times: user 16min 15s, sys: 35.4 s, total: 16min 51s\n",
            "Wall time: 17min 12s\n"
          ],
          "name": "stdout"
        },
        {
          "output_type": "stream",
          "text": [
            "\n"
          ],
          "name": "stderr"
        }
      ]
    },
    {
      "cell_type": "markdown",
      "metadata": {
        "colab_type": "text",
        "id": "jSZ51FCMUP7M"
      },
      "source": [
        "#### посмотрим выборочно на **grads** и **losses**"
      ]
    },
    {
      "cell_type": "code",
      "metadata": {
        "colab_type": "code",
        "id": "EJscxpH5UP7M",
        "colab": {
          "base_uri": "https://localhost:8080/",
          "height": 545
        },
        "outputId": "13d9541f-7311-4286-f776-d29a38f6c974"
      },
      "source": [
        "for class_number in [7, 0]:\n",
        "    # class_number = 7\n",
        "    item = \"grads\"\n",
        "    plt.plot(optimized_images[class_number][item])\n",
        "    plt.title(f\"{item} for class_number = {class_number}\")\n",
        "    plt.show()"
      ],
      "execution_count": 25,
      "outputs": [
        {
          "output_type": "display_data",
          "data": {
            "image/png": "[encoded data removed]",
            "text/plain": [
              "<Figure size 432x288 with 1 Axes>"
            ]
          },
          "metadata": {
            "tags": [],
            "needs_background": "light"
          }
        },
        {
          "output_type": "display_data",
          "data": {
            "image/png": "[encoded data removed]",
            "text/plain": [
              "<Figure size 432x288 with 1 Axes>"
            ]
          },
          "metadata": {
            "tags": [],
            "needs_background": "light"
          }
        }
      ]
    },
    {
      "cell_type": "code",
      "metadata": {
        "colab_type": "code",
        "id": "NtfWAXpKUP7P",
        "colab": {
          "base_uri": "https://localhost:8080/",
          "height": 545
        },
        "outputId": "718bcb97-1c7a-4ec5-90a2-aa562b611000"
      },
      "source": [
        "for class_number in [7, 0]:\n",
        "    # class_number = 7\n",
        "    item = \"losses\"\n",
        "    plt.plot(optimized_images[class_number][item])\n",
        "    plt.title(f\"{item} for class_number = {class_number}\")\n",
        "    plt.show()"
      ],
      "execution_count": 26,
      "outputs": [
        {
          "output_type": "display_data",
          "data": {
            "image/png": "[encoded data removed]",
            "text/plain": [
              "<Figure size 432x288 with 1 Axes>"
            ]
          },
          "metadata": {
            "tags": [],
            "needs_background": "light"
          }
        },
        {
          "output_type": "display_data",
          "data": {
            "image/png": "[encoded data removed]",
            "text/plain": [
              "<Figure size 432x288 with 1 Axes>"
            ]
          },
          "metadata": {
            "tags": [],
            "needs_background": "light"
          }
        }
      ]
    },
    {
      "cell_type": "markdown",
      "metadata": {
        "colab_type": "text",
        "id": "sbmdAo-sUP7R"
      },
      "source": [
        "#### проверим соответствие классам для **исходной картинки**"
      ]
    },
    {
      "cell_type": "code",
      "metadata": {
        "colab_type": "code",
        "id": "bI1E6GN5UP7S",
        "colab": {
          "base_uri": "https://localhost:8080/",
          "height": 185
        },
        "outputId": "bb3e0cc5-3ea4-46be-98fe-1f2b44c75291"
      },
      "source": [
        "{class_number: (torch.argmax(model(image.unsqueeze(0).to(device))) == class_number).item() \n",
        "    for class_number in optimized_images}"
      ],
      "execution_count": 29,
      "outputs": [
        {
          "output_type": "execute_result",
          "data": {
            "text/plain": [
              "{0: False,\n",
              " 1: False,\n",
              " 2: False,\n",
              " 3: False,\n",
              " 4: False,\n",
              " 5: False,\n",
              " 6: False,\n",
              " 7: True,\n",
              " 8: False,\n",
              " 9: False}"
            ]
          },
          "metadata": {
            "tags": []
          },
          "execution_count": 29
        }
      ]
    },
    {
      "cell_type": "markdown",
      "metadata": {
        "id": "yr_FRFPWWuUo",
        "colab_type": "text"
      },
      "source": [
        "проверим соответствие классам для **оптимизированной картинки**"
      ]
    },
    {
      "cell_type": "code",
      "metadata": {
        "id": "Ln7wBWlUWz9v",
        "colab_type": "code",
        "colab": {
          "base_uri": "https://localhost:8080/",
          "height": 185
        },
        "outputId": "7cabe19a-fe99-4312-e03b-95425955c1d4"
      },
      "source": [
        "{class_number: (torch.argmax(model(optimized_images[class_number][\"image\"].unsqueeze(0))) == class_number).item() \n",
        "    for class_number in optimized_images}"
      ],
      "execution_count": 30,
      "outputs": [
        {
          "output_type": "execute_result",
          "data": {
            "text/plain": [
              "{0: True,\n",
              " 1: True,\n",
              " 2: True,\n",
              " 3: True,\n",
              " 4: True,\n",
              " 5: True,\n",
              " 6: True,\n",
              " 7: True,\n",
              " 8: True,\n",
              " 9: True}"
            ]
          },
          "metadata": {
            "tags": []
          },
          "execution_count": 30
        }
      ]
    },
    {
      "cell_type": "markdown",
      "metadata": {
        "colab_type": "text",
        "id": "G2KQOckAUP7U"
      },
      "source": [
        "#### визуализируем оптимизированные под класс изображения"
      ]
    },
    {
      "cell_type": "code",
      "metadata": {
        "colab_type": "code",
        "id": "gIvnTnn7UP7U",
        "colab": {}
      },
      "source": [
        "def plot_optimized_images(optimized_images, shape):\n",
        "    fig = plt.figure(figsize=shape[::-1], dpi=180)\n",
        "\n",
        "    for class_number in range(len(optimized_images)):\n",
        "        ax = fig.add_subplot(shape[0], shape[1], class_number+1)\n",
        "        ax.imshow(optimized_images[class_number][\"image\"].squeeze(0).data.cpu().numpy())\n",
        "        plt.title(class_number)\n",
        "        plt.xticks(np.array([]))\n",
        "        plt.yticks(np.array([]))\n",
        "    fig.tight_layout()\n",
        "    plt.show()"
      ],
      "execution_count": 36,
      "outputs": []
    },
    {
      "cell_type": "code",
      "metadata": {
        "colab_type": "code",
        "id": "ln9ljpv8UP7W",
        "colab": {
          "base_uri": "https://localhost:8080/",
          "height": 362
        },
        "outputId": "8aceaaa4-187e-438a-ed30-a7bdd5a2bd43"
      },
      "source": [
        "plot_optimized_images(optimized_images, (2, 5))"
      ],
      "execution_count": 37,
      "outputs": [
        {
          "output_type": "display_data",
          "data": {
            "image/png": "[encoded data removed]",
            "text/plain": [
              "<Figure size 900x360 with 10 Axes>"
            ]
          },
          "metadata": {
            "tags": []
          }
        }
      ]
    },
    {
      "cell_type": "markdown",
      "metadata": {
        "id": "JylnKWZ06fpo",
        "colab_type": "text"
      },
      "source": [
        "## <center>**Автокодировщик**"
      ]
    },
    {
      "cell_type": "markdown",
      "metadata": {
        "id": "OtCitpr26fpp",
        "colab_type": "text"
      },
      "source": [
        "### 1. Реализуем и обучим сверточный автокодировщик"
      ]
    },
    {
      "cell_type": "code",
      "metadata": {
        "colab_type": "code",
        "id": "zvxKYBTNgXa-",
        "colab": {}
      },
      "source": [
        "class Encoder(nn.Module):\n",
        "    def __init__(self):\n",
        "        super(Encoder, self).__init__()\n",
        "        self.conv1 = nn.Conv2d(1, 6, 5)\n",
        "        self.bn1 = nn.BatchNorm2d(6)\n",
        "        self.conv2 = nn.Conv2d(6, 16, 5)\n",
        "        self.bn2 = nn.BatchNorm2d(16)\n",
        "        self.pool = nn.MaxPool2d(2, 2, return_indices=True)\n",
        "\n",
        "        self.conv1_activ = None\n",
        "        self.conv2_activ = None\n",
        "    \n",
        "    def forward(self, x):\n",
        "        x = self.conv1(x)  # 1 28 -> 6 24\n",
        "        self.conv1_activ = x.clone()\n",
        "        x = F.relu(x)\n",
        "        x = self.bn1(x) \n",
        "        x = self.conv2(x)  # 6 24 -> 16 20\n",
        "        self.conv2_activ = x.clone()\n",
        "        x = F.relu(x)\n",
        "        x = self.bn2(x)\n",
        "        x, indices = self.pool(x)  # 20 -> 10\n",
        "        x = torch.sigmoid(x)\n",
        "        return x, indices\n",
        "    \n",
        "class Decoder(nn.Module):\n",
        "    def __init__(self):\n",
        "        super(Decoder, self).__init__()\n",
        "        self.unpool = nn.MaxUnpool2d(2, 2)\n",
        "        self.convtrans1 = nn.ConvTranspose2d(16, 6, 5)\n",
        "        self.bn = nn.BatchNorm2d(16)\n",
        "        self.convtrans2 = nn.ConvTranspose2d(6, 1, 5)\n",
        "    \n",
        "    def forward(self, x):\n",
        "        x = self.unpool(*x)  # 10 -> 20\n",
        "        x = F.relu(x)\n",
        "        x = self.bn(x)        \n",
        "        x = self.convtrans1(x)  # 16 20 -> 6 24\n",
        "        x = F.relu(x)\n",
        "        x = self.convtrans2(x)  # 6 24 -> 1 28\n",
        "        x = F.relu(x)\n",
        "        x = torch.tanh(x)\n",
        "        return x"
      ],
      "execution_count": null,
      "outputs": []
    },
    {
      "cell_type": "code",
      "metadata": {
        "colab_type": "code",
        "id": "Xa9JH-v-_sEC",
        "colab": {}
      },
      "source": [
        "class ConvAE(nn.Module):\n",
        "    def __init__(self, loss_fn=F.mse_loss, lr=1e-4, l2=0.):\n",
        "        super().__init__()\n",
        "        self.E = Encoder().to(device)\n",
        "        self.D = Decoder().to(device)\n",
        "        self.loss_fn = loss_fn\n",
        "        self._loss = None\n",
        "        self.optim = optim.Adam(self.parameters(), lr=lr, weight_decay=l2)\n",
        "        \n",
        "    def forward(self, x):\n",
        "        h = self.E(x)\n",
        "        out = self.D(h)\n",
        "        return out\n",
        "    \n",
        "    def encode(self, x):\n",
        "        with torch.no_grad():\n",
        "            return self.E(x)\n",
        "    \n",
        "    def decode(self, h):\n",
        "        with torch.no_grad():\n",
        "            return self.D(h)\n",
        "    \n",
        "    def loss(self, x, target, **kwargs):\n",
        "        self._loss = self.loss_fn(x, target, **kwargs)\n",
        "        return self._loss"
      ],
      "execution_count": null,
      "outputs": []
    },
    {
      "cell_type": "code",
      "metadata": {
        "colab_type": "code",
        "id": "LSWOuoLQ_sEI",
        "colab": {}
      },
      "source": [
        "def train(epoch, models, loader, log=None, verbose_num=1):\n",
        "    train_size = len(loader.sampler)\n",
        "    for batch_idx, (data, _) in enumerate(loader):\n",
        "        data = data.to(device)\n",
        "        \n",
        "        for model in models.values():\n",
        "            model = model.to(device)\n",
        "            model.optim.zero_grad()\n",
        "            output = model(data)\n",
        "            loss = model.loss(output, data)\n",
        "            loss.backward()\n",
        "            model.optim.step()\n",
        "            \n",
        "    if log is not None:\n",
        "        for k in models:\n",
        "            log[k].append(models[k]._loss)   \n",
        "            \n",
        "    if epoch == 1 or epoch % verbose_num == 0:\n",
        "        line = 'Epoch: {} [{}]\\n'.format(epoch, train_size)\n",
        "        losses = '\\t' + 'Train set: ' + \\\n",
        "                 ' '.join(['{}: loss: {:.6f}'.format(k, m._loss.item()) for k, m in models.items()])\n",
        "        report = line + losses\n",
        "        print(report)"
      ],
      "execution_count": null,
      "outputs": []
    },
    {
      "cell_type": "code",
      "metadata": {
        "colab_type": "code",
        "id": "OjKZP8Vu_sEP",
        "colab": {}
      },
      "source": [
        "def test(epoch, models, loader, log=None, verbose_num=1):\n",
        "    test_size = len(loader.sampler)\n",
        "\n",
        "    test_loss = {mod_label: 0. for mod_label in models}\n",
        "    with torch.no_grad():\n",
        "        for data, _ in loader:\n",
        "            data = data.to(device)\n",
        "            \n",
        "            output = {mod_label: model(data) for mod_label, model in models.items()}\n",
        "            for mod_label, model in models.items():\n",
        "                test_loss[mod_label] += model.loss(output[mod_label], data, reduction='sum').item() # sum up batch loss\n",
        "    \n",
        "    for k in models:\n",
        "        test_loss[k] /= (test_size * 784)\n",
        "        if log is not None:\n",
        "            log[k].append(test_loss[k])\n",
        "    \n",
        "    if epoch == 1 or epoch % verbose_num == 0:\n",
        "        avg_lambda = lambda l: 'loss: {:.4f}'.format(l)\n",
        "        line = lambda i, l: '{}: '.format(i) + avg_lambda(l)\n",
        "        \n",
        "        losses = ' '.join([line(k, test_loss[k]) for k in models])\n",
        "        report = '\\t' + 'Test set: ' + losses   \n",
        "        print(report)"
      ],
      "execution_count": null,
      "outputs": []
    },
    {
      "cell_type": "markdown",
      "metadata": {
        "colab_type": "text",
        "id": "liPKy3KU_sET"
      },
      "source": [
        "#### Тренируем автокодировщики с 2d латентным слоем"
      ]
    },
    {
      "cell_type": "code",
      "metadata": {
        "id": "MJshpMSg6fqL",
        "colab_type": "code",
        "colab": {}
      },
      "source": [
        "def train_test_models(epochs, models, train_log=None, test_log=None):\n",
        "    for epoch in np.arange(epochs) + 1:\n",
        "        for model in models.values():\n",
        "            model.train()\n",
        "        train(epoch, models, train_loader, train_log)\n",
        "        for model in models.values():\n",
        "            model.eval()\n",
        "        test(epoch, models, test_loader, test_log)"
      ],
      "execution_count": null,
      "outputs": []
    },
    {
      "cell_type": "code",
      "metadata": {
        "colab_type": "code",
        "id": "We8u1izI_sEa",
        "colab": {
          "base_uri": "https://localhost:8080/",
          "height": 1000
        },
        "outputId": "279f2a05-77c8-4d2b-da28-cb78f79089c5"
      },
      "source": [
        "%%time\n",
        "\n",
        "ae_models = {'conv_ae': ConvAE()}\n",
        "train_log = {k: [] for k in ae_models}\n",
        "test_log = {k: [] for k in ae_models}\n",
        "\n",
        "train_test_models(50, ae_models, train_log, test_log)"
      ],
      "execution_count": null,
      "outputs": [
        {
          "output_type": "stream",
          "text": [
            "Epoch: 1 [60000]\n",
            "\tTrain set: conv_ae: loss: 0.905546\n",
            "\tTest set: conv_ae: loss: 0.9002\n",
            "Epoch: 2 [60000]\n",
            "\tTrain set: conv_ae: loss: 0.862146\n",
            "\tTest set: conv_ae: loss: 0.8603\n",
            "Epoch: 3 [60000]\n",
            "\tTrain set: conv_ae: loss: 0.855627\n",
            "\tTest set: conv_ae: loss: 0.8485\n",
            "Epoch: 4 [60000]\n",
            "\tTrain set: conv_ae: loss: 0.855067\n",
            "\tTest set: conv_ae: loss: 0.8438\n",
            "Epoch: 5 [60000]\n",
            "\tTrain set: conv_ae: loss: 0.845113\n",
            "\tTest set: conv_ae: loss: 0.8412\n",
            "Epoch: 6 [60000]\n",
            "\tTrain set: conv_ae: loss: 0.836987\n",
            "\tTest set: conv_ae: loss: 0.8396\n",
            "Epoch: 7 [60000]\n",
            "\tTrain set: conv_ae: loss: 0.837576\n",
            "\tTest set: conv_ae: loss: 0.8384\n",
            "Epoch: 8 [60000]\n",
            "\tTrain set: conv_ae: loss: 0.838590\n",
            "\tTest set: conv_ae: loss: 0.8376\n",
            "Epoch: 9 [60000]\n",
            "\tTrain set: conv_ae: loss: 0.841275\n",
            "\tTest set: conv_ae: loss: 0.8369\n",
            "Epoch: 10 [60000]\n",
            "\tTrain set: conv_ae: loss: 0.837349\n",
            "\tTest set: conv_ae: loss: 0.8364\n",
            "Epoch: 11 [60000]\n",
            "\tTrain set: conv_ae: loss: 0.832934\n",
            "\tTest set: conv_ae: loss: 0.8360\n",
            "Epoch: 12 [60000]\n",
            "\tTrain set: conv_ae: loss: 0.835296\n",
            "\tTest set: conv_ae: loss: 0.8356\n",
            "Epoch: 13 [60000]\n",
            "\tTrain set: conv_ae: loss: 0.834052\n",
            "\tTest set: conv_ae: loss: 0.8353\n",
            "Epoch: 14 [60000]\n",
            "\tTrain set: conv_ae: loss: 0.835975\n",
            "\tTest set: conv_ae: loss: 0.8350\n",
            "Epoch: 15 [60000]\n",
            "\tTrain set: conv_ae: loss: 0.833793\n",
            "\tTest set: conv_ae: loss: 0.8348\n",
            "Epoch: 16 [60000]\n",
            "\tTrain set: conv_ae: loss: 0.833528\n",
            "\tTest set: conv_ae: loss: 0.8346\n",
            "Epoch: 17 [60000]\n",
            "\tTrain set: conv_ae: loss: 0.836283\n",
            "\tTest set: conv_ae: loss: 0.8344\n",
            "Epoch: 18 [60000]\n",
            "\tTrain set: conv_ae: loss: 0.843149\n",
            "\tTest set: conv_ae: loss: 0.8341\n",
            "Epoch: 19 [60000]\n",
            "\tTrain set: conv_ae: loss: 0.834591\n",
            "\tTest set: conv_ae: loss: 0.8340\n",
            "Epoch: 20 [60000]\n",
            "\tTrain set: conv_ae: loss: 0.831680\n",
            "\tTest set: conv_ae: loss: 0.8338\n",
            "Epoch: 21 [60000]\n",
            "\tTrain set: conv_ae: loss: 0.839114\n",
            "\tTest set: conv_ae: loss: 0.8336\n",
            "Epoch: 22 [60000]\n",
            "\tTrain set: conv_ae: loss: 0.835150\n",
            "\tTest set: conv_ae: loss: 0.8335\n",
            "Epoch: 23 [60000]\n",
            "\tTrain set: conv_ae: loss: 0.834516\n",
            "\tTest set: conv_ae: loss: 0.8333\n",
            "Epoch: 24 [60000]\n",
            "\tTrain set: conv_ae: loss: 0.838853\n",
            "\tTest set: conv_ae: loss: 0.8332\n",
            "Epoch: 25 [60000]\n",
            "\tTrain set: conv_ae: loss: 0.834884\n",
            "\tTest set: conv_ae: loss: 0.8331\n",
            "Epoch: 26 [60000]\n",
            "\tTrain set: conv_ae: loss: 0.830900\n",
            "\tTest set: conv_ae: loss: 0.8330\n",
            "Epoch: 27 [60000]\n",
            "\tTrain set: conv_ae: loss: 0.832813\n",
            "\tTest set: conv_ae: loss: 0.8329\n",
            "Epoch: 28 [60000]\n",
            "\tTrain set: conv_ae: loss: 0.827332\n",
            "\tTest set: conv_ae: loss: 0.8329\n",
            "Epoch: 29 [60000]\n",
            "\tTrain set: conv_ae: loss: 0.829729\n",
            "\tTest set: conv_ae: loss: 0.8328\n",
            "Epoch: 30 [60000]\n",
            "\tTrain set: conv_ae: loss: 0.829204\n",
            "\tTest set: conv_ae: loss: 0.8327\n",
            "Epoch: 31 [60000]\n",
            "\tTrain set: conv_ae: loss: 0.833322\n",
            "\tTest set: conv_ae: loss: 0.8327\n",
            "Epoch: 32 [60000]\n",
            "\tTrain set: conv_ae: loss: 0.834857\n",
            "\tTest set: conv_ae: loss: 0.8326\n",
            "Epoch: 33 [60000]\n",
            "\tTrain set: conv_ae: loss: 0.830227\n",
            "\tTest set: conv_ae: loss: 0.8326\n",
            "Epoch: 34 [60000]\n",
            "\tTrain set: conv_ae: loss: 0.828957\n",
            "\tTest set: conv_ae: loss: 0.8325\n",
            "Epoch: 35 [60000]\n",
            "\tTrain set: conv_ae: loss: 0.833690\n",
            "\tTest set: conv_ae: loss: 0.8325\n",
            "Epoch: 36 [60000]\n",
            "\tTrain set: conv_ae: loss: 0.829826\n",
            "\tTest set: conv_ae: loss: 0.8325\n",
            "Epoch: 37 [60000]\n",
            "\tTrain set: conv_ae: loss: 0.836123\n",
            "\tTest set: conv_ae: loss: 0.8324\n",
            "Epoch: 38 [60000]\n",
            "\tTrain set: conv_ae: loss: 0.831831\n",
            "\tTest set: conv_ae: loss: 0.8324\n",
            "Epoch: 39 [60000]\n",
            "\tTrain set: conv_ae: loss: 0.831135\n",
            "\tTest set: conv_ae: loss: 0.8324\n",
            "Epoch: 40 [60000]\n",
            "\tTrain set: conv_ae: loss: 0.831399\n",
            "\tTest set: conv_ae: loss: 0.8323\n",
            "Epoch: 41 [60000]\n",
            "\tTrain set: conv_ae: loss: 0.835381\n",
            "\tTest set: conv_ae: loss: 0.8323\n",
            "Epoch: 42 [60000]\n",
            "\tTrain set: conv_ae: loss: 0.836935\n",
            "\tTest set: conv_ae: loss: 0.8323\n",
            "Epoch: 43 [60000]\n",
            "\tTrain set: conv_ae: loss: 0.832958\n",
            "\tTest set: conv_ae: loss: 0.8323\n",
            "Epoch: 44 [60000]\n",
            "\tTrain set: conv_ae: loss: 0.837914\n",
            "\tTest set: conv_ae: loss: 0.8322\n",
            "Epoch: 45 [60000]\n",
            "\tTrain set: conv_ae: loss: 0.833811\n",
            "\tTest set: conv_ae: loss: 0.8322\n",
            "Epoch: 46 [60000]\n",
            "\tTrain set: conv_ae: loss: 0.837111\n",
            "\tTest set: conv_ae: loss: 0.8322\n",
            "Epoch: 47 [60000]\n",
            "\tTrain set: conv_ae: loss: 0.831289\n",
            "\tTest set: conv_ae: loss: 0.8322\n",
            "Epoch: 48 [60000]\n",
            "\tTrain set: conv_ae: loss: 0.833591\n",
            "\tTest set: conv_ae: loss: 0.8321\n",
            "Epoch: 49 [60000]\n",
            "\tTrain set: conv_ae: loss: 0.831869\n",
            "\tTest set: conv_ae: loss: 0.8321\n",
            "Epoch: 50 [60000]\n",
            "\tTrain set: conv_ae: loss: 0.831317\n",
            "\tTest set: conv_ae: loss: 0.8321\n",
            "CPU times: user 14min 55s, sys: 7.38 s, total: 15min 2s\n",
            "Wall time: 15min 4s\n"
          ],
          "name": "stdout"
        }
      ]
    },
    {
      "cell_type": "markdown",
      "metadata": {
        "colab_type": "text",
        "id": "arESPcjx_sEi"
      },
      "source": [
        "#### посмотрим на кривые обучения"
      ]
    },
    {
      "cell_type": "code",
      "metadata": {
        "id": "LIlEHu0-HE6f",
        "colab_type": "code",
        "colab": {
          "base_uri": "https://localhost:8080/",
          "height": 295
        },
        "outputId": "96a43849-43cc-4748-c266-78e266a3e1a9"
      },
      "source": [
        "for model in ae_models:\n",
        "    plt.plot(train_log[model], label=\"train\")\n",
        "    plt.plot(test_log[model], label=\"test\")\n",
        "    plt.title(f\"loss, model: {model}\")\n",
        "    plt.xlabel(\"Epochs\")\n",
        "    plt.legend()\n",
        "    plt.grid()"
      ],
      "execution_count": null,
      "outputs": [
        {
          "output_type": "display_data",
          "data": {
            "image/png": "[encoded data removed]",
            "text/plain": [
              "<Figure size 432x288 with 1 Axes>"
            ]
          },
          "metadata": {
            "tags": [],
            "needs_background": "light"
          }
        }
      ]
    },
    {
      "cell_type": "markdown",
      "metadata": {
        "id": "mE4N4QETG8oV",
        "colab_type": "text"
      },
      "source": [
        "### Оптимизируем изображения по заданному условию.\n",
        "Будем оптимизировать на максимум средней суммы квадратов карты активации на сверточных нейронах"
      ]
    },
    {
      "cell_type": "markdown",
      "metadata": {
        "id": "INU-wyyt6fqj",
        "colab_type": "text"
      },
      "source": [
        "#### функция для оптимизации изображения под активацию сверточных нейронов автокодировщика"
      ]
    },
    {
      "cell_type": "code",
      "metadata": {
        "id": "OZmS8D0s6fql",
        "colab_type": "code",
        "colab": {}
      },
      "source": [
        "def optimize_image_by_convactivation(model, conv_act_target=\"1\", num_steps=50000):\n",
        "    normalize = transforms.Normalize((0.5,), (0.5,))\n",
        "    model.eval()\n",
        "    \n",
        "    # создаем тензор, который будем оптимизировать\n",
        "    image = torch.sigmoid(torch.randn((1, 28, 28))*0.001)\n",
        "    image = image.to(device)\n",
        "    image.requires_grad = True\n",
        "\n",
        "    # подготавливаем вход\n",
        "    # image_processed = normalize(torch.sigmoid(torch.randn((1, 28, 28))))\n",
        "\n",
        "    # задайте оптимизатор\n",
        "    # вы можете выбрать какой вам больше нравится\n",
        "    optim = torch.optim.Adam([image], lr=1e-4)\n",
        "    \n",
        "    # задайте лосс функцию соответствующую заданию\n",
        "    # лосс должен зависесть от class_number\n",
        "    grads = []\n",
        "    losses = []\n",
        "    for i in tqdm(range(num_steps)):\n",
        "        # здесь в цикле оптимизируется картинка\n",
        "        # в оптимизатор передается ваш лосс и выход из модели\n",
        "        # не забывайте обнулять градиенты с optim.zero_grad()\n",
        "        # также полезно сохранять значения лосс функции и нормы градиента на каждом шаге\n",
        "        # чтобы было видно как меняются эти значения в процессе \"обучения\" картинки.\n",
        "        optim.zero_grad()\n",
        "        output = model((normalize(image).unsqueeze(0)))\n",
        "        if conv_act_target == \"1\":\n",
        "            conv_activ = model.E.conv1_activ\n",
        "        elif conv_act_target == \"2\":\n",
        "            conv_activ = model.E.conv2_activ\n",
        "        else:\n",
        "            raise ValueError(\"conv_act_target is wrong\")\n",
        "#         loss = F.cross_entropy(output, torch.tensor([class_number]))\n",
        "        loss = - (conv_activ**2).mean()\n",
        "        loss.backward()\n",
        "        optim.step()\n",
        "        \n",
        "        losses.append(loss)\n",
        "        grads.append(image.grad.norm())\n",
        "    \n",
        "    # возвращаете картинку, grads, losses\n",
        "    image_out = torch.sigmoid(image)\n",
        "    return image_out, grads, losses"
      ],
      "execution_count": null,
      "outputs": []
    },
    {
      "cell_type": "markdown",
      "metadata": {
        "id": "71iEHFNz9J0z",
        "colab_type": "text"
      },
      "source": [
        "### **conv1**"
      ]
    },
    {
      "cell_type": "code",
      "metadata": {
        "id": "-kjZkkv96fqq",
        "colab_type": "code",
        "colab": {
          "base_uri": "https://localhost:8080/",
          "height": 34
        },
        "outputId": "a445178b-a41d-4a66-f744-ccf407c0ca77"
      },
      "source": [
        "image, grads, losses = optimize_image_by_convactivation(ae_models[\"conv_ae\"], conv_act_target=\"1\", num_steps=50000)"
      ],
      "execution_count": null,
      "outputs": [
        {
          "output_type": "stream",
          "text": [
            "100%|██████████| 50000/50000 [02:35<00:00, 322.19it/s]\n"
          ],
          "name": "stderr"
        }
      ]
    },
    {
      "cell_type": "markdown",
      "metadata": {
        "id": "zDI4NoQb6fqw",
        "colab_type": "text"
      },
      "source": [
        "#### сгенерированное и оптимизированное изображение"
      ]
    },
    {
      "cell_type": "code",
      "metadata": {
        "id": "2VWwanRh6fqx",
        "colab_type": "code",
        "colab": {
          "base_uri": "https://localhost:8080/",
          "height": 101
        },
        "outputId": "f4f82a41-cda3-407f-bfa5-f477bb7969de"
      },
      "source": [
        "to_plot = image.unsqueeze(0).data.cpu().numpy()\n",
        "\n",
        "plot_mnist(to_plot, (1, 1))"
      ],
      "execution_count": null,
      "outputs": [
        {
          "output_type": "display_data",
          "data": {
            "image/png": "[encoded data removed]",
            "text/plain": [
              "<Figure size 80x80 with 1 Axes>"
            ]
          },
          "metadata": {
            "tags": []
          }
        }
      ]
    },
    {
      "cell_type": "code",
      "metadata": {
        "id": "Qhpr00jU6fq4",
        "colab_type": "code",
        "colab": {
          "base_uri": "https://localhost:8080/",
          "height": 265
        },
        "outputId": "2ba845f5-4afc-4498-d518-f0bf07d0589d"
      },
      "source": [
        "plt.plot(losses);"
      ],
      "execution_count": null,
      "outputs": [
        {
          "output_type": "display_data",
          "data": {
            "image/png": "[encoded data removed]",
            "text/plain": [
              "<Figure size 432x288 with 1 Axes>"
            ]
          },
          "metadata": {
            "tags": [],
            "needs_background": "light"
          }
        }
      ]
    },
    {
      "cell_type": "code",
      "metadata": {
        "id": "S8rwmKrp6fq-",
        "colab_type": "code",
        "colab": {
          "base_uri": "https://localhost:8080/",
          "height": 265
        },
        "outputId": "64c182cd-1be7-40ea-8974-ab90a1a2bc5a"
      },
      "source": [
        "plt.plot(grads);"
      ],
      "execution_count": null,
      "outputs": [
        {
          "output_type": "display_data",
          "data": {
            "image/png": "[encoded data removed]",
            "text/plain": [
              "<Figure size 432x288 with 1 Axes>"
            ]
          },
          "metadata": {
            "tags": [],
            "needs_background": "light"
          }
        }
      ]
    },
    {
      "cell_type": "markdown",
      "metadata": {
        "colab_type": "text",
        "id": "VCSvIsc9Cren"
      },
      "source": [
        "### **conv2**"
      ]
    },
    {
      "cell_type": "code",
      "metadata": {
        "colab_type": "code",
        "id": "oR3CbZM8Crep",
        "colab": {
          "base_uri": "https://localhost:8080/",
          "height": 34
        },
        "outputId": "d4885193-b419-4a20-af34-5ea57d7620ad"
      },
      "source": [
        "image, grads, losses = optimize_image_by_convactivation(ae_models[\"conv_ae\"], conv_act_target=\"2\", num_steps=50000)"
      ],
      "execution_count": null,
      "outputs": [
        {
          "output_type": "stream",
          "text": [
            "100%|██████████| 50000/50000 [02:53<00:00, 288.02it/s]\n"
          ],
          "name": "stderr"
        }
      ]
    },
    {
      "cell_type": "markdown",
      "metadata": {
        "colab_type": "text",
        "id": "1aG2KE8YCrew"
      },
      "source": [
        "#### сгенерированное и оптимизированное изображение"
      ]
    },
    {
      "cell_type": "code",
      "metadata": {
        "colab_type": "code",
        "id": "rL2lM49mCrex",
        "colab": {
          "base_uri": "https://localhost:8080/",
          "height": 101
        },
        "outputId": "c001c201-2ab9-4fea-b060-83469b438a58"
      },
      "source": [
        "to_plot = image.unsqueeze(0).data.cpu().numpy()\n",
        "\n",
        "plot_mnist(to_plot, (1, 1))"
      ],
      "execution_count": null,
      "outputs": [
        {
          "output_type": "display_data",
          "data": {
            "image/png": "[encoded data removed]",
            "text/plain": [
              "<Figure size 80x80 with 1 Axes>"
            ]
          },
          "metadata": {
            "tags": []
          }
        }
      ]
    },
    {
      "cell_type": "code",
      "metadata": {
        "colab_type": "code",
        "id": "0h4OLDPkCre2",
        "colab": {
          "base_uri": "https://localhost:8080/",
          "height": 265
        },
        "outputId": "8ab52604-99d7-45e4-8867-b1c0ba70ce98"
      },
      "source": [
        "plt.plot(losses);"
      ],
      "execution_count": null,
      "outputs": [
        {
          "output_type": "display_data",
          "data": {
            "image/png": "[encoded data removed]",
            "text/plain": [
              "<Figure size 432x288 with 1 Axes>"
            ]
          },
          "metadata": {
            "tags": [],
            "needs_background": "light"
          }
        }
      ]
    },
    {
      "cell_type": "code",
      "metadata": {
        "colab_type": "code",
        "id": "jSAGjnQqCre6",
        "colab": {
          "base_uri": "https://localhost:8080/",
          "height": 265
        },
        "outputId": "6103ce97-1239-4a45-b543-0609a19dec2f"
      },
      "source": [
        "plt.plot(grads);"
      ],
      "execution_count": null,
      "outputs": [
        {
          "output_type": "display_data",
          "data": {
            "image/png": "[encoded data removed]",
            "text/plain": [
              "<Figure size 432x288 with 1 Axes>"
            ]
          },
          "metadata": {
            "tags": [],
            "needs_background": "light"
          }
        }
      ]
    },
    {
      "cell_type": "markdown",
      "metadata": {
        "id": "oGd8OSzpFGbr",
        "colab_type": "text"
      },
      "source": [
        "**Комментарий:**   \n",
        "Оптимизация производилась 2 раза, по активации на 2х разных сверточных слоях. В первом случае картинка получилась довольно \"скучной\", зато во втором случае рисунок стал явно по-интереснее. Во втором случае сверточный слой был **более глубокий**. "
      ]
    }
  ]
}