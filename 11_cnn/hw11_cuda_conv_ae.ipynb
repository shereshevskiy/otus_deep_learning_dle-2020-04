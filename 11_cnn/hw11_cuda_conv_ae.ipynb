{
 "cells": [
  {
   "cell_type": "markdown",
   "metadata": {
    "colab_type": "text",
    "id": "TGztE7czydHI"
   },
   "source": [
    "# <center>Домашнее задание\n",
    "## Сверточные сети\n",
    "Необязательное домашнее задание\n",
    "1. Реализовать сверточный автокодировщик\n",
    "2. Сделать оптимизацию изображения под активацию сверточных нейронов классификатора\n",
    "3. Сделать оптимизацию изображения под активацию сверточных нейронов автокодировщика"
   ]
  },
  {
   "cell_type": "code",
   "execution_count": 1,
   "metadata": {
    "colab": {
     "base_uri": "https://localhost:8080/",
     "height": 121
    },
    "colab_type": "code",
    "id": "-lUEfRbYy74I",
    "outputId": "67efb129-093f-40cb-e27a-f75c8bce559f"
   },
   "outputs": [
    {
     "name": "stdout",
     "output_type": "stream",
     "text": [
      "Go to this URL in a browser: https://accounts.google.com/o/oauth2/auth?client_id=947318989803-6bn6qk8qdgf4n4g3pfee6491hc0brc4i.apps.googleusercontent.com&redirect_uri=urn%3aietf%3awg%3aoauth%3a2.0%3aoob&response_type=code&scope=email%20https%3a%2f%2fwww.googleapis.com%2fauth%2fdocs.test%20https%3a%2f%2fwww.googleapis.com%2fauth%2fdrive%20https%3a%2f%2fwww.googleapis.com%2fauth%2fdrive.photos.readonly%20https%3a%2f%2fwww.googleapis.com%2fauth%2fpeopleapi.readonly\n",
      "\n",
      "Enter your authorization code:\n",
      "··········\n",
      "Mounted at /content/drive\n"
     ]
    }
   ],
   "source": [
    "from google.colab import drive\n",
    "drive.mount('/content/drive')"
   ]
  },
  {
   "cell_type": "code",
   "execution_count": null,
   "metadata": {
    "colab": {},
    "colab_type": "code",
    "id": "wdszRzdWy9cB"
   },
   "outputs": [],
   "source": [
    "import os\n",
    "os.chdir('drive/My Drive/Colab Notebooks/neural_OTUS')"
   ]
  },
  {
   "cell_type": "code",
   "execution_count": null,
   "metadata": {
    "colab": {},
    "colab_type": "code",
    "id": "xqF3eS2T_sDn"
   },
   "outputs": [],
   "source": [
    "import torch\n",
    "import torch.nn as nn\n",
    "import torch.nn.functional as F\n",
    "import torch.optim as optim\n",
    "from torchvision import datasets, transforms\n",
    "\n",
    "from utils import mnist, plot_graphs, plot_mnist, mnist_transform\n",
    "import numpy as np\n",
    "import matplotlib.pyplot as plt"
   ]
  },
  {
   "cell_type": "code",
   "execution_count": null,
   "metadata": {
    "colab": {},
    "colab_type": "code",
    "id": "Q4LCSM24_sD1"
   },
   "outputs": [],
   "source": [
    "mnist_transform = transforms.Compose([\n",
    "                transforms.ToTensor(),\n",
    "                transforms.Normalize((0.5,), (0.5,)),\n",
    "           ])\n",
    "\n",
    "train_loader, test_loader = mnist(\n",
    "    batch_size=200, valid=0, transform=mnist_transform, \n",
    "    # path='./../MNIST_data'\n",
    "    )"
   ]
  },
  {
   "cell_type": "code",
   "execution_count": 5,
   "metadata": {
    "colab": {
     "base_uri": "https://localhost:8080/",
     "height": 34
    },
    "colab_type": "code",
    "id": "zwQNBtjoBB7M",
    "outputId": "b1d3bf2a-f653-4f73-c446-11e819d2c983"
   },
   "outputs": [
    {
     "data": {
      "text/plain": [
       "device(type='cuda', index=0)"
      ]
     },
     "execution_count": 5,
     "metadata": {
      "tags": []
     },
     "output_type": "execute_result"
    }
   ],
   "source": [
    "device = torch.device('cuda:0' if torch.cuda.is_available() else 'cpu')\n",
    "device"
   ]
  },
  {
   "cell_type": "markdown",
   "metadata": {
    "colab_type": "text",
    "id": "hUE2Q2ut_sD7"
   },
   "source": [
    "## Создаем необходимые классы"
   ]
  },
  {
   "cell_type": "code",
   "execution_count": null,
   "metadata": {
    "colab": {},
    "colab_type": "code",
    "id": "sTnJBZff_sD8"
   },
   "outputs": [],
   "source": [
    "class Encoder(nn.Module):\n",
    "    def __init__(self, channels=16, latent_size=10):\n",
    "        super(Encoder, self).__init__()\n",
    "        self.conv1 = nn.Conv2d(in_channels=1, out_channels=channels, kernel_size=5, stride=1, padding=2)\n",
    "        self.fc1 = nn.Linear(28*28*channels, latent_size)\n",
    "        self.channels = channels\n",
    "    \n",
    "    def forward(self, x):\n",
    "        x = self.conv1(x)\n",
    "        x = x.view(-1, 28*28*self.channels)\n",
    "        x = self.fc1(x)\n",
    "        x = torch.sigmoid(x)\n",
    "        return x\n",
    "    \n",
    "class Decoder(nn.Module):\n",
    "    def __init__(self, channels=16, latent_size=10):\n",
    "        super(Decoder, self).__init__()\n",
    "        self.fc1 = nn.Linear(latent_size, 28*28*channels)\n",
    "        self.convtrans1 = nn.ConvTranspose2d(in_channels=channels, out_channels=1, kernel_size=5, stride=1, padding=2)\n",
    "        self.channels = channels\n",
    "    \n",
    "    def forward(self, x):\n",
    "        x = self.fc1(x)\n",
    "        x = x.view(-1, self.channels, 28, 28)\n",
    "        x = self.convtrans1(x)\n",
    "        x = torch.tanh(x)\n",
    "        return x"
   ]
  },
  {
   "cell_type": "code",
   "execution_count": null,
   "metadata": {
    "colab": {},
    "colab_type": "code",
    "id": "Xa9JH-v-_sEC"
   },
   "outputs": [],
   "source": [
    "class Net(nn.Module):\n",
    "    def __init__(self, latent_size=10, loss_fn=F.mse_loss, lr=1e-4, l2=0.):\n",
    "        super(Net, self).__init__()\n",
    "        self.latent_size = latent_size\n",
    "        self.E = Encoder(latent_size).to(device)\n",
    "        self.D = Decoder(latent_size).to(device)\n",
    "        self.loss_fn = loss_fn\n",
    "        self._loss = None\n",
    "        self.optim = optim.Adam(self.parameters(), lr=lr, weight_decay=l2)\n",
    "        \n",
    "    def forward(self, x):\n",
    "        h = self.E(x)\n",
    "        out = self.D(h)\n",
    "        return out\n",
    "    \n",
    "    def decode(self, h):\n",
    "        with torch.no_grad():\n",
    "            return self.D(h)\n",
    "    \n",
    "    def loss(self, x, target, **kwargs):\n",
    "        self._loss = self.loss_fn(x, target, **kwargs)\n",
    "        return self._loss"
   ]
  },
  {
   "cell_type": "code",
   "execution_count": null,
   "metadata": {
    "colab": {},
    "colab_type": "code",
    "id": "LSWOuoLQ_sEI"
   },
   "outputs": [],
   "source": [
    "def train(epoch, models, loader, log=None, noise=False, mode='crop', elementwise=False, verbose_num=1):\n",
    "    train_size = len(loader.sampler)\n",
    "    for batch_idx, (data, _) in enumerate(loader):\n",
    "        data = data.to(device)\n",
    "        if noise:\n",
    "            noised = add_noise(data, mode, elementwise)\n",
    "        else:\n",
    "            noised = data\n",
    "        \n",
    "        for model in models.values():\n",
    "            model = model.to(device)\n",
    "            model.optim.zero_grad()\n",
    "            output = model(noised)\n",
    "            loss = model.loss(output, data)\n",
    "            loss.backward()\n",
    "            model.optim.step()\n",
    "            \n",
    "    if log is not None:\n",
    "        for k in models:\n",
    "            log[k].append(models[k]._loss)   \n",
    "            \n",
    "    if epoch == 1 or epoch % verbose_num == 0:\n",
    "        line = 'Epoch: {} [{}]\\n'.format(epoch, train_size)\n",
    "        losses = '\\t' + 'Train set: ' + \\\n",
    "                 ' '.join(['{}: loss: {:.6f}'.format(k, m._loss.item()) for k, m in models.items()])\n",
    "        report = line + losses\n",
    "        print(report)"
   ]
  },
  {
   "cell_type": "code",
   "execution_count": null,
   "metadata": {
    "colab": {},
    "colab_type": "code",
    "id": "OjKZP8Vu_sEP"
   },
   "outputs": [],
   "source": [
    "def test(epoch, models, loader, log=None, noise=False, mode='crop', elementwise=False, verbose_num=1):\n",
    "    test_size = len(loader.sampler)\n",
    "\n",
    "    test_loss = {mod_label: 0. for mod_label in models}\n",
    "    with torch.no_grad():\n",
    "        for data, _ in loader:\n",
    "            data = data.to(device)\n",
    "            if noise:\n",
    "                noised = add_noise(data, mode, elementwise)\n",
    "            else:\n",
    "                noised = data\n",
    "            \n",
    "            output = {mod_label: model(noised) for mod_label, model in models.items()}\n",
    "            for mod_label, model in models.items():\n",
    "                test_loss[mod_label] += model.loss(output[mod_label], noised, reduction='sum').item() # sum up batch loss\n",
    "    \n",
    "    for k in models:\n",
    "        test_loss[k] /= (test_size * 784)\n",
    "        if log is not None:\n",
    "            log[k].append(test_loss[k])\n",
    "    \n",
    "    if epoch == 1 or epoch % verbose_num == 0:\n",
    "        avg_lambda = lambda l: 'loss: {:.4f}'.format(l)\n",
    "        line = lambda i, l: '{}: '.format(i) + avg_lambda(l)\n",
    "        \n",
    "        losses = ' '.join([line(k, test_loss[k]) for k in models])\n",
    "        report = '\\t' + 'Test set: ' + losses   \n",
    "        print(report)"
   ]
  },
  {
   "cell_type": "markdown",
   "metadata": {
    "colab_type": "text",
    "id": "liPKy3KU_sET"
   },
   "source": [
    "#### Тренируем автокодировщики с 32-мерным латентным слоем"
   ]
  },
  {
   "cell_type": "code",
   "execution_count": 10,
   "metadata": {
    "colab": {
     "base_uri": "https://localhost:8080/",
     "height": 1000
    },
    "colab_type": "code",
    "id": "We8u1izI_sEa",
    "outputId": "39c1f443-3255-4a05-9c8b-0e015a6f1489"
   },
   "outputs": [
    {
     "name": "stdout",
     "output_type": "stream",
     "text": [
      "Epoch: 1 [60000]\n",
      "\tTrain set: 32: loss: 0.270323\n",
      "\tTest set: 32: loss: 0.2698\n",
      "Epoch: 2 [60000]\n",
      "\tTrain set: 32: loss: 0.210217\n",
      "\tTest set: 32: loss: 0.2160\n",
      "Epoch: 3 [60000]\n",
      "\tTrain set: 32: loss: 0.165062\n",
      "\tTest set: 32: loss: 0.1662\n",
      "Epoch: 4 [60000]\n",
      "\tTrain set: 32: loss: 0.145119\n",
      "\tTest set: 32: loss: 0.1439\n",
      "Epoch: 5 [60000]\n",
      "\tTrain set: 32: loss: 0.138109\n",
      "\tTest set: 32: loss: 0.1362\n",
      "Epoch: 6 [60000]\n",
      "\tTrain set: 32: loss: 0.135513\n",
      "\tTest set: 32: loss: 0.1314\n",
      "Epoch: 7 [60000]\n",
      "\tTrain set: 32: loss: 0.127628\n",
      "\tTest set: 32: loss: 0.1286\n",
      "Epoch: 8 [60000]\n",
      "\tTrain set: 32: loss: 0.126220\n",
      "\tTest set: 32: loss: 0.1264\n",
      "Epoch: 9 [60000]\n",
      "\tTrain set: 32: loss: 0.118772\n",
      "\tTest set: 32: loss: 0.1248\n",
      "Epoch: 10 [60000]\n",
      "\tTrain set: 32: loss: 0.122918\n",
      "\tTest set: 32: loss: 0.1234\n",
      "Epoch: 11 [60000]\n",
      "\tTrain set: 32: loss: 0.125140\n",
      "\tTest set: 32: loss: 0.1223\n",
      "Epoch: 12 [60000]\n",
      "\tTrain set: 32: loss: 0.119131\n",
      "\tTest set: 32: loss: 0.1217\n",
      "Epoch: 13 [60000]\n",
      "\tTrain set: 32: loss: 0.121307\n",
      "\tTest set: 32: loss: 0.1209\n",
      "Epoch: 14 [60000]\n",
      "\tTrain set: 32: loss: 0.122078\n",
      "\tTest set: 32: loss: 0.1204\n",
      "Epoch: 15 [60000]\n",
      "\tTrain set: 32: loss: 0.121957\n",
      "\tTest set: 32: loss: 0.1199\n",
      "Epoch: 16 [60000]\n",
      "\tTrain set: 32: loss: 0.121377\n",
      "\tTest set: 32: loss: 0.1196\n",
      "Epoch: 17 [60000]\n",
      "\tTrain set: 32: loss: 0.121227\n",
      "\tTest set: 32: loss: 0.1193\n",
      "Epoch: 18 [60000]\n",
      "\tTrain set: 32: loss: 0.120063\n",
      "\tTest set: 32: loss: 0.1191\n",
      "Epoch: 19 [60000]\n",
      "\tTrain set: 32: loss: 0.125918\n",
      "\tTest set: 32: loss: 0.1188\n",
      "Epoch: 20 [60000]\n",
      "\tTrain set: 32: loss: 0.127313\n",
      "\tTest set: 32: loss: 0.1187\n",
      "Epoch: 21 [60000]\n",
      "\tTrain set: 32: loss: 0.122148\n",
      "\tTest set: 32: loss: 0.1185\n",
      "Epoch: 22 [60000]\n",
      "\tTrain set: 32: loss: 0.122583\n",
      "\tTest set: 32: loss: 0.1182\n",
      "Epoch: 23 [60000]\n",
      "\tTrain set: 32: loss: 0.118116\n",
      "\tTest set: 32: loss: 0.1183\n",
      "Epoch: 24 [60000]\n",
      "\tTrain set: 32: loss: 0.124882\n",
      "\tTest set: 32: loss: 0.1182\n",
      "Epoch: 25 [60000]\n",
      "\tTrain set: 32: loss: 0.125476\n",
      "\tTest set: 32: loss: 0.1179\n",
      "Epoch: 26 [60000]\n",
      "\tTrain set: 32: loss: 0.118299\n",
      "\tTest set: 32: loss: 0.1178\n",
      "Epoch: 27 [60000]\n",
      "\tTrain set: 32: loss: 0.111272\n",
      "\tTest set: 32: loss: 0.1176\n",
      "Epoch: 28 [60000]\n",
      "\tTrain set: 32: loss: 0.120251\n",
      "\tTest set: 32: loss: 0.1176\n",
      "Epoch: 29 [60000]\n",
      "\tTrain set: 32: loss: 0.120968\n",
      "\tTest set: 32: loss: 0.1176\n",
      "Epoch: 30 [60000]\n",
      "\tTrain set: 32: loss: 0.121687\n",
      "\tTest set: 32: loss: 0.1175\n",
      "Epoch: 31 [60000]\n",
      "\tTrain set: 32: loss: 0.116186\n",
      "\tTest set: 32: loss: 0.1174\n",
      "Epoch: 32 [60000]\n",
      "\tTrain set: 32: loss: 0.113544\n",
      "\tTest set: 32: loss: 0.1174\n",
      "Epoch: 33 [60000]\n",
      "\tTrain set: 32: loss: 0.120080\n",
      "\tTest set: 32: loss: 0.1173\n",
      "Epoch: 34 [60000]\n",
      "\tTrain set: 32: loss: 0.121737\n",
      "\tTest set: 32: loss: 0.1172\n",
      "Epoch: 35 [60000]\n",
      "\tTrain set: 32: loss: 0.117533\n",
      "\tTest set: 32: loss: 0.1173\n",
      "Epoch: 36 [60000]\n",
      "\tTrain set: 32: loss: 0.118494\n",
      "\tTest set: 32: loss: 0.1170\n",
      "Epoch: 37 [60000]\n",
      "\tTrain set: 32: loss: 0.117654\n",
      "\tTest set: 32: loss: 0.1170\n",
      "Epoch: 38 [60000]\n",
      "\tTrain set: 32: loss: 0.118161\n",
      "\tTest set: 32: loss: 0.1170\n",
      "Epoch: 39 [60000]\n",
      "\tTrain set: 32: loss: 0.119890\n",
      "\tTest set: 32: loss: 0.1170\n",
      "Epoch: 40 [60000]\n",
      "\tTrain set: 32: loss: 0.116521\n",
      "\tTest set: 32: loss: 0.1169\n",
      "Epoch: 41 [60000]\n",
      "\tTrain set: 32: loss: 0.122645\n",
      "\tTest set: 32: loss: 0.1168\n",
      "Epoch: 42 [60000]\n",
      "\tTrain set: 32: loss: 0.121402\n",
      "\tTest set: 32: loss: 0.1168\n",
      "Epoch: 43 [60000]\n",
      "\tTrain set: 32: loss: 0.120267\n",
      "\tTest set: 32: loss: 0.1166\n",
      "Epoch: 44 [60000]\n",
      "\tTrain set: 32: loss: 0.123308\n",
      "\tTest set: 32: loss: 0.1168\n",
      "Epoch: 45 [60000]\n",
      "\tTrain set: 32: loss: 0.122773\n",
      "\tTest set: 32: loss: 0.1170\n",
      "Epoch: 46 [60000]\n",
      "\tTrain set: 32: loss: 0.119468\n",
      "\tTest set: 32: loss: 0.1168\n",
      "Epoch: 47 [60000]\n",
      "\tTrain set: 32: loss: 0.124668\n",
      "\tTest set: 32: loss: 0.1166\n",
      "Epoch: 48 [60000]\n",
      "\tTrain set: 32: loss: 0.114215\n",
      "\tTest set: 32: loss: 0.1167\n",
      "Epoch: 49 [60000]\n",
      "\tTrain set: 32: loss: 0.118543\n",
      "\tTest set: 32: loss: 0.1167\n",
      "Epoch: 50 [60000]\n",
      "\tTrain set: 32: loss: 0.114373\n",
      "\tTest set: 32: loss: 0.1166\n",
      "Epoch: 51 [60000]\n",
      "\tTrain set: 32: loss: 0.125848\n",
      "\tTest set: 32: loss: 0.1166\n",
      "Epoch: 52 [60000]\n",
      "\tTrain set: 32: loss: 0.117897\n",
      "\tTest set: 32: loss: 0.1164\n",
      "Epoch: 53 [60000]\n",
      "\tTrain set: 32: loss: 0.121207\n",
      "\tTest set: 32: loss: 0.1164\n",
      "Epoch: 54 [60000]\n",
      "\tTrain set: 32: loss: 0.117435\n",
      "\tTest set: 32: loss: 0.1163\n",
      "Epoch: 55 [60000]\n",
      "\tTrain set: 32: loss: 0.118970\n",
      "\tTest set: 32: loss: 0.1163\n",
      "Epoch: 56 [60000]\n",
      "\tTrain set: 32: loss: 0.122455\n",
      "\tTest set: 32: loss: 0.1164\n",
      "Epoch: 57 [60000]\n",
      "\tTrain set: 32: loss: 0.116717\n",
      "\tTest set: 32: loss: 0.1163\n",
      "Epoch: 58 [60000]\n",
      "\tTrain set: 32: loss: 0.126036\n",
      "\tTest set: 32: loss: 0.1162\n",
      "Epoch: 59 [60000]\n",
      "\tTrain set: 32: loss: 0.117488\n",
      "\tTest set: 32: loss: 0.1163\n",
      "Epoch: 60 [60000]\n",
      "\tTrain set: 32: loss: 0.120939\n",
      "\tTest set: 32: loss: 0.1162\n",
      "Epoch: 61 [60000]\n",
      "\tTrain set: 32: loss: 0.111853\n",
      "\tTest set: 32: loss: 0.1161\n",
      "Epoch: 62 [60000]\n",
      "\tTrain set: 32: loss: 0.115566\n",
      "\tTest set: 32: loss: 0.1161\n",
      "Epoch: 63 [60000]\n",
      "\tTrain set: 32: loss: 0.119148\n",
      "\tTest set: 32: loss: 0.1161\n",
      "Epoch: 64 [60000]\n",
      "\tTrain set: 32: loss: 0.120297\n",
      "\tTest set: 32: loss: 0.1160\n",
      "Epoch: 65 [60000]\n",
      "\tTrain set: 32: loss: 0.120945\n",
      "\tTest set: 32: loss: 0.1160\n",
      "Epoch: 66 [60000]\n",
      "\tTrain set: 32: loss: 0.114976\n",
      "\tTest set: 32: loss: 0.1160\n",
      "Epoch: 67 [60000]\n",
      "\tTrain set: 32: loss: 0.118821\n",
      "\tTest set: 32: loss: 0.1159\n",
      "Epoch: 68 [60000]\n",
      "\tTrain set: 32: loss: 0.117668\n",
      "\tTest set: 32: loss: 0.1160\n",
      "Epoch: 69 [60000]\n",
      "\tTrain set: 32: loss: 0.115202\n",
      "\tTest set: 32: loss: 0.1159\n",
      "Epoch: 70 [60000]\n",
      "\tTrain set: 32: loss: 0.114175\n",
      "\tTest set: 32: loss: 0.1159\n",
      "Epoch: 71 [60000]\n",
      "\tTrain set: 32: loss: 0.123435\n",
      "\tTest set: 32: loss: 0.1159\n",
      "Epoch: 72 [60000]\n",
      "\tTrain set: 32: loss: 0.113581\n",
      "\tTest set: 32: loss: 0.1158\n",
      "Epoch: 73 [60000]\n",
      "\tTrain set: 32: loss: 0.112367\n",
      "\tTest set: 32: loss: 0.1157\n",
      "Epoch: 74 [60000]\n",
      "\tTrain set: 32: loss: 0.116348\n",
      "\tTest set: 32: loss: 0.1158\n",
      "Epoch: 75 [60000]\n",
      "\tTrain set: 32: loss: 0.118235\n",
      "\tTest set: 32: loss: 0.1158\n",
      "Epoch: 76 [60000]\n",
      "\tTrain set: 32: loss: 0.119778\n",
      "\tTest set: 32: loss: 0.1157\n",
      "Epoch: 77 [60000]\n",
      "\tTrain set: 32: loss: 0.121869\n",
      "\tTest set: 32: loss: 0.1159\n",
      "Epoch: 78 [60000]\n",
      "\tTrain set: 32: loss: 0.119791\n",
      "\tTest set: 32: loss: 0.1158\n",
      "Epoch: 79 [60000]\n",
      "\tTrain set: 32: loss: 0.115195\n",
      "\tTest set: 32: loss: 0.1157\n",
      "Epoch: 80 [60000]\n",
      "\tTrain set: 32: loss: 0.119018\n",
      "\tTest set: 32: loss: 0.1155\n",
      "Epoch: 81 [60000]\n",
      "\tTrain set: 32: loss: 0.113188\n",
      "\tTest set: 32: loss: 0.1155\n",
      "Epoch: 82 [60000]\n",
      "\tTrain set: 32: loss: 0.118486\n",
      "\tTest set: 32: loss: 0.1155\n",
      "Epoch: 83 [60000]\n",
      "\tTrain set: 32: loss: 0.114809\n",
      "\tTest set: 32: loss: 0.1155\n",
      "Epoch: 84 [60000]\n",
      "\tTrain set: 32: loss: 0.117979\n",
      "\tTest set: 32: loss: 0.1155\n",
      "Epoch: 85 [60000]\n",
      "\tTrain set: 32: loss: 0.114328\n",
      "\tTest set: 32: loss: 0.1155\n",
      "Epoch: 86 [60000]\n",
      "\tTrain set: 32: loss: 0.113274\n",
      "\tTest set: 32: loss: 0.1155\n",
      "Epoch: 87 [60000]\n",
      "\tTrain set: 32: loss: 0.119016\n",
      "\tTest set: 32: loss: 0.1154\n",
      "Epoch: 88 [60000]\n",
      "\tTrain set: 32: loss: 0.120419\n",
      "\tTest set: 32: loss: 0.1153\n",
      "Epoch: 89 [60000]\n",
      "\tTrain set: 32: loss: 0.118176\n",
      "\tTest set: 32: loss: 0.1153\n",
      "Epoch: 90 [60000]\n",
      "\tTrain set: 32: loss: 0.124294\n",
      "\tTest set: 32: loss: 0.1153\n",
      "Epoch: 91 [60000]\n",
      "\tTrain set: 32: loss: 0.118018\n",
      "\tTest set: 32: loss: 0.1154\n",
      "Epoch: 92 [60000]\n",
      "\tTrain set: 32: loss: 0.122261\n",
      "\tTest set: 32: loss: 0.1154\n",
      "Epoch: 93 [60000]\n",
      "\tTrain set: 32: loss: 0.112729\n",
      "\tTest set: 32: loss: 0.1152\n",
      "Epoch: 94 [60000]\n",
      "\tTrain set: 32: loss: 0.119265\n",
      "\tTest set: 32: loss: 0.1152\n",
      "Epoch: 95 [60000]\n",
      "\tTrain set: 32: loss: 0.114935\n",
      "\tTest set: 32: loss: 0.1152\n",
      "Epoch: 96 [60000]\n",
      "\tTrain set: 32: loss: 0.115704\n",
      "\tTest set: 32: loss: 0.1152\n",
      "Epoch: 97 [60000]\n",
      "\tTrain set: 32: loss: 0.111501\n",
      "\tTest set: 32: loss: 0.1151\n",
      "Epoch: 98 [60000]\n",
      "\tTrain set: 32: loss: 0.114381\n",
      "\tTest set: 32: loss: 0.1151\n",
      "Epoch: 99 [60000]\n",
      "\tTrain set: 32: loss: 0.121597\n",
      "\tTest set: 32: loss: 0.1151\n",
      "Epoch: 100 [60000]\n",
      "\tTrain set: 32: loss: 0.112793\n",
      "\tTest set: 32: loss: 0.1151\n",
      "CPU times: user 15min 9s, sys: 8.81 s, total: 15min 18s\n",
      "Wall time: 15min 26s\n"
     ]
    }
   ],
   "source": [
    "%%time\n",
    "\n",
    "models = {'32': Net(32)}\n",
    "train_log = {k: [] for k in models}\n",
    "test_log = {k: [] for k in models}\n",
    "\n",
    "for epoch in np.arange(100) + 1:\n",
    "    for model in models.values():\n",
    "        model.train()\n",
    "    train(epoch, models, train_loader, train_log)\n",
    "    for model in models.values():\n",
    "        model.eval()\n",
    "    test(epoch, models, test_loader, test_log)"
   ]
  },
  {
   "cell_type": "markdown",
   "metadata": {
    "colab_type": "text",
    "id": "arESPcjx_sEi"
   },
   "source": [
    "#### посмотрим на кривые обучения"
   ]
  },
  {
   "cell_type": "code",
   "execution_count": 16,
   "metadata": {
    "colab": {
     "base_uri": "https://localhost:8080/",
     "height": 295
    },
    "colab_type": "code",
    "id": "_9UpjtSJ_sEj",
    "outputId": "60ff11d3-88b4-4b29-df64-96f851c356e7"
   },
   "outputs": [
    {
     "data": {
      "image/png": "[encoded data removed]",
      "text/plain": [
       "<Figure size 432x288 with 1 Axes>"
      ]
     },
     "metadata": {
      "needs_background": "light",
      "tags": []
     },
     "output_type": "display_data"
    }
   ],
   "source": [
    "for model in models:\n",
    "    plt.plot(train_log[model], label=\"train\")\n",
    "    plt.plot(test_log[model], label=\"test\")\n",
    "    plt.title(f\"loss, model: {model}\")\n",
    "    plt.xlabel(\"Epochs\")\n",
    "    # plt.xticks(range(len(train_log[model])))\n",
    "    plt.legend()\n",
    "    plt.grid()\n",
    "    plt.show()"
   ]
  },
  {
   "cell_type": "markdown",
   "metadata": {
    "colab_type": "text",
    "id": "CYYSzho3ydIf"
   },
   "source": [
    "### Отрисуем веса фильтров сверток кодера (conv) и декодера (transpose conv)"
   ]
  },
  {
   "cell_type": "code",
   "execution_count": null,
   "metadata": {
    "colab": {},
    "colab_type": "code",
    "id": "Pn70ffsaydIg"
   },
   "outputs": [],
   "source": [
    "encoders ={model: models[model].E for model in models}\n",
    "decoders ={model: models[model].D for model in models}"
   ]
  },
  {
   "cell_type": "code",
   "execution_count": null,
   "metadata": {
    "colab": {},
    "colab_type": "code",
    "id": "4ySM31FKydIr"
   },
   "outputs": [],
   "source": [
    "def plot_coder_filtes(layer, size):\n",
    "    to_plot = layer.weight.data.cpu().numpy()\n",
    "    plot_mnist(to_plot, size)"
   ]
  },
  {
   "cell_type": "markdown",
   "metadata": {
    "colab_type": "text",
    "id": "n1lqYNzAydIw"
   },
   "source": [
    "#### сверточное ядро кодера (conv)"
   ]
  },
  {
   "cell_type": "code",
   "execution_count": 14,
   "metadata": {
    "colab": {
     "base_uri": "https://localhost:8080/",
     "height": 282
    },
    "colab_type": "code",
    "id": "dnwZ4a8-ydIx",
    "outputId": "bddf0a97-f8f0-4352-a05e-90b7b1a25a85"
   },
   "outputs": [
    {
     "data": {
      "image/png": "[encoded data removed]",
      "text/plain": [
       "<Figure size 640x320 with 32 Axes>"
      ]
     },
     "metadata": {
      "tags": []
     },
     "output_type": "display_data"
    }
   ],
   "source": [
    "plot_coder_filtes(encoders[\"32\"].conv1, (4, 8))"
   ]
  },
  {
   "cell_type": "markdown",
   "metadata": {
    "colab_type": "text",
    "id": "me7iwEBcydI3"
   },
   "source": [
    "#### сверточное ядро декодера (transpose conv)"
   ]
  },
  {
   "cell_type": "code",
   "execution_count": 15,
   "metadata": {
    "colab": {
     "base_uri": "https://localhost:8080/",
     "height": 282
    },
    "colab_type": "code",
    "id": "MPjBSa2NydI4",
    "outputId": "e53b21c5-8ac1-458d-c7e1-bf96623ef389"
   },
   "outputs": [
    {
     "data": {
      "image/png": "[encoded data removed]",
      "text/plain": [
       "<Figure size 640x320 with 32 Axes>"
      ]
     },
     "metadata": {
      "tags": []
     },
     "output_type": "display_data"
    }
   ],
   "source": [
    "plot_coder_filtes(decoders[\"32\"].convtrans1, (4, 8))"
   ]
  },
  {
   "cell_type": "code",
   "execution_count": null,
   "metadata": {
    "colab": {},
    "colab_type": "code",
    "id": "mE5HK0TJ1KSg"
   },
   "outputs": [],
   "source": []
  }
 ],
 "metadata": {
  "accelerator": "GPU",
  "colab": {
   "name": "hw11_cuda_conv_ae.ipynb",
   "provenance": []
  },
  "kernelspec": {
   "display_name": "Python 3",
   "language": "python",
   "name": "python3"
  },
  "language_info": {
   "codemirror_mode": {
    "name": "ipython",
    "version": 3
   },
   "file_extension": ".py",
   "mimetype": "text/x-python",
   "name": "python",
   "nbconvert_exporter": "python",
   "pygments_lexer": "ipython3",
   "version": "3.7.7"
  }
 },
 "nbformat": 4,
 "nbformat_minor": 4
}
