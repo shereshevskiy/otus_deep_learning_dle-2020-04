{
 "cells": [
  {
   "cell_type": "code",
   "execution_count": 5,
   "metadata": {},
   "outputs": [],
   "source": [
    "import torch\n",
    "import torch.nn as nn\n",
    "import torch.optim as optim\n",
    "from tqdm import tqdm\n",
    "\n",
    "import numpy as np\n",
    "import torchvision\n",
    "from torchvision import models, transforms\n",
    "from torch.optim import lr_scheduler\n",
    "import matplotlib.pyplot as plt\n",
    "import time\n",
    "import os\n",
    "import copy"
   ]
  },
  {
   "cell_type": "code",
   "execution_count": 6,
   "metadata": {},
   "outputs": [],
   "source": [
    "device = torch.device(\"cuda:0\" if torch.cuda.is_available() else \"cpu\")"
   ]
  },
  {
   "cell_type": "markdown",
   "metadata": {},
   "source": [
    "### Задача\n",
    "\n",
    "1. Обучите свою маленькую сверточную сеть с нуля на MNIST или FashionMNIST\n",
    "2. Поставьте модель в eval()\n",
    "3. Создайте тензор картинки, которую нужно будет оптимизировать.\n",
    "4. Задайте функцию потерь.\n",
    "5. Допишите функцию, которая оптимизирует картинку под вашу функцию потерь и выдаёт её.\n",
    "\n",
    "Чуть подробнее ниже."
   ]
  },
  {
   "cell_type": "code",
   "execution_count": 9,
   "metadata": {},
   "outputs": [],
   "source": [
    "# Вот так можно создать обучаемый тензор со случайными числами и с размерностью картинки 1*28*28\n",
    "image = torch.randn((1,28,28))*0.001\n",
    "image = image.to(device)\n",
    "image.requires_grad = True"
   ]
  },
  {
   "cell_type": "markdown",
   "metadata": {},
   "source": [
    "На этом этапе у вас уже есть обученная модель с фиксированными параметрами (вы не хотите их больше обучать).\n",
    "\n",
    "В данном примере в качестве \"модели\" я возьму пару линейных слоёв."
   ]
  },
  {
   "cell_type": "code",
   "execution_count": 26,
   "metadata": {},
   "outputs": [],
   "source": [
    "model = torch.nn.Sequential(\n",
    "torch.nn.Linear(in_features=1*28*28, out_features=50),\n",
    "torch.nn.Tanh(),\n",
    "torch.nn.Linear(in_features=50, out_features=3),\n",
    "torch.nn.Softmax(dim=1)\n",
    ")"
   ]
  },
  {
   "cell_type": "code",
   "execution_count": 27,
   "metadata": {},
   "outputs": [
    {
     "data": {
      "text/plain": [
       "Sequential(\n",
       "  (0): Linear(in_features=784, out_features=50, bias=True)\n",
       "  (1): Tanh()\n",
       "  (2): Linear(in_features=50, out_features=3, bias=True)\n",
       "  (3): Softmax(dim=1)\n",
       ")"
      ]
     },
     "execution_count": 27,
     "metadata": {},
     "output_type": "execute_result"
    }
   ],
   "source": [
    "# так мы переводим модель в режим inference [вывод предсказаний],\n",
    "# это особенно важно, если в вашей моделе есть такие слои как Dropout/Batchnorm\n",
    "# потому что в процессе оптимизации картинки вы не хотите чтобы параметры сети менялись\n",
    "model.eval()"
   ]
  },
  {
   "cell_type": "code",
   "execution_count": 29,
   "metadata": {},
   "outputs": [
    {
     "data": {
      "text/plain": [
       "tensor([[0.3431, 0.3402, 0.3167]], device='cuda:0', grad_fn=<SoftmaxBackward>)"
      ]
     },
     "execution_count": 29,
     "metadata": {},
     "output_type": "execute_result"
    }
   ],
   "source": [
    "# быстрая проверка что сейчас выдаёт модель на картинку\n",
    "model.to(device)\n",
    "image.to(device)\n",
    "\n",
    "# вам не нужно будет делать flatten в случае сверточной модели\n",
    "output = model(image.flatten().unsqueeze(0))\n",
    "output"
   ]
  },
  {
   "cell_type": "code",
   "execution_count": 30,
   "metadata": {},
   "outputs": [
    {
     "data": {
      "text/plain": [
       "tensor(0, device='cuda:0')"
      ]
     },
     "execution_count": 30,
     "metadata": {},
     "output_type": "execute_result"
    }
   ],
   "source": [
    "torch.argmax(output)"
   ]
  },
  {
   "cell_type": "markdown",
   "metadata": {},
   "source": [
    "Теперь необходимо дописать вот эту функцию, которая принимает на вход номер класса (**class_number**) (в моем примере классов всего 3 на выходе), и производит оптимизацию над картинкой так чтобы было верным условие:\n",
    "\n",
    "``torch.argmax(model(image)) == class_number``\n",
    "\n",
    "Для этого нужно задать условие на функцию потерь. Это уже часть вашего задания понять как это сделать.\n",
    "\n",
    "В своем примере я покажу как оптимизировать картинку, чтобы количество "
   ]
  },
  {
   "cell_type": "code",
   "execution_count": 3,
   "metadata": {},
   "outputs": [],
   "source": [
    "def optimize_image_by_class(class_number, num_steps=50000):\n",
    "    # создаем тензор, который будем оптимизировать\n",
    "    image = torch.randn((1,28,28))*0.001\n",
    "    image = image.to(device)\n",
    "    image.requires_grad = True\n",
    "    \n",
    "    # задайте оптимизатор\n",
    "    # вы можете выбрать какой вам больше нравится\n",
    "    optim = torch.optim.Adam([image], lr=1e-4)\n",
    "    \n",
    "    # задайте лосс функцию соответствующую заданию\n",
    "    # лосс должен зависесть от class_number\n",
    "    loss = ...\n",
    "    grads = []\n",
    "    losses = []\n",
    "    for i in tqdm(range(num_steps)):\n",
    "        # здесь в цикле оптимизируется картинка\n",
    "        # в оптимизатор передается ваш лосс и выход из модели\n",
    "        # не забывайте обнулять градиенты с optim.zero_grad()\n",
    "        # также полезно сохранять значения лосс функции и нормы градиента на каждом шаге\n",
    "        # чтобы было видно как меняются эти значения в процессе \"обучения\" картинки.\n",
    "        ...\n",
    "    \n",
    "    # возвращаете картинку, grads, losses"
   ]
  },
  {
   "cell_type": "markdown",
   "metadata": {},
   "source": [
    "Все те же шаги было бы интересно повторить уже не со свёрточным классификатором на MNIST, а со свёрточным автоэнкодером."
   ]
  }
 ],
 "metadata": {
  "kernelspec": {
   "display_name": "Python 3",
   "language": "python",
   "name": "python3"
  },
  "language_info": {
   "codemirror_mode": {
    "name": "ipython",
    "version": 3
   },
   "file_extension": ".py",
   "mimetype": "text/x-python",
   "name": "python",
   "nbconvert_exporter": "python",
   "pygments_lexer": "ipython3",
   "version": "3.7.7"
  }
 },
 "nbformat": 4,
 "nbformat_minor": 4
}
