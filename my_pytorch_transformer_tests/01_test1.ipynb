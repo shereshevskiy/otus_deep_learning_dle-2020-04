{
 "cells": [
  {
   "cell_type": "code",
   "execution_count": 3,
   "metadata": {},
   "outputs": [],
   "source": [
    "import torch\n",
    "from torch import nn"
   ]
  },
  {
   "cell_type": "code",
   "execution_count": 20,
   "metadata": {},
   "outputs": [],
   "source": [
    "transformer_model = nn.Transformer(nhead=16, num_encoder_layers=12)\n",
    "src = torch.rand((10, 32, 512))\n",
    "tgt = torch.rand((1, 32, 512))\n",
    "out = transformer_model(src, tgt)"
   ]
  },
  {
   "cell_type": "code",
   "execution_count": 21,
   "metadata": {},
   "outputs": [
    {
     "data": {
      "text/plain": [
       "tensor([[[0.6219, 0.9235, 0.7403,  ..., 0.4134, 0.2249, 0.4066],\n",
       "         [0.9602, 0.6488, 0.5243,  ..., 0.6384, 0.5740, 0.7017],\n",
       "         [0.0076, 0.2328, 0.1216,  ..., 0.5724, 0.0073, 0.5743],\n",
       "         ...,\n",
       "         [0.0887, 0.9627, 0.8640,  ..., 0.8179, 0.8065, 0.5305],\n",
       "         [0.4675, 0.8449, 0.1396,  ..., 0.6885, 0.9213, 0.4358],\n",
       "         [0.4204, 0.0864, 0.2600,  ..., 0.9944, 0.3344, 0.2216]]])"
      ]
     },
     "execution_count": 21,
     "metadata": {},
     "output_type": "execute_result"
    }
   ],
   "source": [
    "tgt"
   ]
  },
  {
   "cell_type": "code",
   "execution_count": 22,
   "metadata": {},
   "outputs": [
    {
     "data": {
      "text/plain": [
       "torch.Size([1, 32, 512])"
      ]
     },
     "execution_count": 22,
     "metadata": {},
     "output_type": "execute_result"
    }
   ],
   "source": [
    "out.shape"
   ]
  },
  {
   "cell_type": "code",
   "execution_count": 23,
   "metadata": {},
   "outputs": [
    {
     "data": {
      "text/plain": [
       "tensor([[[ 0.9371, -0.6088, -1.1043,  ...,  0.3680,  0.0217, -1.2431],\n",
       "         [ 0.3000, -0.7024,  0.0591,  ..., -1.2417,  0.4566, -0.5434],\n",
       "         [-0.1357,  0.7452, -1.0620,  ...,  0.7423, -0.8840, -2.0187],\n",
       "         ...,\n",
       "         [ 1.1088, -0.4718,  0.1131,  ..., -1.1168, -0.3577, -1.0811],\n",
       "         [ 0.2962, -0.6917, -0.6685,  ...,  0.1483, -0.4861, -0.1329],\n",
       "         [ 0.7860, -0.4939, -0.6810,  ..., -0.1208,  1.1277, -1.0441]]],\n",
       "       grad_fn=<NativeLayerNormBackward>)"
      ]
     },
     "execution_count": 23,
     "metadata": {},
     "output_type": "execute_result"
    }
   ],
   "source": [
    "out"
   ]
  },
  {
   "cell_type": "code",
   "execution_count": null,
   "metadata": {},
   "outputs": [],
   "source": []
  }
 ],
 "metadata": {
  "kernelspec": {
   "display_name": "Python 3",
   "language": "python",
   "name": "python3"
  },
  "language_info": {
   "codemirror_mode": {
    "name": "ipython",
    "version": 3
   },
   "file_extension": ".py",
   "mimetype": "text/x-python",
   "name": "python",
   "nbconvert_exporter": "python",
   "pygments_lexer": "ipython3",
   "version": "3.7.7"
  }
 },
 "nbformat": 4,
 "nbformat_minor": 4
}
