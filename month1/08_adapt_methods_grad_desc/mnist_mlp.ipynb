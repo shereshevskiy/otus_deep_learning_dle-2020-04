{
 "cells": [
  {
   "cell_type": "code",
   "execution_count": 1,
   "metadata": {},
   "outputs": [],
   "source": [
    "import torch\n",
    "import torch.nn as nn\n",
    "import torch.nn.functional as F\n",
    "import torch.optim as optim\n",
    "from torchvision import datasets, transforms\n",
    "\n",
    "from utils import mnist, plot_graphs\n",
    "import numpy as np\n",
    "\n",
    "%matplotlib inline"
   ]
  },
  {
   "cell_type": "code",
   "execution_count": 3,
   "metadata": {},
   "outputs": [
    {
     "name": "stdout",
     "output_type": "stream",
     "text": [
      "Downloading http://yann.lecun.com/exdb/mnist/train-images-idx3-ubyte.gz to ./MNIST_data\\MNIST\\raw\\train-images-idx3-ubyte.gz\n"
     ]
    },
    {
     "data": {
      "application/vnd.jupyter.widget-view+json": {
       "model_id": "fb715b4557614791bd819f7dbbf515d3",
       "version_major": 2,
       "version_minor": 0
      },
      "text/plain": [
       "HBox(children=(FloatProgress(value=1.0, bar_style='info', max=1.0), HTML(value='')))"
      ]
     },
     "metadata": {},
     "output_type": "display_data"
    },
    {
     "name": "stdout",
     "output_type": "stream",
     "text": [
      "Extracting ./MNIST_data\\MNIST\\raw\\train-images-idx3-ubyte.gz to ./MNIST_data\\MNIST\\raw\n",
      "Downloading http://yann.lecun.com/exdb/mnist/train-labels-idx1-ubyte.gz to ./MNIST_data\\MNIST\\raw\\train-labels-idx1-ubyte.gz\n"
     ]
    },
    {
     "data": {
      "application/vnd.jupyter.widget-view+json": {
       "model_id": "8cd30329a457480297f162dbbe30f33a",
       "version_major": 2,
       "version_minor": 0
      },
      "text/plain": [
       "HBox(children=(FloatProgress(value=1.0, bar_style='info', max=1.0), HTML(value='')))"
      ]
     },
     "metadata": {},
     "output_type": "display_data"
    },
    {
     "name": "stdout",
     "output_type": "stream",
     "text": [
      "Extracting ./MNIST_data\\MNIST\\raw\\train-labels-idx1-ubyte.gz to ./MNIST_data\\MNIST\\raw\n",
      "Downloading http://yann.lecun.com/exdb/mnist/t10k-images-idx3-ubyte.gz to ./MNIST_data\\MNIST\\raw\\t10k-images-idx3-ubyte.gz\n"
     ]
    },
    {
     "data": {
      "application/vnd.jupyter.widget-view+json": {
       "model_id": "b237dae2ee3b46279caa95d63c9f0909",
       "version_major": 2,
       "version_minor": 0
      },
      "text/plain": [
       "HBox(children=(FloatProgress(value=1.0, bar_style='info', max=1.0), HTML(value='')))"
      ]
     },
     "metadata": {},
     "output_type": "display_data"
    },
    {
     "name": "stdout",
     "output_type": "stream",
     "text": [
      "Extracting ./MNIST_data\\MNIST\\raw\\t10k-images-idx3-ubyte.gz to ./MNIST_data\\MNIST\\raw\n",
      "Downloading http://yann.lecun.com/exdb/mnist/t10k-labels-idx1-ubyte.gz to ./MNIST_data\\MNIST\\raw\\t10k-labels-idx1-ubyte.gz\n",
      "\n",
      "\n"
     ]
    },
    {
     "data": {
      "application/vnd.jupyter.widget-view+json": {
       "model_id": "8be37ede50d0407195141e685f2efa11",
       "version_major": 2,
       "version_minor": 0
      },
      "text/plain": [
       "HBox(children=(FloatProgress(value=1.0, bar_style='info', max=1.0), HTML(value='')))"
      ]
     },
     "metadata": {},
     "output_type": "display_data"
    },
    {
     "name": "stdout",
     "output_type": "stream",
     "text": [
      "Extracting ./MNIST_data\\MNIST\\raw\\t10k-labels-idx1-ubyte.gz to ./MNIST_data\\MNIST\\raw\n",
      "Processing...\n"
     ]
    },
    {
     "name": "stderr",
     "output_type": "stream",
     "text": [
      "..\\torch\\csrc\\utils\\tensor_numpy.cpp:141: UserWarning: The given NumPy array is not writeable, and PyTorch does not support non-writeable tensors. This means you can write to the underlying (supposedly non-writeable) NumPy array using the tensor. You may want to copy the array to protect its data or make it writeable before converting it to a tensor. This type of warning will be suppressed for the rest of this program.\n"
     ]
    },
    {
     "name": "stdout",
     "output_type": "stream",
     "text": [
      "Done!\n"
     ]
    }
   ],
   "source": [
    "train_loader, valid_loader, test_loader = mnist(valid=10000)"
   ]
  },
  {
   "cell_type": "code",
   "execution_count": 4,
   "metadata": {},
   "outputs": [],
   "source": [
    "@torch.no_grad()\n",
    "def init_weights(m):\n",
    "    if type(m) == nn.Linear:\n",
    "        nn.init.xavier_uniform_(m.weight)"
   ]
  },
  {
   "cell_type": "code",
   "execution_count": 5,
   "metadata": {},
   "outputs": [],
   "source": [
    "class Net(nn.Module):\n",
    "    def __init__(self, batchnorm=False, dropout=False, optim_type='Adam', **optim_params):\n",
    "        super(Net, self).__init__()\n",
    "        self.fc1 = nn.Linear(28*28, 128)\n",
    "        self.fc2 = nn.Linear(128, 128)\n",
    "        self.fc3 = nn.Linear(128, 128)\n",
    "        self.fc4 = nn.Linear(128, 10)\n",
    "        if batchnorm:\n",
    "            self.bn = nn.BatchNorm1d(128)\n",
    "        self.batchnorm = batchnorm\n",
    "        self.dropout = dropout\n",
    "\n",
    "        if optim_type == 'SGD':\n",
    "            self.optim = optim.SGD(self.parameters(), **optim_params)\n",
    "        elif optim_type == 'Adadelta':\n",
    "            self.optim = optim.Adadelta(self.parameters(), **optim_params)\n",
    "        elif optim_type == 'RMSProp':\n",
    "            self.optim = optim.RMSprop(self.parameters(), **optim_params)\n",
    "        elif optim_type == 'Adam':\n",
    "            self.optim = optim.Adam(self.parameters(), **optim_params)\n",
    "\n",
    "    def forward(self, x):\n",
    "        x = x.view(-1, 28*28)\n",
    "        x = torch.tanh(self.fc1(x))\n",
    "        if self.batchnorm:\n",
    "            x = self.bn(x)\n",
    "        x = torch.tanh(self.fc2(x))\n",
    "        if self.dropout:\n",
    "            x = F.dropout(x, 0.5)\n",
    "        x = torch.tanh(self.fc3(x))\n",
    "        x = self.fc4(x)\n",
    "        x = F.log_softmax(x, dim=1)\n",
    "        return x\n",
    "\n",
    "    def loss(self, output, target, **kwargs):\n",
    "        \n",
    "        self._loss = F.nll_loss(output, target, **kwargs)  # используют совместно с log_softmax, см. https://habr.com/ru/post/433804/ и \n",
    "        # https://pytorch.org/docs/master/generated/torch.nn.NLLLoss.html#torch.nn.NLLLoss\n",
    "        self._correct = output.data.max(1, keepdim=True)[1]\n",
    "        self._correct = self._correct.eq(\n",
    "            target.data.view_as(self._correct)).to(torch.float).cpu().mean()\n",
    "        return self._loss"
   ]
  },
  {
   "cell_type": "code",
   "execution_count": 6,
   "metadata": {},
   "outputs": [],
   "source": [
    "models = {'SGD': Net(False, False, 'SGD', lr=1e-3),\n",
    "          'momentum': Net(False, False, 'SGD', lr=1e-3, momentum=0.9),\n",
    "          'Adadelta': Net(False, False, 'Adadelta', lr=1.),\n",
    "          'RMSProp': Net(False, False, 'RMSProp', lr=1e-2),\n",
    "          'Adam': Net(False, False, 'Adam', lr=1e-3), \n",
    "         }\n",
    "train_log = {k: [] for k in models}\n",
    "test_log = {k: [] for k in models}"
   ]
  },
  {
   "cell_type": "code",
   "execution_count": null,
   "metadata": {},
   "outputs": [],
   "source": []
  },
  {
   "cell_type": "code",
   "execution_count": 7,
   "metadata": {},
   "outputs": [],
   "source": [
    "def train(epoch, models, log=None):\n",
    "    train_size = len(train_loader.sampler)\n",
    "    for batch_idx, (data, target) in enumerate(train_loader):\n",
    "        for model in models.values():\n",
    "            model.optim.zero_grad()\n",
    "            output = model(data)\n",
    "            loss = model.loss(output, target)\n",
    "            loss.backward()\n",
    "            model.optim.step()\n",
    "            \n",
    "        if batch_idx % 200 == 0:\n",
    "            line = 'Train Epoch: {} [{}/{} ({:.0f}%)]\\tLosses '.format(\n",
    "                epoch, batch_idx * len(data), train_size, 100. * batch_idx / len(train_loader))\n",
    "            losses = ' '.join(['{}: {:.6f}'.format(k, m._loss.item()) for k, m in models.items()])\n",
    "            print(line + losses)\n",
    "            \n",
    "    else:\n",
    "        batch_idx += 1\n",
    "        line = 'Train Epoch: {} [{}/{} ({:.0f}%)]\\tLosses '.format(\n",
    "            epoch, batch_idx * len(data), train_size, 100. * batch_idx / len(train_loader))\n",
    "        losses = ' '.join(['{}: {:.6f}'.format(k, m._loss.item()) for k, m in models.items()])\n",
    "        if log is not None:\n",
    "            for k in models:\n",
    "                log[k].append((models[k]._loss, models[k]._correct))\n",
    "        print(line + losses)"
   ]
  },
  {
   "cell_type": "code",
   "execution_count": 8,
   "metadata": {},
   "outputs": [],
   "source": [
    "def test(models, loader, log=None):\n",
    "    test_size = len(loader.sampler)\n",
    "    avg_lambda = lambda l: 'Loss: {:.4f}'.format(l)\n",
    "    acc_lambda = lambda c, p: 'Accuracy: {}/{} ({:.0f}%)'.format(c, test_size, p)\n",
    "    line = lambda i, l, c, p: '{}: '.format(i) + avg_lambda(l) + '\\t' + acc_lambda(c, p)\n",
    "\n",
    "    test_loss = {k: 0. for k in models}\n",
    "    correct = {k: 0. for k in models}\n",
    "    with torch.no_grad():\n",
    "        for data, target in loader:\n",
    "            output = {k: m(data) for k, m in models.items()}\n",
    "            for k, m in models.items():\n",
    "                test_loss[k] += m.loss(output[k], target, reduction='sum').item() # sum up batch loss\n",
    "                pred = output[k].data.max(1, keepdim=True)[1] # get the index of the max log-probability\n",
    "                correct[k] += pred.eq(target.data.view_as(pred)).cpu().sum()\n",
    "    \n",
    "    for k in models:\n",
    "        test_loss[k] /= test_size\n",
    "    correct_pct = {k: c.to(torch.float) / test_size for k, c in correct.items()}\n",
    "    lines = '\\n'.join([line(k, test_loss[k], correct[k], 100*correct_pct[k]) for k in models]) + '\\n'\n",
    "    report = 'Test set:\\n' + lines\n",
    "    if log is not None:\n",
    "        for k in models:\n",
    "            log[k].append((test_loss[k], correct_pct[k]))\n",
    "    print(report)"
   ]
  },
  {
   "cell_type": "code",
   "execution_count": 9,
   "metadata": {
    "scrolled": true
   },
   "outputs": [
    {
     "name": "stdout",
     "output_type": "stream",
     "text": [
      "Train Epoch: 1 [0/50000 (0%)]\tLosses SGD: 2.323938 momentum: 2.300539 Adadelta: 2.344110 RMSProp: 2.326360 Adam: 2.318903\n",
      "Train Epoch: 1 [10000/50000 (20%)]\tLosses SGD: 2.212920 momentum: 1.440644 Adadelta: 0.287186 RMSProp: 2.532246 Adam: 0.332868\n",
      "Train Epoch: 1 [20000/50000 (40%)]\tLosses SGD: 2.138831 momentum: 0.829834 Adadelta: 0.254205 RMSProp: 2.880334 Adam: 0.269367\n",
      "Train Epoch: 1 [30000/50000 (60%)]\tLosses SGD: 2.094542 momentum: 0.694439 Adadelta: 0.276769 RMSProp: 2.476705 Adam: 0.124588\n",
      "Train Epoch: 1 [40000/50000 (80%)]\tLosses SGD: 2.011333 momentum: 0.470174 Adadelta: 0.118188 RMSProp: 2.770193 Adam: 0.121036\n",
      "Train Epoch: 1 [50000/50000 (100%)]\tLosses SGD: 1.850544 momentum: 0.576329 Adadelta: 0.193814 RMSProp: 2.967372 Adam: 0.066400\n",
      "Test set:\n",
      "SGD: Loss: 1.8649\tAccuracy: 5915.0/10000 (59%)\n",
      "momentum: Loss: 0.4168\tAccuracy: 8905.0/10000 (89%)\n",
      "Adadelta: Loss: 0.1478\tAccuracy: 9537.0/10000 (95%)\n",
      "RMSProp: Loss: 2.4495\tAccuracy: 1006.0/10000 (10%)\n",
      "Adam: Loss: 0.1485\tAccuracy: 9533.0/10000 (95%)\n",
      "\n",
      "Train Epoch: 2 [0/50000 (0%)]\tLosses SGD: 1.891732 momentum: 0.391580 Adadelta: 0.133005 RMSProp: 2.478812 Adam: 0.116100\n",
      "Train Epoch: 2 [10000/50000 (20%)]\tLosses SGD: 1.715034 momentum: 0.267511 Adadelta: 0.051012 RMSProp: 2.933858 Adam: 0.052390\n",
      "Train Epoch: 2 [20000/50000 (40%)]\tLosses SGD: 1.536980 momentum: 0.159467 Adadelta: 0.043325 RMSProp: 2.415183 Adam: 0.013422\n",
      "Train Epoch: 2 [30000/50000 (60%)]\tLosses SGD: 1.707883 momentum: 0.490018 Adadelta: 0.181465 RMSProp: 2.601995 Adam: 0.178298\n",
      "Train Epoch: 2 [40000/50000 (80%)]\tLosses SGD: 1.447817 momentum: 0.258689 Adadelta: 0.105665 RMSProp: 2.343906 Adam: 0.059383\n",
      "Train Epoch: 2 [50000/50000 (100%)]\tLosses SGD: 1.344838 momentum: 0.335985 Adadelta: 0.058324 RMSProp: 2.571264 Adam: 0.142683\n",
      "Test set:\n",
      "SGD: Loss: 1.3479\tAccuracy: 6806.0/10000 (68%)\n",
      "momentum: Loss: 0.3036\tAccuracy: 9123.0/10000 (91%)\n",
      "Adadelta: Loss: 0.1217\tAccuracy: 9633.0/10000 (96%)\n",
      "RMSProp: Loss: 2.6409\tAccuracy: 1044.0/10000 (10%)\n",
      "Adam: Loss: 0.1229\tAccuracy: 9604.0/10000 (96%)\n",
      "\n",
      "Train Epoch: 3 [0/50000 (0%)]\tLosses SGD: 1.305979 momentum: 0.304492 Adadelta: 0.043504 RMSProp: 2.737537 Adam: 0.038458\n",
      "Train Epoch: 3 [10000/50000 (20%)]\tLosses SGD: 1.136232 momentum: 0.227442 Adadelta: 0.080895 RMSProp: 3.267425 Adam: 0.095761\n",
      "Train Epoch: 3 [20000/50000 (40%)]\tLosses SGD: 1.177414 momentum: 0.222730 Adadelta: 0.029871 RMSProp: 2.718556 Adam: 0.099887\n",
      "Train Epoch: 3 [30000/50000 (60%)]\tLosses SGD: 1.045404 momentum: 0.190947 Adadelta: 0.032088 RMSProp: 2.520875 Adam: 0.056009\n",
      "Train Epoch: 3 [40000/50000 (80%)]\tLosses SGD: 1.060644 momentum: 0.293842 Adadelta: 0.115186 RMSProp: 2.420010 Adam: 0.073039\n",
      "Train Epoch: 3 [50000/50000 (100%)]\tLosses SGD: 1.173120 momentum: 0.495749 Adadelta: 0.205385 RMSProp: 2.892782 Adam: 0.146500\n",
      "Test set:\n",
      "SGD: Loss: 1.0032\tAccuracy: 7705.0/10000 (77%)\n",
      "momentum: Loss: 0.2480\tAccuracy: 9278.0/10000 (93%)\n",
      "Adadelta: Loss: 0.1004\tAccuracy: 9705.0/10000 (97%)\n",
      "RMSProp: Loss: 2.5386\tAccuracy: 932.0/10000 (9%)\n",
      "Adam: Loss: 0.0986\tAccuracy: 9691.0/10000 (97%)\n",
      "\n",
      "Train Epoch: 4 [0/50000 (0%)]\tLosses SGD: 1.034381 momentum: 0.261665 Adadelta: 0.157656 RMSProp: 2.391310 Adam: 0.103821\n",
      "Train Epoch: 4 [10000/50000 (20%)]\tLosses SGD: 0.989992 momentum: 0.177983 Adadelta: 0.124500 RMSProp: 2.885738 Adam: 0.018565\n",
      "Train Epoch: 4 [20000/50000 (40%)]\tLosses SGD: 0.932244 momentum: 0.202169 Adadelta: 0.129681 RMSProp: 2.336581 Adam: 0.159265\n",
      "Train Epoch: 4 [30000/50000 (60%)]\tLosses SGD: 0.929002 momentum: 0.174127 Adadelta: 0.055924 RMSProp: 2.456687 Adam: 0.029456\n",
      "Train Epoch: 4 [40000/50000 (80%)]\tLosses SGD: 0.644941 momentum: 0.175076 Adadelta: 0.102591 RMSProp: 2.467444 Adam: 0.044239\n",
      "Train Epoch: 4 [50000/50000 (100%)]\tLosses SGD: 0.851368 momentum: 0.199710 Adadelta: 0.018569 RMSProp: 2.614948 Adam: 0.034117\n",
      "Test set:\n",
      "SGD: Loss: 0.7926\tAccuracy: 8209.0/10000 (82%)\n",
      "momentum: Loss: 0.2107\tAccuracy: 9387.0/10000 (94%)\n",
      "Adadelta: Loss: 0.1311\tAccuracy: 9632.0/10000 (96%)\n",
      "RMSProp: Loss: 2.5659\tAccuracy: 963.0/10000 (10%)\n",
      "Adam: Loss: 0.1287\tAccuracy: 9618.0/10000 (96%)\n",
      "\n",
      "Train Epoch: 5 [0/50000 (0%)]\tLosses SGD: 0.907664 momentum: 0.221698 Adadelta: 0.020190 RMSProp: 2.439526 Adam: 0.047864\n",
      "Train Epoch: 5 [10000/50000 (20%)]\tLosses SGD: 0.760172 momentum: 0.180064 Adadelta: 0.012172 RMSProp: 2.317926 Adam: 0.079504\n",
      "Train Epoch: 5 [20000/50000 (40%)]\tLosses SGD: 0.972719 momentum: 0.363300 Adadelta: 0.070345 RMSProp: 2.820425 Adam: 0.136395\n",
      "Train Epoch: 5 [30000/50000 (60%)]\tLosses SGD: 0.732991 momentum: 0.172974 Adadelta: 0.053144 RMSProp: 2.729494 Adam: 0.110717\n",
      "Train Epoch: 5 [40000/50000 (80%)]\tLosses SGD: 0.522991 momentum: 0.118621 Adadelta: 0.032813 RMSProp: 2.535989 Adam: 0.015884\n",
      "Train Epoch: 5 [50000/50000 (100%)]\tLosses SGD: 0.603634 momentum: 0.129142 Adadelta: 0.013227 RMSProp: 2.902391 Adam: 0.051283\n",
      "Test set:\n",
      "SGD: Loss: 0.6615\tAccuracy: 8479.0/10000 (85%)\n",
      "momentum: Loss: 0.1812\tAccuracy: 9473.0/10000 (95%)\n",
      "Adadelta: Loss: 0.0923\tAccuracy: 9731.0/10000 (97%)\n",
      "RMSProp: Loss: 2.6830\tAccuracy: 1002.0/10000 (10%)\n",
      "Adam: Loss: 0.1141\tAccuracy: 9659.0/10000 (97%)\n",
      "\n",
      "Train Epoch: 6 [0/50000 (0%)]\tLosses SGD: 0.572305 momentum: 0.115961 Adadelta: 0.005938 RMSProp: 2.559170 Adam: 0.022481\n",
      "Train Epoch: 6 [10000/50000 (20%)]\tLosses SGD: 0.666204 momentum: 0.224410 Adadelta: 0.049870 RMSProp: 2.507696 Adam: 0.122631\n",
      "Train Epoch: 6 [20000/50000 (40%)]\tLosses SGD: 0.688021 momentum: 0.251882 Adadelta: 0.066014 RMSProp: 2.418161 Adam: 0.051426\n",
      "Train Epoch: 6 [30000/50000 (60%)]\tLosses SGD: 0.592895 momentum: 0.166491 Adadelta: 0.030789 RMSProp: 2.580041 Adam: 0.027427\n",
      "Train Epoch: 6 [40000/50000 (80%)]\tLosses SGD: 0.502869 momentum: 0.082016 Adadelta: 0.004680 RMSProp: 2.720913 Adam: 0.004232\n",
      "Train Epoch: 6 [50000/50000 (100%)]\tLosses SGD: 0.639148 momentum: 0.136379 Adadelta: 0.101598 RMSProp: 2.522749 Adam: 0.152954\n",
      "Test set:\n",
      "SGD: Loss: 0.5757\tAccuracy: 8623.0/10000 (86%)\n",
      "momentum: Loss: 0.1604\tAccuracy: 9548.0/10000 (95%)\n",
      "Adadelta: Loss: 0.1006\tAccuracy: 9721.0/10000 (97%)\n",
      "RMSProp: Loss: 2.5827\tAccuracy: 990.0/10000 (10%)\n",
      "Adam: Loss: 0.1147\tAccuracy: 9635.0/10000 (96%)\n",
      "\n",
      "Train Epoch: 7 [0/50000 (0%)]\tLosses SGD: 0.527996 momentum: 0.067216 Adadelta: 0.020556 RMSProp: 2.536906 Adam: 0.090529\n",
      "Train Epoch: 7 [10000/50000 (20%)]\tLosses SGD: 0.589801 momentum: 0.118106 Adadelta: 0.057789 RMSProp: 2.550593 Adam: 0.063537\n",
      "Train Epoch: 7 [20000/50000 (40%)]\tLosses SGD: 0.516573 momentum: 0.116141 Adadelta: 0.022751 RMSProp: 2.652072 Adam: 0.003418\n",
      "Train Epoch: 7 [30000/50000 (60%)]\tLosses SGD: 0.390396 momentum: 0.091568 Adadelta: 0.006166 RMSProp: 2.457931 Adam: 0.049038\n",
      "Train Epoch: 7 [40000/50000 (80%)]\tLosses SGD: 0.437209 momentum: 0.075559 Adadelta: 0.000937 RMSProp: 2.665279 Adam: 0.010022\n",
      "Train Epoch: 7 [50000/50000 (100%)]\tLosses SGD: 0.564771 momentum: 0.154017 Adadelta: 0.116730 RMSProp: 2.618990 Adam: 0.189629\n",
      "Test set:\n",
      "SGD: Loss: 0.5156\tAccuracy: 8737.0/10000 (87%)\n",
      "momentum: Loss: 0.1459\tAccuracy: 9579.0/10000 (96%)\n",
      "Adadelta: Loss: 0.0990\tAccuracy: 9729.0/10000 (97%)\n",
      "RMSProp: Loss: 2.4349\tAccuracy: 990.0/10000 (10%)\n",
      "Adam: Loss: 0.1041\tAccuracy: 9697.0/10000 (97%)\n",
      "\n",
      "Train Epoch: 8 [0/50000 (0%)]\tLosses SGD: 0.466017 momentum: 0.219315 Adadelta: 0.172461 RMSProp: 2.461102 Adam: 0.188940\n",
      "Train Epoch: 8 [10000/50000 (20%)]\tLosses SGD: 0.522397 momentum: 0.282071 Adadelta: 0.061025 RMSProp: 2.954419 Adam: 0.016253\n",
      "Train Epoch: 8 [20000/50000 (40%)]\tLosses SGD: 0.569287 momentum: 0.180482 Adadelta: 0.141643 RMSProp: 2.453861 Adam: 0.068189\n",
      "Train Epoch: 8 [30000/50000 (60%)]\tLosses SGD: 0.495632 momentum: 0.053950 Adadelta: 0.001616 RMSProp: 2.393543 Adam: 0.164546\n",
      "Train Epoch: 8 [40000/50000 (80%)]\tLosses SGD: 0.449804 momentum: 0.084465 Adadelta: 0.096306 RMSProp: 2.372490 Adam: 0.010456\n",
      "Train Epoch: 8 [50000/50000 (100%)]\tLosses SGD: 0.446239 momentum: 0.084661 Adadelta: 0.018215 RMSProp: 2.335548 Adam: 0.003672\n",
      "Test set:\n",
      "SGD: Loss: 0.4713\tAccuracy: 8820.0/10000 (88%)\n",
      "momentum: Loss: 0.1318\tAccuracy: 9615.0/10000 (96%)\n",
      "Adadelta: Loss: 0.0997\tAccuracy: 9745.0/10000 (97%)\n",
      "RMSProp: Loss: 2.5830\tAccuracy: 932.0/10000 (9%)\n",
      "Adam: Loss: 0.1035\tAccuracy: 9705.0/10000 (97%)\n",
      "\n",
      "Train Epoch: 9 [0/50000 (0%)]\tLosses SGD: 0.322435 momentum: 0.072015 Adadelta: 0.003847 RMSProp: 2.619895 Adam: 0.013036\n",
      "Train Epoch: 9 [10000/50000 (20%)]\tLosses SGD: 0.481034 momentum: 0.177245 Adadelta: 0.005600 RMSProp: 3.102569 Adam: 0.093256\n",
      "Train Epoch: 9 [20000/50000 (40%)]\tLosses SGD: 0.391439 momentum: 0.046497 Adadelta: 0.000133 RMSProp: 2.393652 Adam: 0.001564\n",
      "Train Epoch: 9 [30000/50000 (60%)]\tLosses SGD: 0.346400 momentum: 0.037317 Adadelta: 0.011582 RMSProp: 2.623281 Adam: 0.029774\n",
      "Train Epoch: 9 [40000/50000 (80%)]\tLosses SGD: 0.348324 momentum: 0.101142 Adadelta: 0.000865 RMSProp: 2.456379 Adam: 0.004399\n",
      "Train Epoch: 9 [50000/50000 (100%)]\tLosses SGD: 0.424385 momentum: 0.059816 Adadelta: 0.010289 RMSProp: 2.509727 Adam: 0.052377\n",
      "Test set:\n",
      "SGD: Loss: 0.4374\tAccuracy: 8879.0/10000 (89%)\n",
      "momentum: Loss: 0.1229\tAccuracy: 9644.0/10000 (96%)\n",
      "Adadelta: Loss: 0.1076\tAccuracy: 9728.0/10000 (97%)\n",
      "RMSProp: Loss: 2.4687\tAccuracy: 990.0/10000 (10%)\n",
      "Adam: Loss: 0.0980\tAccuracy: 9706.0/10000 (97%)\n",
      "\n",
      "Train Epoch: 10 [0/50000 (0%)]\tLosses SGD: 0.696714 momentum: 0.082130 Adadelta: 0.004567 RMSProp: 2.659756 Adam: 0.004923\n",
      "Train Epoch: 10 [10000/50000 (20%)]\tLosses SGD: 0.328338 momentum: 0.047210 Adadelta: 0.003727 RMSProp: 2.540824 Adam: 0.015312\n",
      "Train Epoch: 10 [20000/50000 (40%)]\tLosses SGD: 0.668557 momentum: 0.115879 Adadelta: 0.002359 RMSProp: 2.700261 Adam: 0.014572\n",
      "Train Epoch: 10 [30000/50000 (60%)]\tLosses SGD: 0.431320 momentum: 0.130115 Adadelta: 0.061639 RMSProp: 2.459051 Adam: 0.043992\n",
      "Train Epoch: 10 [40000/50000 (80%)]\tLosses SGD: 0.414022 momentum: 0.078510 Adadelta: 0.008982 RMSProp: 2.335531 Adam: 0.042856\n",
      "Train Epoch: 10 [50000/50000 (100%)]\tLosses SGD: 0.354374 momentum: 0.051593 Adadelta: 0.012688 RMSProp: 2.805698 Adam: 0.018333\n",
      "Test set:\n",
      "SGD: Loss: 0.4110\tAccuracy: 8933.0/10000 (89%)\n",
      "momentum: Loss: 0.1141\tAccuracy: 9662.0/10000 (97%)\n",
      "Adadelta: Loss: 0.1068\tAccuracy: 9751.0/10000 (98%)\n",
      "RMSProp: Loss: 2.5539\tAccuracy: 963.0/10000 (10%)\n",
      "Adam: Loss: 0.0995\tAccuracy: 9721.0/10000 (97%)\n",
      "\n",
      "Train Epoch: 11 [0/50000 (0%)]\tLosses SGD: 0.497705 momentum: 0.087245 Adadelta: 0.003482 RMSProp: 2.768998 Adam: 0.014255\n",
      "Train Epoch: 11 [10000/50000 (20%)]\tLosses SGD: 0.336256 momentum: 0.038098 Adadelta: 0.006280 RMSProp: 2.740096 Adam: 0.008435\n",
      "Train Epoch: 11 [20000/50000 (40%)]\tLosses SGD: 0.337178 momentum: 0.081073 Adadelta: 0.000838 RMSProp: 2.733321 Adam: 0.009755\n",
      "Train Epoch: 11 [30000/50000 (60%)]\tLosses SGD: 0.561555 momentum: 0.098789 Adadelta: 0.006173 RMSProp: 2.400878 Adam: 0.083088\n",
      "Train Epoch: 11 [40000/50000 (80%)]\tLosses SGD: 0.356801 momentum: 0.098886 Adadelta: 0.027584 RMSProp: 2.799407 Adam: 0.055866\n",
      "Train Epoch: 11 [50000/50000 (100%)]\tLosses SGD: 0.550076 momentum: 0.114245 Adadelta: 0.008297 RMSProp: 2.433452 Adam: 0.056293\n",
      "Test set:\n",
      "SGD: Loss: 0.3893\tAccuracy: 8968.0/10000 (90%)\n",
      "momentum: Loss: 0.1067\tAccuracy: 9668.0/10000 (97%)\n",
      "Adadelta: Loss: 0.1081\tAccuracy: 9759.0/10000 (98%)\n",
      "RMSProp: Loss: 2.4187\tAccuracy: 963.0/10000 (10%)\n",
      "Adam: Loss: 0.0927\tAccuracy: 9737.0/10000 (97%)\n",
      "\n",
      "Train Epoch: 12 [0/50000 (0%)]\tLosses SGD: 0.368433 momentum: 0.123695 Adadelta: 0.003744 RMSProp: 2.495072 Adam: 0.041410\n",
      "Train Epoch: 12 [10000/50000 (20%)]\tLosses SGD: 0.503347 momentum: 0.127233 Adadelta: 0.002654 RMSProp: 2.714195 Adam: 0.007797\n",
      "Train Epoch: 12 [20000/50000 (40%)]\tLosses SGD: 0.314833 momentum: 0.074272 Adadelta: 0.000433 RMSProp: 2.912717 Adam: 0.003399\n",
      "Train Epoch: 12 [30000/50000 (60%)]\tLosses SGD: 0.263293 momentum: 0.022996 Adadelta: 0.001917 RMSProp: 2.436290 Adam: 0.000822\n",
      "Train Epoch: 12 [40000/50000 (80%)]\tLosses SGD: 0.424337 momentum: 0.087732 Adadelta: 0.000727 RMSProp: 2.416832 Adam: 0.070642\n",
      "Train Epoch: 12 [50000/50000 (100%)]\tLosses SGD: 0.356532 momentum: 0.073332 Adadelta: 0.000326 RMSProp: 2.325928 Adam: 0.013767\n",
      "Test set:\n",
      "SGD: Loss: 0.3714\tAccuracy: 9005.0/10000 (90%)\n",
      "momentum: Loss: 0.1017\tAccuracy: 9689.0/10000 (97%)\n",
      "Adadelta: Loss: 0.1134\tAccuracy: 9771.0/10000 (98%)\n",
      "RMSProp: Loss: 2.4105\tAccuracy: 990.0/10000 (10%)\n",
      "Adam: Loss: 0.1035\tAccuracy: 9716.0/10000 (97%)\n",
      "\n",
      "Train Epoch: 13 [0/50000 (0%)]\tLosses SGD: 0.351746 momentum: 0.077048 Adadelta: 0.001048 RMSProp: 2.452762 Adam: 0.015427\n",
      "Train Epoch: 13 [10000/50000 (20%)]\tLosses SGD: 0.626058 momentum: 0.210511 Adadelta: 0.010397 RMSProp: 2.712306 Adam: 0.077142\n",
      "Train Epoch: 13 [20000/50000 (40%)]\tLosses SGD: 0.341797 momentum: 0.052978 Adadelta: 0.000627 RMSProp: 2.635655 Adam: 0.062115\n",
      "Train Epoch: 13 [30000/50000 (60%)]\tLosses SGD: 0.316534 momentum: 0.029014 Adadelta: 0.000232 RMSProp: 2.550288 Adam: 0.039301\n",
      "Train Epoch: 13 [40000/50000 (80%)]\tLosses SGD: 0.456762 momentum: 0.091371 Adadelta: 0.001139 RMSProp: 2.755998 Adam: 0.005239\n",
      "Train Epoch: 13 [50000/50000 (100%)]\tLosses SGD: 0.364699 momentum: 0.061242 Adadelta: 0.000214 RMSProp: 2.355940 Adam: 0.031666\n",
      "Test set:\n",
      "SGD: Loss: 0.3565\tAccuracy: 9030.0/10000 (90%)\n",
      "momentum: Loss: 0.0978\tAccuracy: 9703.0/10000 (97%)\n",
      "Adadelta: Loss: 0.1145\tAccuracy: 9755.0/10000 (98%)\n",
      "RMSProp: Loss: 2.5558\tAccuracy: 947.0/10000 (9%)\n",
      "Adam: Loss: 0.1037\tAccuracy: 9725.0/10000 (97%)\n",
      "\n",
      "Train Epoch: 14 [0/50000 (0%)]\tLosses SGD: 0.292319 momentum: 0.030327 Adadelta: 0.000159 RMSProp: 2.515723 Adam: 0.004386\n",
      "Train Epoch: 14 [10000/50000 (20%)]\tLosses SGD: 0.321382 momentum: 0.035576 Adadelta: 0.000122 RMSProp: 2.464321 Adam: 0.003955\n",
      "Train Epoch: 14 [20000/50000 (40%)]\tLosses SGD: 0.225469 momentum: 0.016665 Adadelta: 0.000178 RMSProp: 2.735810 Adam: 0.003357\n",
      "Train Epoch: 14 [30000/50000 (60%)]\tLosses SGD: 0.377122 momentum: 0.061212 Adadelta: 0.001949 RMSProp: 2.391665 Adam: 0.016258\n",
      "Train Epoch: 14 [40000/50000 (80%)]\tLosses SGD: 0.163211 momentum: 0.010909 Adadelta: 0.000138 RMSProp: 2.693287 Adam: 0.085012\n",
      "Train Epoch: 14 [50000/50000 (100%)]\tLosses SGD: 0.332058 momentum: 0.035686 Adadelta: 0.000090 RMSProp: 2.774276 Adam: 0.011950\n",
      "Test set:\n",
      "SGD: Loss: 0.3433\tAccuracy: 9052.0/10000 (91%)\n",
      "momentum: Loss: 0.0962\tAccuracy: 9714.0/10000 (97%)\n",
      "Adadelta: Loss: 0.1146\tAccuracy: 9768.0/10000 (98%)\n",
      "RMSProp: Loss: 2.4929\tAccuracy: 994.0/10000 (10%)\n",
      "Adam: Loss: 0.1017\tAccuracy: 9741.0/10000 (97%)\n",
      "\n",
      "Train Epoch: 15 [0/50000 (0%)]\tLosses SGD: 0.440005 momentum: 0.257704 Adadelta: 0.036599 RMSProp: 2.557578 Adam: 0.127628\n",
      "Train Epoch: 15 [10000/50000 (20%)]\tLosses SGD: 0.714133 momentum: 0.140341 Adadelta: 0.000853 RMSProp: 2.519222 Adam: 0.117123\n",
      "Train Epoch: 15 [20000/50000 (40%)]\tLosses SGD: 0.377388 momentum: 0.074761 Adadelta: 0.000046 RMSProp: 2.499453 Adam: 0.011857\n",
      "Train Epoch: 15 [30000/50000 (60%)]\tLosses SGD: 0.206048 momentum: 0.019738 Adadelta: 0.000008 RMSProp: 2.423215 Adam: 0.001833\n",
      "Train Epoch: 15 [40000/50000 (80%)]\tLosses SGD: 0.249449 momentum: 0.061811 Adadelta: 0.000024 RMSProp: 2.428764 Adam: 0.061688\n",
      "Train Epoch: 15 [50000/50000 (100%)]\tLosses SGD: 0.358948 momentum: 0.020969 Adadelta: 0.000448 RMSProp: 2.590516 Adam: 0.048688\n",
      "Test set:\n",
      "SGD: Loss: 0.3320\tAccuracy: 9073.0/10000 (91%)\n",
      "momentum: Loss: 0.0924\tAccuracy: 9714.0/10000 (97%)\n",
      "Adadelta: Loss: 0.1167\tAccuracy: 9769.0/10000 (98%)\n",
      "RMSProp: Loss: 2.6706\tAccuracy: 1138.0/10000 (11%)\n",
      "Adam: Loss: 0.0991\tAccuracy: 9719.0/10000 (97%)\n",
      "\n",
      "Train Epoch: 16 [0/50000 (0%)]\tLosses SGD: 0.466650 momentum: 0.091109 Adadelta: 0.000057 RMSProp: 2.743397 Adam: 0.020729\n",
      "Train Epoch: 16 [10000/50000 (20%)]\tLosses SGD: 0.118389 momentum: 0.011692 Adadelta: 0.000021 RMSProp: 2.809667 Adam: 0.016802\n",
      "Train Epoch: 16 [20000/50000 (40%)]\tLosses SGD: 0.333875 momentum: 0.027644 Adadelta: 0.000069 RMSProp: 2.794939 Adam: 0.050226\n",
      "Train Epoch: 16 [30000/50000 (60%)]\tLosses SGD: 0.461495 momentum: 0.119866 Adadelta: 0.000536 RMSProp: 2.548140 Adam: 0.049577\n",
      "Train Epoch: 16 [40000/50000 (80%)]\tLosses SGD: 0.245289 momentum: 0.027769 Adadelta: 0.000095 RMSProp: 2.820057 Adam: 0.099088\n",
      "Train Epoch: 16 [50000/50000 (100%)]\tLosses SGD: 0.428186 momentum: 0.066265 Adadelta: 0.000270 RMSProp: 2.476062 Adam: 0.007309\n",
      "Test set:\n",
      "SGD: Loss: 0.3217\tAccuracy: 9091.0/10000 (91%)\n",
      "momentum: Loss: 0.0931\tAccuracy: 9706.0/10000 (97%)\n",
      "Adadelta: Loss: 0.1148\tAccuracy: 9776.0/10000 (98%)\n",
      "RMSProp: Loss: 2.3528\tAccuracy: 984.0/10000 (10%)\n",
      "Adam: Loss: 0.1033\tAccuracy: 9742.0/10000 (97%)\n",
      "\n",
      "Train Epoch: 17 [0/50000 (0%)]\tLosses SGD: 0.337937 momentum: 0.040518 Adadelta: 0.000075 RMSProp: 2.291202 Adam: 0.003532\n",
      "Train Epoch: 17 [10000/50000 (20%)]\tLosses SGD: 0.354331 momentum: 0.085762 Adadelta: 0.000244 RMSProp: 2.454019 Adam: 0.002864\n",
      "Train Epoch: 17 [20000/50000 (40%)]\tLosses SGD: 0.174947 momentum: 0.030958 Adadelta: 0.000006 RMSProp: 2.866509 Adam: 0.088062\n",
      "Train Epoch: 17 [30000/50000 (60%)]\tLosses SGD: 0.365300 momentum: 0.020477 Adadelta: 0.000039 RMSProp: 2.539208 Adam: 0.004960\n",
      "Train Epoch: 17 [40000/50000 (80%)]\tLosses SGD: 0.373643 momentum: 0.179656 Adadelta: 0.000202 RMSProp: 2.522101 Adam: 0.036836\n",
      "Train Epoch: 17 [50000/50000 (100%)]\tLosses SGD: 0.308829 momentum: 0.040118 Adadelta: 0.000035 RMSProp: 2.352461 Adam: 0.002034\n",
      "Test set:\n",
      "SGD: Loss: 0.3125\tAccuracy: 9115.0/10000 (91%)\n",
      "momentum: Loss: 0.0878\tAccuracy: 9722.0/10000 (97%)\n",
      "Adadelta: Loss: 0.1157\tAccuracy: 9782.0/10000 (98%)\n",
      "RMSProp: Loss: 2.3836\tAccuracy: 1138.0/10000 (11%)\n",
      "Adam: Loss: 0.0999\tAccuracy: 9740.0/10000 (97%)\n",
      "\n",
      "Train Epoch: 18 [0/50000 (0%)]\tLosses SGD: 0.418563 momentum: 0.026331 Adadelta: 0.000009 RMSProp: 2.464779 Adam: 0.026642\n",
      "Train Epoch: 18 [10000/50000 (20%)]\tLosses SGD: 0.243383 momentum: 0.011824 Adadelta: 0.000007 RMSProp: 2.423123 Adam: 0.007523\n",
      "Train Epoch: 18 [20000/50000 (40%)]\tLosses SGD: 0.182494 momentum: 0.009931 Adadelta: 0.000103 RMSProp: 2.449882 Adam: 0.000942\n",
      "Train Epoch: 18 [30000/50000 (60%)]\tLosses SGD: 0.227992 momentum: 0.011118 Adadelta: 0.000046 RMSProp: 2.337352 Adam: 0.002625\n",
      "Train Epoch: 18 [40000/50000 (80%)]\tLosses SGD: 0.240523 momentum: 0.029050 Adadelta: 0.000049 RMSProp: 2.478388 Adam: 0.033839\n",
      "Train Epoch: 18 [50000/50000 (100%)]\tLosses SGD: 0.330279 momentum: 0.015724 Adadelta: 0.000039 RMSProp: 2.374941 Adam: 0.003601\n",
      "Test set:\n",
      "SGD: Loss: 0.3040\tAccuracy: 9136.0/10000 (91%)\n",
      "momentum: Loss: 0.0859\tAccuracy: 9728.0/10000 (97%)\n",
      "Adadelta: Loss: 0.1165\tAccuracy: 9782.0/10000 (98%)\n",
      "RMSProp: Loss: 2.5095\tAccuracy: 1044.0/10000 (10%)\n",
      "Adam: Loss: 0.1017\tAccuracy: 9747.0/10000 (97%)\n",
      "\n",
      "Train Epoch: 19 [0/50000 (0%)]\tLosses SGD: 0.338219 momentum: 0.031701 Adadelta: 0.000027 RMSProp: 2.520567 Adam: 0.014090\n",
      "Train Epoch: 19 [10000/50000 (20%)]\tLosses SGD: 0.201115 momentum: 0.027957 Adadelta: 0.000048 RMSProp: 2.426066 Adam: 0.018601\n",
      "Train Epoch: 19 [20000/50000 (40%)]\tLosses SGD: 0.455171 momentum: 0.068940 Adadelta: 0.000159 RMSProp: 2.668350 Adam: 0.049235\n",
      "Train Epoch: 19 [30000/50000 (60%)]\tLosses SGD: 0.310687 momentum: 0.028222 Adadelta: 0.000043 RMSProp: 2.460415 Adam: 0.011274\n",
      "Train Epoch: 19 [40000/50000 (80%)]\tLosses SGD: 0.442220 momentum: 0.012847 Adadelta: 0.000043 RMSProp: 2.769161 Adam: 0.002800\n",
      "Train Epoch: 19 [50000/50000 (100%)]\tLosses SGD: 0.333530 momentum: 0.026460 Adadelta: 0.000078 RMSProp: 2.497179 Adam: 0.003462\n",
      "Test set:\n",
      "SGD: Loss: 0.2967\tAccuracy: 9149.0/10000 (91%)\n",
      "momentum: Loss: 0.0829\tAccuracy: 9738.0/10000 (97%)\n",
      "Adadelta: Loss: 0.1173\tAccuracy: 9780.0/10000 (98%)\n",
      "RMSProp: Loss: 2.4469\tAccuracy: 990.0/10000 (10%)\n",
      "Adam: Loss: 0.0958\tAccuracy: 9750.0/10000 (98%)\n",
      "\n",
      "Train Epoch: 20 [0/50000 (0%)]\tLosses SGD: 0.260294 momentum: 0.007004 Adadelta: 0.000032 RMSProp: 2.444173 Adam: 0.002417\n",
      "Train Epoch: 20 [10000/50000 (20%)]\tLosses SGD: 0.418898 momentum: 0.018828 Adadelta: 0.000030 RMSProp: 2.808449 Adam: 0.023478\n",
      "Train Epoch: 20 [20000/50000 (40%)]\tLosses SGD: 0.294146 momentum: 0.010813 Adadelta: 0.000015 RMSProp: 2.514147 Adam: 0.014553\n",
      "Train Epoch: 20 [30000/50000 (60%)]\tLosses SGD: 0.269974 momentum: 0.081298 Adadelta: 0.000063 RMSProp: 2.447974 Adam: 0.003676\n",
      "Train Epoch: 20 [40000/50000 (80%)]\tLosses SGD: 0.409658 momentum: 0.033481 Adadelta: 0.000089 RMSProp: 2.532334 Adam: 0.079362\n",
      "Train Epoch: 20 [50000/50000 (100%)]\tLosses SGD: 0.201652 momentum: 0.030202 Adadelta: 0.000008 RMSProp: 2.481300 Adam: 0.018422\n",
      "Test set:\n",
      "SGD: Loss: 0.2900\tAccuracy: 9166.0/10000 (92%)\n",
      "momentum: Loss: 0.0828\tAccuracy: 9732.0/10000 (97%)\n",
      "Adadelta: Loss: 0.1177\tAccuracy: 9779.0/10000 (98%)\n",
      "RMSProp: Loss: 2.4293\tAccuracy: 1138.0/10000 (11%)\n",
      "Adam: Loss: 0.1135\tAccuracy: 9713.0/10000 (97%)\n",
      "\n"
     ]
    }
   ],
   "source": [
    "for epoch in range(1, 21):\n",
    "    for model in models.values():\n",
    "        model.train()\n",
    "    train(epoch, models, train_log)\n",
    "    for model in models.values():\n",
    "        model.eval()\n",
    "    test(models, valid_loader, test_log)"
   ]
  },
  {
   "cell_type": "code",
   "execution_count": 10,
   "metadata": {},
   "outputs": [
    {
     "data": {
      "image/png": "[encoded data removed]",
      "text/plain": [
       "<Figure size 432x288 with 1 Axes>"
      ]
     },
     "metadata": {
      "needs_background": "light"
     },
     "output_type": "display_data"
    }
   ],
   "source": [
    "plot_graphs(test_log, 'loss')"
   ]
  },
  {
   "cell_type": "code",
   "execution_count": 11,
   "metadata": {},
   "outputs": [
    {
     "data": {
      "image/png": "[encoded data removed]",
      "text/plain": [
       "<Figure size 432x288 with 1 Axes>"
      ]
     },
     "metadata": {
      "needs_background": "light"
     },
     "output_type": "display_data"
    }
   ],
   "source": [
    "plot_graphs(test_log, 'accuracy')"
   ]
  },
  {
   "cell_type": "code",
   "execution_count": null,
   "metadata": {},
   "outputs": [],
   "source": []
  }
 ],
 "metadata": {
  "kernelspec": {
   "display_name": "Python 3",
   "language": "python",
   "name": "python3"
  },
  "language_info": {
   "codemirror_mode": {
    "name": "ipython",
    "version": 3
   },
   "file_extension": ".py",
   "mimetype": "text/x-python",
   "name": "python",
   "nbconvert_exporter": "python",
   "pygments_lexer": "ipython3",
   "version": "3.7.7"
  }
 },
 "nbformat": 4,
 "nbformat_minor": 4
}
