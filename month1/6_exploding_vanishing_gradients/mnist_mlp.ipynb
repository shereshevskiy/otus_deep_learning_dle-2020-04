{
 "cells": [
  {
   "cell_type": "code",
   "execution_count": 1,
   "metadata": {},
   "outputs": [],
   "source": [
    "import torch\n",
    "import torch.nn as nn\n",
    "import torch.nn.functional as F\n",
    "import torch.optim as optim\n",
    "from torchvision import datasets, transforms\n",
    "\n",
    "from utils import mnist, plot_graphs\n",
    "import numpy as np\n",
    "\n",
    "%matplotlib inline"
   ]
  },
  {
   "cell_type": "code",
   "execution_count": 3,
   "metadata": {},
   "outputs": [
    {
     "name": "stdout",
     "output_type": "stream",
     "text": [
      "Downloading http://yann.lecun.com/exdb/mnist/train-images-idx3-ubyte.gz to ./MNIST_data\\MNIST\\raw\\train-images-idx3-ubyte.gz\n"
     ]
    },
    {
     "data": {
      "application/vnd.jupyter.widget-view+json": {
       "model_id": "9625c4d553a446b4a588a04879e4a433",
       "version_major": 2,
       "version_minor": 0
      },
      "text/plain": [
       "HBox(children=(FloatProgress(value=1.0, bar_style='info', max=1.0), HTML(value='')))"
      ]
     },
     "metadata": {},
     "output_type": "display_data"
    },
    {
     "name": "stdout",
     "output_type": "stream",
     "text": [
      "Extracting ./MNIST_data\\MNIST\\raw\\train-images-idx3-ubyte.gz to ./MNIST_data\\MNIST\\raw\n",
      "Downloading http://yann.lecun.com/exdb/mnist/train-labels-idx1-ubyte.gz to ./MNIST_data\\MNIST\\raw\\train-labels-idx1-ubyte.gz\n"
     ]
    },
    {
     "data": {
      "application/vnd.jupyter.widget-view+json": {
       "model_id": "481779341ca545dca81cb7acf5f6a1f0",
       "version_major": 2,
       "version_minor": 0
      },
      "text/plain": [
       "HBox(children=(FloatProgress(value=1.0, bar_style='info', max=1.0), HTML(value='')))"
      ]
     },
     "metadata": {},
     "output_type": "display_data"
    },
    {
     "name": "stdout",
     "output_type": "stream",
     "text": [
      "Extracting ./MNIST_data\\MNIST\\raw\\train-labels-idx1-ubyte.gz to ./MNIST_data\\MNIST\\raw\n",
      "Downloading http://yann.lecun.com/exdb/mnist/t10k-images-idx3-ubyte.gz to ./MNIST_data\\MNIST\\raw\\t10k-images-idx3-ubyte.gz\n",
      "\n"
     ]
    },
    {
     "data": {
      "application/vnd.jupyter.widget-view+json": {
       "model_id": "a1c665fffff148e9bc6b0067bb0af031",
       "version_major": 2,
       "version_minor": 0
      },
      "text/plain": [
       "HBox(children=(FloatProgress(value=1.0, bar_style='info', max=1.0), HTML(value='')))"
      ]
     },
     "metadata": {},
     "output_type": "display_data"
    },
    {
     "name": "stdout",
     "output_type": "stream",
     "text": [
      "Extracting ./MNIST_data\\MNIST\\raw\\t10k-images-idx3-ubyte.gz to ./MNIST_data\\MNIST\\raw\n",
      "Downloading http://yann.lecun.com/exdb/mnist/t10k-labels-idx1-ubyte.gz to ./MNIST_data\\MNIST\\raw\\t10k-labels-idx1-ubyte.gz\n"
     ]
    },
    {
     "data": {
      "application/vnd.jupyter.widget-view+json": {
       "model_id": "87e9cc5d650c4e768709eab01e67ee22",
       "version_major": 2,
       "version_minor": 0
      },
      "text/plain": [
       "HBox(children=(FloatProgress(value=1.0, bar_style='info', max=1.0), HTML(value='')))"
      ]
     },
     "metadata": {},
     "output_type": "display_data"
    },
    {
     "name": "stdout",
     "output_type": "stream",
     "text": [
      "Extracting ./MNIST_data\\MNIST\\raw\\t10k-labels-idx1-ubyte.gz to ./MNIST_data\\MNIST\\raw\n",
      "Processing...\n"
     ]
    },
    {
     "name": "stderr",
     "output_type": "stream",
     "text": [
      "..\\torch\\csrc\\utils\\tensor_numpy.cpp:141: UserWarning: The given NumPy array is not writeable, and PyTorch does not support non-writeable tensors. This means you can write to the underlying (supposedly non-writeable) NumPy array using the tensor. You may want to copy the array to protect its data or make it writeable before converting it to a tensor. This type of warning will be suppressed for the rest of this program.\n"
     ]
    },
    {
     "name": "stdout",
     "output_type": "stream",
     "text": [
      "Done!\n"
     ]
    }
   ],
   "source": [
    "train_loader, valid_loader, test_loader = mnist(valid=10000)"
   ]
  },
  {
   "cell_type": "code",
   "execution_count": 4,
   "metadata": {},
   "outputs": [],
   "source": [
    "@torch.no_grad()\n",
    "def init_weights(m):\n",
    "    if type(m) == nn.Linear:\n",
    "        nn.init.xavier_uniform_(m.weight)"
   ]
  },
  {
   "cell_type": "code",
   "execution_count": 5,
   "metadata": {},
   "outputs": [],
   "source": [
    "class Net(nn.Module):\n",
    "    def __init__(self, batchnorm=False, dropout=False, lr=1e-4, l2=0., optimizer='Adam'):\n",
    "        super(Net, self).__init__()\n",
    "        self.fc1 = nn.Linear(28*28, 128)\n",
    "        self.fc2 = nn.Linear(128, 128)\n",
    "        self.fc3 = nn.Linear(128, 128)\n",
    "        self.fc4 = nn.Linear(128, 10)\n",
    "        if batchnorm:\n",
    "            self.bn = nn.BatchNorm1d(128)\n",
    "        self.batchnorm = batchnorm\n",
    "        self.dropout = dropout\n",
    "\n",
    "        if optimizer == 'Adam':\n",
    "            self.optim = optim.Adam(self.parameters(), lr=lr, weight_decay=l2)\n",
    "        elif optimizer == 'Adadelta':\n",
    "            self.optim = optim.Adadelta(self.parameters(), lr=lr, weight_decay=l2)\n",
    "        else:\n",
    "            self.optim = optim.SGD(self.parameters(), lr=lr, weight_decay=l2)\n",
    "\n",
    "    def forward(self, x):\n",
    "        x = x.view(-1, 28*28)\n",
    "        x = torch.tanh(self.fc1(x))\n",
    "        if self.batchnorm:\n",
    "            x = self.bn(x)\n",
    "        x = torch.tanh(self.fc2(x))\n",
    "        if self.dropout:\n",
    "            x = F.dropout(x, 0.5)\n",
    "        x = torch.tanh(self.fc3(x))\n",
    "        x = self.fc4(x)\n",
    "        x = F.log_softmax(x, dim=1)\n",
    "        return x\n",
    "\n",
    "    def loss(self, output, target, **kwargs):\n",
    "        self._loss = F.nll_loss(output, target, **kwargs)\n",
    "        self._correct = output.data.max(1, keepdim=True)[1]\n",
    "        self._correct = self._correct.eq(target.data.view_as(self._correct)).to(torch.float).cpu().mean()\n",
    "        return self._loss"
   ]
  },
  {
   "cell_type": "code",
   "execution_count": 6,
   "metadata": {},
   "outputs": [],
   "source": [
    "models = {'default': Net(False, False, optimizer='SGD'), \n",
    "          'xavier': Net(False, False, optimizer='SGD')}\n",
    "models['xavier'].apply(init_weights)\n",
    "train_log = {k: [] for k in models}\n",
    "test_log = {k: [] for k in models}"
   ]
  },
  {
   "cell_type": "code",
   "execution_count": 7,
   "metadata": {},
   "outputs": [],
   "source": [
    "def train(epoch, models, log=None):\n",
    "    train_size = len(train_loader.sampler)\n",
    "    for batch_idx, (data, target) in enumerate(train_loader):\n",
    "        for model in models.values():\n",
    "            model.optim.zero_grad()\n",
    "            output = model(data)\n",
    "            loss = model.loss(output, target)\n",
    "            loss.backward()\n",
    "            model.optim.step()\n",
    "            \n",
    "        if batch_idx % 200 == 0:\n",
    "            line = 'Train Epoch: {} [{}/{} ({:.0f}%)]\\tLosses '.format(\n",
    "                epoch, batch_idx * len(data), train_size, 100. * batch_idx / len(train_loader))\n",
    "            losses = ' '.join(['{}: {:.6f}'.format(k, m._loss.item()) for k, m in models.items()])\n",
    "            print(line + losses)\n",
    "            \n",
    "    else:\n",
    "        batch_idx += 1\n",
    "        line = 'Train Epoch: {} [{}/{} ({:.0f}%)]\\tLosses '.format(\n",
    "            epoch, batch_idx * len(data), train_size, 100. * batch_idx / len(train_loader))\n",
    "        losses = ' '.join(['{}: {:.6f}'.format(k, m._loss.item()) for k, m in models.items()])\n",
    "        if log is not None:\n",
    "            for k in models:\n",
    "                log[k].append((models[k]._loss, models[k]._correct))\n",
    "        print(line + losses)"
   ]
  },
  {
   "cell_type": "code",
   "execution_count": 8,
   "metadata": {},
   "outputs": [],
   "source": [
    "def test(models, loader, log=None):\n",
    "    test_size = len(loader.sampler)\n",
    "    avg_lambda = lambda l: 'Loss: {:.4f}'.format(l)\n",
    "    acc_lambda = lambda c, p: 'Accuracy: {}/{} ({:.0f}%)'.format(c, test_size, p)\n",
    "    line = lambda i, l, c, p: '{}: '.format(i) + avg_lambda(l) + '\\t' + acc_lambda(c, p)\n",
    "\n",
    "    test_loss = {k: 0. for k in models}\n",
    "    correct = {k: 0. for k in models}\n",
    "    with torch.no_grad():\n",
    "        for data, target in loader:\n",
    "            output = {k: m(data) for k, m in models.items()}\n",
    "            for k, m in models.items():\n",
    "                test_loss[k] += m.loss(output[k], target, reduction='sum').item() # sum up batch loss\n",
    "                pred = output[k].data.max(1, keepdim=True)[1] # get the index of the max log-probability\n",
    "                correct[k] += pred.eq(target.data.view_as(pred)).cpu().sum()\n",
    "    \n",
    "    for k in models:\n",
    "        test_loss[k] /= test_size\n",
    "    correct_pct = {k: c.to(torch.float) / test_size for k, c in correct.items()}\n",
    "    lines = '\\n'.join([line(k, test_loss[k], correct[k], 100*correct_pct[k]) for k in models]) + '\\n'\n",
    "    report = 'Test set:\\n' + lines\n",
    "    if log is not None:\n",
    "        for k in models:\n",
    "            log[k].append((test_loss[k], correct_pct[k]))\n",
    "    print(report)"
   ]
  },
  {
   "cell_type": "code",
   "execution_count": 9,
   "metadata": {
    "scrolled": true
   },
   "outputs": [
    {
     "name": "stdout",
     "output_type": "stream",
     "text": [
      "Train Epoch: 1 [0/50000 (0%)]\tLosses default: 2.321206 xavier: 2.712354\n",
      "Train Epoch: 1 [10000/50000 (20%)]\tLosses default: 2.301489 xavier: 2.541559\n",
      "Train Epoch: 1 [20000/50000 (40%)]\tLosses default: 2.306351 xavier: 2.267678\n",
      "Train Epoch: 1 [30000/50000 (60%)]\tLosses default: 2.258986 xavier: 2.232464\n",
      "Train Epoch: 1 [40000/50000 (80%)]\tLosses default: 2.262687 xavier: 2.393893\n",
      "Train Epoch: 1 [50000/50000 (100%)]\tLosses default: 2.285113 xavier: 2.287780\n",
      "Test set:\n",
      "default: Loss: 2.2700\tAccuracy: 1960.0/10000 (20%)\n",
      "xavier: Loss: 2.1896\tAccuracy: 2308.0/10000 (23%)\n",
      "\n",
      "Train Epoch: 2 [0/50000 (0%)]\tLosses default: 2.250610 xavier: 2.235075\n",
      "Train Epoch: 2 [10000/50000 (20%)]\tLosses default: 2.260629 xavier: 2.083127\n",
      "Train Epoch: 2 [20000/50000 (40%)]\tLosses default: 2.260565 xavier: 2.158950\n",
      "Train Epoch: 2 [30000/50000 (60%)]\tLosses default: 2.257726 xavier: 2.122064\n",
      "Train Epoch: 2 [40000/50000 (80%)]\tLosses default: 2.230215 xavier: 1.942892\n",
      "Train Epoch: 2 [50000/50000 (100%)]\tLosses default: 2.251720 xavier: 1.865766\n",
      "Test set:\n",
      "default: Loss: 2.2358\tAccuracy: 2925.0/10000 (29%)\n",
      "xavier: Loss: 1.8893\tAccuracy: 3996.0/10000 (40%)\n",
      "\n",
      "Train Epoch: 3 [0/50000 (0%)]\tLosses default: 2.240978 xavier: 1.864184\n",
      "Train Epoch: 3 [10000/50000 (20%)]\tLosses default: 2.236412 xavier: 1.959253\n",
      "Train Epoch: 3 [20000/50000 (40%)]\tLosses default: 2.239692 xavier: 1.783935\n",
      "Train Epoch: 3 [30000/50000 (60%)]\tLosses default: 2.188872 xavier: 1.766467\n",
      "Train Epoch: 3 [40000/50000 (80%)]\tLosses default: 2.213299 xavier: 1.575850\n",
      "Train Epoch: 3 [50000/50000 (100%)]\tLosses default: 2.224923 xavier: 1.726704\n",
      "Test set:\n",
      "default: Loss: 2.2011\tAccuracy: 3857.0/10000 (39%)\n",
      "xavier: Loss: 1.6694\tAccuracy: 5208.0/10000 (52%)\n",
      "\n",
      "Train Epoch: 4 [0/50000 (0%)]\tLosses default: 2.200530 xavier: 1.617989\n",
      "Train Epoch: 4 [10000/50000 (20%)]\tLosses default: 2.210639 xavier: 1.568403\n",
      "Train Epoch: 4 [20000/50000 (40%)]\tLosses default: 2.198046 xavier: 1.546949\n",
      "Train Epoch: 4 [30000/50000 (60%)]\tLosses default: 2.181902 xavier: 1.596642\n",
      "Train Epoch: 4 [40000/50000 (80%)]\tLosses default: 2.205307 xavier: 1.653877\n",
      "Train Epoch: 4 [50000/50000 (100%)]\tLosses default: 2.171375 xavier: 1.538688\n",
      "Test set:\n",
      "default: Loss: 2.1651\tAccuracy: 4465.0/10000 (45%)\n",
      "xavier: Loss: 1.4995\tAccuracy: 5917.0/10000 (59%)\n",
      "\n",
      "Train Epoch: 5 [0/50000 (0%)]\tLosses default: 2.178025 xavier: 1.444563\n",
      "Train Epoch: 5 [10000/50000 (20%)]\tLosses default: 2.147038 xavier: 1.449931\n",
      "Train Epoch: 5 [20000/50000 (40%)]\tLosses default: 2.132766 xavier: 1.424981\n",
      "Train Epoch: 5 [30000/50000 (60%)]\tLosses default: 2.173037 xavier: 1.619268\n",
      "Train Epoch: 5 [40000/50000 (80%)]\tLosses default: 2.096392 xavier: 1.332492\n",
      "Train Epoch: 5 [50000/50000 (100%)]\tLosses default: 2.105895 xavier: 1.310793\n",
      "Test set:\n",
      "default: Loss: 2.1273\tAccuracy: 4855.0/10000 (49%)\n",
      "xavier: Loss: 1.3639\tAccuracy: 6409.0/10000 (64%)\n",
      "\n",
      "Train Epoch: 6 [0/50000 (0%)]\tLosses default: 2.122665 xavier: 1.342322\n",
      "Train Epoch: 6 [10000/50000 (20%)]\tLosses default: 2.146390 xavier: 1.408054\n",
      "Train Epoch: 6 [20000/50000 (40%)]\tLosses default: 2.149001 xavier: 1.247199\n",
      "Train Epoch: 6 [30000/50000 (60%)]\tLosses default: 2.091401 xavier: 1.209561\n",
      "Train Epoch: 6 [40000/50000 (80%)]\tLosses default: 2.136556 xavier: 1.369462\n",
      "Train Epoch: 6 [50000/50000 (100%)]\tLosses default: 2.043853 xavier: 1.216641\n",
      "Test set:\n",
      "default: Loss: 2.0873\tAccuracy: 5117.0/10000 (51%)\n",
      "xavier: Loss: 1.2535\tAccuracy: 6779.0/10000 (68%)\n",
      "\n",
      "Train Epoch: 7 [0/50000 (0%)]\tLosses default: 2.085534 xavier: 1.201734\n",
      "Train Epoch: 7 [10000/50000 (20%)]\tLosses default: 2.061739 xavier: 1.182788\n",
      "Train Epoch: 7 [20000/50000 (40%)]\tLosses default: 2.052134 xavier: 1.316184\n",
      "Train Epoch: 7 [30000/50000 (60%)]\tLosses default: 2.056508 xavier: 1.129923\n",
      "Train Epoch: 7 [40000/50000 (80%)]\tLosses default: 2.059918 xavier: 1.104825\n",
      "Train Epoch: 7 [50000/50000 (100%)]\tLosses default: 2.002885 xavier: 0.973194\n",
      "Test set:\n",
      "default: Loss: 2.0447\tAccuracy: 5374.0/10000 (54%)\n",
      "xavier: Loss: 1.1622\tAccuracy: 7062.0/10000 (71%)\n",
      "\n",
      "Train Epoch: 8 [0/50000 (0%)]\tLosses default: 2.091587 xavier: 1.300643\n",
      "Train Epoch: 8 [10000/50000 (20%)]\tLosses default: 2.046935 xavier: 1.176115\n",
      "Train Epoch: 8 [20000/50000 (40%)]\tLosses default: 1.972851 xavier: 1.022094\n",
      "Train Epoch: 8 [30000/50000 (60%)]\tLosses default: 2.057264 xavier: 1.229694\n",
      "Train Epoch: 8 [40000/50000 (80%)]\tLosses default: 1.992915 xavier: 1.072788\n",
      "Train Epoch: 8 [50000/50000 (100%)]\tLosses default: 1.983164 xavier: 1.035812\n",
      "Test set:\n",
      "default: Loss: 1.9995\tAccuracy: 5611.0/10000 (56%)\n",
      "xavier: Loss: 1.0856\tAccuracy: 7277.0/10000 (73%)\n",
      "\n",
      "Train Epoch: 9 [0/50000 (0%)]\tLosses default: 2.018974 xavier: 1.130990\n",
      "Train Epoch: 9 [10000/50000 (20%)]\tLosses default: 1.962665 xavier: 1.026465\n",
      "Train Epoch: 9 [20000/50000 (40%)]\tLosses default: 2.006609 xavier: 1.005926\n",
      "Train Epoch: 9 [30000/50000 (60%)]\tLosses default: 1.967936 xavier: 0.982369\n",
      "Train Epoch: 9 [40000/50000 (80%)]\tLosses default: 1.873209 xavier: 0.842614\n",
      "Train Epoch: 9 [50000/50000 (100%)]\tLosses default: 1.964549 xavier: 1.061349\n",
      "Test set:\n",
      "default: Loss: 1.9519\tAccuracy: 5795.0/10000 (58%)\n",
      "xavier: Loss: 1.0205\tAccuracy: 7460.0/10000 (75%)\n",
      "\n",
      "Train Epoch: 10 [0/50000 (0%)]\tLosses default: 1.947135 xavier: 0.833578\n",
      "Train Epoch: 10 [10000/50000 (20%)]\tLosses default: 1.907315 xavier: 1.017660\n",
      "Train Epoch: 10 [20000/50000 (40%)]\tLosses default: 1.921603 xavier: 1.016439\n",
      "Train Epoch: 10 [30000/50000 (60%)]\tLosses default: 1.887805 xavier: 0.976065\n",
      "Train Epoch: 10 [40000/50000 (80%)]\tLosses default: 1.871916 xavier: 0.892340\n",
      "Train Epoch: 10 [50000/50000 (100%)]\tLosses default: 1.886963 xavier: 1.025645\n",
      "Test set:\n",
      "default: Loss: 1.9020\tAccuracy: 5931.0/10000 (59%)\n",
      "xavier: Loss: 0.9646\tAccuracy: 7614.0/10000 (76%)\n",
      "\n",
      "Train Epoch: 11 [0/50000 (0%)]\tLosses default: 1.912466 xavier: 1.156146\n",
      "Train Epoch: 11 [10000/50000 (20%)]\tLosses default: 1.889242 xavier: 0.943187\n",
      "Train Epoch: 11 [20000/50000 (40%)]\tLosses default: 1.927658 xavier: 1.079148\n",
      "Train Epoch: 11 [30000/50000 (60%)]\tLosses default: 1.882287 xavier: 0.936673\n",
      "Train Epoch: 11 [40000/50000 (80%)]\tLosses default: 1.893525 xavier: 0.858216\n",
      "Train Epoch: 11 [50000/50000 (100%)]\tLosses default: 1.951773 xavier: 1.180887\n",
      "Test set:\n",
      "default: Loss: 1.8503\tAccuracy: 6051.0/10000 (61%)\n",
      "xavier: Loss: 0.9162\tAccuracy: 7757.0/10000 (78%)\n",
      "\n",
      "Train Epoch: 12 [0/50000 (0%)]\tLosses default: 1.804093 xavier: 0.797389\n",
      "Train Epoch: 12 [10000/50000 (20%)]\tLosses default: 1.773964 xavier: 0.754350\n",
      "Train Epoch: 12 [20000/50000 (40%)]\tLosses default: 1.805429 xavier: 0.867277\n",
      "Train Epoch: 12 [30000/50000 (60%)]\tLosses default: 1.903741 xavier: 0.963116\n",
      "Train Epoch: 12 [40000/50000 (80%)]\tLosses default: 1.778824 xavier: 0.826626\n",
      "Train Epoch: 12 [50000/50000 (100%)]\tLosses default: 1.795846 xavier: 0.796796\n",
      "Test set:\n",
      "default: Loss: 1.7975\tAccuracy: 6156.0/10000 (62%)\n",
      "xavier: Loss: 0.8738\tAccuracy: 7851.0/10000 (79%)\n",
      "\n",
      "Train Epoch: 13 [0/50000 (0%)]\tLosses default: 1.795414 xavier: 0.887748\n",
      "Train Epoch: 13 [10000/50000 (20%)]\tLosses default: 1.846147 xavier: 0.871712\n",
      "Train Epoch: 13 [20000/50000 (40%)]\tLosses default: 1.822479 xavier: 0.866444\n",
      "Train Epoch: 13 [30000/50000 (60%)]\tLosses default: 1.773330 xavier: 0.753622\n",
      "Train Epoch: 13 [40000/50000 (80%)]\tLosses default: 1.755616 xavier: 0.830821\n",
      "Train Epoch: 13 [50000/50000 (100%)]\tLosses default: 1.695422 xavier: 0.640858\n",
      "Test set:\n",
      "default: Loss: 1.7441\tAccuracy: 6249.0/10000 (62%)\n",
      "xavier: Loss: 0.8364\tAccuracy: 7951.0/10000 (80%)\n",
      "\n",
      "Train Epoch: 14 [0/50000 (0%)]\tLosses default: 1.850619 xavier: 1.061692\n",
      "Train Epoch: 14 [10000/50000 (20%)]\tLosses default: 1.712529 xavier: 0.839959\n",
      "Train Epoch: 14 [20000/50000 (40%)]\tLosses default: 1.792935 xavier: 0.906851\n",
      "Train Epoch: 14 [30000/50000 (60%)]\tLosses default: 1.737915 xavier: 0.827153\n",
      "Train Epoch: 14 [40000/50000 (80%)]\tLosses default: 1.754174 xavier: 0.911447\n",
      "Train Epoch: 14 [50000/50000 (100%)]\tLosses default: 1.705064 xavier: 0.793445\n",
      "Test set:\n",
      "default: Loss: 1.6908\tAccuracy: 6353.0/10000 (64%)\n",
      "xavier: Loss: 0.8031\tAccuracy: 8045.0/10000 (80%)\n",
      "\n",
      "Train Epoch: 15 [0/50000 (0%)]\tLosses default: 1.664691 xavier: 0.907219\n",
      "Train Epoch: 15 [10000/50000 (20%)]\tLosses default: 1.698420 xavier: 0.796365\n",
      "Train Epoch: 15 [20000/50000 (40%)]\tLosses default: 1.661782 xavier: 0.801768\n",
      "Train Epoch: 15 [30000/50000 (60%)]\tLosses default: 1.555304 xavier: 0.609031\n",
      "Train Epoch: 15 [40000/50000 (80%)]\tLosses default: 1.650833 xavier: 0.682296\n",
      "Train Epoch: 15 [50000/50000 (100%)]\tLosses default: 1.755501 xavier: 0.990664\n",
      "Test set:\n",
      "default: Loss: 1.6380\tAccuracy: 6451.0/10000 (65%)\n",
      "xavier: Loss: 0.7733\tAccuracy: 8119.0/10000 (81%)\n",
      "\n",
      "Train Epoch: 16 [0/50000 (0%)]\tLosses default: 1.706619 xavier: 0.785397\n",
      "Train Epoch: 16 [10000/50000 (20%)]\tLosses default: 1.726143 xavier: 0.755274\n",
      "Train Epoch: 16 [20000/50000 (40%)]\tLosses default: 1.534744 xavier: 0.647759\n",
      "Train Epoch: 16 [30000/50000 (60%)]\tLosses default: 1.604621 xavier: 0.684804\n",
      "Train Epoch: 16 [40000/50000 (80%)]\tLosses default: 1.559270 xavier: 0.728383\n",
      "Train Epoch: 16 [50000/50000 (100%)]\tLosses default: 1.589578 xavier: 0.835878\n",
      "Test set:\n",
      "default: Loss: 1.5863\tAccuracy: 6547.0/10000 (65%)\n",
      "xavier: Loss: 0.7464\tAccuracy: 8185.0/10000 (82%)\n",
      "\n",
      "Train Epoch: 17 [0/50000 (0%)]\tLosses default: 1.430436 xavier: 0.560284\n",
      "Train Epoch: 17 [10000/50000 (20%)]\tLosses default: 1.681983 xavier: 0.962573\n",
      "Train Epoch: 17 [20000/50000 (40%)]\tLosses default: 1.652526 xavier: 0.899686\n",
      "Train Epoch: 17 [30000/50000 (60%)]\tLosses default: 1.521914 xavier: 0.580791\n",
      "Train Epoch: 17 [40000/50000 (80%)]\tLosses default: 1.545572 xavier: 0.831902\n",
      "Train Epoch: 17 [50000/50000 (100%)]\tLosses default: 1.483858 xavier: 0.577057\n",
      "Test set:\n",
      "default: Loss: 1.5360\tAccuracy: 6640.0/10000 (66%)\n",
      "xavier: Loss: 0.7222\tAccuracy: 8246.0/10000 (82%)\n",
      "\n",
      "Train Epoch: 18 [0/50000 (0%)]\tLosses default: 1.532079 xavier: 0.669993\n",
      "Train Epoch: 18 [10000/50000 (20%)]\tLosses default: 1.492809 xavier: 0.790945\n",
      "Train Epoch: 18 [20000/50000 (40%)]\tLosses default: 1.482878 xavier: 0.602955\n",
      "Train Epoch: 18 [30000/50000 (60%)]\tLosses default: 1.527081 xavier: 0.649537\n",
      "Train Epoch: 18 [40000/50000 (80%)]\tLosses default: 1.481299 xavier: 0.627607\n",
      "Train Epoch: 18 [50000/50000 (100%)]\tLosses default: 1.565460 xavier: 0.728849\n",
      "Test set:\n",
      "default: Loss: 1.4873\tAccuracy: 6750.0/10000 (68%)\n",
      "xavier: Loss: 0.7001\tAccuracy: 8302.0/10000 (83%)\n",
      "\n",
      "Train Epoch: 19 [0/50000 (0%)]\tLosses default: 1.389835 xavier: 0.586883\n",
      "Train Epoch: 19 [10000/50000 (20%)]\tLosses default: 1.450098 xavier: 0.634098\n",
      "Train Epoch: 19 [20000/50000 (40%)]\tLosses default: 1.498019 xavier: 0.651123\n",
      "Train Epoch: 19 [30000/50000 (60%)]\tLosses default: 1.506970 xavier: 0.799766\n",
      "Train Epoch: 19 [40000/50000 (80%)]\tLosses default: 1.376372 xavier: 0.440833\n",
      "Train Epoch: 19 [50000/50000 (100%)]\tLosses default: 1.471701 xavier: 0.735181\n",
      "Test set:\n",
      "default: Loss: 1.4404\tAccuracy: 6822.0/10000 (68%)\n",
      "xavier: Loss: 0.6798\tAccuracy: 8335.0/10000 (83%)\n",
      "\n",
      "Train Epoch: 20 [0/50000 (0%)]\tLosses default: 1.432812 xavier: 0.649219\n",
      "Train Epoch: 20 [10000/50000 (20%)]\tLosses default: 1.401798 xavier: 0.564669\n",
      "Train Epoch: 20 [20000/50000 (40%)]\tLosses default: 1.404944 xavier: 0.626814\n",
      "Train Epoch: 20 [30000/50000 (60%)]\tLosses default: 1.475000 xavier: 0.724779\n",
      "Train Epoch: 20 [40000/50000 (80%)]\tLosses default: 1.502442 xavier: 0.822556\n",
      "Train Epoch: 20 [50000/50000 (100%)]\tLosses default: 1.386129 xavier: 0.704928\n",
      "Test set:\n",
      "default: Loss: 1.3956\tAccuracy: 6925.0/10000 (69%)\n",
      "xavier: Loss: 0.6613\tAccuracy: 8394.0/10000 (84%)\n",
      "\n",
      "Train Epoch: 21 [0/50000 (0%)]\tLosses default: 1.396880 xavier: 0.703274\n",
      "Train Epoch: 21 [10000/50000 (20%)]\tLosses default: 1.435681 xavier: 0.802530\n",
      "Train Epoch: 21 [20000/50000 (40%)]\tLosses default: 1.323320 xavier: 0.534940\n",
      "Train Epoch: 21 [30000/50000 (60%)]\tLosses default: 1.279754 xavier: 0.601526\n",
      "Train Epoch: 21 [40000/50000 (80%)]\tLosses default: 1.392150 xavier: 0.728269\n",
      "Train Epoch: 21 [50000/50000 (100%)]\tLosses default: 1.427948 xavier: 0.732241\n",
      "Test set:\n",
      "default: Loss: 1.3526\tAccuracy: 7008.0/10000 (70%)\n",
      "xavier: Loss: 0.6442\tAccuracy: 8433.0/10000 (84%)\n",
      "\n",
      "Train Epoch: 22 [0/50000 (0%)]\tLosses default: 1.346654 xavier: 0.738110\n",
      "Train Epoch: 22 [10000/50000 (20%)]\tLosses default: 1.220152 xavier: 0.422271\n",
      "Train Epoch: 22 [20000/50000 (40%)]\tLosses default: 1.278807 xavier: 0.475189\n",
      "Train Epoch: 22 [30000/50000 (60%)]\tLosses default: 1.314004 xavier: 0.603828\n",
      "Train Epoch: 22 [40000/50000 (80%)]\tLosses default: 1.235854 xavier: 0.557310\n",
      "Train Epoch: 22 [50000/50000 (100%)]\tLosses default: 1.359601 xavier: 0.581926\n",
      "Test set:\n",
      "default: Loss: 1.3117\tAccuracy: 7075.0/10000 (71%)\n",
      "xavier: Loss: 0.6284\tAccuracy: 8462.0/10000 (85%)\n",
      "\n",
      "Train Epoch: 23 [0/50000 (0%)]\tLosses default: 1.344842 xavier: 0.790500\n"
     ]
    },
    {
     "ename": "KeyboardInterrupt",
     "evalue": "",
     "output_type": "error",
     "traceback": [
      "\u001b[1;31m---------------------------------------------------------------------------\u001b[0m",
      "\u001b[1;31mKeyboardInterrupt\u001b[0m                         Traceback (most recent call last)",
      "\u001b[1;32m<ipython-input-9-5729fa1e0e9e>\u001b[0m in \u001b[0;36m<module>\u001b[1;34m\u001b[0m\n\u001b[0;32m      2\u001b[0m     \u001b[1;32mfor\u001b[0m \u001b[0mmodel\u001b[0m \u001b[1;32min\u001b[0m \u001b[0mmodels\u001b[0m\u001b[1;33m.\u001b[0m\u001b[0mvalues\u001b[0m\u001b[1;33m(\u001b[0m\u001b[1;33m)\u001b[0m\u001b[1;33m:\u001b[0m\u001b[1;33m\u001b[0m\u001b[1;33m\u001b[0m\u001b[0m\n\u001b[0;32m      3\u001b[0m         \u001b[0mmodel\u001b[0m\u001b[1;33m.\u001b[0m\u001b[0mtrain\u001b[0m\u001b[1;33m(\u001b[0m\u001b[1;33m)\u001b[0m\u001b[1;33m\u001b[0m\u001b[1;33m\u001b[0m\u001b[0m\n\u001b[1;32m----> 4\u001b[1;33m     \u001b[0mtrain\u001b[0m\u001b[1;33m(\u001b[0m\u001b[0mepoch\u001b[0m\u001b[1;33m,\u001b[0m \u001b[0mmodels\u001b[0m\u001b[1;33m,\u001b[0m \u001b[0mtrain_log\u001b[0m\u001b[1;33m)\u001b[0m\u001b[1;33m\u001b[0m\u001b[1;33m\u001b[0m\u001b[0m\n\u001b[0m\u001b[0;32m      5\u001b[0m     \u001b[1;32mfor\u001b[0m \u001b[0mmodel\u001b[0m \u001b[1;32min\u001b[0m \u001b[0mmodels\u001b[0m\u001b[1;33m.\u001b[0m\u001b[0mvalues\u001b[0m\u001b[1;33m(\u001b[0m\u001b[1;33m)\u001b[0m\u001b[1;33m:\u001b[0m\u001b[1;33m\u001b[0m\u001b[1;33m\u001b[0m\u001b[0m\n\u001b[0;32m      6\u001b[0m         \u001b[0mmodel\u001b[0m\u001b[1;33m.\u001b[0m\u001b[0meval\u001b[0m\u001b[1;33m(\u001b[0m\u001b[1;33m)\u001b[0m\u001b[1;33m\u001b[0m\u001b[1;33m\u001b[0m\u001b[0m\n",
      "\u001b[1;32m<ipython-input-7-513bdd696d20>\u001b[0m in \u001b[0;36mtrain\u001b[1;34m(epoch, models, log)\u001b[0m\n\u001b[0;32m      3\u001b[0m     \u001b[1;32mfor\u001b[0m \u001b[0mbatch_idx\u001b[0m\u001b[1;33m,\u001b[0m \u001b[1;33m(\u001b[0m\u001b[0mdata\u001b[0m\u001b[1;33m,\u001b[0m \u001b[0mtarget\u001b[0m\u001b[1;33m)\u001b[0m \u001b[1;32min\u001b[0m \u001b[0menumerate\u001b[0m\u001b[1;33m(\u001b[0m\u001b[0mtrain_loader\u001b[0m\u001b[1;33m)\u001b[0m\u001b[1;33m:\u001b[0m\u001b[1;33m\u001b[0m\u001b[1;33m\u001b[0m\u001b[0m\n\u001b[0;32m      4\u001b[0m         \u001b[1;32mfor\u001b[0m \u001b[0mmodel\u001b[0m \u001b[1;32min\u001b[0m \u001b[0mmodels\u001b[0m\u001b[1;33m.\u001b[0m\u001b[0mvalues\u001b[0m\u001b[1;33m(\u001b[0m\u001b[1;33m)\u001b[0m\u001b[1;33m:\u001b[0m\u001b[1;33m\u001b[0m\u001b[1;33m\u001b[0m\u001b[0m\n\u001b[1;32m----> 5\u001b[1;33m             \u001b[0mmodel\u001b[0m\u001b[1;33m.\u001b[0m\u001b[0moptim\u001b[0m\u001b[1;33m.\u001b[0m\u001b[0mzero_grad\u001b[0m\u001b[1;33m(\u001b[0m\u001b[1;33m)\u001b[0m\u001b[1;33m\u001b[0m\u001b[1;33m\u001b[0m\u001b[0m\n\u001b[0m\u001b[0;32m      6\u001b[0m             \u001b[0moutput\u001b[0m \u001b[1;33m=\u001b[0m \u001b[0mmodel\u001b[0m\u001b[1;33m(\u001b[0m\u001b[0mdata\u001b[0m\u001b[1;33m)\u001b[0m\u001b[1;33m\u001b[0m\u001b[1;33m\u001b[0m\u001b[0m\n\u001b[0;32m      7\u001b[0m             \u001b[0mloss\u001b[0m \u001b[1;33m=\u001b[0m \u001b[0mmodel\u001b[0m\u001b[1;33m.\u001b[0m\u001b[0mloss\u001b[0m\u001b[1;33m(\u001b[0m\u001b[0moutput\u001b[0m\u001b[1;33m,\u001b[0m \u001b[0mtarget\u001b[0m\u001b[1;33m)\u001b[0m\u001b[1;33m\u001b[0m\u001b[1;33m\u001b[0m\u001b[0m\n",
      "\u001b[1;32mc:\\users\\dsher\\python_venvs\\otus_deep_learning_dle-2020-04\\venv\\lib\\site-packages\\torch\\optim\\optimizer.py\u001b[0m in \u001b[0;36mzero_grad\u001b[1;34m(self)\u001b[0m\n\u001b[0;32m    163\u001b[0m                 \u001b[1;32mif\u001b[0m \u001b[0mp\u001b[0m\u001b[1;33m.\u001b[0m\u001b[0mgrad\u001b[0m \u001b[1;32mis\u001b[0m \u001b[1;32mnot\u001b[0m \u001b[1;32mNone\u001b[0m\u001b[1;33m:\u001b[0m\u001b[1;33m\u001b[0m\u001b[1;33m\u001b[0m\u001b[0m\n\u001b[0;32m    164\u001b[0m                     \u001b[0mp\u001b[0m\u001b[1;33m.\u001b[0m\u001b[0mgrad\u001b[0m\u001b[1;33m.\u001b[0m\u001b[0mdetach_\u001b[0m\u001b[1;33m(\u001b[0m\u001b[1;33m)\u001b[0m\u001b[1;33m\u001b[0m\u001b[1;33m\u001b[0m\u001b[0m\n\u001b[1;32m--> 165\u001b[1;33m                     \u001b[0mp\u001b[0m\u001b[1;33m.\u001b[0m\u001b[0mgrad\u001b[0m\u001b[1;33m.\u001b[0m\u001b[0mzero_\u001b[0m\u001b[1;33m(\u001b[0m\u001b[1;33m)\u001b[0m\u001b[1;33m\u001b[0m\u001b[1;33m\u001b[0m\u001b[0m\n\u001b[0m\u001b[0;32m    166\u001b[0m \u001b[1;33m\u001b[0m\u001b[0m\n\u001b[0;32m    167\u001b[0m     \u001b[1;32mdef\u001b[0m \u001b[0mstep\u001b[0m\u001b[1;33m(\u001b[0m\u001b[0mself\u001b[0m\u001b[1;33m,\u001b[0m \u001b[0mclosure\u001b[0m\u001b[1;33m)\u001b[0m\u001b[1;33m:\u001b[0m\u001b[1;33m\u001b[0m\u001b[1;33m\u001b[0m\u001b[0m\n",
      "\u001b[1;31mKeyboardInterrupt\u001b[0m: "
     ]
    }
   ],
   "source": [
    "for epoch in range(1, 101):\n",
    "    for model in models.values():\n",
    "        model.train()\n",
    "    train(epoch, models, train_log)\n",
    "    for model in models.values():\n",
    "        model.eval()\n",
    "    test(models, valid_loader, test_log)"
   ]
  },
  {
   "cell_type": "code",
   "execution_count": 10,
   "metadata": {},
   "outputs": [
    {
     "data": {
      "image/png": "[encoded data removed]",
      "text/plain": [
       "<Figure size 432x288 with 1 Axes>"
      ]
     },
     "metadata": {
      "needs_background": "light"
     },
     "output_type": "display_data"
    }
   ],
   "source": [
    "plot_graphs(test_log, 'loss')"
   ]
  },
  {
   "cell_type": "code",
   "execution_count": 11,
   "metadata": {},
   "outputs": [
    {
     "data": {
      "image/png": "[encoded data removed]",
      "text/plain": [
       "<Figure size 432x288 with 1 Axes>"
      ]
     },
     "metadata": {
      "needs_background": "light"
     },
     "output_type": "display_data"
    }
   ],
   "source": [
    "plot_graphs(test_log, 'accuracy')"
   ]
  },
  {
   "cell_type": "code",
   "execution_count": null,
   "metadata": {},
   "outputs": [],
   "source": []
  }
 ],
 "metadata": {
  "kernelspec": {
   "display_name": "Python 3",
   "language": "python",
   "name": "python3"
  },
  "language_info": {
   "codemirror_mode": {
    "name": "ipython",
    "version": 3
   },
   "file_extension": ".py",
   "mimetype": "text/x-python",
   "name": "python",
   "nbconvert_exporter": "python",
   "pygments_lexer": "ipython3",
   "version": "3.7.7"
  }
 },
 "nbformat": 4,
 "nbformat_minor": 4
}
