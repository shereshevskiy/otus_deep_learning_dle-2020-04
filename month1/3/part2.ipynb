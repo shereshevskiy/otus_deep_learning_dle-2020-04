{
 "cells": [
  {
   "cell_type": "markdown",
   "metadata": {
    "ExecuteTime": {
     "end_time": "2018-12-29T10:47:34.674891Z",
     "start_time": "2018-12-29T10:47:34.664593Z"
    },
    "colab_type": "text",
    "id": "DjKduBwVR78t"
   },
   "source": [
    "#### Gradient descent:\n",
    "<br>\n",
    "\n",
    "$f(x) \\longrightarrow  \\displaystyle \\min_{x} $\n",
    "\n",
    "$x^{t+1} = x^t-\\alpha{f'(x^t)}$\n",
    "\n",
    "$f(x^{t+1}) = f(x^t-\\alpha{f'(x^t)})$"
   ]
  },
  {
   "cell_type": "code",
   "execution_count": 1,
   "metadata": {
    "colab": {},
    "colab_type": "code",
    "id": "i9gQOjwZySN_"
   },
   "outputs": [],
   "source": [
    "import torch"
   ]
  },
  {
   "cell_type": "code",
   "execution_count": 2,
   "metadata": {
    "colab": {},
    "colab_type": "code",
    "id": "UZw7XVKe6Tqn"
   },
   "outputs": [
    {
     "data": {
      "text/plain": [
       "device(type='cpu')"
      ]
     },
     "execution_count": 2,
     "metadata": {},
     "output_type": "execute_result"
    }
   ],
   "source": [
    "device = torch.device('cuda:0' \n",
    "                      if torch.cuda.is_available() \n",
    "                      else 'cpu')\n",
    "device"
   ]
  },
  {
   "cell_type": "code",
   "execution_count": 3,
   "metadata": {
    "ExecuteTime": {
     "end_time": "2018-12-29T12:09:55.305661Z",
     "start_time": "2018-12-29T12:09:55.281215Z"
    },
    "colab": {
     "base_uri": "https://localhost:8080/",
     "height": 34
    },
    "colab_type": "code",
    "executionInfo": {
     "elapsed": 687,
     "status": "ok",
     "timestamp": 1589304225007,
     "user": {
      "displayName": "Roman Zakharov",
      "photoUrl": "",
      "userId": "18255168926005506833"
     },
     "user_tz": -240
    },
    "id": "HJPLJAEYR780",
    "outputId": "38ce1e18-2172-4e1f-aab3-cccb39200b36"
   },
   "outputs": [
    {
     "name": "stdout",
     "output_type": "stream",
     "text": [
      "tensor([20.]) <- gradient\n"
     ]
    }
   ],
   "source": [
    "x = torch.tensor([1.], requires_grad=True)\n",
    "\n",
    "#######\n",
    "x = x.to(device)\n",
    "#######\n",
    "\n",
    "function = 10 * (x ** 2).sum()\n",
    "function.backward()\n",
    "print(x.grad, '<- gradient')"
   ]
  },
  {
   "cell_type": "code",
   "execution_count": 4,
   "metadata": {
    "colab": {
     "base_uri": "https://localhost:8080/",
     "height": 85
    },
    "colab_type": "code",
    "executionInfo": {
     "elapsed": 548,
     "status": "ok",
     "timestamp": 1589304257074,
     "user": {
      "displayName": "Roman Zakharov",
      "photoUrl": "",
      "userId": "18255168926005506833"
     },
     "user_tz": -240
    },
    "id": "RnyAF-_pyzCa",
    "outputId": "da471f97-2e60-4f49-f724-38b4ca3f67f3"
   },
   "outputs": [
    {
     "name": "stdout",
     "output_type": "stream",
     "text": [
      "tensor([ 1.,  2.,  3.,  4.,  5.,  6.,  7.,  8.,  9., 10., 11., 12.],\n",
      "       dtype=torch.float64, requires_grad=True)\n",
      "tensor([1.0000, 0.5000, 0.3333, 0.2500, 0.2000, 0.1667, 0.1429, 0.1250, 0.1111,\n",
      "        0.1000, 0.0909, 0.0833], dtype=torch.float64) <- gradient\n"
     ]
    }
   ],
   "source": [
    "x = torch.tensor(list(range(1,13)), requires_grad=True, dtype=float)\n",
    "x = x.to(device)\n",
    "\n",
    "function = (x.log()).sum()\n",
    "function.backward()\n",
    "print(x)\n",
    "print(x.grad, '<- gradient')"
   ]
  },
  {
   "cell_type": "code",
   "execution_count": 5,
   "metadata": {
    "ExecuteTime": {
     "end_time": "2018-12-29T12:09:28.574228Z",
     "start_time": "2018-12-29T12:09:28.569146Z"
    },
    "colab": {},
    "colab_type": "code",
    "id": "z_gWJYtPR789"
   },
   "outputs": [],
   "source": [
    "x = torch.tensor(\n",
    "    [[1.,  2.,  3.,  4.],\n",
    "     [5.,  6.,  7.,  8.],\n",
    "     [9., 10., 11., 12.]], requires_grad=True)"
   ]
  },
  {
   "cell_type": "code",
   "execution_count": 6,
   "metadata": {
    "ExecuteTime": {
     "end_time": "2018-12-29T12:09:29.066145Z",
     "start_time": "2018-12-29T12:09:29.061245Z"
    },
    "colab": {},
    "colab_type": "code",
    "id": "vKwFAmYVR78_"
   },
   "outputs": [],
   "source": [
    "function = (x ** 2).sum()\n",
    "function.backward()"
   ]
  },
  {
   "cell_type": "code",
   "execution_count": 7,
   "metadata": {
    "colab": {
     "base_uri": "https://localhost:8080/",
     "height": 85
    },
    "colab_type": "code",
    "executionInfo": {
     "elapsed": 507,
     "status": "ok",
     "timestamp": 1589324120539,
     "user": {
      "displayName": "Roman Zakharov",
      "photoUrl": "",
      "userId": "18255168926005506833"
     },
     "user_tz": -240
    },
    "id": "mG3lRne1R79B",
    "outputId": "805d635e-b414-48da-d270-e4ff0380871b"
   },
   "outputs": [
    {
     "data": {
      "text/plain": [
       "(tensor([[ 1.,  2.,  3.,  4.],\n",
       "         [ 5.,  6.,  7.,  8.],\n",
       "         [ 9., 10., 11., 12.]], requires_grad=True),\n",
       " tensor(650., grad_fn=<SumBackward0>))"
      ]
     },
     "execution_count": 7,
     "metadata": {},
     "output_type": "execute_result"
    }
   ],
   "source": [
    "x, function"
   ]
  },
  {
   "cell_type": "code",
   "execution_count": 8,
   "metadata": {
    "ExecuteTime": {
     "end_time": "2018-12-29T12:10:34.919385Z",
     "start_time": "2018-12-29T12:10:34.912202Z"
    },
    "colab": {
     "base_uri": "https://localhost:8080/",
     "height": 68
    },
    "colab_type": "code",
    "executionInfo": {
     "elapsed": 1274,
     "status": "ok",
     "timestamp": 1589324122682,
     "user": {
      "displayName": "Roman Zakharov",
      "photoUrl": "",
      "userId": "18255168926005506833"
     },
     "user_tz": -240
    },
    "id": "M-nnrMjTR79E",
    "outputId": "8cdb38a3-cbdb-4da1-f266-84dea622c328"
   },
   "outputs": [
    {
     "data": {
      "text/plain": [
       "tensor([[ 2.,  4.,  6.,  8.],\n",
       "        [10., 12., 14., 16.],\n",
       "        [18., 20., 22., 24.]])"
      ]
     },
     "execution_count": 8,
     "metadata": {},
     "output_type": "execute_result"
    }
   ],
   "source": [
    "x.grad"
   ]
  },
  {
   "cell_type": "code",
   "execution_count": 9,
   "metadata": {
    "colab": {
     "base_uri": "https://localhost:8080/",
     "height": 68
    },
    "colab_type": "code",
    "executionInfo": {
     "elapsed": 1029,
     "status": "ok",
     "timestamp": 1589324124212,
     "user": {
      "displayName": "Roman Zakharov",
      "photoUrl": "",
      "userId": "18255168926005506833"
     },
     "user_tz": -240
    },
    "id": "GWuUAOqE6__e",
    "outputId": "a07e38a9-e824-48f8-8fac-37ca6fb82888"
   },
   "outputs": [
    {
     "data": {
      "text/plain": [
       "tensor([[ 1.,  2.,  3.,  4.],\n",
       "        [ 5.,  6.,  7.,  8.],\n",
       "        [ 9., 10., 11., 12.]], requires_grad=True)"
      ]
     },
     "execution_count": 9,
     "metadata": {},
     "output_type": "execute_result"
    }
   ],
   "source": [
    "x"
   ]
  },
  {
   "cell_type": "code",
   "execution_count": 10,
   "metadata": {
    "ExecuteTime": {
     "end_time": "2018-12-29T11:53:35.356027Z",
     "start_time": "2018-12-29T11:53:35.348095Z"
    },
    "colab": {},
    "colab_type": "code",
    "id": "564xv2nhR79F"
   },
   "outputs": [],
   "source": [
    "x.data -= 0.001 * x.grad"
   ]
  },
  {
   "cell_type": "code",
   "execution_count": 11,
   "metadata": {
    "colab": {
     "base_uri": "https://localhost:8080/",
     "height": 68
    },
    "colab_type": "code",
    "executionInfo": {
     "elapsed": 960,
     "status": "ok",
     "timestamp": 1589324160781,
     "user": {
      "displayName": "Roman Zakharov",
      "photoUrl": "",
      "userId": "18255168926005506833"
     },
     "user_tz": -240
    },
    "id": "gR4j9RQTR79H",
    "outputId": "ee2176c4-b4bf-4e31-aeac-2dc82557b9ca"
   },
   "outputs": [
    {
     "data": {
      "text/plain": [
       "tensor([[0., 0., 0., 0.],\n",
       "        [0., 0., 0., 0.],\n",
       "        [0., 0., 0., 0.]])"
      ]
     },
     "execution_count": 11,
     "metadata": {},
     "output_type": "execute_result"
    }
   ],
   "source": [
    "x.grad.zero_()"
   ]
  },
  {
   "cell_type": "code",
   "execution_count": 12,
   "metadata": {
    "colab": {},
    "colab_type": "code",
    "id": "IKMKgpYrH89B"
   },
   "outputs": [],
   "source": [
    "import numpy as np"
   ]
  },
  {
   "cell_type": "code",
   "execution_count": 13,
   "metadata": {},
   "outputs": [
    {
     "data": {
      "text/plain": [
       "array([[ 0.998,  1.996,  2.994,  3.992],\n",
       "       [ 4.99 ,  5.988,  6.986,  7.984],\n",
       "       [ 8.982,  9.98 , 10.978, 11.976]], dtype=float32)"
      ]
     },
     "execution_count": 13,
     "metadata": {},
     "output_type": "execute_result"
    }
   ],
   "source": [
    "x.data.numpy()"
   ]
  },
  {
   "cell_type": "code",
   "execution_count": 14,
   "metadata": {
    "colab": {
     "base_uri": "https://localhost:8080/",
     "height": 34
    },
    "colab_type": "code",
    "executionInfo": {
     "elapsed": 600,
     "status": "ok",
     "timestamp": 1589324972898,
     "user": {
      "displayName": "Roman Zakharov",
      "photoUrl": "",
      "userId": "18255168926005506833"
     },
     "user_tz": -240
    },
    "id": "oGkQOUe3HI_o",
    "outputId": "f0f4a96b-6dd1-44b5-a0b4-f8ae4097205e"
   },
   "outputs": [
    {
     "data": {
      "text/plain": [
       "650.0"
      ]
     },
     "execution_count": 14,
     "metadata": {},
     "output_type": "execute_result"
    }
   ],
   "source": [
    "float(function.data.numpy())"
   ]
  },
  {
   "cell_type": "code",
   "execution_count": 15,
   "metadata": {
    "colab": {
     "base_uri": "https://localhost:8080/",
     "height": 34
    },
    "colab_type": "code",
    "executionInfo": {
     "elapsed": 729,
     "status": "ok",
     "timestamp": 1589324861489,
     "user": {
      "displayName": "Roman Zakharov",
      "photoUrl": "",
      "userId": "18255168926005506833"
     },
     "user_tz": -240
    },
    "id": "TLCbs7KwIhSb",
    "outputId": "ce02bcfe-c843-46a6-cbe9-730a0ccf4135"
   },
   "outputs": [
    {
     "data": {
      "text/plain": [
       "array([[ 0.998,  1.996,  2.994,  3.992,  4.99 ,  5.988,  6.986,  7.984,\n",
       "         8.982,  9.98 , 10.978, 11.976]], dtype=float32)"
      ]
     },
     "execution_count": 15,
     "metadata": {},
     "output_type": "execute_result"
    }
   ],
   "source": [
    "np.asarray(x.data).reshape((1,-1))"
   ]
  },
  {
   "cell_type": "code",
   "execution_count": 16,
   "metadata": {
    "colab": {
     "base_uri": "https://localhost:8080/",
     "height": 187
    },
    "colab_type": "code",
    "executionInfo": {
     "elapsed": 637,
     "status": "ok",
     "timestamp": 1589325083694,
     "user": {
      "displayName": "Roman Zakharov",
      "photoUrl": "",
      "userId": "18255168926005506833"
     },
     "user_tz": -240
    },
    "id": "jlXWawJnEzCL",
    "outputId": "aa6b2165-b66c-4605-ebe1-79a4aa3c473a"
   },
   "outputs": [
    {
     "name": "stdout",
     "output_type": "stream",
     "text": [
      "x = 8.399999618530273 | y = 64.0 | step = 0\n",
      "x = 2.687194585800171 | y = 0.7378695011138916 | step = 10\n",
      "x = 2.073786973953247 | y = 0.008507047779858112 | step = 20\n",
      "x = 2.007922649383545 | y = 9.807794413063675e-05 | step = 30\n",
      "x = 2.0008506774902344 | y = 1.1307065506116487e-06 | step = 40\n",
      "x = 2.000091075897217 | y = 1.2987811714992858e-08 | step = 50\n",
      "x = 2.0000100135803223 | y = 1.5370460459962487e-10 | step = 60\n",
      "x = 2.0000011920928955 | y = 2.0463630789890885e-12 | step = 70\n",
      "x = 2.000000476837158 | y = 2.2737367544323206e-13 | step = 80\n",
      "x = 2.000000476837158 | y = 2.2737367544323206e-13 | step = 90\n"
     ]
    }
   ],
   "source": [
    "x = torch.tensor([10.], requires_grad=True)\n",
    "for step in range(100):\n",
    "    fun = ((x - 2)**2).sum()\n",
    "    fun.backward()\n",
    "    x.data -= 0.1*x.grad\n",
    "    x.grad.zero_()\n",
    "    if step % 10 == 0:\n",
    "        print('x = {} | y = {} | step = {}'.format(float(x.data.numpy()), float(fun.data.numpy()), step))"
   ]
  },
  {
   "cell_type": "code",
   "execution_count": null,
   "metadata": {
    "colab": {},
    "colab_type": "code",
    "id": "pBmC159bEy10"
   },
   "outputs": [],
   "source": []
  },
  {
   "cell_type": "code",
   "execution_count": 18,
   "metadata": {
    "colab": {
     "base_uri": "https://localhost:8080/",
     "height": 187
    },
    "colab_type": "code",
    "executionInfo": {
     "elapsed": 1188,
     "status": "ok",
     "timestamp": 1589327566196,
     "user": {
      "displayName": "Roman Zakharov",
      "photoUrl": "",
      "userId": "18255168926005506833"
     },
     "user_tz": -240
    },
    "id": "ETujIfweR79N",
    "outputId": "ce3aad58-3ef6-4c67-b35e-6628ba9983f4"
   },
   "outputs": [
    {
     "name": "stdout",
     "output_type": "stream",
     "text": [
      "x = 10.0 | y = 49.0 | step = 0\n",
      "x = 3.751619338989258 | y = 0.5649316310882568 | step = 10\n",
      "x = 3.0807044506073 | y = 0.0065132081508636475 | step = 20\n",
      "x = 3.0086655616760254 | y = 7.50919571146369e-05 | step = 30\n",
      "x = 3.0009303092956543 | y = 8.65475385580794e-07 | step = 40\n",
      "x = 3.0000996589660645 | y = 9.93190951703582e-09 | step = 50\n",
      "x = 3.0000107288360596 | y = 1.1510792319313623e-10 | step = 60\n",
      "x = 3.0000011920928955 | y = 1.4210854715202004e-12 | step = 70\n",
      "x = 3.000000476837158 | y = 2.2737367544323206e-13 | step = 80\n",
      "x = 3.000000476837158 | y = 2.2737367544323206e-13 | step = 90\n"
     ]
    }
   ],
   "source": [
    "import torch\n",
    "\n",
    "x = torch.tensor([10.], requires_grad=True)\n",
    "optimizer = torch.optim.SGD([x], lr=0.1)\n",
    "\n",
    "def func(variable):\n",
    "    return ((variable - 3) ** 2).sum()\n",
    "\n",
    "def grad_step(function, variable):\n",
    "    optimizer.zero_grad()\n",
    "    function_result = function(variable)\n",
    "    function_result.backward()\n",
    "    optimizer.step()\n",
    "\n",
    "for step in range(100):\n",
    "    if step % 10 == 0:\n",
    "        print('x = {} | y = {} | step = {}'.format(float(x.data.numpy()), \n",
    "                                                       float(func(x).data.numpy()), step))\n",
    "#     print(float(x.data.numpy()), float(func(x).data.numpy()))\n",
    "    grad_step(func, x)"
   ]
  },
  {
   "cell_type": "code",
   "execution_count": null,
   "metadata": {
    "colab": {},
    "colab_type": "code",
    "id": "G4VkCzwt5Mky"
   },
   "outputs": [],
   "source": []
  }
 ],
 "metadata": {
  "celltoolbar": "Slideshow",
  "colab": {
   "name": "part2.ipynb",
   "provenance": []
  },
  "kernelspec": {
   "display_name": "Python 3",
   "language": "python",
   "name": "python3"
  },
  "language_info": {
   "codemirror_mode": {
    "name": "ipython",
    "version": 3
   },
   "file_extension": ".py",
   "mimetype": "text/x-python",
   "name": "python",
   "nbconvert_exporter": "python",
   "pygments_lexer": "ipython3",
   "version": "3.7.7"
  }
 },
 "nbformat": 4,
 "nbformat_minor": 4
}
