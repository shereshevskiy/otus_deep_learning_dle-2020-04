{
 "cells": [
  {
   "cell_type": "markdown",
   "metadata": {
    "colab_type": "text",
    "id": "qZPUb6kdVFTH"
   },
   "source": [
    "![Model training: spectrum of workflows](https://keras-dev.s3.amazonaws.com/tutorials-img/model-training-spectrum.png)"
   ]
  },
  {
   "cell_type": "code",
   "execution_count": null,
   "metadata": {
    "colab": {},
    "colab_type": "code",
    "id": "mPIAzKwRVFTJ",
    "outputId": "e22d5776-f772-485f-906d-4c6bdb254b60"
   },
   "outputs": [
    {
     "name": "stdout",
     "output_type": "stream",
     "text": [
      "Requirement already satisfied: Pillow in /usr/local/lib/python3.6/dist-packages (6.2.1)\n",
      "Collecting tqdm\n",
      "\u001b[?25l  Downloading https://files.pythonhosted.org/packages/8c/c3/d049cf3fb31094ee045ec1ee29fffac218c91e82c8838c49ab4c3e52627b/tqdm-4.41.0-py2.py3-none-any.whl (56kB)\n",
      "\u001b[K     |████████████████████████████████| 61kB 707kB/s eta 0:00:01\n",
      "\u001b[?25hInstalling collected packages: tqdm\n",
      "Successfully installed tqdm-4.41.0\n"
     ]
    }
   ],
   "source": [
    "!pip3 install Pillow tqdm"
   ]
  },
  {
   "cell_type": "markdown",
   "metadata": {
    "colab_type": "text",
    "id": "AFpklZZrVFTO"
   },
   "source": [
    "**Restart now!**"
   ]
  },
  {
   "cell_type": "code",
   "execution_count": 1,
   "metadata": {
    "colab": {},
    "colab_type": "code",
    "id": "XWSH_PIyVFTP"
   },
   "outputs": [],
   "source": [
    "import tensorflow as tf\n",
    "from tensorflow import keras\n",
    "import numpy as np\n",
    "from collections import Counter\n",
    "import os"
   ]
  },
  {
   "cell_type": "markdown",
   "metadata": {
    "colab_type": "text",
    "id": "zWn-wuWxYtr_"
   },
   "source": [
    "# Сохранение и загрузка моделей\n",
    "\n",
    "Есть несколько способов сохранить и загрузить модели.\n",
    "\n",
    "## Сохранение весов\n",
    "\n",
    "### Whole-model saving & loading\n",
    "```\n",
    "You can save an entire model to a single artifact. It will include:\n",
    "\n",
    "The model's architecture/config\n",
    "The model's weight values (which were learned during training)\n",
    "The model's compilation information (if compile()) was called\n",
    "The optimizer and its state, if any (this enables you to restart training where you left)\n",
    "```"
   ]
  },
  {
   "cell_type": "code",
   "execution_count": 2,
   "metadata": {
    "colab": {},
    "colab_type": "code",
    "id": "k_z6RZBnWAiN"
   },
   "outputs": [],
   "source": [
    "# !apt-get install tree"
   ]
  },
  {
   "cell_type": "code",
   "execution_count": 3,
   "metadata": {
    "colab": {},
    "colab_type": "code",
    "id": "YkbariyYeJKF"
   },
   "outputs": [],
   "source": [
    "keras.backend.clear_session()"
   ]
  },
  {
   "cell_type": "code",
   "execution_count": 4,
   "metadata": {
    "colab": {},
    "colab_type": "code",
    "id": "i7XZpDR4V-YV"
   },
   "outputs": [],
   "source": [
    "inp = keras.layers.Input(10)\n",
    "dense = keras.layers.Dense(10)(inp)\n",
    "model  = keras.Model(inp, dense)\n",
    "\n",
    "model.save_weights('saved_model/model_weights')"
   ]
  },
  {
   "cell_type": "markdown",
   "metadata": {
    "colab_type": "text",
    "id": "IC7BZpijWfZO"
   },
   "source": [
    " ```\n",
    " save_format: Either 'tf' or 'h5'. A `filepath` ending in '.h5' or\n",
    "        '.keras' will default to HDF5 if `save_format` is `None`. Otherwise\n",
    "        `None` defaults to 'tf'.\n",
    "```\n"
   ]
  },
  {
   "cell_type": "code",
   "execution_count": 26,
   "metadata": {},
   "outputs": [
    {
     "name": "stdout",
     "output_type": "stream",
     "text": [
      "Active code page: 65001\n"
     ]
    }
   ],
   "source": [
    "!chcp 65001"
   ]
  },
  {
   "cell_type": "code",
   "execution_count": 29,
   "metadata": {
    "colab": {
     "base_uri": "https://localhost:8080/",
     "height": 153
    },
    "colab_type": "code",
    "id": "nKKNmt6YWNx0",
    "outputId": "fa91ab3e-1be9-47f6-890b-a352899dfc77"
   },
   "outputs": [
    {
     "name": "stdout",
     "output_type": "stream",
     "text": [
      "Folder PATH listing\n",
      "Volume serial number is 00000202 2231:BA4E\n",
      "C:\\USERS\\DSHER\\YANDEXDISK\\PC\\EDUCATION\\OTUS_DEEP_LEARNING_DLE-2020-04\\MONTH1\\7_DIVE_INTO_TENSORFLOW\\SAVED_MODEL\n",
      "    checkpoint\n",
      "    model_weights.data-00000-of-00001\n",
      "    model_weights.index\n",
      "    \n",
      "No subfolders exist \n",
      "\n"
     ]
    }
   ],
   "source": [
    "!tree saved_model /f"
   ]
  },
  {
   "cell_type": "code",
   "execution_count": null,
   "metadata": {
    "colab": {
     "base_uri": "https://localhost:8080/",
     "height": 153
    },
    "colab_type": "code",
    "id": "nKKNmt6YWNx0",
    "outputId": "fa91ab3e-1be9-47f6-890b-a352899dfc77"
   },
   "outputs": [
    {
     "name": "stdout",
     "output_type": "stream",
     "text": [
      "saved_model\n",
      "├── checkpoint\n",
      "├── model_weights.data-00000-of-00002\n",
      "├── model_weights.data-00001-of-00002\n",
      "└── model_weights.index\n",
      "\n",
      "0 directories, 4 files\n"
     ]
    }
   ],
   "source": [
    "!tree saved_model"
   ]
  },
  {
   "cell_type": "code",
   "execution_count": 30,
   "metadata": {
    "colab": {},
    "colab_type": "code",
    "id": "bDzzuYlMXJfm"
   },
   "outputs": [],
   "source": [
    "model.save_weights('model_weights.h5')"
   ]
  },
  {
   "cell_type": "code",
   "execution_count": 31,
   "metadata": {
    "colab": {
     "base_uri": "https://localhost:8080/",
     "height": 54
    },
    "colab_type": "code",
    "id": "mPadYMsteEm_",
    "outputId": "733f18ec-9267-4440-9a23-2612ff93c4f3"
   },
   "outputs": [
    {
     "data": {
      "text/plain": [
       "['input_1', 'dense']"
      ]
     },
     "execution_count": 31,
     "metadata": {},
     "output_type": "execute_result"
    }
   ],
   "source": [
    "[l.name for l in model.layers]"
   ]
  },
  {
   "cell_type": "code",
   "execution_count": null,
   "metadata": {
    "colab": {
     "base_uri": "https://localhost:8080/",
     "height": 54
    },
    "colab_type": "code",
    "id": "vMEpCIlyXQnc",
    "outputId": "15945f3a-36b2-4c69-cb96-4d3ba4590cc8"
   },
   "outputs": [
    {
     "name": "stdout",
     "output_type": "stream",
     "text": [
      "model_weights.h5  sample_data  saved_model\n"
     ]
    }
   ],
   "source": [
    "!ls "
   ]
  },
  {
   "cell_type": "code",
   "execution_count": 41,
   "metadata": {
    "colab": {
     "base_uri": "https://localhost:8080/",
     "height": 54
    },
    "colab_type": "code",
    "id": "vMEpCIlyXQnc",
    "outputId": "15945f3a-36b2-4c69-cb96-4d3ba4590cc8"
   },
   "outputs": [
    {
     "data": {
      "text/plain": [
       "['.ipynb_checkpoints',\n",
       " 'model_weights.h5',\n",
       " 'saved_model',\n",
       " 'tensorflow_intro_2nd_part_2020.ipynb']"
      ]
     },
     "execution_count": 41,
     "metadata": {},
     "output_type": "execute_result"
    }
   ],
   "source": [
    "os.listdir()"
   ]
  },
  {
   "cell_type": "code",
   "execution_count": null,
   "metadata": {
    "colab": {},
    "colab_type": "code",
    "id": "db3Rx8ymXQgx"
   },
   "outputs": [],
   "source": [
    "model.save_weights('model_weights.h5', save_format='h5')"
   ]
  },
  {
   "cell_type": "code",
   "execution_count": null,
   "metadata": {
    "colab": {
     "base_uri": "https://localhost:8080/",
     "height": 54
    },
    "colab_type": "code",
    "id": "nZ_EByfsXn-i",
    "outputId": "7fa79978-dc8f-4975-ef5b-7a3b2be84d5e"
   },
   "outputs": [
    {
     "name": "stdout",
     "output_type": "stream",
     "text": [
      "model_weights.h5  sample_data  saved_model\n"
     ]
    }
   ],
   "source": [
    "!ls"
   ]
  },
  {
   "cell_type": "code",
   "execution_count": 42,
   "metadata": {
    "colab": {
     "base_uri": "https://localhost:8080/",
     "height": 54
    },
    "colab_type": "code",
    "id": "AO9M9DZGXpap",
    "outputId": "2160fb3d-5e12-42c4-be2f-38df03be6fc1"
   },
   "outputs": [
    {
     "name": "stdin",
     "output_type": "stream",
     "text": [
      "[WARNING] model_weights.h5 already exists - overwrite? [y/n] y\n"
     ]
    },
    {
     "name": "stdout",
     "output_type": "stream",
     "text": [
      "[TIP] Next time specify overwrite=True!\n"
     ]
    }
   ],
   "source": [
    "model.save_weights('model_weights.h5', overwrite=False, save_format='h5')"
   ]
  },
  {
   "cell_type": "markdown",
   "metadata": {
    "colab_type": "text",
    "id": "9QccJchtYxRn"
   },
   "source": [
    "## Загрузка весов"
   ]
  },
  {
   "cell_type": "markdown",
   "metadata": {
    "colab_type": "text",
    "id": "ewHFu6hghvdC"
   },
   "source": [
    "### Стандартная загрузка весов"
   ]
  },
  {
   "cell_type": "code",
   "execution_count": 43,
   "metadata": {
    "colab": {
     "base_uri": "https://localhost:8080/",
     "height": 54
    },
    "colab_type": "code",
    "id": "yoxomWgNYziU",
    "outputId": "0ff82c06-fe8c-4903-d465-7c1f20b21cc4"
   },
   "outputs": [
    {
     "data": {
      "text/plain": [
       "<tensorflow.python.training.tracking.util.CheckpointLoadStatus at 0x1f3b8f9a808>"
      ]
     },
     "execution_count": 43,
     "metadata": {},
     "output_type": "execute_result"
    }
   ],
   "source": [
    "status = model.load_weights('saved_model/model_weights')\n",
    "status"
   ]
  },
  {
   "cell_type": "code",
   "execution_count": 44,
   "metadata": {
    "colab": {},
    "colab_type": "code",
    "id": "584ahfE1Yzca"
   },
   "outputs": [],
   "source": [
    "status = model.load_weights('model_weights.h5')\n",
    "status"
   ]
  },
  {
   "cell_type": "code",
   "execution_count": 45,
   "metadata": {
    "colab": {},
    "colab_type": "code",
    "id": "SVpQnBPce-Ak"
   },
   "outputs": [],
   "source": [
    "keras.backend.clear_session()"
   ]
  },
  {
   "cell_type": "code",
   "execution_count": 46,
   "metadata": {
    "colab": {},
    "colab_type": "code",
    "id": "iGaQGa6oYzWs"
   },
   "outputs": [],
   "source": [
    "def make_model(layer_name, last_layer=10):\n",
    "  inp = keras.layers.Input(10)\n",
    "  dense = keras.layers.Dense(10)(inp)\n",
    "  dense = keras.layers.Dense(last_layer, name=layer_name)(dense)\n",
    "  model  = keras.Model(inp, dense)\n",
    "\n",
    "  return model"
   ]
  },
  {
   "cell_type": "code",
   "execution_count": 47,
   "metadata": {
    "colab": {},
    "colab_type": "code",
    "id": "8ul8FinYYzPH"
   },
   "outputs": [],
   "source": [
    "model = make_model('my_dense_layer')"
   ]
  },
  {
   "cell_type": "markdown",
   "metadata": {
    "colab_type": "text",
    "id": "uJ23AhClhsGW"
   },
   "source": [
    "### Загрузка весов по именам\n",
    "\n",
    "> **Не работает c tf - форматом модели!**"
   ]
  },
  {
   "cell_type": "markdown",
   "metadata": {
    "colab_type": "text",
    "id": "Z9B3T5mMfz_d"
   },
   "source": [
    "Получим и запомним веса модели:"
   ]
  },
  {
   "cell_type": "code",
   "execution_count": 48,
   "metadata": {
    "colab": {},
    "colab_type": "code",
    "id": "KJiA3UE3fxeu"
   },
   "outputs": [],
   "source": [
    "layers = model.layers\n",
    "dense_1 = layers[1]\n",
    "dense_2 = layers[2]\n",
    "w1 = dense_1.weights[0]  # 0 - kernel (здесь - 10х10), 1 - bias (здесь - 1х10)\n",
    "w2 = dense_2.weights[0]"
   ]
  },
  {
   "cell_type": "code",
   "execution_count": 50,
   "metadata": {},
   "outputs": [
    {
     "data": {
      "text/plain": [
       "[<tf.Variable 'my_dense_layer/kernel:0' shape=(10, 10) dtype=float32, numpy=\n",
       " array([[ 0.2408644 , -0.49372712, -0.28965136, -0.43899983,  0.02207118,\n",
       "          0.3524326 ,  0.3988219 ,  0.5127065 , -0.31596562,  0.13398123],\n",
       "        [-0.33798197, -0.00863546,  0.29996789,  0.09583795,  0.38577676,\n",
       "         -0.48259625,  0.49426854, -0.4044275 ,  0.2818535 ,  0.2905314 ],\n",
       "        [-0.19708344,  0.31661427,  0.2561068 , -0.19644383, -0.01127362,\n",
       "          0.30599165, -0.03354406, -0.26307687,  0.13753706,  0.02066582],\n",
       "        [-0.4738683 , -0.2505349 ,  0.2553286 ,  0.34694445,  0.20864534,\n",
       "         -0.20767066,  0.07435465, -0.1192964 , -0.09524158,  0.531073  ],\n",
       "        [ 0.37299085,  0.47593594,  0.5085145 , -0.5109027 ,  0.25261658,\n",
       "         -0.5401328 ,  0.09175885, -0.0748632 ,  0.54509854,  0.28522527],\n",
       "        [-0.20827684, -0.14993897, -0.5404984 ,  0.39201063, -0.3626687 ,\n",
       "         -0.40956703,  0.19121069,  0.45740175, -0.49394742, -0.3935026 ],\n",
       "        [-0.48688447, -0.10713038, -0.523191  ,  0.35819346, -0.05591589,\n",
       "         -0.08699042,  0.29341543, -0.00406164,  0.10351169, -0.49484035],\n",
       "        [ 0.20080048, -0.21635747, -0.5127031 , -0.11924678,  0.04156512,\n",
       "         -0.10346454,  0.49978936,  0.47600257, -0.26887417, -0.49943116],\n",
       "        [ 0.31186974,  0.22050387,  0.11677909, -0.33253664, -0.2547019 ,\n",
       "         -0.35305005, -0.14320353,  0.06052786, -0.28392434,  0.17539811],\n",
       "        [-0.37850857,  0.34618807, -0.07299253, -0.5107015 , -0.1073662 ,\n",
       "          0.1801213 , -0.5079932 ,  0.46226978,  0.34308326, -0.24081853]],\n",
       "       dtype=float32)>,\n",
       " <tf.Variable 'my_dense_layer/bias:0' shape=(10,) dtype=float32, numpy=array([0., 0., 0., 0., 0., 0., 0., 0., 0., 0.], dtype=float32)>]"
      ]
     },
     "execution_count": 50,
     "metadata": {},
     "output_type": "execute_result"
    }
   ],
   "source": [
    "dense_2.weights"
   ]
  },
  {
   "cell_type": "code",
   "execution_count": 51,
   "metadata": {},
   "outputs": [
    {
     "data": {
      "text/plain": [
       "[<tf.Variable 'my_dense_layer/kernel:0' shape=(10, 10) dtype=float32, numpy=\n",
       " array([[ 0.2408644 , -0.49372712, -0.28965136, -0.43899983,  0.02207118,\n",
       "          0.3524326 ,  0.3988219 ,  0.5127065 , -0.31596562,  0.13398123],\n",
       "        [-0.33798197, -0.00863546,  0.29996789,  0.09583795,  0.38577676,\n",
       "         -0.48259625,  0.49426854, -0.4044275 ,  0.2818535 ,  0.2905314 ],\n",
       "        [-0.19708344,  0.31661427,  0.2561068 , -0.19644383, -0.01127362,\n",
       "          0.30599165, -0.03354406, -0.26307687,  0.13753706,  0.02066582],\n",
       "        [-0.4738683 , -0.2505349 ,  0.2553286 ,  0.34694445,  0.20864534,\n",
       "         -0.20767066,  0.07435465, -0.1192964 , -0.09524158,  0.531073  ],\n",
       "        [ 0.37299085,  0.47593594,  0.5085145 , -0.5109027 ,  0.25261658,\n",
       "         -0.5401328 ,  0.09175885, -0.0748632 ,  0.54509854,  0.28522527],\n",
       "        [-0.20827684, -0.14993897, -0.5404984 ,  0.39201063, -0.3626687 ,\n",
       "         -0.40956703,  0.19121069,  0.45740175, -0.49394742, -0.3935026 ],\n",
       "        [-0.48688447, -0.10713038, -0.523191  ,  0.35819346, -0.05591589,\n",
       "         -0.08699042,  0.29341543, -0.00406164,  0.10351169, -0.49484035],\n",
       "        [ 0.20080048, -0.21635747, -0.5127031 , -0.11924678,  0.04156512,\n",
       "         -0.10346454,  0.49978936,  0.47600257, -0.26887417, -0.49943116],\n",
       "        [ 0.31186974,  0.22050387,  0.11677909, -0.33253664, -0.2547019 ,\n",
       "         -0.35305005, -0.14320353,  0.06052786, -0.28392434,  0.17539811],\n",
       "        [-0.37850857,  0.34618807, -0.07299253, -0.5107015 , -0.1073662 ,\n",
       "          0.1801213 , -0.5079932 ,  0.46226978,  0.34308326, -0.24081853]],\n",
       "       dtype=float32)>,\n",
       " <tf.Variable 'my_dense_layer/bias:0' shape=(10,) dtype=float32, numpy=array([0., 0., 0., 0., 0., 0., 0., 0., 0., 0.], dtype=float32)>]"
      ]
     },
     "execution_count": 51,
     "metadata": {},
     "output_type": "execute_result"
    }
   ],
   "source": [
    "model.get_layer('my_dense_layer').weights"
   ]
  },
  {
   "cell_type": "code",
   "execution_count": 49,
   "metadata": {
    "colab": {
     "base_uri": "https://localhost:8080/",
     "height": 54
    },
    "colab_type": "code",
    "id": "ojNpQvsnav0M",
    "outputId": "36749bf0-6bda-4881-af15-6f55e5d23ad2"
   },
   "outputs": [
    {
     "name": "stdout",
     "output_type": "stream",
     "text": [
      "<tensorflow.python.keras.layers.core.Dense object at 0x000001F3B8F6D588>\n"
     ]
    }
   ],
   "source": [
    "print(model.get_layer('my_dense_layer'))\n",
    "model.save_weights('saved_model_named_layer.h5', save_format='h5')"
   ]
  },
  {
   "cell_type": "code",
   "execution_count": 52,
   "metadata": {
    "colab": {
     "base_uri": "https://localhost:8080/",
     "height": 54
    },
    "colab_type": "code",
    "id": "x2dlozskeUnX",
    "outputId": "49cd1026-f432-4134-e88d-388733c33bb6"
   },
   "outputs": [
    {
     "data": {
      "text/plain": [
       "['input_1', 'dense', 'my_dense_layer']"
      ]
     },
     "execution_count": 52,
     "metadata": {},
     "output_type": "execute_result"
    }
   ],
   "source": [
    "[l.name for l in model.layers]"
   ]
  },
  {
   "cell_type": "code",
   "execution_count": 53,
   "metadata": {
    "colab": {},
    "colab_type": "code",
    "id": "dcSSpthMd_f8"
   },
   "outputs": [],
   "source": [
    "keras.backend.clear_session()"
   ]
  },
  {
   "cell_type": "code",
   "execution_count": 54,
   "metadata": {
    "colab": {},
    "colab_type": "code",
    "id": "TiOJU1R6ax1b"
   },
   "outputs": [],
   "source": [
    "model_2 = make_model('one_more_dense_layer')"
   ]
  },
  {
   "cell_type": "code",
   "execution_count": 55,
   "metadata": {
    "colab": {
     "base_uri": "https://localhost:8080/",
     "height": 54
    },
    "colab_type": "code",
    "id": "HxEsjTCUd_Kx",
    "outputId": "70c17b4a-7871-40c0-a830-cd39add733b6"
   },
   "outputs": [
    {
     "data": {
      "text/plain": [
       "['input_1', 'dense', 'one_more_dense_layer']"
      ]
     },
     "execution_count": 55,
     "metadata": {},
     "output_type": "execute_result"
    }
   ],
   "source": [
    "[l.name for l in model_2.layers]"
   ]
  },
  {
   "cell_type": "code",
   "execution_count": 57,
   "metadata": {
    "colab": {},
    "colab_type": "code",
    "id": "RExGFn5xaxua"
   },
   "outputs": [],
   "source": [
    "# model_2.load_weights('saved_model_named_layer.h5', \n",
    "#                      by_name=True, skip_mismatch=True)  # skip_mismatch - в в2.0, похоже, еще не было\n",
    "model_2.load_weights('saved_model_named_layer.h5', \n",
    "                     by_name=True)  # работает как для skip_mismatch=True"
   ]
  },
  {
   "cell_type": "markdown",
   "metadata": {
    "colab_type": "text",
    "id": "Dq-KEWJEaxnn"
   },
   "source": [
    "Получим веса модели:"
   ]
  },
  {
   "cell_type": "code",
   "execution_count": 58,
   "metadata": {
    "colab": {},
    "colab_type": "code",
    "id": "F_dW-mzeaxgf"
   },
   "outputs": [],
   "source": [
    "layers = model_2.layers\n",
    "dense_1 = layers[1] \n",
    "dense_2 = layers[2]\n",
    "w1_new = dense_1.weights[0]\n",
    "w2_new = dense_2.weights[0]"
   ]
  },
  {
   "cell_type": "markdown",
   "metadata": {
    "colab_type": "text",
    "id": "W6Et5uargiWS"
   },
   "source": [
    "Этот слой был загружен:"
   ]
  },
  {
   "cell_type": "code",
   "execution_count": 69,
   "metadata": {},
   "outputs": [
    {
     "data": {
      "text/plain": [
       "<tf.Variable 'dense/kernel:0' shape=(10, 10) dtype=float32, numpy=\n",
       "array([[ 0.16611141, -0.15675458,  0.17282295,  0.37168914, -0.28305542,\n",
       "        -0.29333982,  0.09799045,  0.40909612,  0.1460352 ,  0.29338175],\n",
       "       [-0.08270377,  0.10791457, -0.04734153, -0.3325178 ,  0.3284018 ,\n",
       "        -0.3081702 ,  0.43532926, -0.4692446 ,  0.2940477 , -0.5135378 ],\n",
       "       [-0.03419113,  0.5111964 ,  0.46649444,  0.05551344, -0.27998817,\n",
       "        -0.5309902 ,  0.3270923 , -0.17007083,  0.15273249,  0.50056136],\n",
       "       [ 0.46376157,  0.53097236, -0.43046424,  0.27069062,  0.44724643,\n",
       "         0.15677637,  0.05668402, -0.3897256 ,  0.38585758, -0.27312216],\n",
       "       [-0.36087328,  0.4536289 ,  0.41623586,  0.40222698, -0.01046079,\n",
       "         0.35781568,  0.3707959 , -0.13916579,  0.14889425,  0.2896763 ],\n",
       "       [ 0.20777828, -0.3571911 , -0.01621604,  0.53325427, -0.28339872,\n",
       "         0.25514764,  0.20575249, -0.4025166 ,  0.29256463,  0.46324968],\n",
       "       [ 0.46512806, -0.12588167,  0.23519117,  0.08801699, -0.08703247,\n",
       "        -0.5235078 ,  0.4439559 ,  0.46944296,  0.22599977, -0.25944382],\n",
       "       [-0.31329602, -0.17982581,  0.02349955,  0.48406386, -0.01166236,\n",
       "         0.24226046,  0.26464313,  0.14826995, -0.39891386,  0.30737978],\n",
       "       [-0.18141285, -0.49026942, -0.21603295,  0.54351246, -0.10395685,\n",
       "         0.06424111,  0.22813916,  0.4817189 , -0.22726855,  0.16839498],\n",
       "       [ 0.11691099, -0.20813975, -0.24087247, -0.40116543, -0.14946389,\n",
       "        -0.08652958,  0.0660761 , -0.27054176, -0.27364764, -0.3092118 ]],\n",
       "      dtype=float32)>"
      ]
     },
     "execution_count": 69,
     "metadata": {},
     "output_type": "execute_result"
    }
   ],
   "source": [
    "dense_1.weights[0]"
   ]
  },
  {
   "cell_type": "code",
   "execution_count": 70,
   "metadata": {},
   "outputs": [
    {
     "data": {
      "text/plain": [
       "<tf.Variable 'dense/kernel:0' shape=(10, 10) dtype=float32, numpy=\n",
       "array([[ 0.16611141, -0.15675458,  0.17282295,  0.37168914, -0.28305542,\n",
       "        -0.29333982,  0.09799045,  0.40909612,  0.1460352 ,  0.29338175],\n",
       "       [-0.08270377,  0.10791457, -0.04734153, -0.3325178 ,  0.3284018 ,\n",
       "        -0.3081702 ,  0.43532926, -0.4692446 ,  0.2940477 , -0.5135378 ],\n",
       "       [-0.03419113,  0.5111964 ,  0.46649444,  0.05551344, -0.27998817,\n",
       "        -0.5309902 ,  0.3270923 , -0.17007083,  0.15273249,  0.50056136],\n",
       "       [ 0.46376157,  0.53097236, -0.43046424,  0.27069062,  0.44724643,\n",
       "         0.15677637,  0.05668402, -0.3897256 ,  0.38585758, -0.27312216],\n",
       "       [-0.36087328,  0.4536289 ,  0.41623586,  0.40222698, -0.01046079,\n",
       "         0.35781568,  0.3707959 , -0.13916579,  0.14889425,  0.2896763 ],\n",
       "       [ 0.20777828, -0.3571911 , -0.01621604,  0.53325427, -0.28339872,\n",
       "         0.25514764,  0.20575249, -0.4025166 ,  0.29256463,  0.46324968],\n",
       "       [ 0.46512806, -0.12588167,  0.23519117,  0.08801699, -0.08703247,\n",
       "        -0.5235078 ,  0.4439559 ,  0.46944296,  0.22599977, -0.25944382],\n",
       "       [-0.31329602, -0.17982581,  0.02349955,  0.48406386, -0.01166236,\n",
       "         0.24226046,  0.26464313,  0.14826995, -0.39891386,  0.30737978],\n",
       "       [-0.18141285, -0.49026942, -0.21603295,  0.54351246, -0.10395685,\n",
       "         0.06424111,  0.22813916,  0.4817189 , -0.22726855,  0.16839498],\n",
       "       [ 0.11691099, -0.20813975, -0.24087247, -0.40116543, -0.14946389,\n",
       "        -0.08652958,  0.0660761 , -0.27054176, -0.27364764, -0.3092118 ]],\n",
       "      dtype=float32)>"
      ]
     },
     "execution_count": 70,
     "metadata": {},
     "output_type": "execute_result"
    }
   ],
   "source": [
    "w1"
   ]
  },
  {
   "cell_type": "code",
   "execution_count": 59,
   "metadata": {
    "colab": {
     "base_uri": "https://localhost:8080/",
     "height": 54
    },
    "colab_type": "code",
    "id": "47zU92YHaxLy",
    "outputId": "7e8e43a7-0ea1-4434-b8c4-fa1928c0b930"
   },
   "outputs": [
    {
     "data": {
      "text/plain": [
       "True"
      ]
     },
     "execution_count": 59,
     "metadata": {},
     "output_type": "execute_result"
    }
   ],
   "source": [
    "np.allclose(w1_new.numpy(), w1.numpy())"
   ]
  },
  {
   "cell_type": "markdown",
   "metadata": {
    "colab_type": "text",
    "id": "Ahc1W-pQgmqH"
   },
   "source": [
    "А этот слой не был, потому что его имя не совпадает:"
   ]
  },
  {
   "cell_type": "code",
   "execution_count": 60,
   "metadata": {
    "colab": {
     "base_uri": "https://localhost:8080/",
     "height": 54
    },
    "colab_type": "code",
    "id": "St4LcmLCgFJN",
    "outputId": "e7cc8058-ebe4-41ac-82ef-4eba6a1c185c"
   },
   "outputs": [
    {
     "data": {
      "text/plain": [
       "False"
      ]
     },
     "execution_count": 60,
     "metadata": {},
     "output_type": "execute_result"
    }
   ],
   "source": [
    "np.allclose(w2_new.numpy(), w2.numpy())"
   ]
  },
  {
   "cell_type": "markdown",
   "metadata": {},
   "source": [
    "MM: остается дефолтная инициализация, которая была в модели до загрузки весов"
   ]
  },
  {
   "cell_type": "markdown",
   "metadata": {
    "colab_type": "text",
    "id": "0Jnq9C8Xhyyy"
   },
   "source": [
    "### Загрузка весов из модели с другой топологией"
   ]
  },
  {
   "cell_type": "code",
   "execution_count": 71,
   "metadata": {
    "colab": {},
    "colab_type": "code",
    "id": "tokJF3IniuSy"
   },
   "outputs": [],
   "source": [
    "def make_model_three_layers(layer_name, last_layer=10):\n",
    "  inp = keras.layers.Input(10)\n",
    "  dense = keras.layers.Dense(10)(inp)\n",
    "  dense = keras.layers.Dense(10)(dense)\n",
    "\n",
    "  dense = keras.layers.Dense(last_layer, name=layer_name)(dense)\n",
    "  model  = keras.Model(inp, dense)\n",
    "\n",
    "  return model"
   ]
  },
  {
   "cell_type": "code",
   "execution_count": 72,
   "metadata": {
    "colab": {},
    "colab_type": "code",
    "id": "x-WFiKD9iFbf"
   },
   "outputs": [],
   "source": [
    "keras.backend.clear_session()"
   ]
  },
  {
   "cell_type": "code",
   "execution_count": 73,
   "metadata": {
    "colab": {},
    "colab_type": "code",
    "id": "tUhIoDGMhpcp"
   },
   "outputs": [],
   "source": [
    "model_3 = make_model_three_layers('yer_another_model')\n",
    "model_3.save_weights('saved_model_20_units.h5', save_format='h5')\n",
    "weight = model_3.layers[1].weights[0]"
   ]
  },
  {
   "cell_type": "code",
   "execution_count": 74,
   "metadata": {
    "colab": {},
    "colab_type": "code",
    "id": "2B5lriCvhpUg"
   },
   "outputs": [],
   "source": [
    "keras.backend.clear_session()\n",
    "model_3 = make_model_three_layers('yer_another_model', 20)"
   ]
  },
  {
   "cell_type": "markdown",
   "metadata": {
    "colab_type": "text",
    "id": "oQvhNzsVjKkV"
   },
   "source": [
    "### Несовпвадающие слои при загрузке by_name"
   ]
  },
  {
   "cell_type": "markdown",
   "metadata": {
    "colab_type": "text",
    "id": "yRy6iiHkj0Fz"
   },
   "source": [
    "По умолчанию модель с другой топологией не будет загружена."
   ]
  },
  {
   "cell_type": "code",
   "execution_count": 84,
   "metadata": {
    "colab": {
     "base_uri": "https://localhost:8080/",
     "height": 54
    },
    "colab_type": "code",
    "id": "S2oPfXmFhpMu",
    "outputId": "a86744de-c212-43a2-e7d4-3828ed9c8cc9"
   },
   "outputs": [
    {
     "name": "stdout",
     "output_type": "stream",
     "text": [
      "weight mismatch\n"
     ]
    }
   ],
   "source": [
    "try:\n",
    "  model_3.load_weights('saved_model_20_units.h5', by_name=True)\n",
    "except ValueError as e:\n",
    "  print('weight mismatch')"
   ]
  },
  {
   "cell_type": "markdown",
   "metadata": {
    "colab_type": "text",
    "id": "RjaKmBKojvP-"
   },
   "source": [
    "Можно промотать несовпадающие по топологии слои:"
   ]
  },
  {
   "cell_type": "code",
   "execution_count": 81,
   "metadata": {
    "colab": {
     "base_uri": "https://localhost:8080/",
     "height": 71
    },
    "colab_type": "code",
    "id": "IlnQZ1ANhpFF",
    "outputId": "ca07c3ca-9153-49fd-deea-d90ff705bd35"
   },
   "outputs": [],
   "source": [
    "# model_3.load_weights('saved_model_20_units.h5', \n",
    "#                      by_name=True, skip_mismatch=True)"
   ]
  },
  {
   "cell_type": "markdown",
   "metadata": {
    "colab_type": "text",
    "id": "VFSIUK5kjo0q"
   },
   "source": [
    "Загруженные веса (с совпадающей топологией и именами) восстановлены:"
   ]
  },
  {
   "cell_type": "code",
   "execution_count": 82,
   "metadata": {
    "colab": {
     "base_uri": "https://localhost:8080/",
     "height": 54
    },
    "colab_type": "code",
    "id": "ty48Oc4fho6M",
    "outputId": "ccb400e0-7b84-4be5-ca01-7627db70ae0c"
   },
   "outputs": [
    {
     "data": {
      "text/plain": [
       "True"
      ]
     },
     "execution_count": 82,
     "metadata": {},
     "output_type": "execute_result"
    }
   ],
   "source": [
    "np.allclose(model_3.layers[1].weights[0].numpy(), weight.numpy())"
   ]
  },
  {
   "cell_type": "markdown",
   "metadata": {
    "colab_type": "text",
    "id": "S_LtXkyrjg_8"
   },
   "source": [
    "## Загрузка и сохранение целой модели"
   ]
  },
  {
   "cell_type": "code",
   "execution_count": 92,
   "metadata": {
    "colab": {},
    "colab_type": "code",
    "id": "x0BqBoLioLJn"
   },
   "outputs": [],
   "source": [
    "keras.backend.clear_session()"
   ]
  },
  {
   "cell_type": "code",
   "execution_count": 93,
   "metadata": {
    "colab": {},
    "colab_type": "code",
    "id": "XLuSMCoujg3r"
   },
   "outputs": [],
   "source": [
    "model = make_model_three_layers('yer_another_model')\n",
    "model.compile(optimizer='adam', loss='mse')"
   ]
  },
  {
   "cell_type": "code",
   "execution_count": 94,
   "metadata": {
    "colab": {
     "base_uri": "https://localhost:8080/",
     "height": 120
    },
    "colab_type": "code",
    "id": "aQL59fcMjgvo",
    "outputId": "5c7d13b6-8474-48b0-e706-3e067241e52c"
   },
   "outputs": [
    {
     "name": "stdout",
     "output_type": "stream",
     "text": [
      "INFO:tensorflow:Assets written to: entire_model/model\\assets\n"
     ]
    },
    {
     "data": {
      "text/plain": [
       "['input_1', 'dense', 'dense_1', 'yer_another_model']"
      ]
     },
     "execution_count": 94,
     "metadata": {},
     "output_type": "execute_result"
    }
   ],
   "source": [
    "if not os.path.exists('entire_model/model'):\n",
    "    os.mkdir('entire_model/model')  # для в2.2 это делается автоматом\n",
    "model.save('entire_model/model', \n",
    "           overwrite=True,\n",
    "           include_optimizer=True,  # Состояние оптимизатора. Adam и проч. \n",
    "           save_format='tf')\n",
    "[l.name for l in model.layers]"
   ]
  },
  {
   "cell_type": "code",
   "execution_count": 95,
   "metadata": {
    "colab": {
     "base_uri": "https://localhost:8080/",
     "height": 120
    },
    "colab_type": "code",
    "id": "aQL59fcMjgvo",
    "outputId": "5c7d13b6-8474-48b0-e706-3e067241e52c"
   },
   "outputs": [
    {
     "name": "stdout",
     "output_type": "stream",
     "text": [
      "INFO:tensorflow:Assets written to: entire_model/model\\assets\n"
     ]
    },
    {
     "data": {
      "text/plain": [
       "['input_1', 'dense', 'dense_1', 'yer_another_model']"
      ]
     },
     "execution_count": 95,
     "metadata": {},
     "output_type": "execute_result"
    }
   ],
   "source": [
    "model.save('entire_model/model', \n",
    "           overwrite=True,\n",
    "           include_optimizer=True,  # Состояние оптимизатора. Adam и проч. \n",
    "           save_format='tf')\n",
    "[l.name for l in model.layers]"
   ]
  },
  {
   "cell_type": "code",
   "execution_count": null,
   "metadata": {
    "colab": {
     "base_uri": "https://localhost:8080/",
     "height": 203
    },
    "colab_type": "code",
    "id": "QJUMhAucjgn4",
    "outputId": "86b6df6b-73a5-4a14-c87a-c018616e5699"
   },
   "outputs": [
    {
     "name": "stdout",
     "output_type": "stream",
     "text": [
      "entire_model\n",
      "└── model\n",
      "    ├── assets\n",
      "    ├── saved_model.pb\n",
      "    └── variables\n",
      "        ├── variables.data-00000-of-00002\n",
      "        ├── variables.data-00001-of-00002\n",
      "        └── variables.index\n",
      "\n",
      "3 directories, 4 files\n"
     ]
    }
   ],
   "source": [
    "!tree entire_model"
   ]
  },
  {
   "cell_type": "code",
   "execution_count": 97,
   "metadata": {
    "colab": {},
    "colab_type": "code",
    "id": "o9rEJeT0jgfy"
   },
   "outputs": [],
   "source": [
    "# with open('entire_model/model/saved_model.pb', 'rb') as file:\n",
    "#   for line in file.readlines():\n",
    "#     print(line)"
   ]
  },
  {
   "cell_type": "code",
   "execution_count": 98,
   "metadata": {
    "colab": {},
    "colab_type": "code",
    "id": "7pB1rrOBo6GO"
   },
   "outputs": [],
   "source": [
    "import tensorflow\n",
    "from tensorflow import keras"
   ]
  },
  {
   "cell_type": "code",
   "execution_count": 99,
   "metadata": {
    "colab": {},
    "colab_type": "code",
    "id": "Vp92svJAjgXp"
   },
   "outputs": [],
   "source": [
    "model = keras.models.load_model('entire_model/model')"
   ]
  },
  {
   "cell_type": "code",
   "execution_count": 100,
   "metadata": {
    "colab": {
     "base_uri": "https://localhost:8080/",
     "height": 54
    },
    "colab_type": "code",
    "id": "pghCMbFCjgPd",
    "outputId": "2a0a8be2-a26b-4a9e-fb28-076245cead0b"
   },
   "outputs": [
    {
     "data": {
      "text/plain": [
       "['input_1', 'dense', 'dense_1', 'yer_another_model']"
      ]
     },
     "execution_count": 100,
     "metadata": {},
     "output_type": "execute_result"
    }
   ],
   "source": [
    "[l.name for l in model.layers]"
   ]
  },
  {
   "cell_type": "markdown",
   "metadata": {
    "colab_type": "text",
    "id": "xBFsoMpIjgHc"
   },
   "source": [
    "## Сохранение / загрузка своих слоев"
   ]
  },
  {
   "cell_type": "code",
   "execution_count": 101,
   "metadata": {
    "colab": {},
    "colab_type": "code",
    "id": "fLzzOMpDrsXU"
   },
   "outputs": [],
   "source": [
    "keras.backend.clear_session()"
   ]
  },
  {
   "cell_type": "code",
   "execution_count": 102,
   "metadata": {
    "colab": {},
    "colab_type": "code",
    "id": "lBPGwqpTjf_R"
   },
   "outputs": [],
   "source": [
    "class MyShinyLayer(keras.layers.Layer):\n",
    "  def __init__(self, parameter, *args, **kwargs):\n",
    "    super().__init__(*args, **kwargs)\n",
    "    self.parameter = parameter\n",
    "\n",
    "  def call(self, inputs):\n",
    "    return inputs\n",
    "\n",
    "  def build(self, input_shape):\n",
    "    print(\"Building layer with parameter %d\" % self.parameter)\n",
    "\n",
    "  def get_config(self):\n",
    "    # используйте keras.utils.serialize_keras_object - если вам надо\n",
    "    # сериализовать добавленный объект, например, инициализатор.\n",
    "    base_config = super().get_config()\n",
    "    base_config['parameter'] = self.parameter\n",
    "    return base_config"
   ]
  },
  {
   "cell_type": "code",
   "execution_count": 103,
   "metadata": {
    "colab": {},
    "colab_type": "code",
    "id": "kk8wu5L9jf2i"
   },
   "outputs": [],
   "source": [
    "def make_model_with_my_layer():\n",
    "  inp = keras.layers.Input(10)\n",
    "  dense = keras.layers.Dense(10)(inp)\n",
    "  dense = keras.layers.Dense(10)(dense)\n",
    "  dense = MyShinyLayer(1)(dense)  \n",
    "  dense = keras.layers.Dense(10)(dense)\n",
    "  model  = keras.Model(inp, dense)\n",
    "  return model"
   ]
  },
  {
   "cell_type": "code",
   "execution_count": 104,
   "metadata": {
    "colab": {
     "base_uri": "https://localhost:8080/",
     "height": 54
    },
    "colab_type": "code",
    "id": "23u69ruljftw",
    "outputId": "8eae52fb-7862-4c2b-f776-80717f23b1d8"
   },
   "outputs": [
    {
     "name": "stdout",
     "output_type": "stream",
     "text": [
      "Building layer with parameter 1\n"
     ]
    }
   ],
   "source": [
    "my_model = make_model_with_my_layer()"
   ]
  },
  {
   "cell_type": "markdown",
   "metadata": {
    "colab_type": "text",
    "id": "lYeGqcagsLwR"
   },
   "source": [
    "Сохраняем модель с кастомным слоем (обратите внимание: вызывается метод `call` кастомного слоя)\n"
   ]
  },
  {
   "cell_type": "code",
   "execution_count": 122,
   "metadata": {
    "colab": {
     "base_uri": "https://localhost:8080/",
     "height": 54
    },
    "colab_type": "code",
    "id": "iYVo4TYRjflk",
    "outputId": "dd8eadbb-607a-4399-acae-00767751893b"
   },
   "outputs": [
    {
     "name": "stdout",
     "output_type": "stream",
     "text": [
      "INFO:tensorflow:Assets written to: my_model\\model\\assets\n"
     ]
    }
   ],
   "source": [
    "os.makedirs('my_model', exist_ok=True)  # для в2.2 это делается автоматом\n",
    "my_model.save(r'my_model\\model', \n",
    "              save_format='tf')"
   ]
  },
  {
   "cell_type": "code",
   "execution_count": 110,
   "metadata": {
    "colab": {
     "base_uri": "https://localhost:8080/",
     "height": 54
    },
    "colab_type": "code",
    "id": "iYVo4TYRjflk",
    "outputId": "dd8eadbb-607a-4399-acae-00767751893b"
   },
   "outputs": [
    {
     "name": "stdout",
     "output_type": "stream",
     "text": [
      "INFO:tensorflow:Assets written to: my_model\\model\\assets\n"
     ]
    }
   ],
   "source": [
    "os.makedirs('my_model', exist_ok=True)  # для в2.2 это делается автоматом\n",
    "my_model.save(os.path.join('my_model', 'model'), \n",
    "              save_format='tf')"
   ]
  },
  {
   "cell_type": "markdown",
   "metadata": {
    "colab_type": "text",
    "id": "8HGcBxwxsQt0"
   },
   "source": [
    "Теперь мы можем загрузить модель из набора файлов. Обратите внимание, что модель восстанавливается в сохраненном виде. Например, здесь она не скомпилирована."
   ]
  },
  {
   "cell_type": "code",
   "execution_count": 112,
   "metadata": {
    "colab": {
     "base_uri": "https://localhost:8080/",
     "height": 54
    },
    "colab_type": "code",
    "id": "frAZlDgCrcJY",
    "outputId": "374a6b63-6930-4dcb-e7af-538feb7531ff"
   },
   "outputs": [],
   "source": [
    "loaded_model = keras.models.load_model('my_model/model')"
   ]
  },
  {
   "cell_type": "markdown",
   "metadata": {
    "colab_type": "text",
    "id": "g3L18Ayoskm7"
   },
   "source": [
    "Наш слой \"виден\" среди слоев модели."
   ]
  },
  {
   "cell_type": "code",
   "execution_count": 113,
   "metadata": {
    "colab": {
     "base_uri": "https://localhost:8080/",
     "height": 120
    },
    "colab_type": "code",
    "id": "4yOYLkrUrb-V",
    "outputId": "c8da5c8f-04d2-4f23-a01b-f9516ce9bcb1"
   },
   "outputs": [
    {
     "data": {
      "text/plain": [
       "[<tensorflow.python.keras.saving.saved_model.load.InputLayer at 0x1f3bd7f6c88>,\n",
       " <tensorflow.python.keras.saving.saved_model.load.Dense at 0x1f3bf659548>,\n",
       " <tensorflow.python.keras.saving.saved_model.load.Dense at 0x1f3bd7fa3c8>,\n",
       " <tensorflow.python.keras.saving.saved_model.load.MyShinyLayer at 0x1f3bf641c88>,\n",
       " <tensorflow.python.keras.saving.saved_model.load.Dense at 0x1f3bf641e08>]"
      ]
     },
     "execution_count": 113,
     "metadata": {},
     "output_type": "execute_result"
    }
   ],
   "source": [
    "loaded_model.layers"
   ]
  },
  {
   "cell_type": "code",
   "execution_count": 114,
   "metadata": {
    "colab": {},
    "colab_type": "code",
    "id": "jJDYR4QSrb0C"
   },
   "outputs": [],
   "source": [
    "loaded_model.compile('adam', loss='mse')"
   ]
  },
  {
   "cell_type": "code",
   "execution_count": 115,
   "metadata": {
    "colab": {},
    "colab_type": "code",
    "id": "7BEp3O6urbpt"
   },
   "outputs": [],
   "source": [
    "data = np.random.normal(0, 1, (2000, 10))"
   ]
  },
  {
   "cell_type": "code",
   "execution_count": 121,
   "metadata": {
    "colab": {
     "base_uri": "https://localhost:8080/",
     "height": 335
    },
    "colab_type": "code",
    "id": "FbhxBQWcNuLq",
    "outputId": "008bf623-84e6-4511-b374-cf7af58e2a24"
   },
   "outputs": [],
   "source": [
    "# loaded_model.summary()"
   ]
  },
  {
   "cell_type": "code",
   "execution_count": 117,
   "metadata": {
    "colab": {
     "base_uri": "https://localhost:8080/",
     "height": 71
    },
    "colab_type": "code",
    "id": "vQi8eVlqrbex",
    "outputId": "66678223-8556-43b1-f44e-a09cfbfb2c54"
   },
   "outputs": [
    {
     "name": "stdout",
     "output_type": "stream",
     "text": [
      "Train on 2000 samples\n",
      "2000/2000 [==============================] - 1s 315us/sample - loss: 1.4058\n"
     ]
    },
    {
     "data": {
      "text/plain": [
       "<tensorflow.python.keras.callbacks.History at 0x1f3bd533048>"
      ]
     },
     "execution_count": 117,
     "metadata": {},
     "output_type": "execute_result"
    }
   ],
   "source": [
    "loaded_model.fit(data, data)"
   ]
  },
  {
   "cell_type": "markdown",
   "metadata": {
    "colab_type": "text",
    "id": "YBHWulkCt9BY"
   },
   "source": [
    "### Работает ли то же самое с (устаревшим) h5?"
   ]
  },
  {
   "cell_type": "markdown",
   "metadata": {
    "colab_type": "text",
    "id": "Tfj1nKUww0pS"
   },
   "source": [
    "Просто загрузить модель через `keras.models.load_model` (*насколько я знаю) нельзя:"
   ]
  },
  {
   "cell_type": "code",
   "execution_count": 119,
   "metadata": {
    "colab": {
     "base_uri": "https://localhost:8080/",
     "height": 51
    },
    "colab_type": "code",
    "id": "F1HOjpNTuDEb",
    "outputId": "b98facc4-1491-466a-8e1f-f2fbd597bef3"
   },
   "outputs": [
    {
     "name": "stdout",
     "output_type": "stream",
     "text": [
      "Building layer with parameter 1\n",
      "Unknown layer: MyShinyLayer\n"
     ]
    }
   ],
   "source": [
    "try:\n",
    "  keras.backend.clear_session()\n",
    "  my_model = make_model_with_my_layer()\n",
    "  os.makedirs('my_model_h5', exist_ok=True)\n",
    "  my_model.save('my_model_h5/model.h5', \n",
    "                save_format='h5')\n",
    "  loaded_model = keras.models.load_model('my_model_h5/model.h5')\n",
    "  loaded_model.compile('adam', loss='mse')\n",
    "  loaded_model.fit(data, data)\n",
    "except Exception as e:\n",
    "  print(e)"
   ]
  },
  {
   "cell_type": "markdown",
   "metadata": {
    "colab_type": "text",
    "id": "JcPV0KmgwvHG"
   },
   "source": [
    "Вам нужен экземляр модели, куда можно загрузить созраненные веса:"
   ]
  },
  {
   "cell_type": "code",
   "execution_count": 120,
   "metadata": {
    "colab": {
     "base_uri": "https://localhost:8080/",
     "height": 104
    },
    "colab_type": "code",
    "id": "a5A_SMAeuXij",
    "outputId": "7ecf6200-d9fa-4814-abdb-12431ca0dde4"
   },
   "outputs": [
    {
     "name": "stdout",
     "output_type": "stream",
     "text": [
      "Building layer with parameter 1\n",
      "Building layer with parameter 1\n",
      "Train on 2000 samples\n",
      "2000/2000 [==============================] - 0s 181us/sample - loss: 1.5541\n"
     ]
    },
    {
     "data": {
      "text/plain": [
       "<tensorflow.python.keras.callbacks.History at 0x1f3c09ebac8>"
      ]
     },
     "execution_count": 120,
     "metadata": {},
     "output_type": "execute_result"
    }
   ],
   "source": [
    "keras.backend.clear_session()\n",
    "my_model = make_model_with_my_layer()\n",
    "os.makedirs('my_model_h5', exist_ok=True)\n",
    "my_model.save('my_model_h5/model.h5', \n",
    "              save_format='h5')\n",
    "\n",
    "keras.backend.clear_session()\n",
    "loaded_model = make_model_with_my_layer()\n",
    "loaded_model.load_weights('my_model_h5/model.h5')\n",
    "loaded_model.compile('adam', loss='mse')\n",
    "loaded_model.fit(data, data)"
   ]
  },
  {
   "cell_type": "code",
   "execution_count": null,
   "metadata": {
    "colab": {},
    "colab_type": "code",
    "id": "wleSXMmdOUtp"
   },
   "outputs": [],
   "source": []
  },
  {
   "cell_type": "markdown",
   "metadata": {
    "colab_type": "text",
    "id": "6QZp5hAHwW86"
   },
   "source": [
    "А если метода get_config нет?"
   ]
  },
  {
   "cell_type": "code",
   "execution_count": null,
   "metadata": {
    "colab": {},
    "colab_type": "code",
    "id": "W-GPJXYKuXQB"
   },
   "outputs": [],
   "source": [
    "class MyShinyLayer(keras.layers.Layer):\n",
    "  def __init__(self, parameter, *args, **kwargs):\n",
    "    super().__init__(*args, **kwargs)\n",
    "    self.parameter = parameter\n",
    "\n",
    "  def call(self, inputs):\n",
    "    return inputs\n",
    "\n",
    "  def build(self, input_shape):\n",
    "    print(\"Building layer with parameter %d\" % self.parameter)"
   ]
  },
  {
   "cell_type": "code",
   "execution_count": null,
   "metadata": {
    "colab": {
     "base_uri": "https://localhost:8080/",
     "height": 71
    },
    "colab_type": "code",
    "id": "bxQWiseTwOxm",
    "outputId": "8cb7a666-fb2f-4d33-94ec-657697a5ff8c"
   },
   "outputs": [
    {
     "name": "stdout",
     "output_type": "stream",
     "text": [
      "Building layer with parameter 1\n",
      "Layer MyShinyLayer has arguments in `__init__` and therefore must override `get_config`.\n"
     ]
    }
   ],
   "source": [
    "try:\n",
    "  keras.backend.clear_session()\n",
    "  my_model = make_model_with_my_layer()\n",
    "  os.makedirs('my_model_h5', exist_ok=True)\n",
    "  my_model.save('my_model_h5/model.h5', \n",
    "                save_format='h5')\n",
    "\n",
    "  keras.backend.clear_session()\n",
    "  loaded_model = make_model_with_my_layer()\n",
    "  loaded_model.load_weights('my_model_h5/model.h5')\n",
    "  loaded_model.compile('adam', loss='mse')\n",
    "  loaded_model.fit(data, data)\n",
    "except Exception as e:\n",
    "  print(e)"
   ]
  },
  {
   "cell_type": "markdown",
   "metadata": {
    "colab_type": "text",
    "id": "2f8E7xg9ymiM"
   },
   "source": [
    "# Коллбэки и сохранение модели\n",
    "## Коллбэки"
   ]
  },
  {
   "cell_type": "markdown",
   "metadata": {
    "colab_type": "text",
    "id": "JABCWbh_VFTZ"
   },
   "source": [
    "## Подготавливаем данные"
   ]
  },
  {
   "cell_type": "code",
   "execution_count": null,
   "metadata": {
    "colab": {
     "base_uri": "https://localhost:8080/",
     "height": 71
    },
    "colab_type": "code",
    "id": "w0esl6tOVFTZ",
    "outputId": "b32f7388-f512-4294-85e9-64b02da2cd06"
   },
   "outputs": [
    {
     "name": "stdout",
     "output_type": "stream",
     "text": [
      "Downloading data from https://storage.googleapis.com/tensorflow/tf-keras-datasets/imdb.npz\n",
      "17465344/17464789 [==============================] - 0s 0us/step\n"
     ]
    }
   ],
   "source": [
    "(X_train, Y_train), (X_test, Y_test) = keras.datasets.imdb.load_data()\n",
    "frequent_thr = 20\n",
    "rare_thr = 1000\n",
    "\n",
    "\n",
    "def filter_sentence(sentense, freq, rare):\n",
    "    arr = np.zeros(rare - freq)\n",
    "    counter = Counter(sentense)\n",
    "    for item, count in counter.items():\n",
    "        if item > freq and item < rare:\n",
    "            arr[item - freq] += 1\n",
    "    return arr\n",
    "\n",
    "\n",
    "def preprocess(X, freq, rare):\n",
    "    return np.array([filter_sentence(x, freq, rare) for x in X])"
   ]
  },
  {
   "cell_type": "code",
   "execution_count": null,
   "metadata": {
    "colab": {
     "base_uri": "https://localhost:8080/",
     "height": 170
    },
    "colab_type": "code",
    "id": "WO6w70yRPTyL",
    "outputId": "ba9b9d9e-0d37-43c0-96cf-42d949b145ee"
   },
   "outputs": [
    {
     "data": {
      "text/plain": [
       "array([list([1, 591, 202, 14, 31, 6, 717, 10, 10, 18142, 10698, 5, 4, 360, 7, 4, 177, 5760, 394, 354, 4, 123, 9, 1035, 1035, 1035, 10, 10, 13, 92, 124, 89, 488, 7944, 100, 28, 1668, 14, 31, 23, 27, 7479, 29, 220, 468, 8, 124, 14, 286, 170, 8, 157, 46, 5, 27, 239, 16, 179, 15387, 38, 32, 25, 7944, 451, 202, 14, 6, 717]),\n",
       "       list([1, 14, 22, 3443, 6, 176, 7, 5063, 88, 12, 2679, 23, 1310, 5, 109, 943, 4, 114, 9, 55, 606, 5, 111, 7, 4, 139, 193, 273, 23, 4, 172, 270, 11, 7216, 10626, 4, 8463, 2801, 109, 1603, 21, 4, 22, 3861, 8, 6, 1193, 1330, 10, 10, 4, 105, 987, 35, 841, 16873, 19, 861, 1074, 5, 1987, 17975, 45, 55, 221, 15, 670, 5304, 526, 14, 1069, 4, 405, 5, 2438, 7, 27, 85, 108, 131, 4, 5045, 5304, 3884, 405, 9, 3523, 133, 5, 50, 13, 104, 51, 66, 166, 14, 22, 157, 9, 4, 530, 239, 34, 8463, 2801, 45, 407, 31, 7, 41, 3778, 105, 21, 59, 299, 12, 38, 950, 5, 4521, 15, 45, 629, 488, 2733, 127, 6, 52, 292, 17, 4, 6936, 185, 132, 1988, 5304, 1799, 488, 2693, 47, 6, 392, 173, 4, 21686, 4378, 270, 2352, 4, 1500, 7, 4, 65, 55, 73, 11, 346, 14, 20, 9, 6, 976, 2078, 7, 5293, 861, 12746, 5, 4182, 30, 3127, 23651, 56, 4, 841, 5, 990, 692, 8, 4, 1669, 398, 229, 10, 10, 13, 2822, 670, 5304, 14, 9, 31, 7, 27, 111, 108, 15, 2033, 19, 7836, 1429, 875, 551, 14, 22, 9, 1193, 21, 45, 4829, 5, 45, 252, 8, 12508, 6, 565, 921, 3639, 39, 4, 529, 48, 25, 181, 8, 67, 35, 1732, 22, 49, 238, 60, 135, 1162, 14, 9, 290, 4, 58, 10, 10, 472, 45, 55, 878, 8, 169, 11, 374, 5687, 25, 203, 28, 8, 818, 12, 125, 4, 3077]),\n",
       "       list([1, 111, 748, 4368, 1133, 33782, 24563, 4, 87, 1551, 1262, 7, 31, 318, 9459, 7, 4, 498, 5076, 748, 63, 29, 5161, 220, 686, 10941, 5, 17, 12, 575, 220, 2507, 17, 6, 185, 132, 24563, 16, 53, 928, 11, 51278, 74, 4, 438, 21, 27, 10044, 589, 8, 22, 107, 20123, 19550, 997, 1638, 8, 35, 2076, 9019, 11, 22, 231, 54, 29, 1706, 29, 100, 18995, 2425, 34, 12998, 8738, 48078, 5, 19353, 98, 31, 2122, 33, 6, 58, 14, 3808, 1638, 8, 4, 365, 7, 2789, 3761, 356, 346, 4, 27608, 1060, 63, 29, 93, 11, 5421, 11, 15236, 33, 6, 58, 54, 1270, 431, 748, 7, 32, 2580, 16, 11, 94, 19469, 10, 10, 4, 993, 45222, 7, 4, 1766, 2634, 2164, 24563, 8, 847, 8, 1450, 121, 31, 7, 27, 86, 2663, 10760, 16, 6, 465, 993, 2006, 30995, 573, 17, 61862, 42, 4, 17345, 37, 473, 6, 711, 6, 8869, 7, 328, 212, 70, 30, 258, 11, 220, 32, 7, 108, 21, 133, 12, 9, 55, 465, 849, 3711, 53, 33, 2071, 1969, 37, 70, 1144, 4, 5940, 1409, 74, 476, 37, 62, 91, 1329, 169, 4, 1330, 10104, 146, 655, 2212, 5, 258, 12, 184, 10104, 546, 5, 849, 10333, 7, 4, 22, 1436, 18, 631, 1386, 797, 7, 4, 8712, 71, 348, 425, 4320, 1061, 19, 10288, 5, 12141, 11, 661, 8, 339, 17863, 4, 2455, 11434, 7, 4, 1962, 10, 10, 263, 787, 9, 270, 11, 6, 9466, 4, 61862, 48414, 121, 4, 5437, 26, 4434, 19, 68, 1372, 5, 28, 446, 6, 318, 7149, 8, 67, 51, 36, 70, 81, 8, 4392, 2294, 36, 1197, 8, 68411, 25399, 18, 6, 711, 4, 9909, 26, 10296, 1125, 11, 14, 636, 720, 12, 426, 28, 77, 776, 8, 97, 38, 111, 7489, 6175, 168, 1239, 5189, 137, 25399, 18, 27, 173, 9, 2399, 17, 6, 12397, 428, 14657, 232, 11, 4, 8014, 37, 272, 40, 2708, 247, 30, 656, 6, 13182, 54, 25399, 3292, 98, 6, 2840, 40, 558, 37, 6093, 98, 4, 17345, 1197, 15, 14, 9, 57, 4893, 5, 4659, 6, 275, 711, 7937, 25399, 3292, 98, 6, 31036, 10, 10, 6639, 19, 14, 10241, 267, 162, 711, 37, 5900, 752, 98, 4, 17345, 2378, 90, 19, 6, 73284, 7, 36744, 1810, 77553, 4, 4770, 3183, 930, 8, 508, 90, 4, 1317, 8, 4, 48414, 17, 15454, 3965, 1853, 4, 1494, 8, 4468, 189, 4, 31036, 6287, 5774, 4, 4770, 5, 95, 271, 23, 6, 7742, 6063, 21627, 5437, 33, 1526, 6, 425, 3155, 33697, 4535, 1636, 7, 4, 4669, 11966, 469, 4, 4552, 54, 4, 150, 5664, 17345, 280, 53, 68411, 25399, 18, 339, 29, 1978, 27, 7885, 5, 17303, 68, 1830, 19, 6571, 14605, 4, 1515, 7, 263, 65, 2132, 34, 6, 5680, 7489, 43, 159, 29, 9, 4706, 9, 387, 73, 195, 584, 10, 10, 1069, 4, 58, 810, 54, 14, 6078, 117, 22, 16, 93, 5, 1069, 4, 192, 15, 12, 16, 93, 34, 6, 1766, 28228, 33, 4, 5673, 7, 15, 18760, 9252, 3286, 325, 12, 62, 30, 776, 8, 67, 14, 17, 6, 12214, 44, 148, 687, 24563, 203, 42, 203, 24, 28, 69, 32157, 6676, 11, 330, 54, 29, 93, 61862, 21, 845, 14148, 27, 1099, 7, 819, 4, 22, 1407, 17, 6, 14967, 787, 7, 2460, 19569, 61862, 100, 30, 4, 3737, 3617, 3169, 2321, 42, 1898, 11, 4, 3814, 42, 101, 704, 7, 101, 999, 15, 1625, 94, 2926, 180, 5, 9, 9101, 34, 15205, 45, 6, 1429, 22, 60, 6, 1220, 31, 11, 94, 6408, 96, 21, 94, 749, 9, 57, 975]),\n",
       "       ...,\n",
       "       list([1, 13, 1408, 15, 8, 135, 14, 9, 35, 32, 46, 394, 20, 62, 30, 5093, 21, 45, 184, 78, 4, 1492, 910, 769, 2290, 2515, 395, 4257, 5, 1454, 11, 119, 16946, 89, 1036, 4, 116, 218, 78, 21, 407, 100, 30, 128, 262, 15, 7, 185, 2280, 284, 1842, 60664, 37, 315, 4, 226, 20, 272, 2942, 40, 29, 152, 60, 181, 8, 30, 50, 553, 362, 80, 119, 12, 21, 846, 5518]),\n",
       "       list([1, 11, 119, 241, 9, 4, 840, 20, 12, 468, 15, 94, 3684, 562, 791, 39, 4, 86, 107, 8, 97, 14, 31, 33, 4, 2960, 7, 743, 46, 1028, 9, 3531, 5, 4, 768, 47, 8, 79, 90, 145, 164, 162, 50, 6, 501, 119, 7, 9, 4, 78, 232, 15, 16, 224, 11, 4, 333, 20, 4, 985, 200, 5, 28739, 5, 9, 1861, 8, 79, 357, 4, 20, 47, 220, 57, 206, 139, 11, 12, 5, 55, 117, 212, 13, 1276, 92, 124, 51, 45, 1188, 71, 536, 13, 520, 14, 20, 6, 2302, 7, 470]),\n",
       "       list([1, 6, 52, 7465, 430, 22, 9, 220, 2594, 8, 28, 24357, 519, 3227, 6, 769, 15, 47, 6, 3482, 4067, 8, 114, 5, 33, 222, 31, 55, 184, 704, 5586, 18020, 19, 346, 3153, 5, 6, 364, 350, 4, 184, 5586, 9, 133, 1810, 11, 5417, 13226, 21, 4, 7298, 42657, 570, 50, 2005, 2643, 9, 6, 1249, 17, 6, 25194, 27803, 21, 17, 6, 1211, 232, 1138, 2249, 29, 266, 56, 96, 346, 194, 308, 9, 194, 21, 29, 218, 1078, 19, 4, 78, 173, 7, 27, 20067, 5698, 3406, 718, 21264, 9, 6, 6907, 17, 210, 5, 3281, 5677, 47, 77, 395, 14, 172, 173, 18, 2740, 2931, 4517, 82, 127, 27, 173, 11, 6, 392, 217, 21, 50, 9, 57, 65, 12, 14274, 53, 40, 35, 390, 7, 11, 4, 3567, 7, 4, 314, 74, 6, 792, 22, 16261, 19, 714, 727, 5205, 382, 4, 91, 6533, 439, 19, 14, 20, 9, 1441, 5805, 1118, 4, 756, 25, 124, 4, 31, 12, 16, 93, 804, 34, 2005, 2643])],\n",
       "      dtype=object)"
      ]
     },
     "execution_count": 73,
     "metadata": {
      "tags": []
     },
     "output_type": "execute_result"
    }
   ],
   "source": [
    "X_test"
   ]
  },
  {
   "cell_type": "code",
   "execution_count": null,
   "metadata": {
    "colab": {},
    "colab_type": "code",
    "id": "Klwnovi1VFTd"
   },
   "outputs": [],
   "source": [
    "x_test = preprocess(X_test, frequent_thr, rare_thr)\n",
    "x_train = preprocess(X_train, frequent_thr, rare_thr)"
   ]
  },
  {
   "cell_type": "code",
   "execution_count": null,
   "metadata": {
    "colab": {
     "base_uri": "https://localhost:8080/",
     "height": 137
    },
    "colab_type": "code",
    "id": "pcGAJXjdzSZV",
    "outputId": "178db422-1304-4dab-e237-5d19f6ff9fdb"
   },
   "outputs": [
    {
     "name": "stdout",
     "output_type": "stream",
     "text": [
      "(25000, 980)\n",
      "[[0. 0. 0. ... 0. 0. 0.]\n",
      " [0. 1. 1. ... 0. 0. 0.]\n",
      " [0. 1. 1. ... 1. 0. 1.]\n",
      " [0. 1. 0. ... 0. 0. 0.]\n",
      " [0. 1. 0. ... 0. 0. 0.]]\n"
     ]
    }
   ],
   "source": [
    "print(x_test.shape)\n",
    "print(x_test[:5])"
   ]
  },
  {
   "cell_type": "markdown",
   "metadata": {
    "colab_type": "text",
    "id": "ybTAgLIRwPUa"
   },
   "source": [
    "## Создаем коллбэки"
   ]
  },
  {
   "cell_type": "code",
   "execution_count": null,
   "metadata": {
    "colab": {
     "base_uri": "https://localhost:8080/",
     "height": 71
    },
    "colab_type": "code",
    "id": "BlMB7MKoVFT6",
    "outputId": "cd4f559c-7577-410d-be3a-123121c9fed6"
   },
   "outputs": [
    {
     "name": "stdout",
     "output_type": "stream",
     "text": [
      "WARNING:tensorflow:`period` argument is deprecated. Please use `save_freq` to specify the frequency in number of batches seen.\n",
      "WARNING:tensorflow:`write_grads` will be ignored in TensorFlow 2.0 for the `TensorBoard` Callback.\n"
     ]
    }
   ],
   "source": [
    "monitor = 'val_accuracy'\n",
    "os.makedirs('imdb_model', exist_ok=True)\n",
    "model_filepath = 'imdb_model/imdb_model.{epoch:02d}-{val_loss:.2f}.h5'\n",
    "early_stopping = keras.callbacks.EarlyStopping(monitor=monitor,\n",
    "                                               min_delta=0.001, \n",
    "                                               patience=2,\n",
    "                                               mode='max',\n",
    "                                               restore_best_weights=True)\n",
    "\n",
    "checkpoint = keras.callbacks.ModelCheckpoint(filepath=model_filepath,\n",
    "                                             monitor=monitor,\n",
    "                                             save_best_only=True,\n",
    "                                             mode='auto',\n",
    "                                             period=1)\n",
    "\n",
    "tensorboard = keras.callbacks.TensorBoard(log_dir='logs',\n",
    "                                          histogram_freq=1,\n",
    "                                          write_graph=True,\n",
    "                                          write_grads=True,\n",
    "                                          write_images=True,\n",
    "                                          update_freq='batch')"
   ]
  },
  {
   "cell_type": "code",
   "execution_count": null,
   "metadata": {
    "colab": {},
    "colab_type": "code",
    "id": "36m1VOSiVFT7"
   },
   "outputs": [],
   "source": [
    "from tensorflow.keras import Sequential\n",
    "from tensorflow.keras.layers import Dense\n",
    "# Не делайте так:\n",
    "# from keras import Sequential\n",
    "# from keras.layers import Dense\n",
    "# Если видите ошибку в духе 'Sequential can't run in eager mode', \n",
    "# скорее всего, вы импоритировали слои и модель из обычного keras.\n",
    "\n",
    "\n",
    "def train_with_callbacks(callbacks):\n",
    "    model = Sequential([Dense(128, activation='relu',\n",
    "                              input_shape=(rare_thr - frequent_thr,)),\n",
    "                        Dense(128, activation='relu'), \n",
    "                        Dense(1, activation='sigmoid')],\n",
    "                       )\n",
    "    model.compile('sgd', loss='binary_crossentropy', metrics=['accuracy'],\n",
    "                  run_eagerly=False)\n",
    "    h = model.fit(x_train, Y_train,\n",
    "                  validation_data=(x_test, Y_test),\n",
    "                  batch_size=128,\n",
    "                  epochs=1000,\n",
    "                  callbacks=callbacks)\n",
    "    return model"
   ]
  },
  {
   "cell_type": "markdown",
   "metadata": {
    "colab_type": "text",
    "id": "PiCItkgd230P"
   },
   "source": [
    "Здесь мы сохраняем модель в h5."
   ]
  },
  {
   "cell_type": "code",
   "execution_count": null,
   "metadata": {
    "colab": {
     "base_uri": "https://localhost:8080/",
     "height": 699
    },
    "colab_type": "code",
    "id": "XAlqyP7AVFT9",
    "outputId": "931b80d3-da8d-4ccd-d363-f76efc7aaa8b"
   },
   "outputs": [
    {
     "name": "stdout",
     "output_type": "stream",
     "text": [
      "Epoch 1/1000\n",
      "196/196 [==============================] - 2s 9ms/step - loss: 0.6875 - accuracy: 0.5513 - val_loss: 0.6750 - val_accuracy: 0.6014\n",
      "Epoch 2/1000\n",
      "196/196 [==============================] - 1s 8ms/step - loss: 0.6629 - accuracy: 0.6433 - val_loss: 0.6475 - val_accuracy: 0.6775\n",
      "Epoch 3/1000\n",
      "196/196 [==============================] - 1s 7ms/step - loss: 0.6257 - accuracy: 0.7076 - val_loss: 0.6008 - val_accuracy: 0.7292\n",
      "Epoch 4/1000\n",
      "196/196 [==============================] - 1s 7ms/step - loss: 0.5681 - accuracy: 0.7519 - val_loss: 0.5384 - val_accuracy: 0.7622\n",
      "Epoch 5/1000\n",
      "196/196 [==============================] - 1s 7ms/step - loss: 0.5047 - accuracy: 0.7828 - val_loss: 0.4820 - val_accuracy: 0.7878\n",
      "Epoch 6/1000\n",
      "196/196 [==============================] - 1s 7ms/step - loss: 0.4542 - accuracy: 0.8045 - val_loss: 0.4414 - val_accuracy: 0.8070\n",
      "Epoch 7/1000\n",
      "196/196 [==============================] - 1s 8ms/step - loss: 0.4189 - accuracy: 0.8210 - val_loss: 0.4189 - val_accuracy: 0.8165\n",
      "Epoch 8/1000\n",
      "196/196 [==============================] - 1s 7ms/step - loss: 0.3946 - accuracy: 0.8331 - val_loss: 0.4009 - val_accuracy: 0.8255\n",
      "Epoch 9/1000\n",
      "196/196 [==============================] - 1s 7ms/step - loss: 0.3769 - accuracy: 0.8401 - val_loss: 0.3847 - val_accuracy: 0.8346\n",
      "Epoch 10/1000\n",
      "196/196 [==============================] - 1s 7ms/step - loss: 0.3631 - accuracy: 0.8476 - val_loss: 0.3723 - val_accuracy: 0.8400\n",
      "Epoch 11/1000\n",
      "196/196 [==============================] - 1s 7ms/step - loss: 0.3518 - accuracy: 0.8522 - val_loss: 0.3674 - val_accuracy: 0.8436\n",
      "Epoch 12/1000\n",
      "196/196 [==============================] - 1s 7ms/step - loss: 0.3424 - accuracy: 0.8576 - val_loss: 0.3573 - val_accuracy: 0.8480\n",
      "Epoch 13/1000\n",
      "196/196 [==============================] - 1s 7ms/step - loss: 0.3348 - accuracy: 0.8605 - val_loss: 0.3521 - val_accuracy: 0.8504\n",
      "Epoch 14/1000\n",
      "196/196 [==============================] - 1s 7ms/step - loss: 0.3283 - accuracy: 0.8624 - val_loss: 0.3481 - val_accuracy: 0.8520\n",
      "Epoch 15/1000\n",
      "196/196 [==============================] - 1s 8ms/step - loss: 0.3228 - accuracy: 0.8661 - val_loss: 0.3450 - val_accuracy: 0.8528\n",
      "Epoch 16/1000\n",
      "196/196 [==============================] - 1s 8ms/step - loss: 0.3179 - accuracy: 0.8680 - val_loss: 0.3419 - val_accuracy: 0.8548\n",
      "Epoch 17/1000\n",
      "196/196 [==============================] - 1s 7ms/step - loss: 0.3141 - accuracy: 0.8703 - val_loss: 0.3431 - val_accuracy: 0.8549\n",
      "Epoch 18/1000\n",
      "196/196 [==============================] - 1s 7ms/step - loss: 0.3105 - accuracy: 0.8708 - val_loss: 0.3392 - val_accuracy: 0.8566\n",
      "Epoch 19/1000\n",
      "196/196 [==============================] - 1s 8ms/step - loss: 0.3073 - accuracy: 0.8742 - val_loss: 0.3366 - val_accuracy: 0.8574\n",
      "Epoch 20/1000\n",
      "196/196 [==============================] - 1s 7ms/step - loss: 0.3048 - accuracy: 0.8747 - val_loss: 0.3385 - val_accuracy: 0.8569\n"
     ]
    }
   ],
   "source": [
    "keras.backend.clear_session()\n",
    "model = train_with_callbacks([early_stopping, checkpoint, tensorboard])"
   ]
  },
  {
   "cell_type": "code",
   "execution_count": null,
   "metadata": {
    "colab": {
     "base_uri": "https://localhost:8080/",
     "height": 401
    },
    "colab_type": "code",
    "id": "KFoc9oEI1LnI",
    "outputId": "9434a4da-187e-49fe-e608-b8f19fcd4638"
   },
   "outputs": [
    {
     "name": "stdout",
     "output_type": "stream",
     "text": [
      "imdb_model\n",
      "├── imdb_model.01-0.67.h5\n",
      "├── imdb_model.02-0.65.h5\n",
      "├── imdb_model.03-0.60.h5\n",
      "├── imdb_model.04-0.54.h5\n",
      "├── imdb_model.05-0.48.h5\n",
      "├── imdb_model.06-0.44.h5\n",
      "├── imdb_model.07-0.42.h5\n",
      "├── imdb_model.08-0.40.h5\n",
      "├── imdb_model.09-0.38.h5\n",
      "├── imdb_model.10-0.37.h5\n",
      "├── imdb_model.11-0.37.h5\n",
      "├── imdb_model.12-0.36.h5\n",
      "├── imdb_model.13-0.35.h5\n",
      "├── imdb_model.14-0.35.h5\n",
      "├── imdb_model.15-0.34.h5\n",
      "├── imdb_model.16-0.34.h5\n",
      "├── imdb_model.17-0.34.h5\n",
      "├── imdb_model.18-0.34.h5\n",
      "└── imdb_model.19-0.34.h5\n",
      "\n",
      "0 directories, 19 files\n"
     ]
    }
   ],
   "source": [
    "!tree imdb_model "
   ]
  },
  {
   "cell_type": "markdown",
   "metadata": {
    "colab_type": "text",
    "id": "xBDRKzDm2tm3"
   },
   "source": [
    "Можно сохранять модель и в новом стандартном tf-формате."
   ]
  },
  {
   "cell_type": "code",
   "execution_count": null,
   "metadata": {
    "colab": {
     "base_uri": "https://localhost:8080/",
     "height": 1000
    },
    "colab_type": "code",
    "id": "2s23So7zVFT-",
    "outputId": "91d36047-e2df-478e-e06e-afbddf284a4c"
   },
   "outputs": [
    {
     "name": "stdout",
     "output_type": "stream",
     "text": [
      "WARNING:tensorflow:`period` argument is deprecated. Please use `save_freq` to specify the frequency in number of batches seen.\n",
      "Epoch 1/1000\n",
      "193/196 [============================>.] - ETA: 0s - loss: 0.6875 - accuracy: 0.5455INFO:tensorflow:Assets written to: imdb_model_tf/imdb_model.01-0.68/assets\n",
      "196/196 [==============================] - 2s 10ms/step - loss: 0.6873 - accuracy: 0.5458 - val_loss: 0.6768 - val_accuracy: 0.5883\n",
      "Epoch 2/1000\n",
      "193/196 [============================>.] - ETA: 0s - loss: 0.6607 - accuracy: 0.6397INFO:tensorflow:Assets written to: imdb_model_tf/imdb_model.02-0.65/assets\n",
      "196/196 [==============================] - 2s 9ms/step - loss: 0.6604 - accuracy: 0.6401 - val_loss: 0.6460 - val_accuracy: 0.6723\n",
      "Epoch 3/1000\n",
      "195/196 [============================>.] - ETA: 0s - loss: 0.6177 - accuracy: 0.7095INFO:tensorflow:Assets written to: imdb_model_tf/imdb_model.03-0.59/assets\n",
      "196/196 [==============================] - 2s 9ms/step - loss: 0.6177 - accuracy: 0.7095 - val_loss: 0.5935 - val_accuracy: 0.7310\n",
      "Epoch 4/1000\n",
      "186/196 [===========================>..] - ETA: 0s - loss: 0.5548 - accuracy: 0.7570INFO:tensorflow:Assets written to: imdb_model_tf/imdb_model.04-0.53/assets\n",
      "196/196 [==============================] - 2s 9ms/step - loss: 0.5537 - accuracy: 0.7571 - val_loss: 0.5260 - val_accuracy: 0.7694\n",
      "Epoch 5/1000\n",
      "192/196 [============================>.] - ETA: 0s - loss: 0.4882 - accuracy: 0.7884INFO:tensorflow:Assets written to: imdb_model_tf/imdb_model.05-0.47/assets\n",
      "196/196 [==============================] - 2s 9ms/step - loss: 0.4879 - accuracy: 0.7883 - val_loss: 0.4683 - val_accuracy: 0.7950\n",
      "Epoch 6/1000\n",
      "196/196 [==============================] - ETA: 0s - loss: 0.4383 - accuracy: 0.8111INFO:tensorflow:Assets written to: imdb_model_tf/imdb_model.06-0.43/assets\n",
      "196/196 [==============================] - 2s 9ms/step - loss: 0.4383 - accuracy: 0.8111 - val_loss: 0.4301 - val_accuracy: 0.8132\n",
      "Epoch 7/1000\n",
      "187/196 [===========================>..] - ETA: 0s - loss: 0.4055 - accuracy: 0.8263INFO:tensorflow:Assets written to: imdb_model_tf/imdb_model.07-0.40/assets\n",
      "196/196 [==============================] - 2s 9ms/step - loss: 0.4051 - accuracy: 0.8266 - val_loss: 0.4037 - val_accuracy: 0.8256\n",
      "Epoch 8/1000\n",
      "193/196 [============================>.] - ETA: 0s - loss: 0.3824 - accuracy: 0.8369INFO:tensorflow:Assets written to: imdb_model_tf/imdb_model.08-0.39/assets\n",
      "196/196 [==============================] - 2s 11ms/step - loss: 0.3825 - accuracy: 0.8370 - val_loss: 0.3868 - val_accuracy: 0.8328\n",
      "Epoch 9/1000\n",
      "194/196 [============================>.] - ETA: 0s - loss: 0.3663 - accuracy: 0.8437INFO:tensorflow:Assets written to: imdb_model_tf/imdb_model.09-0.37/assets\n",
      "196/196 [==============================] - 2s 9ms/step - loss: 0.3661 - accuracy: 0.8437 - val_loss: 0.3745 - val_accuracy: 0.8384\n",
      "Epoch 10/1000\n",
      "191/196 [============================>.] - ETA: 0s - loss: 0.3534 - accuracy: 0.8498INFO:tensorflow:Assets written to: imdb_model_tf/imdb_model.10-0.37/assets\n",
      "196/196 [==============================] - 2s 10ms/step - loss: 0.3534 - accuracy: 0.8500 - val_loss: 0.3674 - val_accuracy: 0.8431\n",
      "Epoch 11/1000\n",
      "186/196 [===========================>..] - ETA: 0s - loss: 0.3446 - accuracy: 0.8551INFO:tensorflow:Assets written to: imdb_model_tf/imdb_model.11-0.36/assets\n",
      "196/196 [==============================] - 2s 10ms/step - loss: 0.3434 - accuracy: 0.8551 - val_loss: 0.3585 - val_accuracy: 0.8478\n",
      "Epoch 12/1000\n",
      "187/196 [===========================>..] - ETA: 0s - loss: 0.3356 - accuracy: 0.8596INFO:tensorflow:Assets written to: imdb_model_tf/imdb_model.12-0.35/assets\n",
      "196/196 [==============================] - 2s 10ms/step - loss: 0.3352 - accuracy: 0.8598 - val_loss: 0.3525 - val_accuracy: 0.8488\n",
      "Epoch 13/1000\n",
      "196/196 [==============================] - ETA: 0s - loss: 0.3281 - accuracy: 0.8629INFO:tensorflow:Assets written to: imdb_model_tf/imdb_model.13-0.35/assets\n",
      "196/196 [==============================] - 2s 10ms/step - loss: 0.3281 - accuracy: 0.8629 - val_loss: 0.3518 - val_accuracy: 0.8510\n",
      "Epoch 14/1000\n",
      "191/196 [============================>.] - ETA: 0s - loss: 0.3214 - accuracy: 0.8674INFO:tensorflow:Assets written to: imdb_model_tf/imdb_model.14-0.34/assets\n",
      "196/196 [==============================] - 2s 9ms/step - loss: 0.3218 - accuracy: 0.8671 - val_loss: 0.3443 - val_accuracy: 0.8537\n",
      "Epoch 15/1000\n",
      "190/196 [============================>.] - ETA: 0s - loss: 0.3175 - accuracy: 0.8689INFO:tensorflow:Assets written to: imdb_model_tf/imdb_model.15-0.34/assets\n",
      "196/196 [==============================] - 2s 9ms/step - loss: 0.3176 - accuracy: 0.8690 - val_loss: 0.3420 - val_accuracy: 0.8552\n",
      "Epoch 16/1000\n",
      "187/196 [===========================>..] - ETA: 0s - loss: 0.3131 - accuracy: 0.8713INFO:tensorflow:Assets written to: imdb_model_tf/imdb_model.16-0.34/assets\n",
      "196/196 [==============================] - 2s 9ms/step - loss: 0.3130 - accuracy: 0.8709 - val_loss: 0.3389 - val_accuracy: 0.8560\n",
      "Epoch 17/1000\n",
      "196/196 [==============================] - ETA: 0s - loss: 0.3092 - accuracy: 0.8736INFO:tensorflow:Assets written to: imdb_model_tf/imdb_model.17-0.34/assets\n",
      "196/196 [==============================] - 2s 9ms/step - loss: 0.3092 - accuracy: 0.8736 - val_loss: 0.3379 - val_accuracy: 0.8562\n",
      "Epoch 18/1000\n",
      "196/196 [==============================] - 1s 7ms/step - loss: 0.3060 - accuracy: 0.8739 - val_loss: 0.3411 - val_accuracy: 0.8553\n",
      "Epoch 19/1000\n",
      "189/196 [===========================>..] - ETA: 0s - loss: 0.3038 - accuracy: 0.8755INFO:tensorflow:Assets written to: imdb_model_tf/imdb_model.19-0.34/assets\n",
      "196/196 [==============================] - 2s 9ms/step - loss: 0.3034 - accuracy: 0.8760 - val_loss: 0.3356 - val_accuracy: 0.8574\n",
      "Epoch 20/1000\n",
      "196/196 [==============================] - 1s 7ms/step - loss: 0.3008 - accuracy: 0.8772 - val_loss: 0.3344 - val_accuracy: 0.8572\n",
      "Epoch 21/1000\n",
      "196/196 [==============================] - 1s 7ms/step - loss: 0.2986 - accuracy: 0.8776 - val_loss: 0.3362 - val_accuracy: 0.8571\n"
     ]
    }
   ],
   "source": [
    "os.makedirs('imdb_model_tf', exist_ok=True)\n",
    "model_filepath = 'imdb_model_tf/imdb_model.{epoch:02d}-{val_loss:.2f}'\n",
    "checkpoint = keras.callbacks.ModelCheckpoint(filepath=model_filepath,\n",
    "                                             monitor=monitor,\n",
    "                                             save_best_only=True,\n",
    "                                             mode='max',\n",
    "                                             period=1)\n",
    "\n",
    "keras.backend.clear_session()\n",
    "model = train_with_callbacks([early_stopping, checkpoint, tensorboard])"
   ]
  },
  {
   "cell_type": "code",
   "execution_count": null,
   "metadata": {
    "colab": {
     "base_uri": "https://localhost:8080/",
     "height": 1000
    },
    "colab_type": "code",
    "id": "LuIyizhQVFUF",
    "outputId": "7c1be805-a768-4966-b349-68c36638cc8b"
   },
   "outputs": [
    {
     "name": "stdout",
     "output_type": "stream",
     "text": [
      "imdb_model_tf\n",
      "├── imdb_model.01-0.68\n",
      "│   ├── assets\n",
      "│   ├── saved_model.pb\n",
      "│   └── variables\n",
      "│       ├── variables.data-00000-of-00002\n",
      "│       ├── variables.data-00001-of-00002\n",
      "│       └── variables.index\n",
      "├── imdb_model.02-0.65\n",
      "│   ├── assets\n",
      "│   ├── saved_model.pb\n",
      "│   └── variables\n",
      "│       ├── variables.data-00000-of-00002\n",
      "│       ├── variables.data-00001-of-00002\n",
      "│       └── variables.index\n",
      "├── imdb_model.03-0.59\n",
      "│   ├── assets\n",
      "│   ├── saved_model.pb\n",
      "│   └── variables\n",
      "│       ├── variables.data-00000-of-00002\n",
      "│       ├── variables.data-00001-of-00002\n",
      "│       └── variables.index\n",
      "├── imdb_model.04-0.53\n",
      "│   ├── assets\n",
      "│   ├── saved_model.pb\n",
      "│   └── variables\n",
      "│       ├── variables.data-00000-of-00002\n",
      "│       ├── variables.data-00001-of-00002\n",
      "│       └── variables.index\n",
      "├── imdb_model.05-0.47\n",
      "│   ├── assets\n",
      "│   ├── saved_model.pb\n",
      "│   └── variables\n",
      "│       ├── variables.data-00000-of-00002\n",
      "│       ├── variables.data-00001-of-00002\n",
      "│       └── variables.index\n",
      "├── imdb_model.06-0.43\n",
      "│   ├── assets\n",
      "│   ├── saved_model.pb\n",
      "│   └── variables\n",
      "│       ├── variables.data-00000-of-00002\n",
      "│       ├── variables.data-00001-of-00002\n",
      "│       └── variables.index\n",
      "├── imdb_model.07-0.40\n",
      "│   ├── assets\n",
      "│   ├── saved_model.pb\n",
      "│   └── variables\n",
      "│       ├── variables.data-00000-of-00002\n",
      "│       ├── variables.data-00001-of-00002\n",
      "│       └── variables.index\n",
      "├── imdb_model.08-0.39\n",
      "│   ├── assets\n",
      "│   ├── saved_model.pb\n",
      "│   └── variables\n",
      "│       ├── variables.data-00000-of-00002\n",
      "│       ├── variables.data-00001-of-00002\n",
      "│       └── variables.index\n",
      "├── imdb_model.09-0.37\n",
      "│   ├── assets\n",
      "│   ├── saved_model.pb\n",
      "│   └── variables\n",
      "│       ├── variables.data-00000-of-00002\n",
      "│       ├── variables.data-00001-of-00002\n",
      "│       └── variables.index\n",
      "├── imdb_model.10-0.37\n",
      "│   ├── assets\n",
      "│   ├── saved_model.pb\n",
      "│   └── variables\n",
      "│       ├── variables.data-00000-of-00002\n",
      "│       ├── variables.data-00001-of-00002\n",
      "│       └── variables.index\n",
      "├── imdb_model.11-0.36\n",
      "│   ├── assets\n",
      "│   ├── saved_model.pb\n",
      "│   └── variables\n",
      "│       ├── variables.data-00000-of-00002\n",
      "│       ├── variables.data-00001-of-00002\n",
      "│       └── variables.index\n",
      "├── imdb_model.12-0.35\n",
      "│   ├── assets\n",
      "│   ├── saved_model.pb\n",
      "│   └── variables\n",
      "│       ├── variables.data-00000-of-00002\n",
      "│       ├── variables.data-00001-of-00002\n",
      "│       └── variables.index\n",
      "├── imdb_model.13-0.35\n",
      "│   ├── assets\n",
      "│   ├── saved_model.pb\n",
      "│   └── variables\n",
      "│       ├── variables.data-00000-of-00002\n",
      "│       ├── variables.data-00001-of-00002\n",
      "│       └── variables.index\n",
      "├── imdb_model.14-0.34\n",
      "│   ├── assets\n",
      "│   ├── saved_model.pb\n",
      "│   └── variables\n",
      "│       ├── variables.data-00000-of-00002\n",
      "│       ├── variables.data-00001-of-00002\n",
      "│       └── variables.index\n",
      "├── imdb_model.15-0.34\n",
      "│   ├── assets\n",
      "│   ├── saved_model.pb\n",
      "│   └── variables\n",
      "│       ├── variables.data-00000-of-00002\n",
      "│       ├── variables.data-00001-of-00002\n",
      "│       └── variables.index\n",
      "├── imdb_model.16-0.34\n",
      "│   ├── assets\n",
      "│   ├── saved_model.pb\n",
      "│   └── variables\n",
      "│       ├── variables.data-00000-of-00002\n",
      "│       ├── variables.data-00001-of-00002\n",
      "│       └── variables.index\n",
      "├── imdb_model.17-0.34\n",
      "│   ├── assets\n",
      "│   ├── saved_model.pb\n",
      "│   └── variables\n",
      "│       ├── variables.data-00000-of-00002\n",
      "│       ├── variables.data-00001-of-00002\n",
      "│       └── variables.index\n",
      "└── imdb_model.19-0.34\n",
      "    ├── assets\n",
      "    ├── saved_model.pb\n",
      "    └── variables\n",
      "        ├── variables.data-00000-of-00002\n",
      "        ├── variables.data-00001-of-00002\n",
      "        └── variables.index\n",
      "\n",
      "54 directories, 72 files\n"
     ]
    }
   ],
   "source": [
    "!tree imdb_model_tf"
   ]
  },
  {
   "cell_type": "code",
   "execution_count": null,
   "metadata": {
    "colab": {},
    "colab_type": "code",
    "id": "Kxo0PrsnVFUD"
   },
   "outputs": [],
   "source": [
    "del model"
   ]
  },
  {
   "cell_type": "markdown",
   "metadata": {
    "colab_type": "text",
    "id": "nue5BZRvVFUM"
   },
   "source": [
    "### Обучение загруженной модели можно продолжить"
   ]
  },
  {
   "cell_type": "code",
   "execution_count": null,
   "metadata": {
    "colab": {},
    "colab_type": "code",
    "id": "ggnF6-EVVFUM"
   },
   "outputs": [],
   "source": [
    "reduce_lr = keras.callbacks.ReduceLROnPlateau(monitor=monitor, \n",
    "                                              factor=0.2,\n",
    "                                              patience=5,\n",
    "                                              verbose=0, \n",
    "                                              mode='max',\n",
    "                                              min_delta=0.005,\n",
    "                                              cooldown=0,\n",
    "                                              min_lr=0)"
   ]
  },
  {
   "cell_type": "code",
   "execution_count": null,
   "metadata": {
    "colab": {},
    "colab_type": "code",
    "id": "xrhmBuXjVFUN"
   },
   "outputs": [],
   "source": [
    "early_stopping = keras.callbacks.EarlyStopping(monitor=monitor,\n",
    "                                               min_delta=0.0005, \n",
    "                                               patience=10,\n",
    "                                               mode='max',\n",
    "                                               restore_best_weights=True)"
   ]
  },
  {
   "cell_type": "code",
   "execution_count": null,
   "metadata": {
    "colab": {
     "base_uri": "https://localhost:8080/",
     "height": 1000
    },
    "colab_type": "code",
    "id": "4VQH1xwX39-7",
    "outputId": "cd0c56c1-87df-4fbc-cc4e-ab932645dd5f"
   },
   "outputs": [
    {
     "name": "stdout",
     "output_type": "stream",
     "text": [
      "imdb_model_tf/\n",
      "├── imdb_model.01-0.68\n",
      "│   ├── assets\n",
      "│   ├── saved_model.pb\n",
      "│   └── variables\n",
      "│       ├── variables.data-00000-of-00002\n",
      "│       ├── variables.data-00001-of-00002\n",
      "│       └── variables.index\n",
      "├── imdb_model.02-0.65\n",
      "│   ├── assets\n",
      "│   ├── saved_model.pb\n",
      "│   └── variables\n",
      "│       ├── variables.data-00000-of-00002\n",
      "│       ├── variables.data-00001-of-00002\n",
      "│       └── variables.index\n",
      "├── imdb_model.03-0.59\n",
      "│   ├── assets\n",
      "│   ├── saved_model.pb\n",
      "│   └── variables\n",
      "│       ├── variables.data-00000-of-00002\n",
      "│       ├── variables.data-00001-of-00002\n",
      "│       └── variables.index\n",
      "├── imdb_model.04-0.53\n",
      "│   ├── assets\n",
      "│   ├── saved_model.pb\n",
      "│   └── variables\n",
      "│       ├── variables.data-00000-of-00002\n",
      "│       ├── variables.data-00001-of-00002\n",
      "│       └── variables.index\n",
      "├── imdb_model.05-0.47\n",
      "│   ├── assets\n",
      "│   ├── saved_model.pb\n",
      "│   └── variables\n",
      "│       ├── variables.data-00000-of-00002\n",
      "│       ├── variables.data-00001-of-00002\n",
      "│       └── variables.index\n",
      "├── imdb_model.06-0.43\n",
      "│   ├── assets\n",
      "│   ├── saved_model.pb\n",
      "│   └── variables\n",
      "│       ├── variables.data-00000-of-00002\n",
      "│       ├── variables.data-00001-of-00002\n",
      "│       └── variables.index\n",
      "├── imdb_model.07-0.40\n",
      "│   ├── assets\n",
      "│   ├── saved_model.pb\n",
      "│   └── variables\n",
      "│       ├── variables.data-00000-of-00002\n",
      "│       ├── variables.data-00001-of-00002\n",
      "│       └── variables.index\n",
      "├── imdb_model.08-0.39\n",
      "│   ├── assets\n",
      "│   ├── saved_model.pb\n",
      "│   └── variables\n",
      "│       ├── variables.data-00000-of-00002\n",
      "│       ├── variables.data-00001-of-00002\n",
      "│       └── variables.index\n",
      "├── imdb_model.09-0.37\n",
      "│   ├── assets\n",
      "│   ├── saved_model.pb\n",
      "│   └── variables\n",
      "│       ├── variables.data-00000-of-00002\n",
      "│       ├── variables.data-00001-of-00002\n",
      "│       └── variables.index\n",
      "├── imdb_model.10-0.37\n",
      "│   ├── assets\n",
      "│   ├── saved_model.pb\n",
      "│   └── variables\n",
      "│       ├── variables.data-00000-of-00002\n",
      "│       ├── variables.data-00001-of-00002\n",
      "│       └── variables.index\n",
      "├── imdb_model.11-0.36\n",
      "│   ├── assets\n",
      "│   ├── saved_model.pb\n",
      "│   └── variables\n",
      "│       ├── variables.data-00000-of-00002\n",
      "│       ├── variables.data-00001-of-00002\n",
      "│       └── variables.index\n",
      "├── imdb_model.12-0.35\n",
      "│   ├── assets\n",
      "│   ├── saved_model.pb\n",
      "│   └── variables\n",
      "│       ├── variables.data-00000-of-00002\n",
      "│       ├── variables.data-00001-of-00002\n",
      "│       └── variables.index\n",
      "├── imdb_model.13-0.35\n",
      "│   ├── assets\n",
      "│   ├── saved_model.pb\n",
      "│   └── variables\n",
      "│       ├── variables.data-00000-of-00002\n",
      "│       ├── variables.data-00001-of-00002\n",
      "│       └── variables.index\n",
      "├── imdb_model.14-0.34\n",
      "│   ├── assets\n",
      "│   ├── saved_model.pb\n",
      "│   └── variables\n",
      "│       ├── variables.data-00000-of-00002\n",
      "│       ├── variables.data-00001-of-00002\n",
      "│       └── variables.index\n",
      "├── imdb_model.15-0.34\n",
      "│   ├── assets\n",
      "│   ├── saved_model.pb\n",
      "│   └── variables\n",
      "│       ├── variables.data-00000-of-00002\n",
      "│       ├── variables.data-00001-of-00002\n",
      "│       └── variables.index\n",
      "├── imdb_model.16-0.34\n",
      "│   ├── assets\n",
      "│   ├── saved_model.pb\n",
      "│   └── variables\n",
      "│       ├── variables.data-00000-of-00002\n",
      "│       ├── variables.data-00001-of-00002\n",
      "│       └── variables.index\n",
      "├── imdb_model.17-0.34\n",
      "│   ├── assets\n",
      "│   ├── saved_model.pb\n",
      "│   └── variables\n",
      "│       ├── variables.data-00000-of-00002\n",
      "│       ├── variables.data-00001-of-00002\n",
      "│       └── variables.index\n",
      "└── imdb_model.19-0.34\n",
      "    ├── assets\n",
      "    ├── saved_model.pb\n",
      "    └── variables\n",
      "        ├── variables.data-00000-of-00002\n",
      "        ├── variables.data-00001-of-00002\n",
      "        └── variables.index\n",
      "\n",
      "54 directories, 72 files\n"
     ]
    }
   ],
   "source": [
    "!tree imdb_model_tf/"
   ]
  },
  {
   "cell_type": "code",
   "execution_count": null,
   "metadata": {
    "colab": {},
    "colab_type": "code",
    "id": "NW01i0GT4DZk"
   },
   "outputs": [],
   "source": []
  },
  {
   "cell_type": "code",
   "execution_count": null,
   "metadata": {
    "colab": {},
    "colab_type": "code",
    "id": "nCwIgfDFVFUO"
   },
   "outputs": [],
   "source": [
    "keras.backend.clear_session()"
   ]
  },
  {
   "cell_type": "code",
   "execution_count": null,
   "metadata": {
    "colab": {},
    "colab_type": "code",
    "id": "u7i5lVn84D_5"
   },
   "outputs": [],
   "source": [
    "model = keras.models.load_model('imdb_model_tf/imdb_model.16-0.34')"
   ]
  },
  {
   "cell_type": "code",
   "execution_count": null,
   "metadata": {
    "colab": {
     "base_uri": "https://localhost:8080/",
     "height": 864
    },
    "colab_type": "code",
    "id": "zllcXeFsVFUQ",
    "outputId": "01012903-8d7e-4905-eebf-22288ee2ebbd"
   },
   "outputs": [
    {
     "name": "stdout",
     "output_type": "stream",
     "text": [
      "Epoch 1/1000\n",
      "196/196 [==============================] - 2s 8ms/step - loss: 0.3095 - accuracy: 0.8725 - val_loss: 0.3400 - val_accuracy: 0.8558 - lr: 0.0100\n",
      "Epoch 2/1000\n",
      "196/196 [==============================] - 2s 9ms/step - loss: 0.3064 - accuracy: 0.8742 - val_loss: 0.3367 - val_accuracy: 0.8564 - lr: 0.0100\n",
      "Epoch 3/1000\n",
      "196/196 [==============================] - 1s 7ms/step - loss: 0.3033 - accuracy: 0.8758 - val_loss: 0.3363 - val_accuracy: 0.8568 - lr: 0.0100\n",
      "Epoch 4/1000\n",
      "196/196 [==============================] - 1s 7ms/step - loss: 0.3002 - accuracy: 0.8770 - val_loss: 0.3369 - val_accuracy: 0.8574 - lr: 0.0100\n",
      "Epoch 5/1000\n",
      "188/196 [===========================>..] - ETA: 0s - loss: 0.2982 - accuracy: 0.8784INFO:tensorflow:Assets written to: imdb_model_tf/imdb_model.05-0.33/assets\n",
      "196/196 [==============================] - 2s 9ms/step - loss: 0.2987 - accuracy: 0.8783 - val_loss: 0.3335 - val_accuracy: 0.8584 - lr: 0.0100\n",
      "Epoch 6/1000\n",
      "188/196 [===========================>..] - ETA: 0s - loss: 0.2957 - accuracy: 0.8790INFO:tensorflow:Assets written to: imdb_model_tf/imdb_model.06-0.33/assets\n",
      "196/196 [==============================] - 2s 9ms/step - loss: 0.2964 - accuracy: 0.8786 - val_loss: 0.3330 - val_accuracy: 0.8591 - lr: 0.0100\n",
      "Epoch 7/1000\n",
      "196/196 [==============================] - 1s 7ms/step - loss: 0.2918 - accuracy: 0.8819 - val_loss: 0.3329 - val_accuracy: 0.8591 - lr: 0.0020\n",
      "Epoch 8/1000\n",
      "196/196 [==============================] - 1s 7ms/step - loss: 0.2913 - accuracy: 0.8812 - val_loss: 0.3330 - val_accuracy: 0.8590 - lr: 0.0020\n",
      "Epoch 9/1000\n",
      "186/196 [===========================>..] - ETA: 0s - loss: 0.2894 - accuracy: 0.8821INFO:tensorflow:Assets written to: imdb_model_tf/imdb_model.09-0.33/assets\n",
      "196/196 [==============================] - 2s 9ms/step - loss: 0.2910 - accuracy: 0.8813 - val_loss: 0.3328 - val_accuracy: 0.8594 - lr: 0.0020\n",
      "Epoch 10/1000\n",
      "196/196 [==============================] - 1s 7ms/step - loss: 0.2906 - accuracy: 0.8822 - val_loss: 0.3327 - val_accuracy: 0.8594 - lr: 0.0020\n",
      "Epoch 11/1000\n",
      "190/196 [============================>.] - ETA: 0s - loss: 0.2906 - accuracy: 0.8821INFO:tensorflow:Assets written to: imdb_model_tf/imdb_model.11-0.33/assets\n",
      "196/196 [==============================] - 2s 9ms/step - loss: 0.2902 - accuracy: 0.8821 - val_loss: 0.3326 - val_accuracy: 0.8594 - lr: 0.0020\n",
      "Epoch 12/1000\n",
      "186/196 [===========================>..] - ETA: 0s - loss: 0.2897 - accuracy: 0.8832INFO:tensorflow:Assets written to: imdb_model_tf/imdb_model.12-0.33/assets\n",
      "196/196 [==============================] - 2s 9ms/step - loss: 0.2893 - accuracy: 0.8828 - val_loss: 0.3326 - val_accuracy: 0.8596 - lr: 4.0000e-04\n",
      "Epoch 13/1000\n",
      "196/196 [==============================] - 1s 7ms/step - loss: 0.2892 - accuracy: 0.8828 - val_loss: 0.3326 - val_accuracy: 0.8594 - lr: 4.0000e-04\n",
      "Epoch 14/1000\n",
      "196/196 [==============================] - 1s 7ms/step - loss: 0.2891 - accuracy: 0.8827 - val_loss: 0.3326 - val_accuracy: 0.8595 - lr: 4.0000e-04\n",
      "Epoch 15/1000\n",
      "196/196 [==============================] - 1s 7ms/step - loss: 0.2890 - accuracy: 0.8823 - val_loss: 0.3327 - val_accuracy: 0.8588 - lr: 4.0000e-04\n",
      "Epoch 16/1000\n",
      "196/196 [==============================] - 1s 7ms/step - loss: 0.2890 - accuracy: 0.8827 - val_loss: 0.3326 - val_accuracy: 0.8594 - lr: 4.0000e-04\n",
      "Epoch 17/1000\n",
      "196/196 [==============================] - 1s 7ms/step - loss: 0.2888 - accuracy: 0.8831 - val_loss: 0.3326 - val_accuracy: 0.8594 - lr: 8.0000e-05\n",
      "Epoch 18/1000\n",
      "196/196 [==============================] - 1s 7ms/step - loss: 0.2888 - accuracy: 0.8830 - val_loss: 0.3326 - val_accuracy: 0.8593 - lr: 8.0000e-05\n",
      "Epoch 19/1000\n",
      "196/196 [==============================] - 1s 7ms/step - loss: 0.2887 - accuracy: 0.8832 - val_loss: 0.3326 - val_accuracy: 0.8594 - lr: 8.0000e-05\n",
      "Epoch 20/1000\n",
      "196/196 [==============================] - 1s 7ms/step - loss: 0.2887 - accuracy: 0.8830 - val_loss: 0.3326 - val_accuracy: 0.8593 - lr: 8.0000e-05\n",
      "Epoch 21/1000\n",
      "196/196 [==============================] - 1s 7ms/step - loss: 0.2887 - accuracy: 0.8831 - val_loss: 0.3326 - val_accuracy: 0.8591 - lr: 8.0000e-05\n",
      "Epoch 22/1000\n",
      "196/196 [==============================] - 1s 7ms/step - loss: 0.2887 - accuracy: 0.8831 - val_loss: 0.3326 - val_accuracy: 0.8592 - lr: 1.6000e-05\n"
     ]
    },
    {
     "data": {
      "text/plain": [
       "<tensorflow.python.keras.callbacks.History at 0x7f77406ab438>"
      ]
     },
     "execution_count": 95,
     "metadata": {
      "tags": []
     },
     "output_type": "execute_result"
    }
   ],
   "source": [
    "model.fit(x_train, Y_train,\n",
    "          validation_data=(x_test, Y_test),\n",
    "          batch_size=128,\n",
    "          epochs=1000,\n",
    "          callbacks=[early_stopping, reduce_lr, checkpoint, tensorboard])"
   ]
  },
  {
   "cell_type": "markdown",
   "metadata": {
    "colab_type": "text",
    "id": "jbkL-7_1VFUR"
   },
   "source": [
    "## Свои коллбеки для обучения и сохранения моделей.\n",
    "\n",
    "> В домашнем задании нужно будет разработать коллбэк для обучения и сохранения моделей с помощью cyclic learing rate"
   ]
  },
  {
   "cell_type": "code",
   "execution_count": null,
   "metadata": {
    "colab": {},
    "colab_type": "code",
    "id": "Ywct6PSiVFUR"
   },
   "outputs": [],
   "source": [
    "import tensorflow.keras.backend as K"
   ]
  },
  {
   "cell_type": "code",
   "execution_count": null,
   "metadata": {
    "colab": {},
    "colab_type": "code",
    "id": "AFvpSIyZVFUT"
   },
   "outputs": [],
   "source": [
    "class LRScheduler(keras.callbacks.Callback):\n",
    "    def __init__(self, decay, min_lr=0):\n",
    "        super().__init__()\n",
    "        self._epoch = None\n",
    "        self._batch = None\n",
    "        self.decay = decay\n",
    "        self.min_lr = min_lr\n",
    "        \n",
    "    def on_epoch_begin(self, epoch, logs):\n",
    "        self._epoch = epoch\n",
    "    \n",
    "    def on_batch_begin(self, batch, logs):\n",
    "        self._batch = batch\n",
    "        current_learning_rate = K.get_value(self.model.optimizer.lr)  # , current_learning_rate)  \n",
    "        K.set_value(self.model.optimizer.lr, \n",
    "                    tf.multiply(self.decay, current_learning_rate) + self.min_lr)  # set new lr\n",
    "            # loss = model.train_on_batch(x, y)"
   ]
  },
  {
   "cell_type": "markdown",
   "metadata": {
    "colab_type": "text",
    "id": "skLnW1VfVFUW"
   },
   "source": [
    "<font size=4>[Все коллбэки](https://keras.io/callbacks/) для вдохновения</font>"
   ]
  },
  {
   "cell_type": "markdown",
   "metadata": {
    "colab_type": "text",
    "id": "E-jjh0nYVFUW"
   },
   "source": [
    "## Сохранение модели в конфиг\n",
    "\n",
    "\n",
    "* Как выглядит конфиг?\n",
    "* Как он работает и зачем нужен?"
   ]
  },
  {
   "cell_type": "code",
   "execution_count": null,
   "metadata": {
    "colab": {},
    "colab_type": "code",
    "id": "h9Zi4KPxVFUX"
   },
   "outputs": [],
   "source": [
    "from tensorflow.keras.utils import plot_model"
   ]
  },
  {
   "cell_type": "code",
   "execution_count": null,
   "metadata": {
    "colab": {},
    "colab_type": "code",
    "id": "7rdxm7CdVFUY"
   },
   "outputs": [],
   "source": [
    "config = model.get_config()"
   ]
  },
  {
   "cell_type": "code",
   "execution_count": null,
   "metadata": {
    "colab": {
     "base_uri": "https://localhost:8080/",
     "height": 831
    },
    "colab_type": "code",
    "id": "WpsCWklzVFUZ",
    "outputId": "606996c5-1045-49c3-9482-4a9da01a6773"
   },
   "outputs": [
    {
     "data": {
      "text/plain": [
       "{'build_input_shape': TensorShape([None, 980]),\n",
       " 'layers': [{'class_name': 'Dense',\n",
       "   'config': {'activation': 'relu',\n",
       "    'activity_regularizer': None,\n",
       "    'batch_input_shape': (None, 980),\n",
       "    'bias_constraint': None,\n",
       "    'bias_initializer': {'class_name': 'Zeros', 'config': {}},\n",
       "    'bias_regularizer': None,\n",
       "    'dtype': 'float32',\n",
       "    'kernel_constraint': None,\n",
       "    'kernel_initializer': {'class_name': 'GlorotUniform',\n",
       "     'config': {'seed': None}},\n",
       "    'kernel_regularizer': None,\n",
       "    'name': 'dense',\n",
       "    'trainable': True,\n",
       "    'units': 128,\n",
       "    'use_bias': True}},\n",
       "  {'class_name': 'Dense',\n",
       "   'config': {'activation': 'relu',\n",
       "    'activity_regularizer': None,\n",
       "    'bias_constraint': None,\n",
       "    'bias_initializer': {'class_name': 'Zeros', 'config': {}},\n",
       "    'bias_regularizer': None,\n",
       "    'dtype': 'float32',\n",
       "    'kernel_constraint': None,\n",
       "    'kernel_initializer': {'class_name': 'GlorotUniform',\n",
       "     'config': {'seed': None}},\n",
       "    'kernel_regularizer': None,\n",
       "    'name': 'dense_1',\n",
       "    'trainable': True,\n",
       "    'units': 128,\n",
       "    'use_bias': True}},\n",
       "  {'class_name': 'Dense',\n",
       "   'config': {'activation': 'sigmoid',\n",
       "    'activity_regularizer': None,\n",
       "    'bias_constraint': None,\n",
       "    'bias_initializer': {'class_name': 'Zeros', 'config': {}},\n",
       "    'bias_regularizer': None,\n",
       "    'dtype': 'float32',\n",
       "    'kernel_constraint': None,\n",
       "    'kernel_initializer': {'class_name': 'GlorotUniform',\n",
       "     'config': {'seed': None}},\n",
       "    'kernel_regularizer': None,\n",
       "    'name': 'dense_2',\n",
       "    'trainable': True,\n",
       "    'units': 1,\n",
       "    'use_bias': True}}],\n",
       " 'name': 'sequential'}"
      ]
     },
     "execution_count": 99,
     "metadata": {
      "tags": []
     },
     "output_type": "execute_result"
    }
   ],
   "source": [
    "config"
   ]
  },
  {
   "cell_type": "code",
   "execution_count": null,
   "metadata": {
    "colab": {},
    "colab_type": "code",
    "id": "0pyiloDPVFUa"
   },
   "outputs": [],
   "source": [
    "same_model = keras.Sequential.from_config(config)"
   ]
  },
  {
   "cell_type": "code",
   "execution_count": null,
   "metadata": {
    "colab": {
     "base_uri": "https://localhost:8080/",
     "height": 369
    },
    "colab_type": "code",
    "id": "7MEEcOYkVFUc",
    "outputId": "d583179a-f4d8-41b1-d2f9-158aea72cda6"
   },
   "outputs": [
    {
     "data": {
      "image/png": "[encoded data removed]",
      "text/plain": [
       "<IPython.core.display.Image object>"
      ]
     },
     "execution_count": 112,
     "metadata": {
      "tags": []
     },
     "output_type": "execute_result"
    }
   ],
   "source": [
    "plot_model(same_model)"
   ]
  },
  {
   "cell_type": "code",
   "execution_count": null,
   "metadata": {
    "colab": {
     "base_uri": "https://localhost:8080/",
     "height": 255
    },
    "colab_type": "code",
    "id": "9I3UTsr-VFUd",
    "outputId": "a8d14e14-0d39-40dd-f7ee-ae1d27719edf"
   },
   "outputs": [
    {
     "name": "stdout",
     "output_type": "stream",
     "text": [
      "Model: \"sequential\"\n",
      "_________________________________________________________________\n",
      "Layer (type)                 Output Shape              Param #   \n",
      "=================================================================\n",
      "dense (Dense)                (None, 128)               125568    \n",
      "_________________________________________________________________\n",
      "dense_1 (Dense)              (None, 128)               16512     \n",
      "_________________________________________________________________\n",
      "dense_2 (Dense)              (None, 1)                 129       \n",
      "=================================================================\n",
      "Total params: 142,209\n",
      "Trainable params: 142,209\n",
      "Non-trainable params: 0\n",
      "_________________________________________________________________\n"
     ]
    }
   ],
   "source": [
    "same_model.summary()"
   ]
  },
  {
   "cell_type": "markdown",
   "metadata": {
    "colab_type": "text",
    "id": "hGGGnmVJVFUe"
   },
   "source": [
    "**Точность модели**"
   ]
  },
  {
   "cell_type": "code",
   "execution_count": null,
   "metadata": {
    "colab": {
     "base_uri": "https://localhost:8080/",
     "height": 54
    },
    "colab_type": "code",
    "id": "z3CvpdxkVFUe",
    "outputId": "65daf6d1-9d04-4f3e-c663-79625647fa4e"
   },
   "outputs": [
    {
     "data": {
      "text/plain": [
       "0.48536"
      ]
     },
     "execution_count": 101,
     "metadata": {
      "tags": []
     },
     "output_type": "execute_result"
    }
   ],
   "source": [
    "y_predicted = same_model.predict(x_test)\n",
    "np.mean(np.squeeze(y_predicted > 0.5) == Y_test)"
   ]
  },
  {
   "cell_type": "code",
   "execution_count": null,
   "metadata": {
    "colab": {},
    "colab_type": "code",
    "id": "P6yL4dRuVFUf"
   },
   "outputs": [],
   "source": [
    "weights = model.get_weights()"
   ]
  },
  {
   "cell_type": "code",
   "execution_count": null,
   "metadata": {
    "colab": {},
    "colab_type": "code",
    "id": "AQjHSxaM5Hf-"
   },
   "outputs": [],
   "source": [
    "model.save_weights('custom_weights.h5', save_format='h5')"
   ]
  },
  {
   "cell_type": "code",
   "execution_count": null,
   "metadata": {
    "colab": {
     "base_uri": "https://localhost:8080/",
     "height": 102
    },
    "colab_type": "code",
    "id": "stM6v1ZzVFUi",
    "outputId": "315322eb-ca38-4c04-dfb9-dc67b21e47d9"
   },
   "outputs": [
    {
     "name": "stdout",
     "output_type": "stream",
     "text": [
      "custom_weights.h5  model.png\t     saved_model\n",
      "entire_model\t   model_weights.h5  saved_model_20_units.h5\n",
      "imdb_model\t   my_model\t     saved_model_named_layer\n",
      "imdb_model_tf\t   my_model_h5\t     saved_model_named_layer.h5\n",
      "logs\t\t   sample_data\n"
     ]
    }
   ],
   "source": [
    "!ls"
   ]
  },
  {
   "cell_type": "code",
   "execution_count": null,
   "metadata": {
    "colab": {},
    "colab_type": "code",
    "id": "t_0Q2dnUVFUj"
   },
   "outputs": [],
   "source": [
    "same_model.load_weights('custom_weights.h5')"
   ]
  },
  {
   "cell_type": "code",
   "execution_count": null,
   "metadata": {
    "colab": {
     "base_uri": "https://localhost:8080/",
     "height": 54
    },
    "colab_type": "code",
    "id": "-NCSmSclVFUk",
    "outputId": "75533c36-d5bf-4d19-9c14-716111a89bac"
   },
   "outputs": [
    {
     "data": {
      "text/plain": [
       "0.85964"
      ]
     },
     "execution_count": 106,
     "metadata": {
      "tags": []
     },
     "output_type": "execute_result"
    }
   ],
   "source": [
    "y_predicted = same_model.predict(x_test)\n",
    "np.mean(np.squeeze(y_predicted > 0.5) == Y_test)"
   ]
  },
  {
   "cell_type": "code",
   "execution_count": null,
   "metadata": {
    "colab": {},
    "colab_type": "code",
    "id": "SPtVPBQiVFUm"
   },
   "outputs": [],
   "source": [
    "import h5py\n",
    "\n",
    "loaded_weights = h5py.File('custom_weights.h5','r')"
   ]
  },
  {
   "cell_type": "code",
   "execution_count": null,
   "metadata": {
    "colab": {
     "base_uri": "https://localhost:8080/",
     "height": 34
    },
    "colab_type": "code",
    "id": "2nbW6d-wVFUm",
    "outputId": "2a9585f4-7a92-49e1-fb33-a5beaed40843"
   },
   "outputs": [
    {
     "name": "stdout",
     "output_type": "stream",
     "text": [
      "{'dense': <HDF5 group \"/dense\" (1 members)>, 'dense_1': <HDF5 group \"/dense_1\" (1 members)>, 'dense_2': <HDF5 group \"/dense_2\" (1 members)>}\n"
     ]
    }
   ],
   "source": [
    "print({i: k for i, k in loaded_weights.items()})"
   ]
  },
  {
   "cell_type": "markdown",
   "metadata": {
    "colab_type": "text",
    "id": "P-t52hzcVFUu"
   },
   "source": [
    "# Обучение модели"
   ]
  },
  {
   "cell_type": "markdown",
   "metadata": {
    "colab_type": "text",
    "id": "fqXroqaVVFUv"
   },
   "source": [
    "## Обучаем модель \"из директории\"\n",
    "\n",
    "\n",
    "\n"
   ]
  },
  {
   "cell_type": "code",
   "execution_count": null,
   "metadata": {
    "colab": {
     "base_uri": "https://localhost:8080/",
     "height": 119
    },
    "colab_type": "code",
    "id": "JME92PiaVFUz",
    "outputId": "89bbb90b-e457-4b35-a285-df4216f56b5b"
   },
   "outputs": [
    {
     "name": "stdout",
     "output_type": "stream",
     "text": [
      "/root/.keras/\n",
      "├── datasets\n",
      "│   └── imdb.npz\n",
      "└── keras.json\n",
      "\n",
      "1 directory, 2 files\n"
     ]
    }
   ],
   "source": [
    "!tree /root/.keras/ "
   ]
  },
  {
   "cell_type": "markdown",
   "metadata": {
    "colab_type": "text",
    "id": "qZFvOzLVVFU0"
   },
   "source": [
    "**Создаем ImageDataGenerator для \"flow from directory\"**"
   ]
  },
  {
   "cell_type": "code",
   "execution_count": null,
   "metadata": {
    "colab": {},
    "colab_type": "code",
    "id": "RKcmeoANVFU1"
   },
   "outputs": [],
   "source": [
    "tf.keras.preprocessing.image.ImageDataGenerator"
   ]
  },
  {
   "cell_type": "code",
   "execution_count": null,
   "metadata": {
    "colab": {
     "base_uri": "https://localhost:8080/"
    },
    "colab_type": "code",
    "id": "p8PN8LDkVFU3",
    "outputId": "1299bff2-18ef-4539-cc92-b43a2f358db5"
   },
   "outputs": [
    {
     "name": "stdout",
     "output_type": "stream",
     "text": [
      "Downloading data from https://storage.googleapis.com/download.tensorflow.org/example_images/flower_photos.tgz\n",
      "228818944/228813984 [==============================] - 2s 0us/step\n",
      "Found 731 images belonging to 5 classes.\n",
      "Found 2939 images belonging to 5 classes.\n"
     ]
    }
   ],
   "source": [
    "# thx https://gist.github.com/frogermcs/ed9fc359941efe54cc80d5b15f87bf77\n",
    "\n",
    "data_root = tf.keras.utils.get_file(\n",
    "  'flower_photos',\n",
    "  'https://storage.googleapis.com/download.tensorflow.org/example_images/flower_photos.tgz',\n",
    "   untar=True)\n",
    "   \n",
    " # Create data generator for training and validation\n",
    "IMAGE_SHAPE = (224, 224)\n",
    "TRAINING_DATA_DIR = str(data_root)\n",
    "\n",
    "datagen_kwargs = dict(rescale=1./255, validation_split=.20)\n",
    "datagen = tf.keras.preprocessing.image.ImageDataGenerator(**datagen_kwargs)\n",
    "valid_generator = datagen.flow_from_directory(\n",
    "    TRAINING_DATA_DIR, \n",
    "    subset=\"validation\", \n",
    "    shuffle=True,\n",
    "    target_size=IMAGE_SHAPE,\n",
    "    class_mode='categorical'\n",
    ")\n",
    "\n",
    "# train_datagen = tf.keras.preprocessing.image.ImageDataGenerator(**datagen_kwargs)\n",
    "train_generator = datagen.flow_from_directory(\n",
    "    TRAINING_DATA_DIR, \n",
    "    subset=\"training\", \n",
    "    shuffle=True,\n",
    "    target_size=IMAGE_SHAPE,\n",
    "    class_mode='categorical'\n",
    "\n",
    ")"
   ]
  },
  {
   "cell_type": "code",
   "execution_count": null,
   "metadata": {
    "colab": {
     "base_uri": "https://localhost:8080/",
     "height": 153
    },
    "colab_type": "code",
    "id": "P-85XndFVFU4",
    "outputId": "a9646b15-972c-40af-b590-7c305eb1bee9"
   },
   "outputs": [
    {
     "name": "stdout",
     "output_type": "stream",
     "text": [
      "/root/.keras/datasets/flower_photos/\n",
      "├── daisy\n",
      "├── dandelion\n",
      "├── roses\n",
      "├── sunflowers\n",
      "└── tulips\n",
      "\n",
      "5 directories\n"
     ]
    }
   ],
   "source": [
    "!tree /root/.keras/datasets/flower_photos/ -L 1 -d"
   ]
  },
  {
   "cell_type": "markdown",
   "metadata": {
    "colab_type": "text",
    "id": "hOU8KisF55r2"
   },
   "source": [
    "Количество классов и сэмплов можно получить так:"
   ]
  },
  {
   "cell_type": "code",
   "execution_count": null,
   "metadata": {
    "colab": {
     "base_uri": "https://localhost:8080/",
     "height": 54
    },
    "colab_type": "code",
    "id": "X6EEQLBpVFU7",
    "outputId": "6d57ec73-ab17-48cf-9d00-fc4660c4b22d"
   },
   "outputs": [
    {
     "data": {
      "text/plain": [
       "5"
      ]
     },
     "execution_count": 108,
     "metadata": {
      "tags": []
     },
     "output_type": "execute_result"
    }
   ],
   "source": [
    "valid_generator.num_classes"
   ]
  },
  {
   "cell_type": "code",
   "execution_count": null,
   "metadata": {
    "colab": {
     "base_uri": "https://localhost:8080/"
    },
    "colab_type": "code",
    "id": "boaacZEe53ok",
    "outputId": "687903d2-ed84-4b37-9273-523235050b1e"
   },
   "outputs": [
    {
     "data": {
      "text/plain": [
       "731"
      ]
     },
     "execution_count": 109,
     "metadata": {
      "tags": []
     },
     "output_type": "execute_result"
    }
   ],
   "source": [
    "valid_generator.n"
   ]
  },
  {
   "cell_type": "code",
   "execution_count": null,
   "metadata": {
    "colab": {},
    "colab_type": "code",
    "id": "PC-rVuLqXskx"
   },
   "outputs": [],
   "source": []
  },
  {
   "cell_type": "markdown",
   "metadata": {
    "colab_type": "text",
    "id": "JwmTaTz5-0O7"
   },
   "source": [
    "## Создание генератора данных с \"авторской\" логикой"
   ]
  },
  {
   "cell_type": "code",
   "execution_count": null,
   "metadata": {
    "colab": {},
    "colab_type": "code",
    "id": "3Nf7xj56-56A"
   },
   "outputs": [],
   "source": [
    "from tensorflow.keras.utils import Sequence\n",
    "\n",
    "def open_file(filename):\n",
    "  ...\n",
    "\n",
    "class Mygenerator(Sequence):\n",
    "  def __init__(self, x_set, y_set, batch_size):\n",
    "    self.x, self.y = x_set, y_set\n",
    "    self.batch_size = batch_size\n",
    "\n",
    "  def __len__(self):\n",
    "    # Определяет, через сколько батчей остановиться при итерировании.\n",
    "    return len(self.x) - 1 // self.batch_size + 1\n",
    "\n",
    "  def __getitem__(self, idx):\n",
    "    # Этот метод будет вызываться на каждой итерации for,\n",
    "    # и значение idx каждый раз будет увеличиваться.\n",
    "    batch_x = self.x[idx * self.batch_size:(idx + 1) * self.batch_size]\n",
    "    batch_y = self.y[idx * self.batch_size:(idx + 1) * self.batch_size]\n",
    "\n",
    "    x = [open_file(filename) for filename in batch_x] \n",
    "    y = [open_file(filename) for filename in batch_y]\n",
    "    return np.array(x), np.array(y)"
   ]
  },
  {
   "cell_type": "code",
   "execution_count": null,
   "metadata": {
    "colab": {},
    "colab_type": "code",
    "id": "wxh5M6gxYuAL"
   },
   "outputs": [],
   "source": [
    "my_generator = Mygenerator([1,2,3,], [3,4,5], 2)"
   ]
  },
  {
   "cell_type": "markdown",
   "metadata": {
    "colab_type": "text",
    "id": "FJUOLcwmVFU9"
   },
   "source": [
    "![Model definition: spectrum of workflows](https://keras-dev.s3.amazonaws.com/tutorials-img/model-building-spectrum.png)"
   ]
  },
  {
   "cell_type": "markdown",
   "metadata": {
    "colab_type": "text",
    "id": "_vWXgj_OVFU9"
   },
   "source": [
    "\n",
    "## Простой пример Transfer Learning в функциональном API\n"
   ]
  },
  {
   "cell_type": "code",
   "execution_count": null,
   "metadata": {
    "colab": {},
    "colab_type": "code",
    "id": "O7rU2mB1VFU9"
   },
   "outputs": [],
   "source": [
    "from tensorflow.keras import Model"
   ]
  },
  {
   "cell_type": "code",
   "execution_count": null,
   "metadata": {
    "colab": {
     "base_uri": "https://localhost:8080/",
     "height": 71
    },
    "colab_type": "code",
    "id": "ilo1JBEqVFU-",
    "outputId": "78831247-e5c5-4522-d400-af571ed8d18b"
   },
   "outputs": [
    {
     "name": "stdout",
     "output_type": "stream",
     "text": [
      "Downloading data from https://storage.googleapis.com/tensorflow/keras-applications/mobilenet_v2/mobilenet_v2_weights_tf_dim_ordering_tf_kernels_1.0_224.h5\n",
      "14540800/14536120 [==============================] - 0s 0us/step\n"
     ]
    }
   ],
   "source": [
    "mob_net = keras.applications.mobilenet_v2.MobileNetV2(input_shape=None, \n",
    "                                                       alpha=1.0,\n",
    "                                                       include_top=True,\n",
    "                                                       weights='imagenet',\n",
    "                                                       input_tensor=None,\n",
    "                                                       pooling=None,\n",
    "                                                       classes=1000)"
   ]
  },
  {
   "cell_type": "code",
   "execution_count": null,
   "metadata": {
    "colab": {},
    "colab_type": "code",
    "id": "Ei7RxTCPVFU_"
   },
   "outputs": [],
   "source": [
    "target_layer_name = mob_net.layers[-2].name"
   ]
  },
  {
   "cell_type": "code",
   "execution_count": null,
   "metadata": {
    "colab": {
     "base_uri": "https://localhost:8080/",
     "height": 54
    },
    "colab_type": "code",
    "id": "f9NDihSLVFVA",
    "outputId": "4f302816-4dbe-41b8-8692-4c1ada2a9cc3"
   },
   "outputs": [
    {
     "data": {
      "text/plain": [
       "'global_average_pooling2d'"
      ]
     },
     "execution_count": 126,
     "metadata": {
      "tags": []
     },
     "output_type": "execute_result"
    }
   ],
   "source": [
    "target_layer_name"
   ]
  },
  {
   "cell_type": "code",
   "execution_count": null,
   "metadata": {
    "colab": {
     "base_uri": "https://localhost:8080/",
     "height": 54
    },
    "colab_type": "code",
    "id": "CrS7y9EjVFVB",
    "outputId": "2e9f5d7e-c6e9-4fd3-9cb8-311739ceec71"
   },
   "outputs": [
    {
     "data": {
      "text/plain": [
       "(None, 1280)"
      ]
     },
     "execution_count": 127,
     "metadata": {
      "tags": []
     },
     "output_type": "execute_result"
    }
   ],
   "source": [
    "mob_net.get_layer(target_layer_name).output_shape"
   ]
  },
  {
   "cell_type": "code",
   "execution_count": null,
   "metadata": {
    "colab": {},
    "colab_type": "code",
    "id": "s3JZdeoRVFVC"
   },
   "outputs": [],
   "source": [
    "mob_net.trainable = False\n",
    "for layer in mob_net.layers:\n",
    "    layer.trainable = False"
   ]
  },
  {
   "cell_type": "code",
   "execution_count": null,
   "metadata": {
    "colab": {},
    "colab_type": "code",
    "id": "1O5vCv3rVFVE"
   },
   "outputs": [],
   "source": [
    "feature_extracotor_layer = mob_net.get_layer(target_layer_name)"
   ]
  },
  {
   "cell_type": "code",
   "execution_count": null,
   "metadata": {
    "colab": {
     "base_uri": "https://localhost:8080/",
     "height": 54
    },
    "colab_type": "code",
    "id": "C8vmnvw_aTHd",
    "outputId": "1bc9efa4-030c-47de-bdac-9d59cc72d4fc"
   },
   "outputs": [
    {
     "data": {
      "text/plain": [
       "<tensorflow.python.keras.layers.pooling.GlobalAveragePooling2D at 0x7f773fab7128>"
      ]
     },
     "execution_count": 130,
     "metadata": {
      "tags": []
     },
     "output_type": "execute_result"
    }
   ],
   "source": [
    "feature_extracotor_layer"
   ]
  },
  {
   "cell_type": "code",
   "execution_count": null,
   "metadata": {
    "colab": {},
    "colab_type": "code",
    "id": "iI721C1pVFVF"
   },
   "outputs": [],
   "source": [
    "my_output_layer = Dense(valid_generator.num_classes, activation='softmax')\n",
    "my_out = my_output_layer(feature_extracotor_layer.output)"
   ]
  },
  {
   "cell_type": "code",
   "execution_count": null,
   "metadata": {
    "colab": {
     "base_uri": "https://localhost:8080/",
     "height": 54
    },
    "colab_type": "code",
    "id": "rfvoNsSmaqpw",
    "outputId": "2f53140a-b5c6-445c-c6d2-ce992eb52694"
   },
   "outputs": [
    {
     "data": {
      "text/plain": [
       "<tf.Tensor 'dense_4/Identity:0' shape=(None, 5) dtype=float32>"
      ]
     },
     "execution_count": 131,
     "metadata": {
      "tags": []
     },
     "output_type": "execute_result"
    }
   ],
   "source": [
    "my_out"
   ]
  },
  {
   "cell_type": "code",
   "execution_count": null,
   "metadata": {
    "colab": {},
    "colab_type": "code",
    "id": "T-hevU5gVFVH"
   },
   "outputs": [],
   "source": [
    "flower_model = keras.Model(mob_net.inputs, my_out)"
   ]
  },
  {
   "cell_type": "code",
   "execution_count": null,
   "metadata": {
    "colab": {},
    "colab_type": "code",
    "id": "h4Pds2WuVFVH"
   },
   "outputs": [],
   "source": [
    "flower_model.compile(optimizer='adam', loss='categorical_crossentropy', metrics=['accuracy'])"
   ]
  },
  {
   "cell_type": "code",
   "execution_count": null,
   "metadata": {
    "colab": {
     "base_uri": "https://localhost:8080/",
     "height": 54
    },
    "colab_type": "code",
    "id": "XgNzauD4VFVI",
    "outputId": "0eada1a8-3b69-480d-9fc0-3dadab824003"
   },
   "outputs": [
    {
     "name": "stdout",
     "output_type": "stream",
     "text": [
      "92/92 [==============================] - 13s 137ms/step - loss: 0.1135 - accuracy: 0.9762 - val_loss: 0.3992 - val_accuracy: 0.8659\n"
     ]
    }
   ],
   "source": [
    "hist = flower_model.fit(train_generator,\n",
    "                        validation_data=valid_generator,\n",
    "                        epochs=1, \n",
    "                                  # callbacks=[...]\n",
    "                                 )"
   ]
  },
  {
   "cell_type": "markdown",
   "metadata": {
    "colab_type": "text",
    "id": "xzab0T0xVFVP"
   },
   "source": [
    "## Собственные метрики"
   ]
  },
  {
   "cell_type": "code",
   "execution_count": null,
   "metadata": {
    "colab": {},
    "colab_type": "code",
    "id": "sw9c_z8wVFVQ"
   },
   "outputs": [],
   "source": [
    "import tensorflow as tf"
   ]
  },
  {
   "cell_type": "markdown",
   "metadata": {
    "colab_type": "text",
    "id": "40P0Ru22VFVR"
   },
   "source": [
    "### Определение своих метрик"
   ]
  },
  {
   "cell_type": "code",
   "execution_count": null,
   "metadata": {
    "colab": {},
    "colab_type": "code",
    "id": "LXRryJmjVFVT"
   },
   "outputs": [],
   "source": [
    "class BinaryTruePositives(tf.keras.metrics.Metric):\n",
    "\n",
    "    def __init__(self, name='binary_true_positives', **kwargs):\n",
    "        super(BinaryTruePositives, self).__init__(name=name, **kwargs)\n",
    "        self.true_positives = self.add_weight(name='tp', initializer='zeros')\n",
    "\n",
    "    def update_state(self, y_true, y_pred, sample_weight=None):\n",
    "        y_true = tf.cast(y_true, tf.bool)\n",
    "        y_pred = tf.cast(y_pred > 0.5, tf.bool)\n",
    "\n",
    "        values = tf.logical_and(tf.equal(y_true, True), tf.equal(y_pred, True))\n",
    "        values = tf.cast(values, self.dtype)\n",
    " \n",
    "        self.true_positives.assign_add(tf.reduce_sum(values))\n",
    "\n",
    "    def result(self):\n",
    "        return self.true_positives\n",
    "\n",
    "    def reset_states(self):\n",
    "        self.true_positives.assign(0)\n",
    "        \n",
    "        \n",
    "class BinaryFalsePositives(tf.keras.metrics.Metric):\n",
    "\n",
    "    def __init__(self, name='binary_false_positives', **kwargs):\n",
    "        super(BinaryFalsePositives, self).__init__(name=name, **kwargs)\n",
    "        self.false_positives = self.add_weight(name='tp', initializer='zeros')\n",
    "\n",
    "    def update_state(self, y_true, y_pred, sample_weight=None):\n",
    "        y_true = tf.cast(y_true, tf.bool)\n",
    "        y_pred = tf.cast(y_pred > 0.5, tf.bool)\n",
    "\n",
    "        values = tf.logical_and(tf.equal(y_true, False), tf.equal(y_pred, True))\n",
    "        values = tf.cast(values, self.dtype)\n",
    "        if sample_weight is not None:\n",
    "            sample_weight = tf.cast(sample_weight, self.dtype)\n",
    "            values = tf.multiply(values, sample_weight)\n",
    "        self.false_positives.assign_add(tf.reduce_sum(values))\n",
    "\n",
    "    def result(self):\n",
    "        return self.false_positives\n",
    "\n",
    "    def reset_states(self):\n",
    "        self.false_positives.assign(0)"
   ]
  },
  {
   "cell_type": "markdown",
   "metadata": {
    "colab_type": "text",
    "id": "ljlH-mNzVFVU"
   },
   "source": [
    "### Обновление метрик \"вручную\" \n",
    "\n",
    "> Может быть нужно, если вы создаете свой цикл обучения модели"
   ]
  },
  {
   "cell_type": "code",
   "execution_count": null,
   "metadata": {
    "colab": {
     "base_uri": "https://localhost:8080/",
     "height": 71
    },
    "colab_type": "code",
    "id": "OX_OrCoCVFVV",
    "outputId": "c6356355-ec6c-4484-d9e5-1bdd9db52e75"
   },
   "outputs": [
    {
     "name": "stdout",
     "output_type": "stream",
     "text": [
      "Intermediate result: 1.0\n",
      "Final result: 3.0\n"
     ]
    }
   ],
   "source": [
    "m = BinaryTruePositives()\n",
    "m.update_state(np.array([0., 1, 1, 1]), np.array([0., 1, 0, 0]))\n",
    "print('Intermediate result:', m.result().numpy())\n",
    "\n",
    "m.update_state(np.array([1., 1, 1, 1]), np.array([0., 1, 1, 0]))\n",
    "print('Final result:', m.result().numpy())"
   ]
  },
  {
   "cell_type": "markdown",
   "metadata": {
    "colab_type": "text",
    "id": "lm64KsJZVFVW"
   },
   "source": [
    "### Применение метрик к модели"
   ]
  },
  {
   "cell_type": "code",
   "execution_count": null,
   "metadata": {
    "colab": {
     "base_uri": "https://localhost:8080/",
     "height": 385
    },
    "colab_type": "code",
    "id": "HLEDON6NVFVW",
    "outputId": "b2f4e1f9-b47b-4d11-efba-ceeca1ce0485"
   },
   "outputs": [
    {
     "name": "stdout",
     "output_type": "stream",
     "text": [
      "Epoch 1/10\n",
      "  2/196 [..............................] - ETA: 22s - loss: 0.7222 - binary_true_positives: 128.0000 - binary_false_positives: 119.0000WARNING:tensorflow:Method (on_train_batch_end) is slow compared to the batch update (0.112808). Check your callbacks.\n",
      "196/196 [==============================] - 2s 10ms/step - loss: 0.6870 - binary_true_positives: 7708.0000 - binary_false_positives: 6478.0000 - val_loss: 0.6726 - val_binary_true_positives: 7132.0000 - val_binary_false_positives: 4592.0000\n",
      "Epoch 2/10\n",
      "196/196 [==============================] - 2s 8ms/step - loss: 0.6536 - binary_true_positives: 7824.0000 - binary_false_positives: 4020.0000 - val_loss: 0.6362 - val_binary_true_positives: 8807.0000 - val_binary_false_positives: 4175.0000\n",
      "Epoch 3/10\n",
      "196/196 [==============================] - 2s 8ms/step - loss: 0.6047 - binary_true_positives: 9171.0000 - binary_false_positives: 3629.0000 - val_loss: 0.5775 - val_binary_true_positives: 9180.0000 - val_binary_false_positives: 3199.0000\n",
      "Epoch 4/10\n",
      "196/196 [==============================] - 2s 8ms/step - loss: 0.5377 - binary_true_positives: 9755.0000 - binary_false_positives: 3102.0000 - val_loss: 0.5111 - val_binary_true_positives: 9526.0000 - val_binary_false_positives: 2707.0000\n",
      "Epoch 5/10\n",
      "196/196 [==============================] - 2s 8ms/step - loss: 0.4751 - binary_true_positives: 10131.0000 - binary_false_positives: 2734.0000 - val_loss: 0.4584 - val_binary_true_positives: 10365.0000 - val_binary_false_positives: 2943.0000\n",
      "Epoch 6/10\n",
      "196/196 [==============================] - 2s 8ms/step - loss: 0.4300 - binary_true_positives: 10417.0000 - binary_false_positives: 2504.0000 - val_loss: 0.4245 - val_binary_true_positives: 9954.0000 - val_binary_false_positives: 2146.0000\n",
      "Epoch 7/10\n",
      "196/196 [==============================] - 2s 8ms/step - loss: 0.3995 - binary_true_positives: 10529.0000 - binary_false_positives: 2306.0000 - val_loss: 0.4014 - val_binary_true_positives: 10741.0000 - val_binary_false_positives: 2676.0000\n",
      "Epoch 8/10\n",
      "196/196 [==============================] - 2s 8ms/step - loss: 0.3788 - binary_true_positives: 10663.0000 - binary_false_positives: 2162.0000 - val_loss: 0.3837 - val_binary_true_positives: 10420.0000 - val_binary_false_positives: 2092.0000\n",
      "Epoch 9/10\n",
      "196/196 [==============================] - 2s 8ms/step - loss: 0.3631 - binary_true_positives: 10712.0000 - binary_false_positives: 2065.0000 - val_loss: 0.3721 - val_binary_true_positives: 10457.0000 - val_binary_false_positives: 1986.0000\n",
      "Epoch 10/10\n",
      "196/196 [==============================] - 2s 8ms/step - loss: 0.3508 - binary_true_positives: 10772.0000 - binary_false_positives: 1969.0000 - val_loss: 0.3629 - val_binary_true_positives: 10709.0000 - val_binary_false_positives: 2128.0000\n"
     ]
    }
   ],
   "source": [
    "\n",
    "model = Sequential([Dense(128, activation='relu'),\n",
    "                    Dense(128, activation='relu'), \n",
    "                    Dense(1, activation='sigmoid')]\n",
    "                  )\n",
    "\n",
    "model.compile('sgd', loss='binary_crossentropy',\n",
    "              metrics=[BinaryTruePositives(), BinaryFalsePositives()])\n",
    "h = model.fit(x_train, Y_train,\n",
    "              verbose=1,\n",
    "              validation_data=(x_test, Y_test),\n",
    "              batch_size=128,\n",
    "              epochs=10,\n",
    "              callbacks=[tensorboard]\n",
    "             )"
   ]
  },
  {
   "cell_type": "markdown",
   "metadata": {
    "colab_type": "text",
    "id": "sdZUF_6b6v93"
   },
   "source": [
    "## Можно ли сделать метрики сериализуемыми (сохраняемыми)?\n",
    "\n",
    "> Да! Для этого нужен `get_config`. Но проще всего наследовать от абстрактного класса метрики, например, [`MeanMetric`](https://github.com/tensorflow/tensorflow/blob/2b96f3662bd776e277f86997659e61046b56c315/tensorflow/python/keras/metrics.py#L607), и ваша метрика автоматически унаследует `get_config`. Главное, чтобы она соответствовала базовому классу _по сути_."
   ]
  },
  {
   "cell_type": "markdown",
   "metadata": {
    "colab_type": "text",
    "id": "PEm0A_CHVFVY"
   },
   "source": [
    "## Activity regularizers\n",
    "\n",
    "> Как добавить $||w||_2^2$ к слою, чтобы он учитывался при обучении модели?"
   ]
  },
  {
   "cell_type": "code",
   "execution_count": null,
   "metadata": {
    "colab": {
     "base_uri": "https://localhost:8080/",
     "height": 335
    },
    "colab_type": "code",
    "id": "QjXah4rGi1NI",
    "outputId": "c2dda41b-11d2-4911-9204-80bf68d67ccf"
   },
   "outputs": [
    {
     "data": {
      "text/plain": [
       "['L1L2',\n",
       " 'Regularizer',\n",
       " '__builtins__',\n",
       " '__cached__',\n",
       " '__doc__',\n",
       " '__file__',\n",
       " '__loader__',\n",
       " '__name__',\n",
       " '__package__',\n",
       " '__path__',\n",
       " '__spec__',\n",
       " '_sys',\n",
       " 'deserialize',\n",
       " 'get',\n",
       " 'l1',\n",
       " 'l1_l2',\n",
       " 'l2',\n",
       " 'serialize']"
      ]
     },
     "execution_count": 142,
     "metadata": {
      "tags": []
     },
     "output_type": "execute_result"
    }
   ],
   "source": [
    "dir(keras.regularizers)"
   ]
  },
  {
   "cell_type": "code",
   "execution_count": null,
   "metadata": {
    "colab": {},
    "colab_type": "code",
    "id": "MWQPvmdvVFVZ"
   },
   "outputs": [],
   "source": [
    "class Linear(keras.layers.Layer):\n",
    "    \"\"\"y = w.x + b\"\"\"\n",
    "\n",
    "    def __init__(self, units=32):\n",
    "        super(Linear, self).__init__()\n",
    "        self.units = units\n",
    "\n",
    "    def build(self, input_shape):\n",
    "        self.w = self.add_weight(shape=(input_shape[-1], self.units),\n",
    "                               initializer='random_normal',\n",
    "                               trainable=True)\n",
    "        self.b = self.add_weight(shape=(self.units,),\n",
    "                               initializer='random_normal',\n",
    "                               trainable=True)\n",
    "\n",
    "    def call(self, inputs):\n",
    "        self.add_loss(tf.reduce_sum(self.w ** 2) / 2, inputs=inputs)\n",
    "        result = tf.matmul(inputs, self.w) + self.b\n",
    "        self.add_loss(result, inputs=inputs)\n",
    "        return result"
   ]
  },
  {
   "cell_type": "code",
   "execution_count": null,
   "metadata": {
    "colab": {},
    "colab_type": "code",
    "id": "vaI-FWimVFVZ",
    "outputId": "d6470376-82bd-4db6-9422-36dc0da74fb9"
   },
   "outputs": [
    {
     "data": {
      "text/plain": [
       "<tf.Tensor: shape=(2, 4), dtype=float32, numpy=\n",
       "array([[-0.01637187,  0.05568011, -0.15307847, -0.01195802],\n",
       "       [-0.01637187,  0.05568011, -0.15307847, -0.01195802]],\n",
       "      dtype=float32)>"
      ]
     },
     "execution_count": 32,
     "metadata": {
      "tags": []
     },
     "output_type": "execute_result"
    }
   ],
   "source": [
    "linear_layer = Linear(4)\n",
    "y = linear_layer(tf.ones((2, 2)))\n",
    "y"
   ]
  },
  {
   "cell_type": "markdown",
   "metadata": {
    "colab_type": "text",
    "id": "-FOYFzfH-G_e"
   },
   "source": [
    "# Как определить свой Loss\n",
    "\n",
    "* Чтобы определить свой лосс, лучше всего унаследоваться от класса `keras.losses.LossFunctionWrapper`. Это сделает ваш лосс сохраняемым и встроенным в экосистему `keras`.\n",
    "* Можно поступить проще и определить функцию с сигнатурой `loss_fn(y_true, y_pred, sample_weights=None)` и передавать ее в метод `model.compile()`."
   ]
  },
  {
   "cell_type": "code",
   "execution_count": null,
   "metadata": {
    "colab": {},
    "colab_type": "code",
    "id": "f8q2m2Tn-KOC"
   },
   "outputs": [],
   "source": [
    "class LossFunctionWrapper(Loss):\n",
    "  \"\"\"Wraps a loss function in the `Loss` class.\"\"\"\n",
    "\n",
    "  def __init__(self,\n",
    "               fn,\n",
    "               reduction=losses_utils.ReductionV2.AUTO,\n",
    "               name=None,\n",
    "               **kwargs):\n",
    "    \"\"\"Initializes `LossFunctionWrapper` class.\n",
    "    Args:\n",
    "      fn: The loss function to wrap, with signature `fn(y_true, y_pred,\n",
    "        **kwargs)`.\n",
    "      reduction: (Optional) Type of `tf.keras.losses.Reduction` to apply to\n",
    "        loss. Default value is `AUTO`. `AUTO` indicates that the reduction\n",
    "        option will be determined by the usage context. For almost all cases\n",
    "        this defaults to `SUM_OVER_BATCH_SIZE`. When used with\n",
    "        `tf.distribute.Strategy`, outside of built-in training loops such as\n",
    "        `tf.keras` `compile` and `fit`, using `AUTO` or `SUM_OVER_BATCH_SIZE`\n",
    "        will raise an error. Please see this custom training [tutorial]\n",
    "        (https://www.tensorflow.org/tutorials/distribute/custom_training)\n",
    "        for more details.\n",
    "      name: (Optional) name for the loss.\n",
    "      **kwargs: The keyword arguments that are passed on to `fn`.\n",
    "    \"\"\"\n",
    "    super(LossFunctionWrapper, self).__init__(reduction=reduction, name=name)\n",
    "    self.fn = fn\n",
    "    self._fn_kwargs = kwargs\n",
    "\n",
    "  def call(self, y_true, y_pred):\n",
    "    \"\"\"Invokes the `LossFunctionWrapper` instance.\n",
    "    Args:\n",
    "      y_true: Ground truth values.\n",
    "      y_pred: The predicted values.\n",
    "    Returns:\n",
    "      Loss values per sample.\n",
    "    \"\"\"\n",
    "    if tensor_util.is_tensor(y_pred) and tensor_util.is_tensor(y_true):\n",
    "      y_pred, y_true = tf_losses_util.squeeze_or_expand_dimensions(\n",
    "          y_pred, y_true)\n",
    "    return self.fn(y_true, y_pred, **self._fn_kwargs)\n",
    "\n",
    "  def get_config(self):\n",
    "    config = {}\n",
    "    for k, v in six.iteritems(self._fn_kwargs):\n",
    "      config[k] = K.eval(v) if tf_utils.is_tensor_or_variable(v) else v\n",
    "    base_config = super(LossFunctionWrapper, self).get_config()\n",
    "    return dict(list(base_config.items()) + list(config.items()))\n"
   ]
  }
 ],
 "metadata": {
  "accelerator": "GPU",
  "colab": {
   "collapsed_sections": [],
   "name": "tensorflow_intro_2nd_part_2020.ipynb",
   "provenance": []
  },
  "kernelspec": {
   "display_name": "Python 3",
   "language": "python",
   "name": "python3"
  },
  "language_info": {
   "codemirror_mode": {
    "name": "ipython",
    "version": 3
   },
   "file_extension": ".py",
   "mimetype": "text/x-python",
   "name": "python",
   "nbconvert_exporter": "python",
   "pygments_lexer": "ipython3",
   "version": "3.7.7"
  }
 },
 "nbformat": 4,
 "nbformat_minor": 4
}
