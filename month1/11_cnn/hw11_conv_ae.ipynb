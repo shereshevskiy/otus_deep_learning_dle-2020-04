{
 "cells": [
  {
   "cell_type": "markdown",
   "metadata": {},
   "source": [
    "# <center>Домашнее задание\n",
    "## Сверточные сети\n",
    "Необязательное домашнее задание\n",
    "1. Реализовать сверточный автокодировщик\n",
    "2. Сделать оптимизацию изображения под активацию сверточных нейронов классификатора\n",
    "3. Сделать оптимизацию изображения под активацию сверточных нейронов автокодировщика"
   ]
  },
  {
   "cell_type": "code",
   "execution_count": 1,
   "metadata": {
    "colab": {},
    "colab_type": "code",
    "id": "xqF3eS2T_sDn"
   },
   "outputs": [],
   "source": [
    "import torch\n",
    "import torch.nn as nn\n",
    "import torch.nn.functional as F\n",
    "import torch.optim as optim\n",
    "from torchvision import datasets, transforms\n",
    "\n",
    "from utils import mnist, plot_graphs, plot_mnist, mnist_transform\n",
    "import numpy as np\n",
    "import matplotlib.pyplot as plt"
   ]
  },
  {
   "cell_type": "code",
   "execution_count": 2,
   "metadata": {
    "colab": {},
    "colab_type": "code",
    "id": "Q4LCSM24_sD1"
   },
   "outputs": [],
   "source": [
    "mnist_transform = transforms.Compose([\n",
    "                transforms.ToTensor(),\n",
    "                transforms.Normalize((0.5,), (0.5,)),\n",
    "           ])\n",
    "\n",
    "train_loader, test_loader = mnist(batch_size=200, valid=0, transform=mnist_transform, path='./../MNIST_data')"
   ]
  },
  {
   "cell_type": "code",
   "execution_count": 3,
   "metadata": {
    "colab": {},
    "colab_type": "code",
    "id": "zwQNBtjoBB7M"
   },
   "outputs": [
    {
     "data": {
      "text/plain": [
       "device(type='cpu')"
      ]
     },
     "execution_count": 3,
     "metadata": {},
     "output_type": "execute_result"
    }
   ],
   "source": [
    "device = torch.device('cuda:0' if torch.cuda.is_available() else 'cpu')\n",
    "device"
   ]
  },
  {
   "cell_type": "markdown",
   "metadata": {
    "colab_type": "text",
    "id": "hUE2Q2ut_sD7"
   },
   "source": [
    "## Создаем необходимые классы"
   ]
  },
  {
   "cell_type": "code",
   "execution_count": 9,
   "metadata": {
    "colab": {},
    "colab_type": "code",
    "id": "sTnJBZff_sD8"
   },
   "outputs": [],
   "source": [
    "class Encoder(nn.Module):\n",
    "    def __init__(self, channels=16, latent_size=10):\n",
    "        super(Encoder, self).__init__()\n",
    "        self.conv1 = nn.Conv2d(in_channels=1, out_channels=channels, kernel_size=5, stride=1, padding=2)\n",
    "        self.fc1 = nn.Linear(28*28*channels, latent_size)\n",
    "        self.channels = channels\n",
    "    \n",
    "    def forward(self, x):\n",
    "        x = self.conv1(x)\n",
    "        x = x.view(-1, 28*28*self.channels)\n",
    "        x = self.fc1(x)\n",
    "        x = torch.sigmoid(x)\n",
    "        return x\n",
    "    \n",
    "class Decoder(nn.Module):\n",
    "    def __init__(self, channels=16, latent_size=10):\n",
    "        super(Decoder, self).__init__()\n",
    "        self.fc1 = nn.Linear(latent_size, 28*28*channels)\n",
    "        self.convtrans1 = nn.ConvTranspose2d(in_channels=channels, out_channels=1, kernel_size=5, stride=1, padding=2)\n",
    "        self.channels = channels\n",
    "    \n",
    "    def forward(self, x):\n",
    "        x = self.fc1(x)\n",
    "        x = x.view(-1, self.channels, 28, 28)\n",
    "        x = self.convtrans1(x)\n",
    "        x = torch.tanh(x)\n",
    "        return x"
   ]
  },
  {
   "cell_type": "code",
   "execution_count": 10,
   "metadata": {
    "colab": {},
    "colab_type": "code",
    "id": "Xa9JH-v-_sEC"
   },
   "outputs": [],
   "source": [
    "class Net(nn.Module):\n",
    "    def __init__(self, latent_size=10, loss_fn=F.mse_loss, lr=1e-4, l2=0.):\n",
    "        super(Net, self).__init__()\n",
    "        self.latent_size = latent_size\n",
    "        self.E = Encoder(latent_size).to(device)\n",
    "        self.D = Decoder(latent_size).to(device)\n",
    "        self.loss_fn = loss_fn\n",
    "        self._loss = None\n",
    "        self.optim = optim.Adam(self.parameters(), lr=lr, weight_decay=l2)\n",
    "        \n",
    "    def forward(self, x):\n",
    "        h = self.E(x)\n",
    "        out = self.D(h)\n",
    "        return out\n",
    "    \n",
    "    def decode(self, h):\n",
    "        with torch.no_grad():\n",
    "            return self.D(h)\n",
    "    \n",
    "    def loss(self, x, target, **kwargs):\n",
    "        self._loss = self.loss_fn(x, target, **kwargs)\n",
    "        return self._loss"
   ]
  },
  {
   "cell_type": "code",
   "execution_count": 11,
   "metadata": {
    "colab": {},
    "colab_type": "code",
    "id": "LSWOuoLQ_sEI"
   },
   "outputs": [],
   "source": [
    "def train(epoch, models, loader, log=None, noise=False, mode='crop', elementwise=False, verbose_num=1):\n",
    "    train_size = len(loader.sampler)\n",
    "    for batch_idx, (data, _) in enumerate(loader):\n",
    "        data = data.to(device)\n",
    "        if noise:\n",
    "            noised = add_noise(data, mode, elementwise)\n",
    "        else:\n",
    "            noised = data\n",
    "        \n",
    "        for model in models.values():\n",
    "            model = model.to(device)\n",
    "            model.optim.zero_grad()\n",
    "            output = model(noised)\n",
    "            loss = model.loss(output, data)\n",
    "            loss.backward()\n",
    "            model.optim.step()\n",
    "            \n",
    "    if log is not None:\n",
    "        for k in models:\n",
    "            log[k].append(models[k]._loss)   \n",
    "            \n",
    "    if epoch == 1 or epoch % verbose_num == 0:\n",
    "        line = 'Epoch: {} [{}]\\n'.format(epoch, train_size)\n",
    "        losses = '\\t' + 'Train set: ' + \\\n",
    "                 ' '.join(['{}: loss: {:.6f}'.format(k, m._loss.item()) for k, m in models.items()])\n",
    "        report = line + losses\n",
    "        print(report)"
   ]
  },
  {
   "cell_type": "code",
   "execution_count": 12,
   "metadata": {
    "colab": {},
    "colab_type": "code",
    "id": "OjKZP8Vu_sEP"
   },
   "outputs": [],
   "source": [
    "def test(epoch, models, loader, log=None, noise=False, mode='crop', elementwise=False, verbose_num=1):\n",
    "    test_size = len(loader.sampler)\n",
    "\n",
    "    test_loss = {mod_label: 0. for mod_label in models}\n",
    "    with torch.no_grad():\n",
    "        for data, _ in loader:\n",
    "            data = data.to(device)\n",
    "            if noise:\n",
    "                noised = add_noise(data, mode, elementwise)\n",
    "            else:\n",
    "                noised = data\n",
    "            \n",
    "            output = {mod_label: model(noised) for mod_label, model in models.items()}\n",
    "            for mod_label, model in models.items():\n",
    "                test_loss[mod_label] += model.loss(output[mod_label], noised, reduction='sum').item() # sum up batch loss\n",
    "    \n",
    "    for k in models:\n",
    "        test_loss[k] /= (test_size * 784)\n",
    "        if log is not None:\n",
    "            log[k].append(test_loss[k])\n",
    "    \n",
    "    if epoch == 1 or epoch % verbose_num == 0:\n",
    "        avg_lambda = lambda l: 'loss: {:.4f}'.format(l)\n",
    "        line = lambda i, l: '{}: '.format(i) + avg_lambda(l)\n",
    "        \n",
    "        losses = ' '.join([line(k, test_loss[k]) for k in models])\n",
    "        report = '\\t' + 'Test set: ' + losses   \n",
    "        print(report)"
   ]
  },
  {
   "cell_type": "markdown",
   "metadata": {
    "colab_type": "text",
    "id": "liPKy3KU_sET"
   },
   "source": [
    "#### Тренируем автокодировщики с 32-мерным латентным слоем, включая, естественно, энкодер"
   ]
  },
  {
   "cell_type": "code",
   "execution_count": 13,
   "metadata": {
    "colab": {
     "base_uri": "https://localhost:8080/",
     "height": 1000
    },
    "colab_type": "code",
    "executionInfo": {
     "elapsed": 1515500,
     "status": "ok",
     "timestamp": 1591709385887,
     "user": {
      "displayName": "Дмитрий Шерешевский",
      "photoUrl": "https://lh3.googleusercontent.com/a-/AOh14Giembzl_qmFKR42DoX0fGLebX_kyUtm4Zs6FyKw=s64",
      "userId": "15007188307318442356"
     },
     "user_tz": -180
    },
    "id": "We8u1izI_sEa",
    "outputId": "d6204815-3401-42cc-e7cc-22c5ee09b2d2"
   },
   "outputs": [
    {
     "name": "stdout",
     "output_type": "stream",
     "text": [
      "Epoch: 1 [60000]\n",
      "\tTrain set: 32: loss: 0.309772\n",
      "\tTest set: 32: loss: 0.3090\n",
      "Epoch: 2 [60000]\n",
      "\tTrain set: 32: loss: 0.263449\n",
      "\tTest set: 32: loss: 0.2525\n",
      "Epoch: 3 [60000]\n",
      "\tTrain set: 32: loss: 0.210345\n",
      "\tTest set: 32: loss: 0.2051\n",
      "Wall time: 7min 43s\n"
     ]
    }
   ],
   "source": [
    "%%time\n",
    "\n",
    "models = {'32': Net(32)}\n",
    "train_log = {k: [] for k in models}\n",
    "test_log = {k: [] for k in models}\n",
    "\n",
    "for epoch in np.arange(3) + 1:\n",
    "    for model in models.values():\n",
    "        model.train()\n",
    "    train(epoch, models, train_loader, train_log)\n",
    "    for model in models.values():\n",
    "        model.eval()\n",
    "    test(epoch, models, test_loader, test_log)"
   ]
  },
  {
   "cell_type": "markdown",
   "metadata": {
    "colab_type": "text",
    "id": "arESPcjx_sEi"
   },
   "source": [
    "#### посмотрим на кривые обучения"
   ]
  },
  {
   "cell_type": "code",
   "execution_count": 14,
   "metadata": {
    "colab": {
     "base_uri": "https://localhost:8080/",
     "height": 573
    },
    "colab_type": "code",
    "executionInfo": {
     "elapsed": 1515495,
     "status": "ok",
     "timestamp": 1591709385893,
     "user": {
      "displayName": "Дмитрий Шерешевский",
      "photoUrl": "https://lh3.googleusercontent.com/a-/AOh14Giembzl_qmFKR42DoX0fGLebX_kyUtm4Zs6FyKw=s64",
      "userId": "15007188307318442356"
     },
     "user_tz": -180
    },
    "id": "_9UpjtSJ_sEj",
    "outputId": "a174ce0d-bf55-4cac-d5f3-68ae24a2577f"
   },
   "outputs": [
    {
     "data": {
      "image/png": "[encoded data removed]",
      "text/plain": [
       "<Figure size 432x288 with 1 Axes>"
      ]
     },
     "metadata": {
      "needs_background": "light"
     },
     "output_type": "display_data"
    }
   ],
   "source": [
    "for model in models:\n",
    "    plt.plot(range(1, len(train_log[model])+1), train_log[model], label=\"train\")\n",
    "    plt.plot(range(1, len(test_log[model])+1), test_log[model], label=\"test\")\n",
    "    plt.title(f\"loss, model: {model}\")\n",
    "    plt.xlabel(\"Epochs\")\n",
    "    plt.xticks(range(1, len(train_log[model])+1))\n",
    "    plt.legend()\n",
    "    plt.grid()\n",
    "    plt.show()"
   ]
  },
  {
   "cell_type": "markdown",
   "metadata": {},
   "source": [
    "### Отрисуем веса фильтров сверток кодера (conv) и декодера (transpose conv)"
   ]
  },
  {
   "cell_type": "code",
   "execution_count": 15,
   "metadata": {},
   "outputs": [],
   "source": [
    "encoders ={model: models[model].E for model in models}\n",
    "decoders ={model: models[model].D for model in models}"
   ]
  },
  {
   "cell_type": "code",
   "execution_count": 18,
   "metadata": {},
   "outputs": [],
   "source": [
    "def plot_coder_filtes(layer, size):\n",
    "    to_plot = layer.weight.data.cpu().numpy()\n",
    "    plot_mnist(to_plot, size)"
   ]
  },
  {
   "cell_type": "markdown",
   "metadata": {},
   "source": [
    "#### сверточное ядро кодера (conv)"
   ]
  },
  {
   "cell_type": "code",
   "execution_count": 19,
   "metadata": {},
   "outputs": [
    {
     "data": {
      "image/png": "[encoded data removed]",
      "text/plain": [
       "<Figure size 640x320 with 32 Axes>"
      ]
     },
     "metadata": {},
     "output_type": "display_data"
    }
   ],
   "source": [
    "plot_coder_filtes(encoders[\"32\"].conv1, (4, 8))"
   ]
  },
  {
   "cell_type": "markdown",
   "metadata": {},
   "source": [
    "#### сверточное ядро кодера (transpose conv)"
   ]
  },
  {
   "cell_type": "code",
   "execution_count": 20,
   "metadata": {},
   "outputs": [
    {
     "data": {
      "image/png": "[encoded data removed]",
      "text/plain": [
       "<Figure size 640x320 with 32 Axes>"
      ]
     },
     "metadata": {},
     "output_type": "display_data"
    }
   ],
   "source": [
    "plot_coder_filtes(decoders[\"32\"].convtrans1, (4, 8))"
   ]
  },
  {
   "cell_type": "code",
   "execution_count": null,
   "metadata": {},
   "outputs": [],
   "source": []
  }
 ],
 "metadata": {
  "kernelspec": {
   "display_name": "Python 3",
   "language": "python",
   "name": "python3"
  },
  "language_info": {
   "codemirror_mode": {
    "name": "ipython",
    "version": 3
   },
   "file_extension": ".py",
   "mimetype": "text/x-python",
   "name": "python",
   "nbconvert_exporter": "python",
   "pygments_lexer": "ipython3",
   "version": "3.7.7"
  }
 },
 "nbformat": 4,
 "nbformat_minor": 4
}
