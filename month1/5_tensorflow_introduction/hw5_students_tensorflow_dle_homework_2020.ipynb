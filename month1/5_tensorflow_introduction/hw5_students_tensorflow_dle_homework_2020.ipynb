{
 "cells": [
  {
   "cell_type": "code",
   "execution_count": 1,
   "metadata": {
    "colab": {
     "base_uri": "https://localhost:8080/",
     "height": 49
    },
    "colab_type": "code",
    "id": "QlnAmOdusncf",
    "outputId": "bbc61397-6679-403a-d70d-3d8912908d68"
   },
   "outputs": [],
   "source": [
    "# %tensorflow_version 2.x\n",
    "%load_ext tensorboard\n",
    "import tensorflow as tf\n",
    "from tensorflow import keras\n",
    "import tensorflow.keras.layers as layers\n",
    "import tensorflow.keras.callbacks as callbacks\n",
    "import numpy as np\n",
    "import matplotlib.pyplot as plt"
   ]
  },
  {
   "cell_type": "code",
   "execution_count": 2,
   "metadata": {},
   "outputs": [],
   "source": [
    "import os\n",
    "import datetime\n",
    "from tensorflow.keras.models import load_model"
   ]
  },
  {
   "cell_type": "markdown",
   "metadata": {},
   "source": [
    "## подготовка"
   ]
  },
  {
   "cell_type": "code",
   "execution_count": 3,
   "metadata": {},
   "outputs": [],
   "source": [
    "path_to_data = \"data\""
   ]
  },
  {
   "cell_type": "markdown",
   "metadata": {
    "colab_type": "text",
    "id": "Etw9Yh252Hdn"
   },
   "source": [
    "# Общая часть\n",
    "\n",
    "> **Если вы используете colab, не забудьте подключить GPU!** Edit $\\rightarrow$ Notenook settings $\\rightarrow$  Hardware Acceleration.\n",
    "\n",
    "\n",
    "## Как прислать Д/з\n",
    "Д/з можете присылать ссылками на colab / в виде ipynb или py-скриптов. Можно ссылками на github.\n",
    "\n",
    "## Загрузка данных"
   ]
  },
  {
   "cell_type": "code",
   "execution_count": 4,
   "metadata": {
    "colab": {},
    "colab_type": "code",
    "id": "fNqXem9Ss7d9"
   },
   "outputs": [],
   "source": [
    "(__x_train, y_train), (__x_test, y_test) = keras.datasets.fashion_mnist.load_data()\n",
    "x_train = (np.reshape(__x_train, (__x_train.shape[0], -1)) / 255. - 0.5) * 2  # исправил на __x_train\n",
    "x_test = (np.reshape(__x_test, (__x_test.shape[0], -1)) / 255. - 0.5) * 2  # исправил на __x_test"
   ]
  },
  {
   "cell_type": "markdown",
   "metadata": {
    "colab_type": "text",
    "id": "TYwjMeaY2M_M"
   },
   "source": [
    "## Код для создания и обучения модели\n",
    "\n",
    "**Важно!** Вы можете менять код функции `get_model`, если хотите получить лучшие результаты или просто поэксперементировать."
   ]
  },
  {
   "cell_type": "markdown",
   "metadata": {},
   "source": [
    "### 1) начальный вариант "
   ]
  },
  {
   "cell_type": "code",
   "execution_count": 5,
   "metadata": {
    "colab": {},
    "colab_type": "code",
    "id": "ur49cPRjttvy"
   },
   "outputs": [],
   "source": [
    "def get_model(n_classes):\n",
    "  activation = 'tanh'\n",
    "  units = 256\n",
    "  model = keras.Sequential([\n",
    "    layers.Dense(units, activation=activation),\n",
    "    layers.Dense(units, activation=activation),\n",
    "    layers.Dense(n_classes, activation='softmax')])\n",
    "  return model"
   ]
  },
  {
   "cell_type": "code",
   "execution_count": 9,
   "metadata": {
    "colab": {},
    "colab_type": "code",
    "id": "WS06ZPt6ttoI"
   },
   "outputs": [],
   "source": [
    "model = get_model(10)\n",
    "model.compile(optimizer=keras.optimizers.SGD(learning_rate=0.01),\n",
    "              metrics=['accuracy'],\n",
    "              loss='sparse_categorical_crossentropy')"
   ]
  },
  {
   "cell_type": "code",
   "execution_count": 10,
   "metadata": {
    "colab": {},
    "colab_type": "code",
    "id": "ZEpYrV2CttiK"
   },
   "outputs": [
    {
     "name": "stdout",
     "output_type": "stream",
     "text": [
      "Train on 60000 samples, validate on 10000 samples\n",
      "Epoch 1/100\n",
      "60000/60000 [==============================] - 2s 32us/sample - loss: 0.7796 - accuracy: 0.7465 - val_loss: 0.5922 - val_accuracy: 0.7973\n",
      "Epoch 2/100\n",
      "60000/60000 [==============================] - 2s 28us/sample - loss: 0.5265 - accuracy: 0.8177 - val_loss: 0.5234 - val_accuracy: 0.8135\n",
      "Epoch 3/100\n",
      "60000/60000 [==============================] - 3s 46us/sample - loss: 0.4747 - accuracy: 0.8340 - val_loss: 0.4885 - val_accuracy: 0.8259\n",
      "Epoch 4/100\n",
      "60000/60000 [==============================] - 2s 27us/sample - loss: 0.4462 - accuracy: 0.8436 - val_loss: 0.4685 - val_accuracy: 0.8334\n",
      "Epoch 5/100\n",
      "60000/60000 [==============================] - 2s 34us/sample - loss: 0.4264 - accuracy: 0.8501 - val_loss: 0.4545 - val_accuracy: 0.8379\n",
      "Epoch 6/100\n",
      "60000/60000 [==============================] - 2s 37us/sample - loss: 0.4119 - accuracy: 0.8550 - val_loss: 0.4455 - val_accuracy: 0.8405\n",
      "Epoch 7/100\n",
      "60000/60000 [==============================] - 2s 33us/sample - loss: 0.3993 - accuracy: 0.8596 - val_loss: 0.4333 - val_accuracy: 0.8446\n",
      "Epoch 8/100\n",
      "60000/60000 [==============================] - 2s 33us/sample - loss: 0.3893 - accuracy: 0.8625 - val_loss: 0.4269 - val_accuracy: 0.8487\n",
      "Epoch 9/100\n",
      "60000/60000 [==============================] - 2s 30us/sample - loss: 0.3804 - accuracy: 0.8658 - val_loss: 0.4198 - val_accuracy: 0.8498\n",
      "Epoch 10/100\n",
      "60000/60000 [==============================] - 2s 32us/sample - loss: 0.3729 - accuracy: 0.8681 - val_loss: 0.4147 - val_accuracy: 0.8496\n",
      "Epoch 11/100\n",
      "60000/60000 [==============================] - 2s 34us/sample - loss: 0.3652 - accuracy: 0.8708 - val_loss: 0.4080 - val_accuracy: 0.8530\n",
      "Epoch 12/100\n",
      "60000/60000 [==============================] - 2s 31us/sample - loss: 0.3589 - accuracy: 0.8722 - val_loss: 0.4009 - val_accuracy: 0.8554\n",
      "Epoch 13/100\n",
      "60000/60000 [==============================] - 2s 33us/sample - loss: 0.3534 - accuracy: 0.8748 - val_loss: 0.3987 - val_accuracy: 0.8561\n",
      "Epoch 14/100\n",
      "60000/60000 [==============================] - 2s 31us/sample - loss: 0.3480 - accuracy: 0.8770 - val_loss: 0.3938 - val_accuracy: 0.8573\n",
      "Epoch 15/100\n",
      "60000/60000 [==============================] - 2s 39us/sample - loss: 0.3426 - accuracy: 0.8778 - val_loss: 0.3888 - val_accuracy: 0.8585\n",
      "Epoch 16/100\n",
      "60000/60000 [==============================] - 2s 38us/sample - loss: 0.3385 - accuracy: 0.8791 - val_loss: 0.3877 - val_accuracy: 0.8610\n",
      "Epoch 17/100\n",
      "60000/60000 [==============================] - 2s 31us/sample - loss: 0.3338 - accuracy: 0.8810 - val_loss: 0.3845 - val_accuracy: 0.8619\n",
      "Epoch 18/100\n",
      "60000/60000 [==============================] - 2s 30us/sample - loss: 0.3297 - accuracy: 0.8828 - val_loss: 0.3800 - val_accuracy: 0.8631\n",
      "Epoch 19/100\n",
      "60000/60000 [==============================] - 2s 34us/sample - loss: 0.3253 - accuracy: 0.8846 - val_loss: 0.3765 - val_accuracy: 0.8626\n",
      "Epoch 20/100\n",
      "60000/60000 [==============================] - 2s 34us/sample - loss: 0.3209 - accuracy: 0.8859 - val_loss: 0.3734 - val_accuracy: 0.8640\n",
      "Epoch 21/100\n",
      "60000/60000 [==============================] - 2s 33us/sample - loss: 0.3171 - accuracy: 0.8875 - val_loss: 0.3711 - val_accuracy: 0.8649\n",
      "Epoch 22/100\n",
      "60000/60000 [==============================] - 2s 32us/sample - loss: 0.3138 - accuracy: 0.8873 - val_loss: 0.3684 - val_accuracy: 0.8666\n",
      "Epoch 23/100\n",
      "60000/60000 [==============================] - 2s 31us/sample - loss: 0.3105 - accuracy: 0.8885 - val_loss: 0.3705 - val_accuracy: 0.8654\n",
      "Epoch 24/100\n",
      "60000/60000 [==============================] - 2s 31us/sample - loss: 0.3072 - accuracy: 0.8900 - val_loss: 0.3665 - val_accuracy: 0.8691\n",
      "Epoch 25/100\n",
      "60000/60000 [==============================] - 2s 31us/sample - loss: 0.3038 - accuracy: 0.8919 - val_loss: 0.3639 - val_accuracy: 0.8682\n",
      "Epoch 26/100\n",
      "60000/60000 [==============================] - 2s 30us/sample - loss: 0.3005 - accuracy: 0.8926 - val_loss: 0.3609 - val_accuracy: 0.8681\n",
      "Epoch 27/100\n",
      "60000/60000 [==============================] - 2s 31us/sample - loss: 0.2976 - accuracy: 0.8937 - val_loss: 0.3590 - val_accuracy: 0.8687\n",
      "Epoch 28/100\n",
      "60000/60000 [==============================] - 2s 31us/sample - loss: 0.2941 - accuracy: 0.8953 - val_loss: 0.3635 - val_accuracy: 0.8674\n",
      "Epoch 29/100\n",
      "60000/60000 [==============================] - 2s 31us/sample - loss: 0.2911 - accuracy: 0.8962 - val_loss: 0.3559 - val_accuracy: 0.8715\n",
      "Epoch 30/100\n",
      "60000/60000 [==============================] - 2s 30us/sample - loss: 0.2887 - accuracy: 0.8968 - val_loss: 0.3577 - val_accuracy: 0.8707\n",
      "Epoch 31/100\n",
      "60000/60000 [==============================] - 2s 31us/sample - loss: 0.2854 - accuracy: 0.8987 - val_loss: 0.3526 - val_accuracy: 0.8733\n",
      "Epoch 32/100\n",
      "60000/60000 [==============================] - 2s 31us/sample - loss: 0.2834 - accuracy: 0.8993 - val_loss: 0.3518 - val_accuracy: 0.8728\n",
      "Epoch 33/100\n",
      "60000/60000 [==============================] - 2s 30us/sample - loss: 0.2800 - accuracy: 0.9015 - val_loss: 0.3528 - val_accuracy: 0.8705\n",
      "Epoch 34/100\n",
      "60000/60000 [==============================] - 2s 31us/sample - loss: 0.2780 - accuracy: 0.9003 - val_loss: 0.3519 - val_accuracy: 0.8745\n",
      "Wall time: 1min 6s\n"
     ]
    }
   ],
   "source": [
    "%%time\n",
    "\n",
    "early_stopping = callbacks.EarlyStopping(min_delta=0.001, patience=3, \n",
    "                                         restore_best_weights=True)\n",
    "\n",
    "\n",
    "epochs = 100\n",
    "batch_size = 128\n",
    "histrory = model.fit(x_train, y_train, \n",
    "                      validation_data=(x_test, y_test),\n",
    "                      epochs=epochs,\n",
    "                      batch_size=batch_size,\n",
    "                      callbacks=[early_stopping])"
   ]
  },
  {
   "cell_type": "markdown",
   "metadata": {},
   "source": [
    "### 2) с моими изменениями "
   ]
  },
  {
   "cell_type": "code",
   "execution_count": 14,
   "metadata": {
    "colab": {},
    "colab_type": "code",
    "id": "ur49cPRjttvy"
   },
   "outputs": [],
   "source": [
    "def get_model(n_classes):\n",
    "  activation = 'relu'\n",
    "  units = 512\n",
    "  model = keras.Sequential([\n",
    "    layers.Dense(units, activation=activation),\n",
    "    layers.Dense(units, activation=activation),\n",
    "    layers.Dense(units, activation=activation),\n",
    "    layers.Dense(units, activation=activation),\n",
    "    layers.Dense(n_classes, activation='softmax')])\n",
    "  return model"
   ]
  },
  {
   "cell_type": "code",
   "execution_count": 15,
   "metadata": {
    "colab": {},
    "colab_type": "code",
    "id": "WS06ZPt6ttoI"
   },
   "outputs": [],
   "source": [
    "model = get_model(10)\n",
    "model.compile(optimizer=keras.optimizers.SGD(learning_rate=0.01),\n",
    "              metrics=['accuracy'],\n",
    "              loss='sparse_categorical_crossentropy')"
   ]
  },
  {
   "cell_type": "code",
   "execution_count": 16,
   "metadata": {
    "colab": {},
    "colab_type": "code",
    "id": "ZEpYrV2CttiK"
   },
   "outputs": [
    {
     "name": "stdout",
     "output_type": "stream",
     "text": [
      "Train on 60000 samples, validate on 10000 samples\n",
      "Epoch 1/100\n",
      "60000/60000 [==============================] - 6s 105us/sample - loss: 0.8161 - accuracy: 0.7340 - val_loss: 0.5592 - val_accuracy: 0.7987\n",
      "Epoch 2/100\n",
      "60000/60000 [==============================] - 7s 113us/sample - loss: 0.4958 - accuracy: 0.8223 - val_loss: 0.4968 - val_accuracy: 0.8184\n",
      "Epoch 3/100\n",
      "60000/60000 [==============================] - 7s 118us/sample - loss: 0.4429 - accuracy: 0.8413 - val_loss: 0.4753 - val_accuracy: 0.8288\n",
      "Epoch 4/100\n",
      "60000/60000 [==============================] - 8s 125us/sample - loss: 0.4143 - accuracy: 0.8514 - val_loss: 0.4358 - val_accuracy: 0.8437\n",
      "Epoch 5/100\n",
      "60000/60000 [==============================] - 8s 134us/sample - loss: 0.3938 - accuracy: 0.8581 - val_loss: 0.4339 - val_accuracy: 0.8398\n",
      "Epoch 6/100\n",
      "60000/60000 [==============================] - 8s 130us/sample - loss: 0.3772 - accuracy: 0.8657 - val_loss: 0.4202 - val_accuracy: 0.8432\n",
      "Epoch 7/100\n",
      "60000/60000 [==============================] - 9s 147us/sample - loss: 0.3635 - accuracy: 0.8703 - val_loss: 0.4038 - val_accuracy: 0.8544\n",
      "Epoch 8/100\n",
      "60000/60000 [==============================] - 7s 125us/sample - loss: 0.3512 - accuracy: 0.8734 - val_loss: 0.4037 - val_accuracy: 0.8534\n",
      "Epoch 9/100\n",
      "60000/60000 [==============================] - 8s 128us/sample - loss: 0.3420 - accuracy: 0.8772 - val_loss: 0.3850 - val_accuracy: 0.8636\n",
      "Epoch 10/100\n",
      "60000/60000 [==============================] - 9s 148us/sample - loss: 0.3329 - accuracy: 0.8804 - val_loss: 0.4481 - val_accuracy: 0.8390\n",
      "Epoch 11/100\n",
      "60000/60000 [==============================] - 9s 144us/sample - loss: 0.3258 - accuracy: 0.8824 - val_loss: 0.3816 - val_accuracy: 0.8633\n",
      "Epoch 12/100\n",
      "60000/60000 [==============================] - 8s 140us/sample - loss: 0.3178 - accuracy: 0.8852 - val_loss: 0.3994 - val_accuracy: 0.8596\n",
      "Epoch 13/100\n",
      "60000/60000 [==============================] - 9s 147us/sample - loss: 0.3095 - accuracy: 0.8877 - val_loss: 0.3718 - val_accuracy: 0.8664\n",
      "Epoch 14/100\n",
      "60000/60000 [==============================] - 10s 172us/sample - loss: 0.3037 - accuracy: 0.8901 - val_loss: 0.3695 - val_accuracy: 0.8688\n",
      "Epoch 15/100\n",
      "60000/60000 [==============================] - 10s 166us/sample - loss: 0.2963 - accuracy: 0.8927 - val_loss: 0.3604 - val_accuracy: 0.8718\n",
      "Epoch 16/100\n",
      "60000/60000 [==============================] - 11s 181us/sample - loss: 0.2898 - accuracy: 0.8955 - val_loss: 0.3662 - val_accuracy: 0.8704\n",
      "Epoch 17/100\n",
      "60000/60000 [==============================] - 8s 139us/sample - loss: 0.2855 - accuracy: 0.8967 - val_loss: 0.3568 - val_accuracy: 0.8732\n",
      "Epoch 18/100\n",
      "60000/60000 [==============================] - 10s 164us/sample - loss: 0.2786 - accuracy: 0.8991 - val_loss: 0.3449 - val_accuracy: 0.8759\n",
      "Epoch 19/100\n",
      "60000/60000 [==============================] - 10s 168us/sample - loss: 0.2738 - accuracy: 0.8999 - val_loss: 0.3431 - val_accuracy: 0.8773\n",
      "Epoch 20/100\n",
      "60000/60000 [==============================] - 14s 230us/sample - loss: 0.2685 - accuracy: 0.9027 - val_loss: 0.3851 - val_accuracy: 0.8587\n",
      "Epoch 21/100\n",
      "60000/60000 [==============================] - 14s 231us/sample - loss: 0.2636 - accuracy: 0.9048 - val_loss: 0.3407 - val_accuracy: 0.8789\n",
      "Epoch 22/100\n",
      "60000/60000 [==============================] - 12s 206us/sample - loss: 0.2574 - accuracy: 0.9061 - val_loss: 0.3568 - val_accuracy: 0.8739\n",
      "Epoch 23/100\n",
      "60000/60000 [==============================] - 11s 183us/sample - loss: 0.2527 - accuracy: 0.9080 - val_loss: 0.3380 - val_accuracy: 0.8791\n",
      "Epoch 24/100\n",
      "60000/60000 [==============================] - 11s 187us/sample - loss: 0.2488 - accuracy: 0.9098 - val_loss: 0.3393 - val_accuracy: 0.8780\n",
      "Epoch 25/100\n",
      "60000/60000 [==============================] - 10s 170us/sample - loss: 0.2427 - accuracy: 0.9117 - val_loss: 0.3396 - val_accuracy: 0.8780\n",
      "Epoch 26/100\n",
      "60000/60000 [==============================] - 10s 167us/sample - loss: 0.2409 - accuracy: 0.9121 - val_loss: 0.3593 - val_accuracy: 0.8678\n",
      "Wall time: 4min 4s\n"
     ]
    }
   ],
   "source": [
    "%%time\n",
    "\n",
    "early_stopping = callbacks.EarlyStopping(min_delta=0.001, patience=3, \n",
    "                                         restore_best_weights=True)\n",
    "\n",
    "\n",
    "epochs = 100\n",
    "batch_size = 128\n",
    "histrory = model.fit(x_train, y_train, \n",
    "                      validation_data=(x_test, y_test),\n",
    "                      epochs=epochs,\n",
    "                      batch_size=batch_size,\n",
    "                      callbacks=[early_stopping])"
   ]
  },
  {
   "cell_type": "markdown",
   "metadata": {},
   "source": [
    "**Результаты:**\n",
    "- изменения: relu, 2 дополнительных слоя, по 512 нейронов в слое\n",
    "- время обучения увеличилось с 1 до 4 минут\n",
    "- результат улучшился, но не сильно. Лучшее аккураси увеличилось с 0.8745 до 0.8791 (23 эпоха)"
   ]
  },
  {
   "cell_type": "markdown",
   "metadata": {
    "colab_type": "text",
    "id": "JYlbTduGx_lI"
   },
   "source": [
    "# Задание 1. Слой для подготовки данных\n",
    "\n",
    "Создайте слой, который:\n",
    "* получает на вход батч `(None, 28, 28)` и возвращает батч\n",
    "`(None, 784)`. \n",
    "* Приводит значения интенсивности пикселей из диапазона `[0, 255]` к диапазону `[-1, 1]`.\n",
    "* *Дополнительно*: сделайте слой сериализуемым.\n",
    "\n",
    "\n",
    "Шаблон с кодом приведен ниже. Обучите модель с использованием этого слоя, убедитесь, что она обучается корректно."
   ]
  },
  {
   "cell_type": "code",
   "execution_count": 33,
   "metadata": {
    "colab": {},
    "colab_type": "code",
    "id": "AW0MfYjTttcC"
   },
   "outputs": [],
   "source": [
    "class DataPreparation(layers.Layer):\n",
    "    def __init__(self):\n",
    "        # Самодостаточен, дописывать не надо.\n",
    "        super().__init__()\n",
    "        self.flattened_dim=None\n",
    "        \n",
    "    def build(self, input_shape):\n",
    "        # сделал для лучшей структуризации кода\n",
    "        self.flattened_dim = input_shape[1] * input_shape[2]\n",
    "\n",
    "    def call(self, inputs):\n",
    "        # Совет: чтобы получить целевую размерность, используйте все измерения \n",
    "        # тензора, кроме размерности батча, которая не определена на этапе\n",
    "        # компиляции. Выполните изменение размерности как\n",
    "        # tf.reshape(inputs, [-1, flattened_dim])\n",
    "        # где -1 - размерность, которая вычислится динамически.\n",
    "        # Если нужно преобразовать тип данных от int к float, используйте tf.cast\n",
    "        # self.flattened_dim = inputs.shape[1] * inputs.shape[2]\n",
    "\n",
    "        return (tf.cast(tf.reshape(inputs, [-1, self.flattened_dim]), dtype=tf.float32) / 255. - 0.5) * 2\n",
    "\n",
    "    def get_config(self):\n",
    "        # Необязательное задание.\n",
    "        # Дополните этот метод. Проверьте, работает ли он, при помощи model.save()\n",
    "        config = super().get_config()\n",
    "        config.update({'flattened_dim': self.flattened_dim})\n",
    "        return config"
   ]
  },
  {
   "cell_type": "code",
   "execution_count": 14,
   "metadata": {},
   "outputs": [],
   "source": [
    "# !kill 1308"
   ]
  },
  {
   "cell_type": "code",
   "execution_count": 7,
   "metadata": {},
   "outputs": [],
   "source": [
    "# !tensorboard --logdir logs"
   ]
  },
  {
   "cell_type": "code",
   "execution_count": 21,
   "metadata": {},
   "outputs": [
    {
     "data": {
      "text/plain": [
       "Reusing TensorBoard on port 6006 (pid 1308), started 2 days, 2:31:34 ago. (Use '!kill 1308' to kill it.)"
      ]
     },
     "metadata": {},
     "output_type": "display_data"
    },
    {
     "data": {
      "text/html": [
       "\n",
       "      <iframe id=\"tensorboard-frame-9399a9b76f16c564\" width=\"100%\" height=\"800\" frameborder=\"0\">\n",
       "      </iframe>\n",
       "      <script>\n",
       "        (function() {\n",
       "          const frame = document.getElementById(\"tensorboard-frame-9399a9b76f16c564\");\n",
       "          const url = new URL(\"/\", window.location);\n",
       "          url.port = 6006;\n",
       "          frame.src = url;\n",
       "        })();\n",
       "      </script>\n",
       "  "
      ],
      "text/plain": [
       "<IPython.core.display.HTML object>"
      ]
     },
     "metadata": {},
     "output_type": "display_data"
    }
   ],
   "source": [
    "# Можно запустить tensorbaord, если вы подключили TensorBoard callback\n",
    "%tensorboard --logdir logs"
   ]
  },
  {
   "cell_type": "markdown",
   "metadata": {
    "colab_type": "text",
    "id": "AejWnwyLxugZ"
   },
   "source": [
    "## Код для обучения модели"
   ]
  },
  {
   "cell_type": "code",
   "execution_count": 37,
   "metadata": {
    "colab": {},
    "colab_type": "code",
    "id": "97cSBCnVtr-m"
   },
   "outputs": [],
   "source": [
    "def get_model_with_preparation(n_classes):\n",
    "    activation = 'tanh'\n",
    "    units = 256\n",
    "    model = keras.Sequential([\n",
    "        DataPreparation(),\n",
    "        layers.Dense(units, activation=activation),\n",
    "        layers.Dense(units, activation=activation),\n",
    "        layers.Dense(n_classes, activation='softmax')])\n",
    "    return model"
   ]
  },
  {
   "cell_type": "code",
   "execution_count": 38,
   "metadata": {
    "colab": {},
    "colab_type": "code",
    "id": "f7kA_dlKxyMJ"
   },
   "outputs": [],
   "source": [
    "model = get_model_with_preparation(10)\n",
    "model.compile(optimizer=keras.optimizers.SGD(learning_rate=0.01),\n",
    "              metrics=['accuracy'],\n",
    "              loss='sparse_categorical_crossentropy')"
   ]
  },
  {
   "cell_type": "markdown",
   "metadata": {
    "colab_type": "text",
    "id": "LLrmfXXM8ZQ4"
   },
   "source": [
    "Передавайте необработанные данные, т.е. `__x_train`, `__x_test`."
   ]
  },
  {
   "cell_type": "code",
   "execution_count": 39,
   "metadata": {
    "colab": {},
    "colab_type": "code",
    "id": "aYnCwZhyx-VH"
   },
   "outputs": [
    {
     "name": "stdout",
     "output_type": "stream",
     "text": [
      "Train on 60000 samples, validate on 10000 samples\n",
      "Epoch 1/100\n",
      "60000/60000 [==============================] - 2s 32us/sample - loss: 0.7716 - accuracy: 0.7466 - val_loss: 0.5903 - val_accuracy: 0.7918\n",
      "Epoch 2/100\n",
      "60000/60000 [==============================] - 2s 28us/sample - loss: 0.5272 - accuracy: 0.8155 - val_loss: 0.5220 - val_accuracy: 0.8111\n",
      "Epoch 3/100\n",
      "60000/60000 [==============================] - 2s 25us/sample - loss: 0.4766 - accuracy: 0.8318 - val_loss: 0.4921 - val_accuracy: 0.8243\n",
      "Epoch 4/100\n",
      "60000/60000 [==============================] - 2s 29us/sample - loss: 0.4484 - accuracy: 0.8421 - val_loss: 0.4695 - val_accuracy: 0.8332\n",
      "Epoch 5/100\n",
      "60000/60000 [==============================] - 2s 25us/sample - loss: 0.4285 - accuracy: 0.8490 - val_loss: 0.4580 - val_accuracy: 0.8339\n",
      "Epoch 6/100\n",
      "60000/60000 [==============================] - 2s 29us/sample - loss: 0.4141 - accuracy: 0.8534 - val_loss: 0.4448 - val_accuracy: 0.8387\n",
      "Epoch 7/100\n",
      "60000/60000 [==============================] - 2s 27us/sample - loss: 0.4021 - accuracy: 0.8574 - val_loss: 0.4334 - val_accuracy: 0.8452\n",
      "Epoch 8/100\n",
      "60000/60000 [==============================] - 2s 27us/sample - loss: 0.3921 - accuracy: 0.8618 - val_loss: 0.4312 - val_accuracy: 0.8437\n",
      "Epoch 9/100\n",
      "60000/60000 [==============================] - 2s 36us/sample - loss: 0.3830 - accuracy: 0.8646 - val_loss: 0.4193 - val_accuracy: 0.8486\n",
      "Epoch 10/100\n",
      "60000/60000 [==============================] - 2s 38us/sample - loss: 0.3755 - accuracy: 0.8668 - val_loss: 0.4170 - val_accuracy: 0.8514\n",
      "Epoch 11/100\n",
      "60000/60000 [==============================] - 2s 35us/sample - loss: 0.3686 - accuracy: 0.8687 - val_loss: 0.4083 - val_accuracy: 0.8547\n",
      "Epoch 12/100\n",
      "60000/60000 [==============================] - 2s 33us/sample - loss: 0.3617 - accuracy: 0.8715 - val_loss: 0.4148 - val_accuracy: 0.8522\n",
      "Epoch 13/100\n",
      "60000/60000 [==============================] - 2s 32us/sample - loss: 0.3561 - accuracy: 0.8736 - val_loss: 0.4022 - val_accuracy: 0.8554\n",
      "Epoch 14/100\n",
      "60000/60000 [==============================] - 2s 36us/sample - loss: 0.3508 - accuracy: 0.8758 - val_loss: 0.3989 - val_accuracy: 0.8593\n",
      "Epoch 15/100\n",
      "60000/60000 [==============================] - 2s 34us/sample - loss: 0.3449 - accuracy: 0.8776 - val_loss: 0.3950 - val_accuracy: 0.8587\n",
      "Epoch 16/100\n",
      "60000/60000 [==============================] - 2s 32us/sample - loss: 0.3407 - accuracy: 0.8787 - val_loss: 0.3891 - val_accuracy: 0.8608\n",
      "Epoch 17/100\n",
      "60000/60000 [==============================] - 2s 33us/sample - loss: 0.3357 - accuracy: 0.8800 - val_loss: 0.3835 - val_accuracy: 0.8630\n",
      "Epoch 18/100\n",
      "60000/60000 [==============================] - 2s 32us/sample - loss: 0.3320 - accuracy: 0.8809 - val_loss: 0.3829 - val_accuracy: 0.8630\n",
      "Epoch 19/100\n",
      "60000/60000 [==============================] - 2s 31us/sample - loss: 0.3282 - accuracy: 0.8831 - val_loss: 0.3797 - val_accuracy: 0.8634\n",
      "Epoch 20/100\n",
      "60000/60000 [==============================] - 2s 36us/sample - loss: 0.3233 - accuracy: 0.8846 - val_loss: 0.3758 - val_accuracy: 0.8658\n",
      "Epoch 21/100\n",
      "60000/60000 [==============================] - 2s 36us/sample - loss: 0.3198 - accuracy: 0.8849 - val_loss: 0.3762 - val_accuracy: 0.8667\n",
      "Epoch 22/100\n",
      "60000/60000 [==============================] - 2s 37us/sample - loss: 0.3162 - accuracy: 0.8870 - val_loss: 0.3742 - val_accuracy: 0.8668\n",
      "Epoch 23/100\n",
      "60000/60000 [==============================] - 2s 32us/sample - loss: 0.3122 - accuracy: 0.8891 - val_loss: 0.3707 - val_accuracy: 0.8672\n",
      "Epoch 24/100\n",
      "60000/60000 [==============================] - 2s 30us/sample - loss: 0.3090 - accuracy: 0.8890 - val_loss: 0.3680 - val_accuracy: 0.8684\n",
      "Epoch 25/100\n",
      "60000/60000 [==============================] - 2s 33us/sample - loss: 0.3060 - accuracy: 0.8907 - val_loss: 0.3683 - val_accuracy: 0.8680\n",
      "Epoch 26/100\n",
      "60000/60000 [==============================] - 2s 31us/sample - loss: 0.3024 - accuracy: 0.8923 - val_loss: 0.3630 - val_accuracy: 0.8720\n",
      "Epoch 27/100\n",
      "60000/60000 [==============================] - 2s 30us/sample - loss: 0.2994 - accuracy: 0.8933 - val_loss: 0.3629 - val_accuracy: 0.8711\n",
      "Epoch 28/100\n",
      "60000/60000 [==============================] - 2s 31us/sample - loss: 0.2965 - accuracy: 0.8944 - val_loss: 0.3582 - val_accuracy: 0.8726\n",
      "Epoch 29/100\n",
      "60000/60000 [==============================] - 2s 30us/sample - loss: 0.2930 - accuracy: 0.8951 - val_loss: 0.3628 - val_accuracy: 0.8700\n",
      "Epoch 30/100\n",
      "60000/60000 [==============================] - 2s 31us/sample - loss: 0.2904 - accuracy: 0.8963 - val_loss: 0.3592 - val_accuracy: 0.8707\n",
      "Epoch 31/100\n",
      "60000/60000 [==============================] - 2s 39us/sample - loss: 0.2875 - accuracy: 0.8974 - val_loss: 0.3570 - val_accuracy: 0.8713\n",
      "Epoch 32/100\n",
      "60000/60000 [==============================] - 2s 33us/sample - loss: 0.2846 - accuracy: 0.8984 - val_loss: 0.3537 - val_accuracy: 0.8741\n",
      "Epoch 33/100\n",
      "60000/60000 [==============================] - 2s 32us/sample - loss: 0.2819 - accuracy: 0.8996 - val_loss: 0.3514 - val_accuracy: 0.8748\n",
      "Epoch 34/100\n",
      "60000/60000 [==============================] - 2s 34us/sample - loss: 0.2790 - accuracy: 0.9013 - val_loss: 0.3626 - val_accuracy: 0.8693\n",
      "Epoch 35/100\n",
      "60000/60000 [==============================] - 2s 33us/sample - loss: 0.2764 - accuracy: 0.9014 - val_loss: 0.3453 - val_accuracy: 0.8770\n",
      "Epoch 36/100\n",
      "60000/60000 [==============================] - 2s 33us/sample - loss: 0.2736 - accuracy: 0.9035 - val_loss: 0.3491 - val_accuracy: 0.8758\n",
      "Epoch 37/100\n",
      "60000/60000 [==============================] - 2s 33us/sample - loss: 0.2712 - accuracy: 0.9031 - val_loss: 0.3456 - val_accuracy: 0.8761\n",
      "Epoch 38/100\n",
      "60000/60000 [==============================] - 2s 31us/sample - loss: 0.2687 - accuracy: 0.9036 - val_loss: 0.3481 - val_accuracy: 0.8766\n",
      "Wall time: 1min 13s\n"
     ]
    }
   ],
   "source": [
    "%%time\n",
    "\n",
    "early_stopping = callbacks.EarlyStopping(min_delta=0.001, patience=3, \n",
    "                                         restore_best_weights=True)\n",
    "\n",
    "logdir = os.path.join(\"logs\", \"hw5\",\n",
    "                      datetime.datetime.now().strftime(\"%Y%m%d-%H%M%S\"))\n",
    "tensorboard = keras.callbacks.TensorBoard(logdir, histogram_freq=1)\n",
    "\n",
    "epochs = 100\n",
    "batch_size = 128\n",
    "histrory = model.fit(__x_train, y_train, \n",
    "                      validation_data=(__x_test, y_test),\n",
    "                      epochs=epochs,\n",
    "                      batch_size=batch_size,\n",
    "                      callbacks=[early_stopping, tensorboard])"
   ]
  },
  {
   "cell_type": "code",
   "execution_count": 40,
   "metadata": {},
   "outputs": [
    {
     "name": "stdout",
     "output_type": "stream",
     "text": [
      "INFO:tensorflow:Assets written to: data\\my_model\\assets\n"
     ]
    }
   ],
   "source": [
    "model.save(os.path.join(path_to_data, 'my_model'))"
   ]
  },
  {
   "cell_type": "markdown",
   "metadata": {},
   "source": [
    "#### проверим корректность записи"
   ]
  },
  {
   "cell_type": "code",
   "execution_count": 41,
   "metadata": {},
   "outputs": [
    {
     "data": {
      "text/plain": [
       "array([4.6995956e-06, 2.8768096e-05, 1.0195869e-04, 1.0338865e-04,\n",
       "       8.2624269e-05, 5.0968762e-02, 1.2752532e-04, 2.7678564e-02,\n",
       "       1.9157652e-03, 9.1898793e-01], dtype=float32)"
      ]
     },
     "execution_count": 41,
     "metadata": {},
     "output_type": "execute_result"
    }
   ],
   "source": [
    "model.predict(__x_test)[0]"
   ]
  },
  {
   "cell_type": "code",
   "execution_count": 42,
   "metadata": {},
   "outputs": [],
   "source": [
    "loaded_model = load_model(os.path.join(path_to_data, 'my_model'))"
   ]
  },
  {
   "cell_type": "code",
   "execution_count": 43,
   "metadata": {},
   "outputs": [
    {
     "data": {
      "text/plain": [
       "array([4.6995956e-06, 2.8768096e-05, 1.0195869e-04, 1.0338865e-04,\n",
       "       8.2624269e-05, 5.0968762e-02, 1.2752532e-04, 2.7678564e-02,\n",
       "       1.9157652e-03, 9.1898793e-01], dtype=float32)"
      ]
     },
     "execution_count": 43,
     "metadata": {},
     "output_type": "execute_result"
    }
   ],
   "source": [
    "loaded_model.predict(__x_test)[0]"
   ]
  },
  {
   "cell_type": "code",
   "execution_count": 45,
   "metadata": {},
   "outputs": [
    {
     "data": {
      "text/plain": [
       "True"
      ]
     },
     "execution_count": 45,
     "metadata": {},
     "output_type": "execute_result"
    }
   ],
   "source": [
    "(model.predict(__x_test) == loaded_model.predict(__x_test)).all()"
   ]
  },
  {
   "cell_type": "markdown",
   "metadata": {
    "colab_type": "text",
    "id": "KrxqkHmLyJAt"
   },
   "source": [
    "# Задание 2. Слой с гауссовым шумом\n",
    "\n",
    "Создайте слой, который будет добавлять к входным данным нормально распределенный (с $\\mu = 0$ и заданной $\\sigma$) шум *и затем*  обрабатывать измененные данные как полносзвязный слой.\n",
    "\n",
    "Для этого завершите шаблон класса. \n",
    "\n",
    "Посоле этого сравните, как обучается модель с различными значениями $\\sigma$, к примеру, $0, 0.01, 0.05, 0.1, ...$. Постройте графики в matplotlib или tensorboard. При $\\sigma = 0$ слой должен действовать так же, как обычный полносзвязный слой.\n",
    "\n",
    "Желательно провести несколько экспериментов для каждого значения $\\sigma$."
   ]
  },
  {
   "cell_type": "code",
   "execution_count": 47,
   "metadata": {
    "colab": {},
    "colab_type": "code",
    "id": "wAGGENVH2xvK"
   },
   "outputs": [],
   "source": [
    "class GaussianDense(layers.Dense):\n",
    "    def __init__(self, *args, **kwargs):\n",
    "        # Обратите внимание, что слой наследует Layer -> Dense -> GaussianDense.\n",
    "        # Проще всего передать агрументы в констркутор базового класса \n",
    "        # через *args (позициональные аргументы) и **kwargs (именованные).\n",
    "        # При этом нужный агрумент класса можно извлечь из kwargs так:\n",
    "        # std = kwargs.pop('std')\n",
    "        # Для корректной работы в конструкторе аргумент std должен \n",
    "        # быть передан по имени! Пример:\n",
    "        # gs = GaussianDense(units, std=std)\n",
    "        self.std = kwargs.pop('std')\n",
    "        super().__init__(*args, **kwargs)\n",
    "    \n",
    "\n",
    "    def build(self, *args, **kwargs):\n",
    "        # Достаточно вызова build базового класса.\n",
    "        super().build(*args, **kwargs)\n",
    "\n",
    "    def call(self, inputs):\n",
    "        # Добавить случайный шум, генерируемый методом tf.random.normal.\n",
    "        # Чтобы определить размерность шума, используйте tf.shape(inputs) - \n",
    "        # это поможет избежать сложностей с динамическим размером массива.\n",
    "        # Вызвать call базового класса можно при помощи super().\n",
    "        noise = tf.random.normal(shape=tf.shape(inputs), stddev=self.std)\n",
    "        inputs += noise\n",
    "        return super().call(inputs)\n",
    "\n",
    "    def get_config(self):\n",
    "        config = super().get_config()\n",
    "        config.update({\"std\": self.std})\n",
    "        return config\n",
    "        "
   ]
  },
  {
   "cell_type": "markdown",
   "metadata": {
    "colab_type": "text",
    "id": "g-DMaGRP8lBJ"
   },
   "source": [
    "## Создание и обучение модели"
   ]
  },
  {
   "cell_type": "code",
   "execution_count": 48,
   "metadata": {
    "colab": {},
    "colab_type": "code",
    "id": "9-1QJ5L14cWq"
   },
   "outputs": [],
   "source": [
    "def get_model_with_noise(n_classes):\n",
    "  activation = 'tanh'\n",
    "  units = 256\n",
    "  std = 0.01\n",
    "  model = keras.Sequential([\n",
    "    DataPreparation(),\n",
    "    GaussianDense(units, activation=activation, std=std),\n",
    "    GaussianDense(units, activation=activation, std=std),\n",
    "    layers.Dense(n_classes, activation='softmax')])\n",
    "  return model"
   ]
  },
  {
   "cell_type": "code",
   "execution_count": 49,
   "metadata": {
    "colab": {},
    "colab_type": "code",
    "id": "tfC9xtw14sfm"
   },
   "outputs": [],
   "source": [
    "model = get_model_with_noise(10)\n",
    "model.compile(optimizer=keras.optimizers.SGD(learning_rate=0.01),\n",
    "              metrics=['accuracy'],\n",
    "              loss='sparse_categorical_crossentropy')"
   ]
  },
  {
   "cell_type": "code",
   "execution_count": 50,
   "metadata": {
    "colab": {},
    "colab_type": "code",
    "id": "ZreK1x144uYH"
   },
   "outputs": [
    {
     "name": "stdout",
     "output_type": "stream",
     "text": [
      "Train on 60000 samples, validate on 10000 samples\n",
      "Epoch 1/100\n",
      "60000/60000 [==============================] - 3s 46us/sample - loss: 0.7830 - accuracy: 0.7430 - val_loss: 0.5890 - val_accuracy: 0.7941\n",
      "Epoch 2/100\n",
      "60000/60000 [==============================] - 3s 44us/sample - loss: 0.5256 - accuracy: 0.8173 - val_loss: 0.5212 - val_accuracy: 0.8160\n",
      "Epoch 3/100\n",
      "60000/60000 [==============================] - 2s 42us/sample - loss: 0.4746 - accuracy: 0.8340 - val_loss: 0.4888 - val_accuracy: 0.8272\n",
      "Epoch 4/100\n",
      "60000/60000 [==============================] - 2s 39us/sample - loss: 0.4463 - accuracy: 0.8432 - val_loss: 0.4708 - val_accuracy: 0.8327\n",
      "Epoch 5/100\n",
      "60000/60000 [==============================] - 2s 37us/sample - loss: 0.4265 - accuracy: 0.8496 - val_loss: 0.4538 - val_accuracy: 0.8366\n",
      "Epoch 6/100\n",
      "60000/60000 [==============================] - 4s 63us/sample - loss: 0.4118 - accuracy: 0.8552 - val_loss: 0.4447 - val_accuracy: 0.8390\n",
      "Epoch 7/100\n",
      "60000/60000 [==============================] - 3s 45us/sample - loss: 0.3997 - accuracy: 0.8589 - val_loss: 0.4330 - val_accuracy: 0.8453\n",
      "Epoch 8/100\n",
      "60000/60000 [==============================] - 3s 46us/sample - loss: 0.3900 - accuracy: 0.8617 - val_loss: 0.4275 - val_accuracy: 0.8432\n",
      "Epoch 9/100\n",
      "60000/60000 [==============================] - 3s 47us/sample - loss: 0.3809 - accuracy: 0.8653 - val_loss: 0.4208 - val_accuracy: 0.8502\n",
      "Epoch 10/100\n",
      "60000/60000 [==============================] - 3s 44us/sample - loss: 0.3731 - accuracy: 0.8672 - val_loss: 0.4132 - val_accuracy: 0.8489\n",
      "Epoch 11/100\n",
      "60000/60000 [==============================] - 3s 45us/sample - loss: 0.3666 - accuracy: 0.8693 - val_loss: 0.4070 - val_accuracy: 0.8527\n",
      "Epoch 12/100\n",
      "60000/60000 [==============================] - 3s 49us/sample - loss: 0.3599 - accuracy: 0.8720 - val_loss: 0.4043 - val_accuracy: 0.8556\n",
      "Epoch 13/100\n",
      "60000/60000 [==============================] - 3s 51us/sample - loss: 0.3542 - accuracy: 0.8739 - val_loss: 0.3981 - val_accuracy: 0.8573\n",
      "Epoch 14/100\n",
      "60000/60000 [==============================] - 3s 46us/sample - loss: 0.3487 - accuracy: 0.8751 - val_loss: 0.4034 - val_accuracy: 0.8573\n",
      "Epoch 15/100\n",
      "60000/60000 [==============================] - 3s 47us/sample - loss: 0.3434 - accuracy: 0.8780 - val_loss: 0.3935 - val_accuracy: 0.8598\n",
      "Epoch 16/100\n",
      "60000/60000 [==============================] - 3s 46us/sample - loss: 0.3387 - accuracy: 0.8790 - val_loss: 0.3918 - val_accuracy: 0.8604\n",
      "Epoch 17/100\n",
      "60000/60000 [==============================] - 3s 47us/sample - loss: 0.3346 - accuracy: 0.8802 - val_loss: 0.3856 - val_accuracy: 0.8618\n",
      "Epoch 18/100\n",
      "60000/60000 [==============================] - 3s 46us/sample - loss: 0.3301 - accuracy: 0.8823 - val_loss: 0.3874 - val_accuracy: 0.8612\n",
      "Epoch 19/100\n",
      "60000/60000 [==============================] - 3s 48us/sample - loss: 0.3258 - accuracy: 0.8838 - val_loss: 0.3821 - val_accuracy: 0.8631\n",
      "Epoch 20/100\n",
      "60000/60000 [==============================] - 3s 48us/sample - loss: 0.3219 - accuracy: 0.8851 - val_loss: 0.3788 - val_accuracy: 0.8635\n",
      "Epoch 21/100\n",
      "60000/60000 [==============================] - 4s 65us/sample - loss: 0.3182 - accuracy: 0.8863 - val_loss: 0.3734 - val_accuracy: 0.8664\n",
      "Epoch 22/100\n",
      "60000/60000 [==============================] - 4s 70us/sample - loss: 0.3145 - accuracy: 0.8873 - val_loss: 0.3797 - val_accuracy: 0.8634\n",
      "Epoch 23/100\n",
      "60000/60000 [==============================] - 4s 60us/sample - loss: 0.3111 - accuracy: 0.8886 - val_loss: 0.3703 - val_accuracy: 0.8682\n",
      "Epoch 24/100\n",
      "60000/60000 [==============================] - 4s 67us/sample - loss: 0.3079 - accuracy: 0.8905 - val_loss: 0.3732 - val_accuracy: 0.8658\n",
      "Epoch 25/100\n",
      "60000/60000 [==============================] - 4s 59us/sample - loss: 0.3048 - accuracy: 0.8902 - val_loss: 0.3642 - val_accuracy: 0.8690\n",
      "Epoch 26/100\n",
      "60000/60000 [==============================] - 4s 65us/sample - loss: 0.3011 - accuracy: 0.8927 - val_loss: 0.3680 - val_accuracy: 0.8703\n",
      "Epoch 27/100\n",
      "60000/60000 [==============================] - 4s 70us/sample - loss: 0.2985 - accuracy: 0.8937 - val_loss: 0.3616 - val_accuracy: 0.8712\n",
      "Epoch 28/100\n",
      "60000/60000 [==============================] - 4s 59us/sample - loss: 0.2949 - accuracy: 0.8942 - val_loss: 0.3617 - val_accuracy: 0.8720\n",
      "Epoch 29/100\n",
      "60000/60000 [==============================] - 3s 51us/sample - loss: 0.2921 - accuracy: 0.8953 - val_loss: 0.3600 - val_accuracy: 0.8711\n",
      "Epoch 30/100\n",
      "60000/60000 [==============================] - 3s 46us/sample - loss: 0.2894 - accuracy: 0.8960 - val_loss: 0.3574 - val_accuracy: 0.8704\n",
      "Epoch 31/100\n",
      "60000/60000 [==============================] - 3s 53us/sample - loss: 0.2870 - accuracy: 0.8975 - val_loss: 0.3552 - val_accuracy: 0.8723\n",
      "Epoch 32/100\n",
      "60000/60000 [==============================] - 3s 47us/sample - loss: 0.2838 - accuracy: 0.8984 - val_loss: 0.3547 - val_accuracy: 0.8739\n",
      "Epoch 33/100\n",
      "60000/60000 [==============================] - 3s 47us/sample - loss: 0.2817 - accuracy: 0.8987 - val_loss: 0.3510 - val_accuracy: 0.8743\n",
      "Epoch 34/100\n",
      "60000/60000 [==============================] - 3s 46us/sample - loss: 0.2779 - accuracy: 0.9000 - val_loss: 0.3537 - val_accuracy: 0.8752\n",
      "Epoch 35/100\n",
      "60000/60000 [==============================] - 3s 48us/sample - loss: 0.2760 - accuracy: 0.9004 - val_loss: 0.3486 - val_accuracy: 0.8740\n",
      "Epoch 36/100\n",
      "60000/60000 [==============================] - 3s 46us/sample - loss: 0.2732 - accuracy: 0.9015 - val_loss: 0.3493 - val_accuracy: 0.8747\n",
      "Epoch 37/100\n",
      "60000/60000 [==============================] - 3s 48us/sample - loss: 0.2710 - accuracy: 0.9025 - val_loss: 0.3540 - val_accuracy: 0.8753\n",
      "Epoch 38/100\n",
      "60000/60000 [==============================] - 3s 48us/sample - loss: 0.2687 - accuracy: 0.9032 - val_loss: 0.3555 - val_accuracy: 0.8757\n",
      "Wall time: 1min 55s\n"
     ]
    }
   ],
   "source": [
    "%%time\n",
    "\n",
    "early_stopping = callbacks.EarlyStopping(min_delta=0.001, patience=3, \n",
    "                                         restore_best_weights=True)\n",
    "logdir = os.path.join(\"logs\", \"gaussian\",\n",
    "                      datetime.datetime.now().strftime(\"%Y%m%d-%H%M%S\"))\n",
    "tensorboard = keras.callbacks.TensorBoard(logdir, histogram_freq=1)\n",
    "\n",
    "epochs = 100\n",
    "batch_size = 128\n",
    "histrory = model.fit(__x_train, y_train, \n",
    "                      validation_data=(__x_test, y_test),\n",
    "                      epochs=epochs,\n",
    "                      batch_size=batch_size,\n",
    "                      callbacks=[early_stopping, tensorboard])"
   ]
  },
  {
   "cell_type": "code",
   "execution_count": 55,
   "metadata": {},
   "outputs": [
    {
     "data": {
      "image/png": "[encoded data removed]",
      "text/plain": [
       "<Figure size 432x288 with 1 Axes>"
      ]
     },
     "metadata": {
      "needs_background": "light"
     },
     "output_type": "display_data"
    }
   ],
   "source": [
    "plt.plot(histrory.history[\"val_accuracy\"])\n",
    "plt.xlabel(\"Epochs\")\n",
    "plt.title(\"val_accuracy\");"
   ]
  },
  {
   "cell_type": "markdown",
   "metadata": {},
   "source": [
    "## Исследование модели"
   ]
  },
  {
   "cell_type": "code",
   "execution_count": 59,
   "metadata": {},
   "outputs": [],
   "source": [
    "import pandas as pd"
   ]
  },
  {
   "cell_type": "code",
   "execution_count": 58,
   "metadata": {},
   "outputs": [],
   "source": [
    "def get_model_with_noise(n_classes, std=0.01):\n",
    "    activation = 'tanh'\n",
    "    units = 256\n",
    "    model = keras.Sequential([\n",
    "        DataPreparation(),\n",
    "        GaussianDense(units, activation=activation, std=std),\n",
    "        GaussianDense(units, activation=activation, std=std),\n",
    "        layers.Dense(n_classes, activation='softmax')])\n",
    "    return model"
   ]
  },
  {
   "cell_type": "code",
   "execution_count": 119,
   "metadata": {},
   "outputs": [],
   "source": [
    "def get_val_accuracies(std, num, epochs=10):\n",
    "    val_accuracies = pd.DataFrame()\n",
    "    for i in range(num):\n",
    "    \n",
    "        model = get_model_with_noise(10, std)\n",
    "        model.compile(optimizer=keras.optimizers.SGD(learning_rate=0.01),\n",
    "                      metrics=['accuracy'],\n",
    "                      loss='sparse_categorical_crossentropy')\n",
    "\n",
    "        batch_size = 128\n",
    "        histrory = model.fit(__x_train, y_train, \n",
    "                             validation_data=(__x_test, y_test),\n",
    "                             epochs=epochs,\n",
    "                             batch_size=batch_size,\n",
    "                             verbose=0\n",
    "                            )\n",
    "        val_accuracies[i] = histrory.history[\"val_accuracy\"]\n",
    "    \n",
    "    val_accuracies[\"means\"] = val_accuracies.mean(axis=1)\n",
    "    val_accuracies[\"stds\"] = val_accuracies.std(axis=1)\n",
    "    \n",
    "    return val_accuracies"
   ]
  },
  {
   "cell_type": "code",
   "execution_count": 122,
   "metadata": {},
   "outputs": [],
   "source": [
    "def plot_val_accuracies_means_stds(val_accuracies, std):\n",
    "    plt.figure(figsize=(8, 5))\n",
    "    plt.plot(list(val_accuracies.index), val_accuracies[\"means\"])\n",
    "    plt.fill_between(list(val_accuracies.index), \n",
    "                     val_accuracies[\"means\"]-val_accuracies[\"stds\"], \n",
    "                     val_accuracies[\"means\"]+val_accuracies[\"stds\"], alpha=.3)\n",
    "    plt.title(f\"val_accuracy, std = {std}\")\n",
    "    plt.xlabel(\"Epochs\")\n",
    "    plt.show()"
   ]
  },
  {
   "cell_type": "markdown",
   "metadata": {},
   "source": [
    "#### для каждого **_sigma_** рассчитываем **5** вариантов, после чего строим **среднее** и **отклонение**"
   ]
  },
  {
   "cell_type": "code",
   "execution_count": 123,
   "metadata": {},
   "outputs": [
    {
     "data": {
      "image/png": "[encoded data removed]",
      "text/plain": [
       "<Figure size 640x400 with 1 Axes>"
      ]
     },
     "metadata": {},
     "output_type": "display_data"
    },
    {
     "data": {
      "image/png": "[encoded data removed]",
      "text/plain": [
       "<Figure size 640x400 with 1 Axes>"
      ]
     },
     "metadata": {},
     "output_type": "display_data"
    },
    {
     "data": {
      "image/png": "[encoded data removed]",
      "text/plain": [
       "<Figure size 640x400 with 1 Axes>"
      ]
     },
     "metadata": {},
     "output_type": "display_data"
    },
    {
     "data": {
      "image/png": "[encoded data removed]",
      "text/plain": [
       "<Figure size 640x400 with 1 Axes>"
      ]
     },
     "metadata": {},
     "output_type": "display_data"
    },
    {
     "name": "stdout",
     "output_type": "stream",
     "text": [
      "Wall time: 59min 11s\n"
     ]
    }
   ],
   "source": [
    "%%time\n",
    "\n",
    "plt.style.use('seaborn')\n",
    "for std in [0, 0.01, 0.05, 0.1]:\n",
    "    val_accuracies = get_val_accuracies(std, num=5, epochs=50)\n",
    "    plot_val_accuracies_means_stds(val_accuracies, std)"
   ]
  },
  {
   "cell_type": "markdown",
   "metadata": {},
   "source": [
    "**Выводы:**   \n",
    "Видно, что с увеличением _sigma_ точность немного падает"
   ]
  }
 ],
 "metadata": {
  "accelerator": "GPU",
  "colab": {
   "collapsed_sections": [],
   "name": "students-tensorflow-dle-homework-2020",
   "provenance": []
  },
  "kernelspec": {
   "display_name": "Python 3",
   "language": "python",
   "name": "python3"
  },
  "language_info": {
   "codemirror_mode": {
    "name": "ipython",
    "version": 3
   },
   "file_extension": ".py",
   "mimetype": "text/x-python",
   "name": "python",
   "nbconvert_exporter": "python",
   "pygments_lexer": "ipython3",
   "version": "3.7.7"
  }
 },
 "nbformat": 4,
 "nbformat_minor": 4
}
