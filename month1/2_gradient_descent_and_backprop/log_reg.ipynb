{
 "cells": [
  {
   "cell_type": "code",
   "execution_count": 1,
   "metadata": {},
   "outputs": [],
   "source": [
    "import torch\n",
    "import torch.nn as nn\n",
    "import torch.nn.functional as F\n",
    "import torch.optim as optim\n",
    "\n",
    "import numpy as np\n",
    "import scipy.stats as stats\n",
    "import matplotlib.pyplot as plt\n",
    "\n",
    "%matplotlib inline"
   ]
  },
  {
   "cell_type": "code",
   "execution_count": 2,
   "metadata": {},
   "outputs": [],
   "source": [
    "# параметры распределений\n",
    "mu0, sigma0 = -2., 1.\n",
    "mu1, sigma1 = 3., 2."
   ]
  },
  {
   "cell_type": "code",
   "execution_count": 3,
   "metadata": {},
   "outputs": [],
   "source": [
    "def sample(d0, d1, n=32):\n",
    "    x0 = d0.sample((n,))\n",
    "    x1 = d1.sample((n,))\n",
    "    y0 = torch.zeros((n, 1))\n",
    "    y1 = torch.ones((n, 1))\n",
    "    return torch.cat([x0, x1], 0), torch.cat([y0, y1], 0)"
   ]
  },
  {
   "cell_type": "code",
   "execution_count": 4,
   "metadata": {},
   "outputs": [],
   "source": [
    "d0 = torch.distributions.Normal(torch.tensor([mu0]), torch.tensor([sigma0]))\n",
    "d1 = torch.distributions.Normal(torch.tensor([mu1]), torch.tensor([sigma1]))"
   ]
  },
  {
   "cell_type": "markdown",
   "metadata": {},
   "source": [
    "#### визуализируем пример сгенерированного обучающего датасета "
   ]
  },
  {
   "cell_type": "code",
   "execution_count": 5,
   "metadata": {},
   "outputs": [
    {
     "data": {
      "image/png": "[encoded data removed]",
      "text/plain": [
       "<Figure size 432x288 with 1 Axes>"
      ]
     },
     "metadata": {
      "needs_background": "light"
     },
     "output_type": "display_data"
    }
   ],
   "source": [
    "n = 32\n",
    "plt.scatter(range(n), d0.sample((n,)))\n",
    "plt.scatter(range(n), d1.sample((n,)));"
   ]
  },
  {
   "cell_type": "code",
   "execution_count": 6,
   "metadata": {},
   "outputs": [
    {
     "name": "stdout",
     "output_type": "stream",
     "text": [
      "[tensor([-0.8126]), tensor(0.2881)]\n"
     ]
    }
   ],
   "source": [
    "layer = nn.Linear(1, 1)\n",
    "print([p.data[0] for p in layer.parameters()])\n",
    "layer_opt = optim.SGD(lr=1e-3, params=list(layer.parameters()))"
   ]
  },
  {
   "cell_type": "code",
   "execution_count": 7,
   "metadata": {},
   "outputs": [
    {
     "name": "stdout",
     "output_type": "stream",
     "text": [
      "Ошибка после 0 итераций: 2.243534\n",
      "Ошибка после 1 итераций: 0.627230\n",
      "Ошибка после 2 итераций: 0.353121\n",
      "Ошибка после 3 итераций: 0.270116\n",
      "Ошибка после 4 итераций: 0.229751\n",
      "Ошибка после 5 итераций: 0.208395\n",
      "Ошибка после 6 итераций: 0.191849\n",
      "Ошибка после 7 итераций: 0.180767\n",
      "Ошибка после 8 итераций: 0.172757\n",
      "Ошибка после 9 итераций: 0.167307\n",
      "Ошибка после 10 итераций: 0.162584\n",
      "Ошибка после 11 итераций: 0.158898\n",
      "Ошибка после 12 итераций: 0.155231\n",
      "Ошибка после 13 итераций: 0.151899\n",
      "Ошибка после 14 итераций: 0.150810\n",
      "Ошибка после 15 итераций: 0.147556\n",
      "Ошибка после 16 итераций: 0.147248\n",
      "Ошибка после 17 итераций: 0.144415\n",
      "Ошибка после 18 итераций: 0.142945\n",
      "Ошибка после 19 итераций: 0.142459\n"
     ]
    }
   ],
   "source": [
    "log_freq = 500\n",
    "for i in range(10000):\n",
    "    if i%log_freq == 0:\n",
    "        # промежуточное валидирование:\n",
    "        # делаем промежуточный прогноз и считаем на нем ошибку,\n",
    "        # предварительно отключаем расчет градиентов (для экономии памяти, для предикта он не нужен), \n",
    "        # делаем это внутри контекстного менеджера, чтобы не нарушать общий ход вычислений\n",
    "        # (внутри него это изолируется)\n",
    "        with torch.no_grad():        \n",
    "            x, y = sample(d0, d1, 100000)  # делаем валидационную выборку\n",
    "            out = torch.sigmoid(layer(x))  # предикт (форвард проход)\n",
    "            loss = F.binary_cross_entropy(out, y)  # функционал ошибки, правдоподобие\n",
    "        print('Ошибка после %d итераций: %f' %(i/log_freq, loss))\n",
    "    layer_opt.zero_grad()\n",
    "    x, y = sample(d0, d1, 1024)  # генерим \"на лету\" очередной обучающий батч\n",
    "    out = torch.sigmoid(layer(x))  # прямой проход (форвард), считаем очередное приближение\n",
    "    loss = F.binary_cross_entropy(out, y)  # функционал-ошибка, который мы оптимизируем\n",
    "    loss.backward()  # считаем градиенты по каждому параметру (через обратное распространение ошибки)\n",
    "    layer_opt.step()  # делаем шаг против градиента в соответствие с выбранным алгоритмом \"шагания\""
   ]
  },
  {
   "cell_type": "markdown",
   "metadata": {},
   "source": [
    "#### добавим немного хуже обученную модель и сравним кривые"
   ]
  },
  {
   "cell_type": "code",
   "execution_count": 8,
   "metadata": {},
   "outputs": [
    {
     "name": "stdout",
     "output_type": "stream",
     "text": [
      "Ошибка после 0 итераций: 1.005532\n",
      "Ошибка после 1 итераций: 0.468809\n",
      "Ошибка после 2 итераций: 0.326739\n",
      "Ошибка после 3 итераций: 0.263811\n"
     ]
    }
   ],
   "source": [
    "layer1 = nn.Linear(1, 1)\n",
    "layer_opt1 = optim.SGD(lr=1e-3, params=list(layer1.parameters()))\n",
    "\n",
    "log_freq = 500\n",
    "for i in range(2000):\n",
    "    if i%log_freq == 0:\n",
    "        # промежуточное валидирование:\n",
    "        # делаем промежуточный прогноз и считаем на нем ошибку,\n",
    "        # предварительно отключаем расчет градиентов (для экономии памяти, для предикта он не нужен), \n",
    "        # делаем это внутри контекстного менеджера, чтобы не нарушать общий ход вычислений\n",
    "        # (внутри него это изолируется)\n",
    "        with torch.no_grad():        \n",
    "            x, y = sample(d0, d1, 100000)  # делаем валидационную выборку\n",
    "            out = torch.sigmoid(layer1(x))  # предикт (форвард проход)\n",
    "            loss = F.binary_cross_entropy(out, y)  # функционал ошибки, правдоподобие\n",
    "        print('Ошибка после %d итераций: %f' %(i/log_freq, loss))\n",
    "    layer_opt1.zero_grad()\n",
    "    x, y = sample(d0, d1, 1024)  # генерим \"на лету\" очередной обучающий батч\n",
    "    out = torch.sigmoid(layer1(x))  # прямой проход (форвард), считаем очередное приближение\n",
    "    loss = F.binary_cross_entropy(out, y)  # функционал-ошибка, который мы оптимизируем\n",
    "    loss.backward()  # считаем градиенты по каждому параметру (через обратное распространение ошибки)\n",
    "    layer_opt1.step()  # делаем шаг против градиента в соответствие с выбранным алгоритмом \"шагания\""
   ]
  },
  {
   "cell_type": "code",
   "execution_count": 9,
   "metadata": {},
   "outputs": [],
   "source": [
    "x_scale = np.linspace(-10, 10, 5000)\n",
    "d0_pdf = stats.norm.pdf(x_scale, mu0, sigma0) \n",
    "d1_pdf = stats.norm.pdf(x_scale, mu1, sigma1)\n",
    "x_tensor = torch.tensor(x_scale.reshape(-1, 1), dtype=torch.float)\n",
    "with torch.no_grad():\n",
    "    dist = torch.sigmoid(layer(x_tensor)).numpy()\n",
    "    dist1 = torch.sigmoid(layer1(x_tensor)).numpy()\n",
    "ratio = d1_pdf / (d1_pdf + d0_pdf)"
   ]
  },
  {
   "cell_type": "code",
   "execution_count": 10,
   "metadata": {},
   "outputs": [
    {
     "data": {
      "image/png": "[encoded data removed]",
      "text/plain": [
       "<Figure size 432x288 with 1 Axes>"
      ]
     },
     "metadata": {
      "needs_background": "light"
     },
     "output_type": "display_data"
    }
   ],
   "source": [
    "plt.plot(x_scale, d0_pdf*2, label='d0') # умножение на 2 для красоты графиков, на распределения не влияет\n",
    "plt.plot(x_scale, d1_pdf*2, label='d1')\n",
    "plt.plot(x_scale, dist.flatten(), label='pred')\n",
    "plt.plot(x_scale, dist1.flatten(), label='pred1')\n",
    "plt.plot(x_scale, ratio, label='ratio')\n",
    "plt.legend();"
   ]
  },
  {
   "cell_type": "markdown",
   "metadata": {},
   "source": [
    "#### Вывод:\n",
    "1) Самая уверенная модель - на расчетных распределениях (самый крутой переход от 0 к 1).   \n",
    "2) Далее - лучше обученная модель - более уверенная (более крутой переход от 0 к 1).  \n",
    "3) Обученная модель **всегда** хуже расчетной, потому что обучается на выборке, а выборка по определению приближает плотность распределения (конечное число точек)"
   ]
  },
  {
   "cell_type": "code",
   "execution_count": 11,
   "metadata": {},
   "outputs": [
    {
     "name": "stdout",
     "output_type": "stream",
     "text": [
      "[tensor([1.5062]), tensor(0.0607)]\n"
     ]
    }
   ],
   "source": [
    "print([p.data[0] for p in layer.parameters()])"
   ]
  },
  {
   "cell_type": "code",
   "execution_count": 12,
   "metadata": {},
   "outputs": [
    {
     "name": "stderr",
     "output_type": "stream",
     "text": [
      "c:\\users\\dsher\\python_venvs\\otus_deep_learning_dle-2020-04\\venv\\lib\\site-packages\\torch\\nn\\functional.py:1569: UserWarning: nn.functional.sigmoid is deprecated. Use torch.sigmoid instead.\n",
      "  warnings.warn(\"nn.functional.sigmoid is deprecated. Use torch.sigmoid instead.\")\n"
     ]
    },
    {
     "data": {
      "text/plain": [
       "tensor(-inf)"
      ]
     },
     "execution_count": 12,
     "metadata": {},
     "output_type": "execute_result"
    }
   ],
   "source": [
    "torch.log(F.sigmoid(torch.tensor(-100.)))"
   ]
  },
  {
   "cell_type": "code",
   "execution_count": 13,
   "metadata": {},
   "outputs": [
    {
     "data": {
      "text/plain": [
       "tensor(-100.)"
      ]
     },
     "execution_count": 13,
     "metadata": {},
     "output_type": "execute_result"
    }
   ],
   "source": [
    "F.logsigmoid(torch.tensor(-100.))"
   ]
  },
  {
   "cell_type": "code",
   "execution_count": null,
   "metadata": {},
   "outputs": [],
   "source": []
  }
 ],
 "metadata": {
  "kernelspec": {
   "display_name": "Python 3",
   "language": "python",
   "name": "python3"
  },
  "language_info": {
   "codemirror_mode": {
    "name": "ipython",
    "version": 3
   },
   "file_extension": ".py",
   "mimetype": "text/x-python",
   "name": "python",
   "nbconvert_exporter": "python",
   "pygments_lexer": "ipython3",
   "version": "3.7.7"
  }
 },
 "nbformat": 4,
 "nbformat_minor": 4
}
